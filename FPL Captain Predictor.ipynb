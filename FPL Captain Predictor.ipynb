{
 "cells": [
  {
   "cell_type": "code",
   "execution_count": 1,
   "id": "1248b87d",
   "metadata": {},
   "outputs": [
    {
     "name": "stdout",
     "output_type": "stream",
     "text": [
      "{1: 'Cédric', 3: 'Xhaka', 4: 'Elneny', 5: 'Holding', 6: 'Partey', 7: 'Ødegaard', 8: 'Tierney', 9: 'Pépé', 10: 'White', 11: 'Nketiah', 12: 'Smith Rowe', 13: 'Saka', 14: 'Tomiyasu', 15: 'Ramsdale', 16: 'Gabriel', 17: 'Tavares', 18: 'Sambi', 19: 'Martinelli', 20: 'Pablo Marí', 22: 'Torreira', 23: 'Nelson', 24: 'Turner', 25: 'Fábio Vieira', 26: 'Saliba', 27: 'Marquinhos', 28: 'Jesus', 313: 'Zinchenko', 607: 'Smith', 29: 'Coutinho', 30: 'Ings', 31: 'Martínez', 32: 'Chambers', 33: 'Digne', 34: 'Traoré', 35: 'Olsen', 36: 'Sanson', 37: 'McGinn', 38: 'Hause', 39: 'Mings', 40: 'Watkins', 41: 'Nakamba', 42: 'Buendía', 43: 'Cash', 44: 'Konsa', 45: 'Bailey', 46: 'Douglas Luiz', 47: 'Ramsey', 49: 'Iroegbunam', 50: 'Diego Carlos', 51: 'El Ghazi', 52: 'Davis', 53: 'Kamara', 54: 'Archer', 55: 'Philogene-Bidace', 56: 'Guilbert', 410: 'Bednarek', 479: 'Dendoncker', 525: 'Augustinsson', 537: 'Kesler Hayden', 538: 'Young', 57: 'Smith', 58: 'Stanislas', 59: 'Fredericks', 60: 'Brooks', 61: 'Lowe', 62: 'Moore', 63: 'Marcondes', 64: 'Lerma', 65: 'Stacey', 66: 'Solanke', 67: 'Cook', 68: 'Pearson', 69: 'Christie', 70: 'Billing', 71: 'Mepham', 72: 'Travers', 73: 'Kelly', 74: 'Dembélé', 75: 'Anthony', 76: 'Zemura', 77: 'Dennis', 404: 'Stephens', 505: 'Rothwell', 535: 'Tavernier', 539: 'Hill', 574: 'Neto', 576: 'Senesi', 597: 'Saydee', 598: 'Bevan', 78: 'Jansson', 79: 'Nørgaard', 80: 'Toney', 81: 'Raya', 82: 'Canós', 83: 'Dasilva', 84: 'Ajer', 85: 'Henry', 86: 'Janelt', 87: 'Ghoddos', 88: 'Jensen', 89: 'Wissa', 90: 'Roerslev', 91: 'Bech', 92: 'Pinnock', 93: 'Onyeka', 94: 'Baptiste', 95: 'Mbeumo', 96: 'Goode', 97: 'Forss', 98: 'Thompson', 99: 'Bidstrup', 100: 'Balcombe', 510: 'Hickey', 515: 'Lewis-Potter', 517: 'Strakosha', 526: 'Mee', 540: 'Stevens', 541: 'Dervişoğlu', 580: 'Damsgaard', 595: 'Zanka', 101: 'Lallana', 102: 'Steele', 103: 'Welbeck', 104: 'Groß', 106: 'Dunk', 107: 'March', 108: 'Webster', 109: 'Veltman', 111: 'Trossard', 113: 'Sánchez', 114: 'Lamptey', 115: 'Alzate', 116: 'Mac Allister', 117: 'Moder', 118: 'Mwepu', 119: 'Sarmiento', 120: 'Caicedo', 121: 'Richards', 122: 'Roberts', 123: 'Undav', 124: 'Mitoma', 125: 'Enciso', 126: 'Kozłowski', 149: 'Gilmour', 542: 'Scherpen', 543: 'Clarke', 544: 'Van Hecke', 559: 'Colwill', 586: 'Estupiñán', 596: 'Ferguson', 48: 'Chukwuemeka', 112: 'Cucurella', 127: 'Azpilicueta', 128: 'Thiago Silva', 129: 'Alonso', 130: 'Jorginho', 131: 'Barkley', 132: 'Kovacic', 133: 'Arrizabalaga', 134: 'Kanté', 135: 'Ziyech', 136: 'Loftus-Cheek', 137: 'Werner', 138: 'Kenedy', 139: 'Chilwell', 140: 'Pulisic', 141: 'Chalobah', 142: 'Mount', 143: 'Sarr', 144: 'Hudson-Odoi', 145: 'Havertz', 146: 'James', 147: 'Mendy', 148: 'Gallagher', 150: 'Broja', 151: 'Ampadu', 272: 'Fofana', 304: 'Sterling', 520: 'Koulibaly', 606: 'Vale', 616: 'Zakaria', 617: 'Aubameyang', 152: 'Guaita', 153: 'Tomkins', 154: 'McArthur', 155: 'Benteke', 156: 'Ward', 157: 'Clyne', 158: 'Milivojevic', 159: 'Ayew', 160: 'Zaha', 161: 'Schlupp', 162: 'Butland', 163: 'Hughes', 164: 'Riedewald', 165: 'Andersen', 166: 'Edouard', 167: 'Guéhi', 168: 'Mateta', 169: 'Eze', 170: 'Mitchell', 171: 'Olise', 172: 'Rak-Sakyi', 173: 'Ebiowei', 174: 'Ferguson', 175: 'Johnstone', 495: 'Matthews', 496: 'Plange', 514: 'C.Doucouré', 530: 'Richards', 590: 'Whitworth', 601: 'Rodney', 604: 'Phillips', 110: 'Maupay', 176: 'Begović', 177: 'Rondón', 178: 'Coleman', 179: 'Townsend', 180: 'Keane', 181: 'Dele', 182: 'Pickford', 183: 'Allan', 184: 'André Gomes', 185: 'A.Doucouré', 186: 'Iwobi', 187: 'Gbamin', 188: 'Mina', 189: 'Gray', 190: 'Davies', 191: 'Calvert-Lewin', 192: 'Holgate', 193: 'Godfrey', 194: 'Mykolenko', 195: 'Gordon', 196: 'Branthwaite', 197: 'Patterson', 198: 'Nkounkou', 199: 'Tarkowski', 475: 'Coady', 531: 'Vinagre', 534: 'McNeil', 560: 'Mills', 561: 'Warrington', 570: 'Garner', 577: 'Onana', 605: 'Welch', 611: 'Gueye', 2: 'Leno', 105: 'Duffy', 200: 'Cairney', 201: 'Ream', 202: 'Knockaert', 203: 'Chalobah', 204: 'Kebano', 205: 'De Cordova-Reid', 206: 'Bryan', 207: 'Gazzaniga', 208: 'Kongolo', 209: 'Tosin', 210: 'Mitrović', 211: 'Reed', 212: 'Wilson', 213: 'Rodák', 214: 'Cavaleiro', 215: 'Tete', 216: 'Onomah', 217: 'Robinson', 218: 'Muniz', 219: 'Stansfield', 220: 'Palhinha', 231: 'James', 346: 'Andreas', 470: 'Diop', 521: 'Francois', 532: 'Mbabu', 546: 'Harris', 562: 'Solomon', 591: 'Ablade', 613: 'Kurzawa', 614: 'Willian', 618: 'Vinícius', 248: 'Schmeichel', 249: 'Evans', 250: 'Bertrand', 251: 'Albrighton', 252: 'Mendy', 253: 'Vestergaard', 254: 'Ward', 255: 'Vardy', 256: 'Ricardo', 257: 'Amartey', 258: 'Castagne', 259: 'Tielemans', 260: 'Pérez', 261: 'Maddison', 262: 'Iheanacho', 263: 'Choudhury', 264: 'Barnes', 265: 'Ndidi', 266: 'Dewsbury-Hall', 267: 'Söyüncü', 268: 'Justin', 269: 'Soumaré', 270: 'Thomas', 271: 'Daka', 273: 'Brunt', 548: 'Iversen', 549: 'Praet', 581: 'Smithies', 612: 'Faes', 221: 'Cooper', 222: 'Ayling', 223: 'Klich', 224: 'Forshaw', 225: 'Rodrigo', 226: 'Dallas', 227: 'Bamford', 228: 'Llorente', 229: 'Roberts', 230: 'Koch', 232: 'Raphinha', 233: 'Harrison', 234: 'Shackleton', 235: 'Struijk', 236: 'Klaesson', 237: 'Greenwood', 238: 'Meslier', 239: 'Firpo', 240: 'Summerville', 241: 'Bate', 242: 'Gelhardt', 243: 'Hjelde', 244: 'Kristensen', 245: 'Roca', 246: 'Aaronson', 247: 'Gyabi', 506: 'Adams', 508: 'Sinisterra', 547: 'Drameh', 565: 'Gray', 578: 'Robles', 619: 'Gnonto', 274: 'Milner', 275: 'Henderson', 276: 'Matip', 277: 'Thiago', 278: 'Chamberlain', 279: 'Firmino', 280: 'Van Dijk', 281: 'Alisson', 282: 'Fabinho', 283: 'Salah', 284: 'Robertson', 285: 'Alexander-Arnold', 286: 'Gomez', 287: 'Keita', 288: 'Diogo Jota', 289: 'Kelleher', 290: 'Konaté', 291: 'Jones', 292: 'Tsimikas', 293: 'Luis Díaz', 294: 'Elliott', 296: 'Carvalho', 297: 'Darwin', 298: 'Ramsay', 497: 'Adrián', 498: 'R.Williams', 499: 'Davies', 500: 'Van den Berg', 501: 'Phillips', 563: 'Chambers', 564: 'Bajcetic', 584: 'Clark', 592: 'H.Davies', 620: 'Arthur', 299: 'Walker', 300: 'Gündogan', 301: 'De Bruyne', 302: 'Stones', 303: 'Mahrez', 305: 'Grealish', 306: 'Cancelo', 307: 'Ederson', 308: 'Aké', 309: 'Laporte', 310: 'Steffen', 311: 'Bernardo', 312: 'Dias', 314: 'Foden', 315: 'Rodri', 316: 'Palmer', 317: 'McAtee', 318: 'Haaland', 319: 'Álvarez', 320: 'Mbete', 322: 'Wilson-Esbrand', 323: 'Delap', 324: 'Ortega', 325: 'Phillips', 502: 'Carson', 573: 'Lewis', 587: 'Sergio Gómez', 599: 'Gomes', 600: 'Knight', 610: 'Akanji', 326: 'Ronaldo', 327: 'De Gea', 328: 'Jones', 329: 'Varane', 330: 'Maguire', 331: 'Fred', 332: 'Shaw', 333: 'Fernandes', 334: 'Telles', 335: 'Rashford', 336: 'Van de Beek', 337: 'Lindelöf', 338: 'McTominay', 339: 'Bailly', 340: 'Sancho', 341: 'Wan-Bissaka', 342: 'Dalot', 343: 'B.Williams', 344: 'Elanga', 345: 'Martial', 347: 'Pellistri', 348: 'Heaton', 355: 'Dubravka', 504: 'Malacia', 519: 'Eriksen', 533: 'Martínez', 550: 'Amad', 551: 'Iqbal', 569: 'Garnacho', 593: 'Casemiro', 609: 'Antony', 615: 'Kovár', 349: 'Shelvey', 350: 'Ritchie', 351: 'Fernández', 352: 'Clark', 353: 'Darlow', 354: 'Wood', 356: 'Wilson', 357: 'Trippier', 358: 'Burn', 359: 'Fraser', 360: 'Lascelles', 361: 'Gayle', 362: 'Dummett', 363: 'Manquillo', 364: 'Krafth', 365: 'Murphy', 366: 'Schär', 367: 'Targett', 368: 'Saint-Maximin', 369: 'Almirón', 370: 'S.Longstaff', 371: 'Joelinton', 372: 'Lewis', 373: 'Willock', 374: 'Bruno Guimarães', 375: 'Hendrick', 376: 'Pope', 377: 'Botman', 552: 'Anderson', 594: 'Isak', 295: 'N.Williams', 378: 'Arter', 379: 'Cook', 380: 'Taylor', 381: 'Colback', 382: 'Samba', 383: 'Cafú', 384: 'Lolley', 385: 'McKenna', 386: 'Dräger', 387: 'Yates', 388: 'Worrall', 389: 'Panzo', 390: 'Xande Silva', 391: 'Surridge', 392: 'Laryea', 393: 'Mbe Soh', 394: 'Johnson', 395: 'Mighten', 396: 'Ojeda', 397: 'Awoniyi', 398: 'Henderson', 399: 'Biancone', 474: 'Boly', 493: 'Gibbs-White', 507: 'Niakhaté', 511: 'Richards', 518: 'Hennessey', 523: 'Toffolo', 524: \"O'Brien\", 527: 'Lingard', 536: 'Mangala', 553: 'Hammond', 582: 'Freuler', 583: 'Kouyaté', 585: 'Dennis', 602: 'Renan Lodi', 621: 'Badé', 21: 'Maitland-Niles', 321: 'Lavia', 400: 'Walcott', 401: 'McCarthy', 402: 'Romeu', 403: 'Redmond', 405: 'S.Armstrong', 406: 'Elyounoussi', 407: 'Ward-Prowse', 408: 'A.Armstrong', 409: 'Walker-Peters', 411: 'Adams', 412: 'Tella', 413: 'Lyanco', 414: 'Valery', 415: 'Smallbone', 416: 'Diallo', 417: 'Perraud', 418: 'Djenepo', 419: 'Livramento', 420: 'Salisu', 421: 'Lis', 422: 'Bazunu', 423: 'Bella-Kotchap', 424: 'Caballero', 512: 'Aribo', 528: 'Mara', 622: 'Larios', 623: 'Caleta-Car', 624: 'Edozie', 425: 'Lloris', 426: 'Forster', 427: 'Kane', 428: 'Son', 429: 'Doherty', 430: 'Dier', 431: 'Lucas Moura', 432: 'Davies', 433: 'Højbjerg', 434: 'Winks', 435: 'Sánchez', 436: 'R.Sessegnon', 437: 'Bergwijn', 438: 'Reguilón', 439: 'Tanganga', 440: 'Bentancur', 441: 'Skipp', 442: 'Rodon', 443: 'Romero', 444: 'Bissouma', 445: 'Emerson Royal', 446: 'Kulusevski', 447: 'Scarlett', 448: 'Perišić', 449: 'White', 450: 'Sarr', 451: 'Austin', 452: 'Devine', 453: 'Parrott', 454: 'Richarlison', 513: 'Lenglet', 522: 'Spence', 554: 'Bryan', 455: 'Fabianski', 456: 'Ogbonna', 457: 'Cresswell', 458: 'Antonio', 459: 'Dawson', 460: 'Lanzini', 461: 'Zouma', 462: 'Masuaku', 463: 'Coufal', 464: 'Benrahma', 465: 'Bowen', 466: 'Vlasic', 467: 'Rice', 468: 'Soucek', 469: 'Fornals', 471: 'Johnson', 472: 'Aguerd', 473: 'Areola', 509: 'Downes', 529: 'Scamacca', 545: 'Emerson', 555: 'Ashby', 556: 'Coventry', 571: 'Randolph', 572: 'Oko-Flex', 575: 'Cornet', 588: 'Kehrer', 603: 'Paquetá', 476: 'Jiménez', 477: 'Jonny', 478: 'Sá', 480: 'Neves', 481: 'Hwang', 482: 'Semedo', 483: 'Podence', 484: 'Kilman', 485: 'Cundle', 486: 'Neto', 487: 'Aït-Nouri', 488: 'Fabio Silva', 489: 'Toti', 490: 'Chiquinho', 491: 'Adama', 492: 'Šarkić', 494: 'Mosquera', 503: 'Moutinho', 516: 'Collins', 557: 'Smith', 558: 'Bueno', 566: 'Hodge', 567: 'Ronan', 568: 'Campbell', 579: 'Guedes', 589: 'Matheus', 608: 'Kalajdžić'}\n"
     ]
    }
   ],
   "source": [
    "import pandas as pd\n",
    "import requests \n",
    "import json \n",
    "# get the unique id of each player in the premier league\n",
    "url = \"https://fantasy.premierleague.com/api/bootstrap-static/\"\n",
    "response = requests.get(url)\n",
    "data = json.loads(response.text)\n",
    "all_players = data['elements']\n",
    "\n",
    "player_dict = {}\n",
    "for i in all_players:\n",
    "    player_dict[i['id']] = i['web_name']\n",
    "    \n",
    "print(player_dict)"
   ]
  },
  {
   "cell_type": "code",
   "execution_count": 2,
   "id": "6a1dd232",
   "metadata": {
    "scrolled": true
   },
   "outputs": [
    {
     "name": "stdout",
     "output_type": "stream",
     "text": [
      "1 Cédric\n"
     ]
    },
    {
     "name": "stderr",
     "output_type": "stream",
     "text": [
      "/Users/maahirmawla/opt/anaconda3/lib/python3.9/site-packages/sklearn/naive_bayes.py:452: RuntimeWarning: divide by zero encountered in log\n",
      "  n_ij = - 0.5 * np.sum(np.log(2. * np.pi * self.sigma_[i, :]))\n",
      "/Users/maahirmawla/opt/anaconda3/lib/python3.9/site-packages/sklearn/naive_bayes.py:453: RuntimeWarning: invalid value encountered in true_divide\n",
      "  n_ij -= 0.5 * np.sum(((X - self.theta_[i, :]) ** 2) /\n",
      "/Users/maahirmawla/opt/anaconda3/lib/python3.9/site-packages/sklearn/naive_bayes.py:452: RuntimeWarning: divide by zero encountered in log\n",
      "  n_ij = - 0.5 * np.sum(np.log(2. * np.pi * self.sigma_[i, :]))\n",
      "/Users/maahirmawla/opt/anaconda3/lib/python3.9/site-packages/sklearn/naive_bayes.py:453: RuntimeWarning: invalid value encountered in true_divide\n",
      "  n_ij -= 0.5 * np.sum(((X - self.theta_[i, :]) ** 2) /\n"
     ]
    },
    {
     "name": "stdout",
     "output_type": "stream",
     "text": [
      "[0]\n",
      "3 Xhaka\n",
      "[2]\n",
      "4 Elneny\n"
     ]
    },
    {
     "name": "stderr",
     "output_type": "stream",
     "text": [
      "/Users/maahirmawla/opt/anaconda3/lib/python3.9/site-packages/sklearn/naive_bayes.py:452: RuntimeWarning: divide by zero encountered in log\n",
      "  n_ij = - 0.5 * np.sum(np.log(2. * np.pi * self.sigma_[i, :]))\n",
      "/Users/maahirmawla/opt/anaconda3/lib/python3.9/site-packages/sklearn/naive_bayes.py:453: RuntimeWarning: invalid value encountered in true_divide\n",
      "  n_ij -= 0.5 * np.sum(((X - self.theta_[i, :]) ** 2) /\n",
      "/Users/maahirmawla/opt/anaconda3/lib/python3.9/site-packages/sklearn/naive_bayes.py:452: RuntimeWarning: divide by zero encountered in log\n",
      "  n_ij = - 0.5 * np.sum(np.log(2. * np.pi * self.sigma_[i, :]))\n",
      "/Users/maahirmawla/opt/anaconda3/lib/python3.9/site-packages/sklearn/naive_bayes.py:453: RuntimeWarning: invalid value encountered in true_divide\n",
      "  n_ij -= 0.5 * np.sum(((X - self.theta_[i, :]) ** 2) /\n"
     ]
    },
    {
     "name": "stdout",
     "output_type": "stream",
     "text": [
      "[0]\n",
      "5 Holding\n"
     ]
    },
    {
     "name": "stderr",
     "output_type": "stream",
     "text": [
      "/Users/maahirmawla/opt/anaconda3/lib/python3.9/site-packages/sklearn/naive_bayes.py:452: RuntimeWarning: divide by zero encountered in log\n",
      "  n_ij = - 0.5 * np.sum(np.log(2. * np.pi * self.sigma_[i, :]))\n",
      "/Users/maahirmawla/opt/anaconda3/lib/python3.9/site-packages/sklearn/naive_bayes.py:453: RuntimeWarning: invalid value encountered in true_divide\n",
      "  n_ij -= 0.5 * np.sum(((X - self.theta_[i, :]) ** 2) /\n",
      "/Users/maahirmawla/opt/anaconda3/lib/python3.9/site-packages/sklearn/naive_bayes.py:452: RuntimeWarning: divide by zero encountered in log\n",
      "  n_ij = - 0.5 * np.sum(np.log(2. * np.pi * self.sigma_[i, :]))\n",
      "/Users/maahirmawla/opt/anaconda3/lib/python3.9/site-packages/sklearn/naive_bayes.py:453: RuntimeWarning: invalid value encountered in true_divide\n",
      "  n_ij -= 0.5 * np.sum(((X - self.theta_[i, :]) ** 2) /\n"
     ]
    },
    {
     "name": "stdout",
     "output_type": "stream",
     "text": [
      "[0]\n",
      "6 Partey\n",
      "[0]\n",
      "7 Ødegaard\n",
      "[2]\n",
      "8 Tierney\n"
     ]
    },
    {
     "name": "stderr",
     "output_type": "stream",
     "text": [
      "/Users/maahirmawla/opt/anaconda3/lib/python3.9/site-packages/sklearn/naive_bayes.py:452: RuntimeWarning: divide by zero encountered in log\n",
      "  n_ij = - 0.5 * np.sum(np.log(2. * np.pi * self.sigma_[i, :]))\n",
      "/Users/maahirmawla/opt/anaconda3/lib/python3.9/site-packages/sklearn/naive_bayes.py:453: RuntimeWarning: invalid value encountered in true_divide\n",
      "  n_ij -= 0.5 * np.sum(((X - self.theta_[i, :]) ** 2) /\n",
      "/Users/maahirmawla/opt/anaconda3/lib/python3.9/site-packages/sklearn/naive_bayes.py:452: RuntimeWarning: divide by zero encountered in log\n",
      "  n_ij = - 0.5 * np.sum(np.log(2. * np.pi * self.sigma_[i, :]))\n",
      "/Users/maahirmawla/opt/anaconda3/lib/python3.9/site-packages/sklearn/naive_bayes.py:453: RuntimeWarning: invalid value encountered in true_divide\n",
      "  n_ij -= 0.5 * np.sum(((X - self.theta_[i, :]) ** 2) /\n"
     ]
    },
    {
     "name": "stdout",
     "output_type": "stream",
     "text": [
      "[0]\n",
      "9 Pépé\n"
     ]
    },
    {
     "name": "stderr",
     "output_type": "stream",
     "text": [
      "/Users/maahirmawla/opt/anaconda3/lib/python3.9/site-packages/sklearn/naive_bayes.py:452: RuntimeWarning: divide by zero encountered in log\n",
      "  n_ij = - 0.5 * np.sum(np.log(2. * np.pi * self.sigma_[i, :]))\n",
      "/Users/maahirmawla/opt/anaconda3/lib/python3.9/site-packages/sklearn/naive_bayes.py:453: RuntimeWarning: invalid value encountered in true_divide\n",
      "  n_ij -= 0.5 * np.sum(((X - self.theta_[i, :]) ** 2) /\n",
      "/Users/maahirmawla/opt/anaconda3/lib/python3.9/site-packages/sklearn/naive_bayes.py:452: RuntimeWarning: divide by zero encountered in log\n",
      "  n_ij = - 0.5 * np.sum(np.log(2. * np.pi * self.sigma_[i, :]))\n",
      "/Users/maahirmawla/opt/anaconda3/lib/python3.9/site-packages/sklearn/naive_bayes.py:453: RuntimeWarning: invalid value encountered in true_divide\n",
      "  n_ij -= 0.5 * np.sum(((X - self.theta_[i, :]) ** 2) /\n"
     ]
    },
    {
     "name": "stdout",
     "output_type": "stream",
     "text": [
      "[0]\n",
      "10 White\n",
      "[1]\n",
      "11 Nketiah\n"
     ]
    },
    {
     "name": "stderr",
     "output_type": "stream",
     "text": [
      "/Users/maahirmawla/opt/anaconda3/lib/python3.9/site-packages/sklearn/naive_bayes.py:452: RuntimeWarning: divide by zero encountered in log\n",
      "  n_ij = - 0.5 * np.sum(np.log(2. * np.pi * self.sigma_[i, :]))\n",
      "/Users/maahirmawla/opt/anaconda3/lib/python3.9/site-packages/sklearn/naive_bayes.py:453: RuntimeWarning: invalid value encountered in true_divide\n",
      "  n_ij -= 0.5 * np.sum(((X - self.theta_[i, :]) ** 2) /\n",
      "/Users/maahirmawla/opt/anaconda3/lib/python3.9/site-packages/sklearn/naive_bayes.py:452: RuntimeWarning: divide by zero encountered in log\n",
      "  n_ij = - 0.5 * np.sum(np.log(2. * np.pi * self.sigma_[i, :]))\n",
      "/Users/maahirmawla/opt/anaconda3/lib/python3.9/site-packages/sklearn/naive_bayes.py:453: RuntimeWarning: invalid value encountered in true_divide\n",
      "  n_ij -= 0.5 * np.sum(((X - self.theta_[i, :]) ** 2) /\n"
     ]
    },
    {
     "name": "stdout",
     "output_type": "stream",
     "text": [
      "[1]\n",
      "12 Smith Rowe\n"
     ]
    },
    {
     "name": "stderr",
     "output_type": "stream",
     "text": [
      "/Users/maahirmawla/opt/anaconda3/lib/python3.9/site-packages/sklearn/naive_bayes.py:452: RuntimeWarning: divide by zero encountered in log\n",
      "  n_ij = - 0.5 * np.sum(np.log(2. * np.pi * self.sigma_[i, :]))\n",
      "/Users/maahirmawla/opt/anaconda3/lib/python3.9/site-packages/sklearn/naive_bayes.py:453: RuntimeWarning: invalid value encountered in true_divide\n",
      "  n_ij -= 0.5 * np.sum(((X - self.theta_[i, :]) ** 2) /\n",
      "/Users/maahirmawla/opt/anaconda3/lib/python3.9/site-packages/sklearn/naive_bayes.py:452: RuntimeWarning: divide by zero encountered in log\n",
      "  n_ij = - 0.5 * np.sum(np.log(2. * np.pi * self.sigma_[i, :]))\n",
      "/Users/maahirmawla/opt/anaconda3/lib/python3.9/site-packages/sklearn/naive_bayes.py:453: RuntimeWarning: invalid value encountered in true_divide\n",
      "  n_ij -= 0.5 * np.sum(((X - self.theta_[i, :]) ** 2) /\n"
     ]
    },
    {
     "name": "stdout",
     "output_type": "stream",
     "text": [
      "[0]\n",
      "13 Saka\n",
      "[5]\n",
      "14 Tomiyasu\n"
     ]
    },
    {
     "name": "stderr",
     "output_type": "stream",
     "text": [
      "/Users/maahirmawla/opt/anaconda3/lib/python3.9/site-packages/sklearn/naive_bayes.py:452: RuntimeWarning: divide by zero encountered in log\n",
      "  n_ij = - 0.5 * np.sum(np.log(2. * np.pi * self.sigma_[i, :]))\n",
      "/Users/maahirmawla/opt/anaconda3/lib/python3.9/site-packages/sklearn/naive_bayes.py:453: RuntimeWarning: invalid value encountered in true_divide\n",
      "  n_ij -= 0.5 * np.sum(((X - self.theta_[i, :]) ** 2) /\n",
      "/Users/maahirmawla/opt/anaconda3/lib/python3.9/site-packages/sklearn/naive_bayes.py:452: RuntimeWarning: divide by zero encountered in log\n",
      "  n_ij = - 0.5 * np.sum(np.log(2. * np.pi * self.sigma_[i, :]))\n",
      "/Users/maahirmawla/opt/anaconda3/lib/python3.9/site-packages/sklearn/naive_bayes.py:453: RuntimeWarning: invalid value encountered in true_divide\n",
      "  n_ij -= 0.5 * np.sum(((X - self.theta_[i, :]) ** 2) /\n"
     ]
    },
    {
     "name": "stdout",
     "output_type": "stream",
     "text": [
      "[0]\n",
      "15 Ramsdale\n",
      "[2]\n",
      "16 Gabriel\n",
      "[1]\n",
      "17 Tavares\n"
     ]
    },
    {
     "name": "stderr",
     "output_type": "stream",
     "text": [
      "/Users/maahirmawla/opt/anaconda3/lib/python3.9/site-packages/sklearn/naive_bayes.py:452: RuntimeWarning: divide by zero encountered in log\n",
      "  n_ij = - 0.5 * np.sum(np.log(2. * np.pi * self.sigma_[i, :]))\n",
      "/Users/maahirmawla/opt/anaconda3/lib/python3.9/site-packages/sklearn/naive_bayes.py:453: RuntimeWarning: invalid value encountered in true_divide\n",
      "  n_ij -= 0.5 * np.sum(((X - self.theta_[i, :]) ** 2) /\n",
      "/Users/maahirmawla/opt/anaconda3/lib/python3.9/site-packages/sklearn/naive_bayes.py:452: RuntimeWarning: divide by zero encountered in log\n",
      "  n_ij = - 0.5 * np.sum(np.log(2. * np.pi * self.sigma_[i, :]))\n",
      "/Users/maahirmawla/opt/anaconda3/lib/python3.9/site-packages/sklearn/naive_bayes.py:453: RuntimeWarning: invalid value encountered in true_divide\n",
      "  n_ij -= 0.5 * np.sum(((X - self.theta_[i, :]) ** 2) /\n"
     ]
    },
    {
     "name": "stdout",
     "output_type": "stream",
     "text": [
      "[0]\n",
      "18 Sambi\n"
     ]
    },
    {
     "name": "stderr",
     "output_type": "stream",
     "text": [
      "/Users/maahirmawla/opt/anaconda3/lib/python3.9/site-packages/sklearn/naive_bayes.py:452: RuntimeWarning: divide by zero encountered in log\n",
      "  n_ij = - 0.5 * np.sum(np.log(2. * np.pi * self.sigma_[i, :]))\n",
      "/Users/maahirmawla/opt/anaconda3/lib/python3.9/site-packages/sklearn/naive_bayes.py:453: RuntimeWarning: invalid value encountered in true_divide\n",
      "  n_ij -= 0.5 * np.sum(((X - self.theta_[i, :]) ** 2) /\n",
      "/Users/maahirmawla/opt/anaconda3/lib/python3.9/site-packages/sklearn/naive_bayes.py:452: RuntimeWarning: divide by zero encountered in log\n",
      "  n_ij = - 0.5 * np.sum(np.log(2. * np.pi * self.sigma_[i, :]))\n",
      "/Users/maahirmawla/opt/anaconda3/lib/python3.9/site-packages/sklearn/naive_bayes.py:453: RuntimeWarning: invalid value encountered in true_divide\n",
      "  n_ij -= 0.5 * np.sum(((X - self.theta_[i, :]) ** 2) /\n"
     ]
    },
    {
     "name": "stdout",
     "output_type": "stream",
     "text": [
      "[0]\n",
      "19 Martinelli\n",
      "[8]\n",
      "20 Pablo Marí\n"
     ]
    },
    {
     "name": "stderr",
     "output_type": "stream",
     "text": [
      "/Users/maahirmawla/opt/anaconda3/lib/python3.9/site-packages/sklearn/naive_bayes.py:452: RuntimeWarning: divide by zero encountered in log\n",
      "  n_ij = - 0.5 * np.sum(np.log(2. * np.pi * self.sigma_[i, :]))\n",
      "/Users/maahirmawla/opt/anaconda3/lib/python3.9/site-packages/sklearn/naive_bayes.py:453: RuntimeWarning: invalid value encountered in true_divide\n",
      "  n_ij -= 0.5 * np.sum(((X - self.theta_[i, :]) ** 2) /\n",
      "/Users/maahirmawla/opt/anaconda3/lib/python3.9/site-packages/sklearn/naive_bayes.py:452: RuntimeWarning: divide by zero encountered in log\n",
      "  n_ij = - 0.5 * np.sum(np.log(2. * np.pi * self.sigma_[i, :]))\n",
      "/Users/maahirmawla/opt/anaconda3/lib/python3.9/site-packages/sklearn/naive_bayes.py:453: RuntimeWarning: invalid value encountered in true_divide\n",
      "  n_ij -= 0.5 * np.sum(((X - self.theta_[i, :]) ** 2) /\n"
     ]
    },
    {
     "name": "stdout",
     "output_type": "stream",
     "text": [
      "[0]\n",
      "22 Torreira\n"
     ]
    },
    {
     "name": "stderr",
     "output_type": "stream",
     "text": [
      "/Users/maahirmawla/opt/anaconda3/lib/python3.9/site-packages/sklearn/naive_bayes.py:452: RuntimeWarning: divide by zero encountered in log\n",
      "  n_ij = - 0.5 * np.sum(np.log(2. * np.pi * self.sigma_[i, :]))\n",
      "/Users/maahirmawla/opt/anaconda3/lib/python3.9/site-packages/sklearn/naive_bayes.py:453: RuntimeWarning: invalid value encountered in true_divide\n",
      "  n_ij -= 0.5 * np.sum(((X - self.theta_[i, :]) ** 2) /\n",
      "/Users/maahirmawla/opt/anaconda3/lib/python3.9/site-packages/sklearn/naive_bayes.py:452: RuntimeWarning: divide by zero encountered in log\n",
      "  n_ij = - 0.5 * np.sum(np.log(2. * np.pi * self.sigma_[i, :]))\n",
      "/Users/maahirmawla/opt/anaconda3/lib/python3.9/site-packages/sklearn/naive_bayes.py:453: RuntimeWarning: invalid value encountered in true_divide\n",
      "  n_ij -= 0.5 * np.sum(((X - self.theta_[i, :]) ** 2) /\n"
     ]
    },
    {
     "name": "stdout",
     "output_type": "stream",
     "text": [
      "[0]\n",
      "23 Nelson\n"
     ]
    },
    {
     "name": "stderr",
     "output_type": "stream",
     "text": [
      "/Users/maahirmawla/opt/anaconda3/lib/python3.9/site-packages/sklearn/naive_bayes.py:452: RuntimeWarning: divide by zero encountered in log\n",
      "  n_ij = - 0.5 * np.sum(np.log(2. * np.pi * self.sigma_[i, :]))\n",
      "/Users/maahirmawla/opt/anaconda3/lib/python3.9/site-packages/sklearn/naive_bayes.py:453: RuntimeWarning: invalid value encountered in true_divide\n",
      "  n_ij -= 0.5 * np.sum(((X - self.theta_[i, :]) ** 2) /\n",
      "/Users/maahirmawla/opt/anaconda3/lib/python3.9/site-packages/sklearn/naive_bayes.py:452: RuntimeWarning: divide by zero encountered in log\n",
      "  n_ij = - 0.5 * np.sum(np.log(2. * np.pi * self.sigma_[i, :]))\n",
      "/Users/maahirmawla/opt/anaconda3/lib/python3.9/site-packages/sklearn/naive_bayes.py:453: RuntimeWarning: invalid value encountered in true_divide\n",
      "  n_ij -= 0.5 * np.sum(((X - self.theta_[i, :]) ** 2) /\n"
     ]
    },
    {
     "name": "stdout",
     "output_type": "stream",
     "text": [
      "[0]\n",
      "24 Turner\n"
     ]
    },
    {
     "name": "stderr",
     "output_type": "stream",
     "text": [
      "/Users/maahirmawla/opt/anaconda3/lib/python3.9/site-packages/sklearn/naive_bayes.py:452: RuntimeWarning: divide by zero encountered in log\n",
      "  n_ij = - 0.5 * np.sum(np.log(2. * np.pi * self.sigma_[i, :]))\n",
      "/Users/maahirmawla/opt/anaconda3/lib/python3.9/site-packages/sklearn/naive_bayes.py:453: RuntimeWarning: invalid value encountered in true_divide\n",
      "  n_ij -= 0.5 * np.sum(((X - self.theta_[i, :]) ** 2) /\n",
      "/Users/maahirmawla/opt/anaconda3/lib/python3.9/site-packages/sklearn/naive_bayes.py:452: RuntimeWarning: divide by zero encountered in log\n",
      "  n_ij = - 0.5 * np.sum(np.log(2. * np.pi * self.sigma_[i, :]))\n",
      "/Users/maahirmawla/opt/anaconda3/lib/python3.9/site-packages/sklearn/naive_bayes.py:453: RuntimeWarning: invalid value encountered in true_divide\n",
      "  n_ij -= 0.5 * np.sum(((X - self.theta_[i, :]) ** 2) /\n"
     ]
    },
    {
     "name": "stdout",
     "output_type": "stream",
     "text": [
      "[0]\n",
      "25 Fábio Vieira\n"
     ]
    },
    {
     "name": "stderr",
     "output_type": "stream",
     "text": [
      "/Users/maahirmawla/opt/anaconda3/lib/python3.9/site-packages/sklearn/naive_bayes.py:452: RuntimeWarning: divide by zero encountered in log\n",
      "  n_ij = - 0.5 * np.sum(np.log(2. * np.pi * self.sigma_[i, :]))\n",
      "/Users/maahirmawla/opt/anaconda3/lib/python3.9/site-packages/sklearn/naive_bayes.py:453: RuntimeWarning: invalid value encountered in true_divide\n",
      "  n_ij -= 0.5 * np.sum(((X - self.theta_[i, :]) ** 2) /\n",
      "/Users/maahirmawla/opt/anaconda3/lib/python3.9/site-packages/sklearn/naive_bayes.py:452: RuntimeWarning: divide by zero encountered in log\n",
      "  n_ij = - 0.5 * np.sum(np.log(2. * np.pi * self.sigma_[i, :]))\n",
      "/Users/maahirmawla/opt/anaconda3/lib/python3.9/site-packages/sklearn/naive_bayes.py:453: RuntimeWarning: invalid value encountered in true_divide\n",
      "  n_ij -= 0.5 * np.sum(((X - self.theta_[i, :]) ** 2) /\n"
     ]
    },
    {
     "name": "stdout",
     "output_type": "stream",
     "text": [
      "[0]\n",
      "26 Saliba\n",
      "[-1]\n",
      "27 Marquinhos\n"
     ]
    },
    {
     "name": "stderr",
     "output_type": "stream",
     "text": [
      "/Users/maahirmawla/opt/anaconda3/lib/python3.9/site-packages/sklearn/naive_bayes.py:452: RuntimeWarning: divide by zero encountered in log\n",
      "  n_ij = - 0.5 * np.sum(np.log(2. * np.pi * self.sigma_[i, :]))\n",
      "/Users/maahirmawla/opt/anaconda3/lib/python3.9/site-packages/sklearn/naive_bayes.py:453: RuntimeWarning: invalid value encountered in true_divide\n",
      "  n_ij -= 0.5 * np.sum(((X - self.theta_[i, :]) ** 2) /\n",
      "/Users/maahirmawla/opt/anaconda3/lib/python3.9/site-packages/sklearn/naive_bayes.py:452: RuntimeWarning: divide by zero encountered in log\n",
      "  n_ij = - 0.5 * np.sum(np.log(2. * np.pi * self.sigma_[i, :]))\n",
      "/Users/maahirmawla/opt/anaconda3/lib/python3.9/site-packages/sklearn/naive_bayes.py:453: RuntimeWarning: invalid value encountered in true_divide\n",
      "  n_ij -= 0.5 * np.sum(((X - self.theta_[i, :]) ** 2) /\n"
     ]
    },
    {
     "name": "stdout",
     "output_type": "stream",
     "text": [
      "[0]\n",
      "28 Jesus\n",
      "[1]\n",
      "313 Zinchenko\n",
      "[0]\n",
      "607 Smith\n"
     ]
    },
    {
     "name": "stderr",
     "output_type": "stream",
     "text": [
      "/Users/maahirmawla/opt/anaconda3/lib/python3.9/site-packages/sklearn/naive_bayes.py:452: RuntimeWarning: divide by zero encountered in log\n",
      "  n_ij = - 0.5 * np.sum(np.log(2. * np.pi * self.sigma_[i, :]))\n",
      "/Users/maahirmawla/opt/anaconda3/lib/python3.9/site-packages/sklearn/naive_bayes.py:453: RuntimeWarning: invalid value encountered in true_divide\n",
      "  n_ij -= 0.5 * np.sum(((X - self.theta_[i, :]) ** 2) /\n",
      "/Users/maahirmawla/opt/anaconda3/lib/python3.9/site-packages/sklearn/naive_bayes.py:452: RuntimeWarning: divide by zero encountered in log\n",
      "  n_ij = - 0.5 * np.sum(np.log(2. * np.pi * self.sigma_[i, :]))\n",
      "/Users/maahirmawla/opt/anaconda3/lib/python3.9/site-packages/sklearn/naive_bayes.py:453: RuntimeWarning: invalid value encountered in true_divide\n",
      "  n_ij -= 0.5 * np.sum(((X - self.theta_[i, :]) ** 2) /\n"
     ]
    },
    {
     "name": "stdout",
     "output_type": "stream",
     "text": [
      "[0]\n",
      "29 Coutinho\n",
      "[1]\n",
      "30 Ings\n",
      "[1]\n",
      "31 Martínez\n"
     ]
    },
    {
     "name": "stderr",
     "output_type": "stream",
     "text": [
      "/Users/maahirmawla/opt/anaconda3/lib/python3.9/site-packages/sklearn/naive_bayes.py:452: RuntimeWarning: divide by zero encountered in log\n",
      "  n_ij = - 0.5 * np.sum(np.log(2. * np.pi * self.sigma_[i, :]))\n",
      "/Users/maahirmawla/opt/anaconda3/lib/python3.9/site-packages/sklearn/naive_bayes.py:453: RuntimeWarning: invalid value encountered in true_divide\n",
      "  n_ij -= 0.5 * np.sum(((X - self.theta_[i, :]) ** 2) /\n",
      "/Users/maahirmawla/opt/anaconda3/lib/python3.9/site-packages/sklearn/naive_bayes.py:452: RuntimeWarning: divide by zero encountered in log\n",
      "  n_ij = - 0.5 * np.sum(np.log(2. * np.pi * self.sigma_[i, :]))\n",
      "/Users/maahirmawla/opt/anaconda3/lib/python3.9/site-packages/sklearn/naive_bayes.py:453: RuntimeWarning: invalid value encountered in true_divide\n",
      "  n_ij -= 0.5 * np.sum(((X - self.theta_[i, :]) ** 2) /\n"
     ]
    },
    {
     "name": "stdout",
     "output_type": "stream",
     "text": [
      "[1]\n",
      "32 Chambers\n"
     ]
    },
    {
     "name": "stderr",
     "output_type": "stream",
     "text": [
      "/Users/maahirmawla/opt/anaconda3/lib/python3.9/site-packages/sklearn/naive_bayes.py:452: RuntimeWarning: divide by zero encountered in log\n",
      "  n_ij = - 0.5 * np.sum(np.log(2. * np.pi * self.sigma_[i, :]))\n",
      "/Users/maahirmawla/opt/anaconda3/lib/python3.9/site-packages/sklearn/naive_bayes.py:453: RuntimeWarning: invalid value encountered in true_divide\n",
      "  n_ij -= 0.5 * np.sum(((X - self.theta_[i, :]) ** 2) /\n",
      "/Users/maahirmawla/opt/anaconda3/lib/python3.9/site-packages/sklearn/naive_bayes.py:452: RuntimeWarning: divide by zero encountered in log\n",
      "  n_ij = - 0.5 * np.sum(np.log(2. * np.pi * self.sigma_[i, :]))\n",
      "/Users/maahirmawla/opt/anaconda3/lib/python3.9/site-packages/sklearn/naive_bayes.py:453: RuntimeWarning: invalid value encountered in true_divide\n",
      "  n_ij -= 0.5 * np.sum(((X - self.theta_[i, :]) ** 2) /\n"
     ]
    },
    {
     "name": "stdout",
     "output_type": "stream",
     "text": [
      "[0]\n",
      "33 Digne\n"
     ]
    },
    {
     "name": "stderr",
     "output_type": "stream",
     "text": [
      "/Users/maahirmawla/opt/anaconda3/lib/python3.9/site-packages/sklearn/naive_bayes.py:452: RuntimeWarning: divide by zero encountered in log\n",
      "  n_ij = - 0.5 * np.sum(np.log(2. * np.pi * self.sigma_[i, :]))\n",
      "/Users/maahirmawla/opt/anaconda3/lib/python3.9/site-packages/sklearn/naive_bayes.py:453: RuntimeWarning: invalid value encountered in true_divide\n",
      "  n_ij -= 0.5 * np.sum(((X - self.theta_[i, :]) ** 2) /\n",
      "/Users/maahirmawla/opt/anaconda3/lib/python3.9/site-packages/sklearn/naive_bayes.py:452: RuntimeWarning: divide by zero encountered in log\n",
      "  n_ij = - 0.5 * np.sum(np.log(2. * np.pi * self.sigma_[i, :]))\n",
      "/Users/maahirmawla/opt/anaconda3/lib/python3.9/site-packages/sklearn/naive_bayes.py:453: RuntimeWarning: invalid value encountered in true_divide\n",
      "  n_ij -= 0.5 * np.sum(((X - self.theta_[i, :]) ** 2) /\n"
     ]
    },
    {
     "name": "stdout",
     "output_type": "stream",
     "text": [
      "[-1]\n",
      "34 Traoré\n"
     ]
    },
    {
     "name": "stderr",
     "output_type": "stream",
     "text": [
      "/Users/maahirmawla/opt/anaconda3/lib/python3.9/site-packages/sklearn/naive_bayes.py:452: RuntimeWarning: divide by zero encountered in log\n",
      "  n_ij = - 0.5 * np.sum(np.log(2. * np.pi * self.sigma_[i, :]))\n",
      "/Users/maahirmawla/opt/anaconda3/lib/python3.9/site-packages/sklearn/naive_bayes.py:453: RuntimeWarning: invalid value encountered in true_divide\n",
      "  n_ij -= 0.5 * np.sum(((X - self.theta_[i, :]) ** 2) /\n",
      "/Users/maahirmawla/opt/anaconda3/lib/python3.9/site-packages/sklearn/naive_bayes.py:452: RuntimeWarning: divide by zero encountered in log\n",
      "  n_ij = - 0.5 * np.sum(np.log(2. * np.pi * self.sigma_[i, :]))\n",
      "/Users/maahirmawla/opt/anaconda3/lib/python3.9/site-packages/sklearn/naive_bayes.py:453: RuntimeWarning: invalid value encountered in true_divide\n",
      "  n_ij -= 0.5 * np.sum(((X - self.theta_[i, :]) ** 2) /\n"
     ]
    },
    {
     "name": "stdout",
     "output_type": "stream",
     "text": [
      "[0]\n",
      "35 Olsen\n"
     ]
    },
    {
     "name": "stderr",
     "output_type": "stream",
     "text": [
      "/Users/maahirmawla/opt/anaconda3/lib/python3.9/site-packages/sklearn/naive_bayes.py:452: RuntimeWarning: divide by zero encountered in log\n",
      "  n_ij = - 0.5 * np.sum(np.log(2. * np.pi * self.sigma_[i, :]))\n",
      "/Users/maahirmawla/opt/anaconda3/lib/python3.9/site-packages/sklearn/naive_bayes.py:453: RuntimeWarning: invalid value encountered in true_divide\n",
      "  n_ij -= 0.5 * np.sum(((X - self.theta_[i, :]) ** 2) /\n",
      "/Users/maahirmawla/opt/anaconda3/lib/python3.9/site-packages/sklearn/naive_bayes.py:452: RuntimeWarning: divide by zero encountered in log\n",
      "  n_ij = - 0.5 * np.sum(np.log(2. * np.pi * self.sigma_[i, :]))\n",
      "/Users/maahirmawla/opt/anaconda3/lib/python3.9/site-packages/sklearn/naive_bayes.py:453: RuntimeWarning: invalid value encountered in true_divide\n",
      "  n_ij -= 0.5 * np.sum(((X - self.theta_[i, :]) ** 2) /\n"
     ]
    },
    {
     "name": "stdout",
     "output_type": "stream",
     "text": [
      "[0]\n",
      "36 Sanson\n"
     ]
    },
    {
     "name": "stderr",
     "output_type": "stream",
     "text": [
      "/Users/maahirmawla/opt/anaconda3/lib/python3.9/site-packages/sklearn/naive_bayes.py:452: RuntimeWarning: divide by zero encountered in log\n",
      "  n_ij = - 0.5 * np.sum(np.log(2. * np.pi * self.sigma_[i, :]))\n",
      "/Users/maahirmawla/opt/anaconda3/lib/python3.9/site-packages/sklearn/naive_bayes.py:453: RuntimeWarning: invalid value encountered in true_divide\n",
      "  n_ij -= 0.5 * np.sum(((X - self.theta_[i, :]) ** 2) /\n",
      "/Users/maahirmawla/opt/anaconda3/lib/python3.9/site-packages/sklearn/naive_bayes.py:452: RuntimeWarning: divide by zero encountered in log\n",
      "  n_ij = - 0.5 * np.sum(np.log(2. * np.pi * self.sigma_[i, :]))\n",
      "/Users/maahirmawla/opt/anaconda3/lib/python3.9/site-packages/sklearn/naive_bayes.py:453: RuntimeWarning: invalid value encountered in true_divide\n",
      "  n_ij -= 0.5 * np.sum(((X - self.theta_[i, :]) ** 2) /\n"
     ]
    },
    {
     "name": "stdout",
     "output_type": "stream",
     "text": [
      "[0]\n",
      "37 McGinn\n"
     ]
    },
    {
     "name": "stderr",
     "output_type": "stream",
     "text": [
      "/Users/maahirmawla/opt/anaconda3/lib/python3.9/site-packages/sklearn/naive_bayes.py:452: RuntimeWarning: divide by zero encountered in log\n",
      "  n_ij = - 0.5 * np.sum(np.log(2. * np.pi * self.sigma_[i, :]))\n",
      "/Users/maahirmawla/opt/anaconda3/lib/python3.9/site-packages/sklearn/naive_bayes.py:453: RuntimeWarning: invalid value encountered in true_divide\n",
      "  n_ij -= 0.5 * np.sum(((X - self.theta_[i, :]) ** 2) /\n",
      "/Users/maahirmawla/opt/anaconda3/lib/python3.9/site-packages/sklearn/naive_bayes.py:452: RuntimeWarning: divide by zero encountered in log\n",
      "  n_ij = - 0.5 * np.sum(np.log(2. * np.pi * self.sigma_[i, :]))\n",
      "/Users/maahirmawla/opt/anaconda3/lib/python3.9/site-packages/sklearn/naive_bayes.py:453: RuntimeWarning: invalid value encountered in true_divide\n",
      "  n_ij -= 0.5 * np.sum(((X - self.theta_[i, :]) ** 2) /\n"
     ]
    },
    {
     "name": "stdout",
     "output_type": "stream",
     "text": [
      "[1]\n",
      "38 Hause\n"
     ]
    },
    {
     "name": "stderr",
     "output_type": "stream",
     "text": [
      "/Users/maahirmawla/opt/anaconda3/lib/python3.9/site-packages/sklearn/naive_bayes.py:452: RuntimeWarning: divide by zero encountered in log\n",
      "  n_ij = - 0.5 * np.sum(np.log(2. * np.pi * self.sigma_[i, :]))\n",
      "/Users/maahirmawla/opt/anaconda3/lib/python3.9/site-packages/sklearn/naive_bayes.py:453: RuntimeWarning: invalid value encountered in true_divide\n",
      "  n_ij -= 0.5 * np.sum(((X - self.theta_[i, :]) ** 2) /\n",
      "/Users/maahirmawla/opt/anaconda3/lib/python3.9/site-packages/sklearn/naive_bayes.py:452: RuntimeWarning: divide by zero encountered in log\n",
      "  n_ij = - 0.5 * np.sum(np.log(2. * np.pi * self.sigma_[i, :]))\n",
      "/Users/maahirmawla/opt/anaconda3/lib/python3.9/site-packages/sklearn/naive_bayes.py:453: RuntimeWarning: invalid value encountered in true_divide\n",
      "  n_ij -= 0.5 * np.sum(((X - self.theta_[i, :]) ** 2) /\n"
     ]
    },
    {
     "name": "stdout",
     "output_type": "stream",
     "text": [
      "[0]\n",
      "39 Mings\n"
     ]
    },
    {
     "name": "stderr",
     "output_type": "stream",
     "text": [
      "/Users/maahirmawla/opt/anaconda3/lib/python3.9/site-packages/sklearn/naive_bayes.py:452: RuntimeWarning: divide by zero encountered in log\n",
      "  n_ij = - 0.5 * np.sum(np.log(2. * np.pi * self.sigma_[i, :]))\n",
      "/Users/maahirmawla/opt/anaconda3/lib/python3.9/site-packages/sklearn/naive_bayes.py:453: RuntimeWarning: invalid value encountered in true_divide\n",
      "  n_ij -= 0.5 * np.sum(((X - self.theta_[i, :]) ** 2) /\n",
      "/Users/maahirmawla/opt/anaconda3/lib/python3.9/site-packages/sklearn/naive_bayes.py:452: RuntimeWarning: divide by zero encountered in log\n",
      "  n_ij = - 0.5 * np.sum(np.log(2. * np.pi * self.sigma_[i, :]))\n",
      "/Users/maahirmawla/opt/anaconda3/lib/python3.9/site-packages/sklearn/naive_bayes.py:453: RuntimeWarning: invalid value encountered in true_divide\n",
      "  n_ij -= 0.5 * np.sum(((X - self.theta_[i, :]) ** 2) /\n"
     ]
    },
    {
     "name": "stdout",
     "output_type": "stream",
     "text": [
      "[0]\n",
      "40 Watkins\n",
      "[2]\n",
      "41 Nakamba\n"
     ]
    },
    {
     "name": "stderr",
     "output_type": "stream",
     "text": [
      "/Users/maahirmawla/opt/anaconda3/lib/python3.9/site-packages/sklearn/naive_bayes.py:452: RuntimeWarning: divide by zero encountered in log\n",
      "  n_ij = - 0.5 * np.sum(np.log(2. * np.pi * self.sigma_[i, :]))\n",
      "/Users/maahirmawla/opt/anaconda3/lib/python3.9/site-packages/sklearn/naive_bayes.py:453: RuntimeWarning: invalid value encountered in true_divide\n",
      "  n_ij -= 0.5 * np.sum(((X - self.theta_[i, :]) ** 2) /\n",
      "/Users/maahirmawla/opt/anaconda3/lib/python3.9/site-packages/sklearn/naive_bayes.py:452: RuntimeWarning: divide by zero encountered in log\n",
      "  n_ij = - 0.5 * np.sum(np.log(2. * np.pi * self.sigma_[i, :]))\n",
      "/Users/maahirmawla/opt/anaconda3/lib/python3.9/site-packages/sklearn/naive_bayes.py:453: RuntimeWarning: invalid value encountered in true_divide\n",
      "  n_ij -= 0.5 * np.sum(((X - self.theta_[i, :]) ** 2) /\n"
     ]
    },
    {
     "name": "stdout",
     "output_type": "stream",
     "text": [
      "[0]\n",
      "42 Buendía\n",
      "[1]\n",
      "43 Cash\n"
     ]
    },
    {
     "name": "stderr",
     "output_type": "stream",
     "text": [
      "/Users/maahirmawla/opt/anaconda3/lib/python3.9/site-packages/sklearn/naive_bayes.py:452: RuntimeWarning: divide by zero encountered in log\n",
      "  n_ij = - 0.5 * np.sum(np.log(2. * np.pi * self.sigma_[i, :]))\n",
      "/Users/maahirmawla/opt/anaconda3/lib/python3.9/site-packages/sklearn/naive_bayes.py:453: RuntimeWarning: invalid value encountered in true_divide\n",
      "  n_ij -= 0.5 * np.sum(((X - self.theta_[i, :]) ** 2) /\n",
      "/Users/maahirmawla/opt/anaconda3/lib/python3.9/site-packages/sklearn/naive_bayes.py:452: RuntimeWarning: divide by zero encountered in log\n",
      "  n_ij = - 0.5 * np.sum(np.log(2. * np.pi * self.sigma_[i, :]))\n",
      "/Users/maahirmawla/opt/anaconda3/lib/python3.9/site-packages/sklearn/naive_bayes.py:453: RuntimeWarning: invalid value encountered in true_divide\n",
      "  n_ij -= 0.5 * np.sum(((X - self.theta_[i, :]) ** 2) /\n"
     ]
    },
    {
     "name": "stdout",
     "output_type": "stream",
     "text": [
      "[0]\n",
      "44 Konsa\n"
     ]
    },
    {
     "name": "stderr",
     "output_type": "stream",
     "text": [
      "/Users/maahirmawla/opt/anaconda3/lib/python3.9/site-packages/sklearn/naive_bayes.py:452: RuntimeWarning: divide by zero encountered in log\n",
      "  n_ij = - 0.5 * np.sum(np.log(2. * np.pi * self.sigma_[i, :]))\n",
      "/Users/maahirmawla/opt/anaconda3/lib/python3.9/site-packages/sklearn/naive_bayes.py:453: RuntimeWarning: invalid value encountered in true_divide\n",
      "  n_ij -= 0.5 * np.sum(((X - self.theta_[i, :]) ** 2) /\n",
      "/Users/maahirmawla/opt/anaconda3/lib/python3.9/site-packages/sklearn/naive_bayes.py:452: RuntimeWarning: divide by zero encountered in log\n",
      "  n_ij = - 0.5 * np.sum(np.log(2. * np.pi * self.sigma_[i, :]))\n",
      "/Users/maahirmawla/opt/anaconda3/lib/python3.9/site-packages/sklearn/naive_bayes.py:453: RuntimeWarning: invalid value encountered in true_divide\n",
      "  n_ij -= 0.5 * np.sum(((X - self.theta_[i, :]) ** 2) /\n"
     ]
    },
    {
     "name": "stdout",
     "output_type": "stream",
     "text": [
      "[0]\n",
      "45 Bailey\n",
      "[1]\n",
      "46 Douglas Luiz\n",
      "[0]\n",
      "47 Ramsey\n"
     ]
    },
    {
     "name": "stderr",
     "output_type": "stream",
     "text": [
      "/Users/maahirmawla/opt/anaconda3/lib/python3.9/site-packages/sklearn/naive_bayes.py:452: RuntimeWarning: divide by zero encountered in log\n",
      "  n_ij = - 0.5 * np.sum(np.log(2. * np.pi * self.sigma_[i, :]))\n",
      "/Users/maahirmawla/opt/anaconda3/lib/python3.9/site-packages/sklearn/naive_bayes.py:453: RuntimeWarning: invalid value encountered in true_divide\n",
      "  n_ij -= 0.5 * np.sum(((X - self.theta_[i, :]) ** 2) /\n",
      "/Users/maahirmawla/opt/anaconda3/lib/python3.9/site-packages/sklearn/naive_bayes.py:452: RuntimeWarning: divide by zero encountered in log\n",
      "  n_ij = - 0.5 * np.sum(np.log(2. * np.pi * self.sigma_[i, :]))\n",
      "/Users/maahirmawla/opt/anaconda3/lib/python3.9/site-packages/sklearn/naive_bayes.py:453: RuntimeWarning: invalid value encountered in true_divide\n",
      "  n_ij -= 0.5 * np.sum(((X - self.theta_[i, :]) ** 2) /\n"
     ]
    },
    {
     "name": "stdout",
     "output_type": "stream",
     "text": [
      "[0]\n",
      "49 Iroegbunam\n"
     ]
    },
    {
     "name": "stderr",
     "output_type": "stream",
     "text": [
      "/Users/maahirmawla/opt/anaconda3/lib/python3.9/site-packages/sklearn/naive_bayes.py:452: RuntimeWarning: divide by zero encountered in log\n",
      "  n_ij = - 0.5 * np.sum(np.log(2. * np.pi * self.sigma_[i, :]))\n",
      "/Users/maahirmawla/opt/anaconda3/lib/python3.9/site-packages/sklearn/naive_bayes.py:453: RuntimeWarning: invalid value encountered in true_divide\n",
      "  n_ij -= 0.5 * np.sum(((X - self.theta_[i, :]) ** 2) /\n",
      "/Users/maahirmawla/opt/anaconda3/lib/python3.9/site-packages/sklearn/naive_bayes.py:452: RuntimeWarning: divide by zero encountered in log\n",
      "  n_ij = - 0.5 * np.sum(np.log(2. * np.pi * self.sigma_[i, :]))\n",
      "/Users/maahirmawla/opt/anaconda3/lib/python3.9/site-packages/sklearn/naive_bayes.py:453: RuntimeWarning: invalid value encountered in true_divide\n",
      "  n_ij -= 0.5 * np.sum(((X - self.theta_[i, :]) ** 2) /\n"
     ]
    },
    {
     "name": "stdout",
     "output_type": "stream",
     "text": [
      "[0]\n",
      "50 Diego Carlos\n"
     ]
    },
    {
     "name": "stderr",
     "output_type": "stream",
     "text": [
      "/Users/maahirmawla/opt/anaconda3/lib/python3.9/site-packages/sklearn/naive_bayes.py:452: RuntimeWarning: divide by zero encountered in log\n",
      "  n_ij = - 0.5 * np.sum(np.log(2. * np.pi * self.sigma_[i, :]))\n",
      "/Users/maahirmawla/opt/anaconda3/lib/python3.9/site-packages/sklearn/naive_bayes.py:453: RuntimeWarning: invalid value encountered in true_divide\n",
      "  n_ij -= 0.5 * np.sum(((X - self.theta_[i, :]) ** 2) /\n",
      "/Users/maahirmawla/opt/anaconda3/lib/python3.9/site-packages/sklearn/naive_bayes.py:452: RuntimeWarning: divide by zero encountered in log\n",
      "  n_ij = - 0.5 * np.sum(np.log(2. * np.pi * self.sigma_[i, :]))\n",
      "/Users/maahirmawla/opt/anaconda3/lib/python3.9/site-packages/sklearn/naive_bayes.py:453: RuntimeWarning: invalid value encountered in true_divide\n",
      "  n_ij -= 0.5 * np.sum(((X - self.theta_[i, :]) ** 2) /\n"
     ]
    },
    {
     "name": "stdout",
     "output_type": "stream",
     "text": [
      "[0]\n",
      "51 El Ghazi\n"
     ]
    },
    {
     "name": "stderr",
     "output_type": "stream",
     "text": [
      "/Users/maahirmawla/opt/anaconda3/lib/python3.9/site-packages/sklearn/naive_bayes.py:452: RuntimeWarning: divide by zero encountered in log\n",
      "  n_ij = - 0.5 * np.sum(np.log(2. * np.pi * self.sigma_[i, :]))\n",
      "/Users/maahirmawla/opt/anaconda3/lib/python3.9/site-packages/sklearn/naive_bayes.py:453: RuntimeWarning: invalid value encountered in true_divide\n",
      "  n_ij -= 0.5 * np.sum(((X - self.theta_[i, :]) ** 2) /\n",
      "/Users/maahirmawla/opt/anaconda3/lib/python3.9/site-packages/sklearn/naive_bayes.py:452: RuntimeWarning: divide by zero encountered in log\n",
      "  n_ij = - 0.5 * np.sum(np.log(2. * np.pi * self.sigma_[i, :]))\n",
      "/Users/maahirmawla/opt/anaconda3/lib/python3.9/site-packages/sklearn/naive_bayes.py:453: RuntimeWarning: invalid value encountered in true_divide\n",
      "  n_ij -= 0.5 * np.sum(((X - self.theta_[i, :]) ** 2) /\n"
     ]
    },
    {
     "name": "stdout",
     "output_type": "stream",
     "text": [
      "[0]\n",
      "52 Davis\n"
     ]
    },
    {
     "name": "stderr",
     "output_type": "stream",
     "text": [
      "/Users/maahirmawla/opt/anaconda3/lib/python3.9/site-packages/sklearn/naive_bayes.py:452: RuntimeWarning: divide by zero encountered in log\n",
      "  n_ij = - 0.5 * np.sum(np.log(2. * np.pi * self.sigma_[i, :]))\n",
      "/Users/maahirmawla/opt/anaconda3/lib/python3.9/site-packages/sklearn/naive_bayes.py:453: RuntimeWarning: invalid value encountered in true_divide\n",
      "  n_ij -= 0.5 * np.sum(((X - self.theta_[i, :]) ** 2) /\n",
      "/Users/maahirmawla/opt/anaconda3/lib/python3.9/site-packages/sklearn/naive_bayes.py:452: RuntimeWarning: divide by zero encountered in log\n",
      "  n_ij = - 0.5 * np.sum(np.log(2. * np.pi * self.sigma_[i, :]))\n",
      "/Users/maahirmawla/opt/anaconda3/lib/python3.9/site-packages/sklearn/naive_bayes.py:453: RuntimeWarning: invalid value encountered in true_divide\n",
      "  n_ij -= 0.5 * np.sum(((X - self.theta_[i, :]) ** 2) /\n"
     ]
    },
    {
     "name": "stdout",
     "output_type": "stream",
     "text": [
      "[0]\n",
      "53 Kamara\n"
     ]
    },
    {
     "name": "stderr",
     "output_type": "stream",
     "text": [
      "/Users/maahirmawla/opt/anaconda3/lib/python3.9/site-packages/sklearn/naive_bayes.py:452: RuntimeWarning: divide by zero encountered in log\n",
      "  n_ij = - 0.5 * np.sum(np.log(2. * np.pi * self.sigma_[i, :]))\n",
      "/Users/maahirmawla/opt/anaconda3/lib/python3.9/site-packages/sklearn/naive_bayes.py:453: RuntimeWarning: invalid value encountered in true_divide\n",
      "  n_ij -= 0.5 * np.sum(((X - self.theta_[i, :]) ** 2) /\n",
      "/Users/maahirmawla/opt/anaconda3/lib/python3.9/site-packages/sklearn/naive_bayes.py:452: RuntimeWarning: divide by zero encountered in log\n",
      "  n_ij = - 0.5 * np.sum(np.log(2. * np.pi * self.sigma_[i, :]))\n",
      "/Users/maahirmawla/opt/anaconda3/lib/python3.9/site-packages/sklearn/naive_bayes.py:453: RuntimeWarning: invalid value encountered in true_divide\n",
      "  n_ij -= 0.5 * np.sum(((X - self.theta_[i, :]) ** 2) /\n"
     ]
    },
    {
     "name": "stdout",
     "output_type": "stream",
     "text": [
      "[1]\n",
      "54 Archer\n"
     ]
    },
    {
     "name": "stderr",
     "output_type": "stream",
     "text": [
      "/Users/maahirmawla/opt/anaconda3/lib/python3.9/site-packages/sklearn/naive_bayes.py:452: RuntimeWarning: divide by zero encountered in log\n",
      "  n_ij = - 0.5 * np.sum(np.log(2. * np.pi * self.sigma_[i, :]))\n",
      "/Users/maahirmawla/opt/anaconda3/lib/python3.9/site-packages/sklearn/naive_bayes.py:453: RuntimeWarning: invalid value encountered in true_divide\n",
      "  n_ij -= 0.5 * np.sum(((X - self.theta_[i, :]) ** 2) /\n",
      "/Users/maahirmawla/opt/anaconda3/lib/python3.9/site-packages/sklearn/naive_bayes.py:452: RuntimeWarning: divide by zero encountered in log\n",
      "  n_ij = - 0.5 * np.sum(np.log(2. * np.pi * self.sigma_[i, :]))\n",
      "/Users/maahirmawla/opt/anaconda3/lib/python3.9/site-packages/sklearn/naive_bayes.py:453: RuntimeWarning: invalid value encountered in true_divide\n",
      "  n_ij -= 0.5 * np.sum(((X - self.theta_[i, :]) ** 2) /\n"
     ]
    },
    {
     "name": "stdout",
     "output_type": "stream",
     "text": [
      "[0]\n",
      "55 Philogene-Bidace\n"
     ]
    },
    {
     "name": "stderr",
     "output_type": "stream",
     "text": [
      "/Users/maahirmawla/opt/anaconda3/lib/python3.9/site-packages/sklearn/naive_bayes.py:452: RuntimeWarning: divide by zero encountered in log\n",
      "  n_ij = - 0.5 * np.sum(np.log(2. * np.pi * self.sigma_[i, :]))\n",
      "/Users/maahirmawla/opt/anaconda3/lib/python3.9/site-packages/sklearn/naive_bayes.py:453: RuntimeWarning: invalid value encountered in true_divide\n",
      "  n_ij -= 0.5 * np.sum(((X - self.theta_[i, :]) ** 2) /\n",
      "/Users/maahirmawla/opt/anaconda3/lib/python3.9/site-packages/sklearn/naive_bayes.py:452: RuntimeWarning: divide by zero encountered in log\n",
      "  n_ij = - 0.5 * np.sum(np.log(2. * np.pi * self.sigma_[i, :]))\n",
      "/Users/maahirmawla/opt/anaconda3/lib/python3.9/site-packages/sklearn/naive_bayes.py:453: RuntimeWarning: invalid value encountered in true_divide\n",
      "  n_ij -= 0.5 * np.sum(((X - self.theta_[i, :]) ** 2) /\n"
     ]
    },
    {
     "name": "stdout",
     "output_type": "stream",
     "text": [
      "[0]\n",
      "56 Guilbert\n"
     ]
    },
    {
     "name": "stderr",
     "output_type": "stream",
     "text": [
      "/Users/maahirmawla/opt/anaconda3/lib/python3.9/site-packages/sklearn/naive_bayes.py:452: RuntimeWarning: divide by zero encountered in log\n",
      "  n_ij = - 0.5 * np.sum(np.log(2. * np.pi * self.sigma_[i, :]))\n",
      "/Users/maahirmawla/opt/anaconda3/lib/python3.9/site-packages/sklearn/naive_bayes.py:453: RuntimeWarning: invalid value encountered in true_divide\n",
      "  n_ij -= 0.5 * np.sum(((X - self.theta_[i, :]) ** 2) /\n",
      "/Users/maahirmawla/opt/anaconda3/lib/python3.9/site-packages/sklearn/naive_bayes.py:452: RuntimeWarning: divide by zero encountered in log\n",
      "  n_ij = - 0.5 * np.sum(np.log(2. * np.pi * self.sigma_[i, :]))\n",
      "/Users/maahirmawla/opt/anaconda3/lib/python3.9/site-packages/sklearn/naive_bayes.py:453: RuntimeWarning: invalid value encountered in true_divide\n",
      "  n_ij -= 0.5 * np.sum(((X - self.theta_[i, :]) ** 2) /\n"
     ]
    },
    {
     "name": "stdout",
     "output_type": "stream",
     "text": [
      "[0]\n",
      "410 Bednarek\n"
     ]
    },
    {
     "name": "stderr",
     "output_type": "stream",
     "text": [
      "/Users/maahirmawla/opt/anaconda3/lib/python3.9/site-packages/sklearn/naive_bayes.py:452: RuntimeWarning: divide by zero encountered in log\n",
      "  n_ij = - 0.5 * np.sum(np.log(2. * np.pi * self.sigma_[i, :]))\n",
      "/Users/maahirmawla/opt/anaconda3/lib/python3.9/site-packages/sklearn/naive_bayes.py:453: RuntimeWarning: invalid value encountered in true_divide\n",
      "  n_ij -= 0.5 * np.sum(((X - self.theta_[i, :]) ** 2) /\n",
      "/Users/maahirmawla/opt/anaconda3/lib/python3.9/site-packages/sklearn/naive_bayes.py:452: RuntimeWarning: divide by zero encountered in log\n",
      "  n_ij = - 0.5 * np.sum(np.log(2. * np.pi * self.sigma_[i, :]))\n",
      "/Users/maahirmawla/opt/anaconda3/lib/python3.9/site-packages/sklearn/naive_bayes.py:453: RuntimeWarning: invalid value encountered in true_divide\n",
      "  n_ij -= 0.5 * np.sum(((X - self.theta_[i, :]) ** 2) /\n"
     ]
    },
    {
     "name": "stdout",
     "output_type": "stream",
     "text": [
      "[0]\n",
      "479 Dendoncker\n",
      "[0]\n",
      "525 Augustinsson\n"
     ]
    },
    {
     "name": "stderr",
     "output_type": "stream",
     "text": [
      "/Users/maahirmawla/opt/anaconda3/lib/python3.9/site-packages/sklearn/naive_bayes.py:452: RuntimeWarning: divide by zero encountered in log\n",
      "  n_ij = - 0.5 * np.sum(np.log(2. * np.pi * self.sigma_[i, :]))\n",
      "/Users/maahirmawla/opt/anaconda3/lib/python3.9/site-packages/sklearn/naive_bayes.py:453: RuntimeWarning: invalid value encountered in true_divide\n",
      "  n_ij -= 0.5 * np.sum(((X - self.theta_[i, :]) ** 2) /\n",
      "/Users/maahirmawla/opt/anaconda3/lib/python3.9/site-packages/sklearn/naive_bayes.py:452: RuntimeWarning: divide by zero encountered in log\n",
      "  n_ij = - 0.5 * np.sum(np.log(2. * np.pi * self.sigma_[i, :]))\n",
      "/Users/maahirmawla/opt/anaconda3/lib/python3.9/site-packages/sklearn/naive_bayes.py:453: RuntimeWarning: invalid value encountered in true_divide\n",
      "  n_ij -= 0.5 * np.sum(((X - self.theta_[i, :]) ** 2) /\n"
     ]
    },
    {
     "name": "stdout",
     "output_type": "stream",
     "text": [
      "[0]\n",
      "537 Kesler Hayden\n"
     ]
    },
    {
     "name": "stderr",
     "output_type": "stream",
     "text": [
      "/Users/maahirmawla/opt/anaconda3/lib/python3.9/site-packages/sklearn/naive_bayes.py:452: RuntimeWarning: divide by zero encountered in log\n",
      "  n_ij = - 0.5 * np.sum(np.log(2. * np.pi * self.sigma_[i, :]))\n",
      "/Users/maahirmawla/opt/anaconda3/lib/python3.9/site-packages/sklearn/naive_bayes.py:453: RuntimeWarning: invalid value encountered in true_divide\n",
      "  n_ij -= 0.5 * np.sum(((X - self.theta_[i, :]) ** 2) /\n",
      "/Users/maahirmawla/opt/anaconda3/lib/python3.9/site-packages/sklearn/naive_bayes.py:452: RuntimeWarning: divide by zero encountered in log\n",
      "  n_ij = - 0.5 * np.sum(np.log(2. * np.pi * self.sigma_[i, :]))\n",
      "/Users/maahirmawla/opt/anaconda3/lib/python3.9/site-packages/sklearn/naive_bayes.py:453: RuntimeWarning: invalid value encountered in true_divide\n",
      "  n_ij -= 0.5 * np.sum(((X - self.theta_[i, :]) ** 2) /\n"
     ]
    },
    {
     "name": "stdout",
     "output_type": "stream",
     "text": [
      "[0]\n",
      "538 Young\n"
     ]
    },
    {
     "name": "stderr",
     "output_type": "stream",
     "text": [
      "/Users/maahirmawla/opt/anaconda3/lib/python3.9/site-packages/sklearn/naive_bayes.py:452: RuntimeWarning: divide by zero encountered in log\n",
      "  n_ij = - 0.5 * np.sum(np.log(2. * np.pi * self.sigma_[i, :]))\n",
      "/Users/maahirmawla/opt/anaconda3/lib/python3.9/site-packages/sklearn/naive_bayes.py:453: RuntimeWarning: invalid value encountered in true_divide\n",
      "  n_ij -= 0.5 * np.sum(((X - self.theta_[i, :]) ** 2) /\n",
      "/Users/maahirmawla/opt/anaconda3/lib/python3.9/site-packages/sklearn/naive_bayes.py:452: RuntimeWarning: divide by zero encountered in log\n",
      "  n_ij = - 0.5 * np.sum(np.log(2. * np.pi * self.sigma_[i, :]))\n",
      "/Users/maahirmawla/opt/anaconda3/lib/python3.9/site-packages/sklearn/naive_bayes.py:453: RuntimeWarning: invalid value encountered in true_divide\n",
      "  n_ij -= 0.5 * np.sum(((X - self.theta_[i, :]) ** 2) /\n"
     ]
    },
    {
     "name": "stdout",
     "output_type": "stream",
     "text": [
      "[0]\n",
      "57 Smith\n",
      "[-2]\n",
      "58 Stanislas\n"
     ]
    },
    {
     "name": "stderr",
     "output_type": "stream",
     "text": [
      "/Users/maahirmawla/opt/anaconda3/lib/python3.9/site-packages/sklearn/naive_bayes.py:452: RuntimeWarning: divide by zero encountered in log\n",
      "  n_ij = - 0.5 * np.sum(np.log(2. * np.pi * self.sigma_[i, :]))\n",
      "/Users/maahirmawla/opt/anaconda3/lib/python3.9/site-packages/sklearn/naive_bayes.py:453: RuntimeWarning: invalid value encountered in true_divide\n",
      "  n_ij -= 0.5 * np.sum(((X - self.theta_[i, :]) ** 2) /\n",
      "/Users/maahirmawla/opt/anaconda3/lib/python3.9/site-packages/sklearn/naive_bayes.py:452: RuntimeWarning: divide by zero encountered in log\n",
      "  n_ij = - 0.5 * np.sum(np.log(2. * np.pi * self.sigma_[i, :]))\n",
      "/Users/maahirmawla/opt/anaconda3/lib/python3.9/site-packages/sklearn/naive_bayes.py:453: RuntimeWarning: invalid value encountered in true_divide\n",
      "  n_ij -= 0.5 * np.sum(((X - self.theta_[i, :]) ** 2) /\n"
     ]
    },
    {
     "name": "stdout",
     "output_type": "stream",
     "text": [
      "[0]\n",
      "59 Fredericks\n"
     ]
    },
    {
     "name": "stderr",
     "output_type": "stream",
     "text": [
      "/Users/maahirmawla/opt/anaconda3/lib/python3.9/site-packages/sklearn/naive_bayes.py:452: RuntimeWarning: divide by zero encountered in log\n",
      "  n_ij = - 0.5 * np.sum(np.log(2. * np.pi * self.sigma_[i, :]))\n",
      "/Users/maahirmawla/opt/anaconda3/lib/python3.9/site-packages/sklearn/naive_bayes.py:453: RuntimeWarning: invalid value encountered in true_divide\n",
      "  n_ij -= 0.5 * np.sum(((X - self.theta_[i, :]) ** 2) /\n",
      "/Users/maahirmawla/opt/anaconda3/lib/python3.9/site-packages/sklearn/naive_bayes.py:452: RuntimeWarning: divide by zero encountered in log\n",
      "  n_ij = - 0.5 * np.sum(np.log(2. * np.pi * self.sigma_[i, :]))\n",
      "/Users/maahirmawla/opt/anaconda3/lib/python3.9/site-packages/sklearn/naive_bayes.py:453: RuntimeWarning: invalid value encountered in true_divide\n",
      "  n_ij -= 0.5 * np.sum(((X - self.theta_[i, :]) ** 2) /\n"
     ]
    },
    {
     "name": "stdout",
     "output_type": "stream",
     "text": [
      "[0]\n",
      "60 Brooks\n"
     ]
    },
    {
     "name": "stderr",
     "output_type": "stream",
     "text": [
      "/Users/maahirmawla/opt/anaconda3/lib/python3.9/site-packages/sklearn/naive_bayes.py:452: RuntimeWarning: divide by zero encountered in log\n",
      "  n_ij = - 0.5 * np.sum(np.log(2. * np.pi * self.sigma_[i, :]))\n",
      "/Users/maahirmawla/opt/anaconda3/lib/python3.9/site-packages/sklearn/naive_bayes.py:453: RuntimeWarning: invalid value encountered in true_divide\n",
      "  n_ij -= 0.5 * np.sum(((X - self.theta_[i, :]) ** 2) /\n",
      "/Users/maahirmawla/opt/anaconda3/lib/python3.9/site-packages/sklearn/naive_bayes.py:452: RuntimeWarning: divide by zero encountered in log\n",
      "  n_ij = - 0.5 * np.sum(np.log(2. * np.pi * self.sigma_[i, :]))\n",
      "/Users/maahirmawla/opt/anaconda3/lib/python3.9/site-packages/sklearn/naive_bayes.py:453: RuntimeWarning: invalid value encountered in true_divide\n",
      "  n_ij -= 0.5 * np.sum(((X - self.theta_[i, :]) ** 2) /\n"
     ]
    },
    {
     "name": "stdout",
     "output_type": "stream",
     "text": [
      "[0]\n",
      "61 Lowe\n"
     ]
    },
    {
     "name": "stderr",
     "output_type": "stream",
     "text": [
      "/Users/maahirmawla/opt/anaconda3/lib/python3.9/site-packages/sklearn/naive_bayes.py:452: RuntimeWarning: divide by zero encountered in log\n",
      "  n_ij = - 0.5 * np.sum(np.log(2. * np.pi * self.sigma_[i, :]))\n",
      "/Users/maahirmawla/opt/anaconda3/lib/python3.9/site-packages/sklearn/naive_bayes.py:453: RuntimeWarning: invalid value encountered in true_divide\n",
      "  n_ij -= 0.5 * np.sum(((X - self.theta_[i, :]) ** 2) /\n",
      "/Users/maahirmawla/opt/anaconda3/lib/python3.9/site-packages/sklearn/naive_bayes.py:452: RuntimeWarning: divide by zero encountered in log\n",
      "  n_ij = - 0.5 * np.sum(np.log(2. * np.pi * self.sigma_[i, :]))\n",
      "/Users/maahirmawla/opt/anaconda3/lib/python3.9/site-packages/sklearn/naive_bayes.py:453: RuntimeWarning: invalid value encountered in true_divide\n",
      "  n_ij -= 0.5 * np.sum(((X - self.theta_[i, :]) ** 2) /\n"
     ]
    },
    {
     "name": "stdout",
     "output_type": "stream",
     "text": [
      "[0]\n",
      "62 Moore\n",
      "[2]\n",
      "63 Marcondes\n"
     ]
    },
    {
     "name": "stderr",
     "output_type": "stream",
     "text": [
      "/Users/maahirmawla/opt/anaconda3/lib/python3.9/site-packages/sklearn/naive_bayes.py:452: RuntimeWarning: divide by zero encountered in log\n",
      "  n_ij = - 0.5 * np.sum(np.log(2. * np.pi * self.sigma_[i, :]))\n",
      "/Users/maahirmawla/opt/anaconda3/lib/python3.9/site-packages/sklearn/naive_bayes.py:453: RuntimeWarning: invalid value encountered in true_divide\n",
      "  n_ij -= 0.5 * np.sum(((X - self.theta_[i, :]) ** 2) /\n",
      "/Users/maahirmawla/opt/anaconda3/lib/python3.9/site-packages/sklearn/naive_bayes.py:452: RuntimeWarning: divide by zero encountered in log\n",
      "  n_ij = - 0.5 * np.sum(np.log(2. * np.pi * self.sigma_[i, :]))\n",
      "/Users/maahirmawla/opt/anaconda3/lib/python3.9/site-packages/sklearn/naive_bayes.py:453: RuntimeWarning: invalid value encountered in true_divide\n",
      "  n_ij -= 0.5 * np.sum(((X - self.theta_[i, :]) ** 2) /\n"
     ]
    },
    {
     "name": "stdout",
     "output_type": "stream",
     "text": [
      "[0]\n",
      "64 Lerma\n",
      "[2]\n",
      "65 Stacey\n"
     ]
    },
    {
     "name": "stderr",
     "output_type": "stream",
     "text": [
      "/Users/maahirmawla/opt/anaconda3/lib/python3.9/site-packages/sklearn/naive_bayes.py:452: RuntimeWarning: divide by zero encountered in log\n",
      "  n_ij = - 0.5 * np.sum(np.log(2. * np.pi * self.sigma_[i, :]))\n",
      "/Users/maahirmawla/opt/anaconda3/lib/python3.9/site-packages/sklearn/naive_bayes.py:453: RuntimeWarning: invalid value encountered in true_divide\n",
      "  n_ij -= 0.5 * np.sum(((X - self.theta_[i, :]) ** 2) /\n",
      "/Users/maahirmawla/opt/anaconda3/lib/python3.9/site-packages/sklearn/naive_bayes.py:452: RuntimeWarning: divide by zero encountered in log\n",
      "  n_ij = - 0.5 * np.sum(np.log(2. * np.pi * self.sigma_[i, :]))\n",
      "/Users/maahirmawla/opt/anaconda3/lib/python3.9/site-packages/sklearn/naive_bayes.py:453: RuntimeWarning: invalid value encountered in true_divide\n",
      "  n_ij -= 0.5 * np.sum(((X - self.theta_[i, :]) ** 2) /\n"
     ]
    },
    {
     "name": "stdout",
     "output_type": "stream",
     "text": [
      "[-1]\n",
      "66 Solanke\n",
      "[0]\n",
      "67 Cook\n",
      "[1]\n",
      "68 Pearson\n",
      "[2]\n",
      "69 Christie\n",
      "[1]\n",
      "70 Billing\n",
      "[2]\n",
      "71 Mepham\n",
      "[1]\n",
      "72 Travers\n",
      "[0]\n",
      "73 Kelly\n",
      "[0]\n",
      "74 Dembélé\n"
     ]
    },
    {
     "name": "stderr",
     "output_type": "stream",
     "text": [
      "/Users/maahirmawla/opt/anaconda3/lib/python3.9/site-packages/sklearn/naive_bayes.py:452: RuntimeWarning: divide by zero encountered in log\n",
      "  n_ij = - 0.5 * np.sum(np.log(2. * np.pi * self.sigma_[i, :]))\n",
      "/Users/maahirmawla/opt/anaconda3/lib/python3.9/site-packages/sklearn/naive_bayes.py:453: RuntimeWarning: invalid value encountered in true_divide\n",
      "  n_ij -= 0.5 * np.sum(((X - self.theta_[i, :]) ** 2) /\n",
      "/Users/maahirmawla/opt/anaconda3/lib/python3.9/site-packages/sklearn/naive_bayes.py:452: RuntimeWarning: divide by zero encountered in log\n",
      "  n_ij = - 0.5 * np.sum(np.log(2. * np.pi * self.sigma_[i, :]))\n",
      "/Users/maahirmawla/opt/anaconda3/lib/python3.9/site-packages/sklearn/naive_bayes.py:453: RuntimeWarning: invalid value encountered in true_divide\n",
      "  n_ij -= 0.5 * np.sum(((X - self.theta_[i, :]) ** 2) /\n"
     ]
    },
    {
     "name": "stdout",
     "output_type": "stream",
     "text": [
      "[0]\n",
      "75 Anthony\n",
      "[0]\n",
      "76 Zemura\n",
      "[0]\n",
      "77 Dennis\n"
     ]
    },
    {
     "name": "stderr",
     "output_type": "stream",
     "text": [
      "/Users/maahirmawla/opt/anaconda3/lib/python3.9/site-packages/sklearn/naive_bayes.py:452: RuntimeWarning: divide by zero encountered in log\n",
      "  n_ij = - 0.5 * np.sum(np.log(2. * np.pi * self.sigma_[i, :]))\n",
      "/Users/maahirmawla/opt/anaconda3/lib/python3.9/site-packages/sklearn/naive_bayes.py:453: RuntimeWarning: invalid value encountered in true_divide\n",
      "  n_ij -= 0.5 * np.sum(((X - self.theta_[i, :]) ** 2) /\n",
      "/Users/maahirmawla/opt/anaconda3/lib/python3.9/site-packages/sklearn/naive_bayes.py:452: RuntimeWarning: divide by zero encountered in log\n",
      "  n_ij = - 0.5 * np.sum(np.log(2. * np.pi * self.sigma_[i, :]))\n",
      "/Users/maahirmawla/opt/anaconda3/lib/python3.9/site-packages/sklearn/naive_bayes.py:453: RuntimeWarning: invalid value encountered in true_divide\n",
      "  n_ij -= 0.5 * np.sum(((X - self.theta_[i, :]) ** 2) /\n"
     ]
    },
    {
     "name": "stdout",
     "output_type": "stream",
     "text": [
      "[0]\n",
      "404 Stephens\n"
     ]
    },
    {
     "name": "stderr",
     "output_type": "stream",
     "text": [
      "/Users/maahirmawla/opt/anaconda3/lib/python3.9/site-packages/sklearn/naive_bayes.py:452: RuntimeWarning: divide by zero encountered in log\n",
      "  n_ij = - 0.5 * np.sum(np.log(2. * np.pi * self.sigma_[i, :]))\n",
      "/Users/maahirmawla/opt/anaconda3/lib/python3.9/site-packages/sklearn/naive_bayes.py:453: RuntimeWarning: invalid value encountered in true_divide\n",
      "  n_ij -= 0.5 * np.sum(((X - self.theta_[i, :]) ** 2) /\n",
      "/Users/maahirmawla/opt/anaconda3/lib/python3.9/site-packages/sklearn/naive_bayes.py:452: RuntimeWarning: divide by zero encountered in log\n",
      "  n_ij = - 0.5 * np.sum(np.log(2. * np.pi * self.sigma_[i, :]))\n",
      "/Users/maahirmawla/opt/anaconda3/lib/python3.9/site-packages/sklearn/naive_bayes.py:453: RuntimeWarning: invalid value encountered in true_divide\n",
      "  n_ij -= 0.5 * np.sum(((X - self.theta_[i, :]) ** 2) /\n"
     ]
    },
    {
     "name": "stdout",
     "output_type": "stream",
     "text": [
      "[0]\n",
      "505 Rothwell\n"
     ]
    },
    {
     "name": "stderr",
     "output_type": "stream",
     "text": [
      "/Users/maahirmawla/opt/anaconda3/lib/python3.9/site-packages/sklearn/naive_bayes.py:452: RuntimeWarning: divide by zero encountered in log\n",
      "  n_ij = - 0.5 * np.sum(np.log(2. * np.pi * self.sigma_[i, :]))\n",
      "/Users/maahirmawla/opt/anaconda3/lib/python3.9/site-packages/sklearn/naive_bayes.py:453: RuntimeWarning: invalid value encountered in true_divide\n",
      "  n_ij -= 0.5 * np.sum(((X - self.theta_[i, :]) ** 2) /\n",
      "/Users/maahirmawla/opt/anaconda3/lib/python3.9/site-packages/sklearn/naive_bayes.py:452: RuntimeWarning: divide by zero encountered in log\n",
      "  n_ij = - 0.5 * np.sum(np.log(2. * np.pi * self.sigma_[i, :]))\n",
      "/Users/maahirmawla/opt/anaconda3/lib/python3.9/site-packages/sklearn/naive_bayes.py:453: RuntimeWarning: invalid value encountered in true_divide\n",
      "  n_ij -= 0.5 * np.sum(((X - self.theta_[i, :]) ** 2) /\n"
     ]
    },
    {
     "name": "stdout",
     "output_type": "stream",
     "text": [
      "[0]\n",
      "535 Tavernier\n",
      "[2]\n",
      "539 Hill\n"
     ]
    },
    {
     "name": "stderr",
     "output_type": "stream",
     "text": [
      "/Users/maahirmawla/opt/anaconda3/lib/python3.9/site-packages/sklearn/naive_bayes.py:452: RuntimeWarning: divide by zero encountered in log\n",
      "  n_ij = - 0.5 * np.sum(np.log(2. * np.pi * self.sigma_[i, :]))\n",
      "/Users/maahirmawla/opt/anaconda3/lib/python3.9/site-packages/sklearn/naive_bayes.py:453: RuntimeWarning: invalid value encountered in true_divide\n",
      "  n_ij -= 0.5 * np.sum(((X - self.theta_[i, :]) ** 2) /\n",
      "/Users/maahirmawla/opt/anaconda3/lib/python3.9/site-packages/sklearn/naive_bayes.py:452: RuntimeWarning: divide by zero encountered in log\n",
      "  n_ij = - 0.5 * np.sum(np.log(2. * np.pi * self.sigma_[i, :]))\n",
      "/Users/maahirmawla/opt/anaconda3/lib/python3.9/site-packages/sklearn/naive_bayes.py:453: RuntimeWarning: invalid value encountered in true_divide\n",
      "  n_ij -= 0.5 * np.sum(((X - self.theta_[i, :]) ** 2) /\n"
     ]
    },
    {
     "name": "stdout",
     "output_type": "stream",
     "text": [
      "[0]\n",
      "574 Neto\n",
      "[0]\n",
      "576 Senesi\n"
     ]
    },
    {
     "name": "stderr",
     "output_type": "stream",
     "text": [
      "/Users/maahirmawla/opt/anaconda3/lib/python3.9/site-packages/sklearn/naive_bayes.py:452: RuntimeWarning: divide by zero encountered in log\n",
      "  n_ij = - 0.5 * np.sum(np.log(2. * np.pi * self.sigma_[i, :]))\n",
      "/Users/maahirmawla/opt/anaconda3/lib/python3.9/site-packages/sklearn/naive_bayes.py:453: RuntimeWarning: invalid value encountered in true_divide\n",
      "  n_ij -= 0.5 * np.sum(((X - self.theta_[i, :]) ** 2) /\n",
      "/Users/maahirmawla/opt/anaconda3/lib/python3.9/site-packages/sklearn/naive_bayes.py:452: RuntimeWarning: divide by zero encountered in log\n",
      "  n_ij = - 0.5 * np.sum(np.log(2. * np.pi * self.sigma_[i, :]))\n",
      "/Users/maahirmawla/opt/anaconda3/lib/python3.9/site-packages/sklearn/naive_bayes.py:453: RuntimeWarning: invalid value encountered in true_divide\n",
      "  n_ij -= 0.5 * np.sum(((X - self.theta_[i, :]) ** 2) /\n"
     ]
    },
    {
     "name": "stdout",
     "output_type": "stream",
     "text": [
      "[-2]\n",
      "597 Saydee\n"
     ]
    },
    {
     "name": "stderr",
     "output_type": "stream",
     "text": [
      "/Users/maahirmawla/opt/anaconda3/lib/python3.9/site-packages/sklearn/naive_bayes.py:452: RuntimeWarning: divide by zero encountered in log\n",
      "  n_ij = - 0.5 * np.sum(np.log(2. * np.pi * self.sigma_[i, :]))\n",
      "/Users/maahirmawla/opt/anaconda3/lib/python3.9/site-packages/sklearn/naive_bayes.py:453: RuntimeWarning: invalid value encountered in true_divide\n",
      "  n_ij -= 0.5 * np.sum(((X - self.theta_[i, :]) ** 2) /\n",
      "/Users/maahirmawla/opt/anaconda3/lib/python3.9/site-packages/sklearn/naive_bayes.py:452: RuntimeWarning: divide by zero encountered in log\n",
      "  n_ij = - 0.5 * np.sum(np.log(2. * np.pi * self.sigma_[i, :]))\n",
      "/Users/maahirmawla/opt/anaconda3/lib/python3.9/site-packages/sklearn/naive_bayes.py:453: RuntimeWarning: invalid value encountered in true_divide\n",
      "  n_ij -= 0.5 * np.sum(((X - self.theta_[i, :]) ** 2) /\n"
     ]
    },
    {
     "name": "stdout",
     "output_type": "stream",
     "text": [
      "[0]\n",
      "598 Bevan\n"
     ]
    },
    {
     "name": "stderr",
     "output_type": "stream",
     "text": [
      "/Users/maahirmawla/opt/anaconda3/lib/python3.9/site-packages/sklearn/naive_bayes.py:452: RuntimeWarning: divide by zero encountered in log\n",
      "  n_ij = - 0.5 * np.sum(np.log(2. * np.pi * self.sigma_[i, :]))\n",
      "/Users/maahirmawla/opt/anaconda3/lib/python3.9/site-packages/sklearn/naive_bayes.py:453: RuntimeWarning: invalid value encountered in true_divide\n",
      "  n_ij -= 0.5 * np.sum(((X - self.theta_[i, :]) ** 2) /\n",
      "/Users/maahirmawla/opt/anaconda3/lib/python3.9/site-packages/sklearn/naive_bayes.py:452: RuntimeWarning: divide by zero encountered in log\n",
      "  n_ij = - 0.5 * np.sum(np.log(2. * np.pi * self.sigma_[i, :]))\n",
      "/Users/maahirmawla/opt/anaconda3/lib/python3.9/site-packages/sklearn/naive_bayes.py:453: RuntimeWarning: invalid value encountered in true_divide\n",
      "  n_ij -= 0.5 * np.sum(((X - self.theta_[i, :]) ** 2) /\n"
     ]
    },
    {
     "name": "stdout",
     "output_type": "stream",
     "text": [
      "[0]\n",
      "78 Jansson\n",
      "[1]\n",
      "79 Nørgaard\n",
      "[0]\n",
      "80 Toney\n",
      "[8]\n",
      "81 Raya\n",
      "[2]\n",
      "82 Canós\n"
     ]
    },
    {
     "name": "stderr",
     "output_type": "stream",
     "text": [
      "/Users/maahirmawla/opt/anaconda3/lib/python3.9/site-packages/sklearn/naive_bayes.py:452: RuntimeWarning: divide by zero encountered in log\n",
      "  n_ij = - 0.5 * np.sum(np.log(2. * np.pi * self.sigma_[i, :]))\n",
      "/Users/maahirmawla/opt/anaconda3/lib/python3.9/site-packages/sklearn/naive_bayes.py:453: RuntimeWarning: invalid value encountered in true_divide\n",
      "  n_ij -= 0.5 * np.sum(((X - self.theta_[i, :]) ** 2) /\n",
      "/Users/maahirmawla/opt/anaconda3/lib/python3.9/site-packages/sklearn/naive_bayes.py:452: RuntimeWarning: divide by zero encountered in log\n",
      "  n_ij = - 0.5 * np.sum(np.log(2. * np.pi * self.sigma_[i, :]))\n",
      "/Users/maahirmawla/opt/anaconda3/lib/python3.9/site-packages/sklearn/naive_bayes.py:453: RuntimeWarning: invalid value encountered in true_divide\n",
      "  n_ij -= 0.5 * np.sum(((X - self.theta_[i, :]) ** 2) /\n"
     ]
    },
    {
     "name": "stdout",
     "output_type": "stream",
     "text": [
      "[0]\n",
      "83 Dasilva\n",
      "[1]\n",
      "84 Ajer\n"
     ]
    },
    {
     "name": "stderr",
     "output_type": "stream",
     "text": [
      "/Users/maahirmawla/opt/anaconda3/lib/python3.9/site-packages/sklearn/naive_bayes.py:452: RuntimeWarning: divide by zero encountered in log\n",
      "  n_ij = - 0.5 * np.sum(np.log(2. * np.pi * self.sigma_[i, :]))\n",
      "/Users/maahirmawla/opt/anaconda3/lib/python3.9/site-packages/sklearn/naive_bayes.py:453: RuntimeWarning: invalid value encountered in true_divide\n",
      "  n_ij -= 0.5 * np.sum(((X - self.theta_[i, :]) ** 2) /\n",
      "/Users/maahirmawla/opt/anaconda3/lib/python3.9/site-packages/sklearn/naive_bayes.py:452: RuntimeWarning: divide by zero encountered in log\n",
      "  n_ij = - 0.5 * np.sum(np.log(2. * np.pi * self.sigma_[i, :]))\n",
      "/Users/maahirmawla/opt/anaconda3/lib/python3.9/site-packages/sklearn/naive_bayes.py:453: RuntimeWarning: invalid value encountered in true_divide\n",
      "  n_ij -= 0.5 * np.sum(((X - self.theta_[i, :]) ** 2) /\n"
     ]
    },
    {
     "name": "stdout",
     "output_type": "stream",
     "text": [
      "[0]\n",
      "85 Henry\n",
      "[1]\n",
      "86 Janelt\n",
      "[1]\n",
      "87 Ghoddos\n"
     ]
    },
    {
     "name": "stderr",
     "output_type": "stream",
     "text": [
      "/Users/maahirmawla/opt/anaconda3/lib/python3.9/site-packages/sklearn/naive_bayes.py:452: RuntimeWarning: divide by zero encountered in log\n",
      "  n_ij = - 0.5 * np.sum(np.log(2. * np.pi * self.sigma_[i, :]))\n",
      "/Users/maahirmawla/opt/anaconda3/lib/python3.9/site-packages/sklearn/naive_bayes.py:453: RuntimeWarning: invalid value encountered in true_divide\n",
      "  n_ij -= 0.5 * np.sum(((X - self.theta_[i, :]) ** 2) /\n",
      "/Users/maahirmawla/opt/anaconda3/lib/python3.9/site-packages/sklearn/naive_bayes.py:452: RuntimeWarning: divide by zero encountered in log\n",
      "  n_ij = - 0.5 * np.sum(np.log(2. * np.pi * self.sigma_[i, :]))\n",
      "/Users/maahirmawla/opt/anaconda3/lib/python3.9/site-packages/sklearn/naive_bayes.py:453: RuntimeWarning: invalid value encountered in true_divide\n",
      "  n_ij -= 0.5 * np.sum(((X - self.theta_[i, :]) ** 2) /\n"
     ]
    },
    {
     "name": "stdout",
     "output_type": "stream",
     "text": [
      "[0]\n",
      "88 Jensen\n",
      "[2]\n",
      "89 Wissa\n",
      "[1]\n",
      "90 Roerslev\n",
      "[0]\n",
      "91 Bech\n"
     ]
    },
    {
     "name": "stderr",
     "output_type": "stream",
     "text": [
      "/Users/maahirmawla/opt/anaconda3/lib/python3.9/site-packages/sklearn/naive_bayes.py:452: RuntimeWarning: divide by zero encountered in log\n",
      "  n_ij = - 0.5 * np.sum(np.log(2. * np.pi * self.sigma_[i, :]))\n",
      "/Users/maahirmawla/opt/anaconda3/lib/python3.9/site-packages/sklearn/naive_bayes.py:453: RuntimeWarning: invalid value encountered in true_divide\n",
      "  n_ij -= 0.5 * np.sum(((X - self.theta_[i, :]) ** 2) /\n",
      "/Users/maahirmawla/opt/anaconda3/lib/python3.9/site-packages/sklearn/naive_bayes.py:452: RuntimeWarning: divide by zero encountered in log\n",
      "  n_ij = - 0.5 * np.sum(np.log(2. * np.pi * self.sigma_[i, :]))\n",
      "/Users/maahirmawla/opt/anaconda3/lib/python3.9/site-packages/sklearn/naive_bayes.py:453: RuntimeWarning: invalid value encountered in true_divide\n",
      "  n_ij -= 0.5 * np.sum(((X - self.theta_[i, :]) ** 2) /\n",
      "/Users/maahirmawla/opt/anaconda3/lib/python3.9/site-packages/sklearn/naive_bayes.py:452: RuntimeWarning: divide by zero encountered in log\n",
      "  n_ij = - 0.5 * np.sum(np.log(2. * np.pi * self.sigma_[i, :]))\n",
      "/Users/maahirmawla/opt/anaconda3/lib/python3.9/site-packages/sklearn/naive_bayes.py:453: RuntimeWarning: invalid value encountered in true_divide\n",
      "  n_ij -= 0.5 * np.sum(((X - self.theta_[i, :]) ** 2) /\n",
      "/Users/maahirmawla/opt/anaconda3/lib/python3.9/site-packages/sklearn/naive_bayes.py:452: RuntimeWarning: divide by zero encountered in log\n",
      "  n_ij = - 0.5 * np.sum(np.log(2. * np.pi * self.sigma_[i, :]))\n",
      "/Users/maahirmawla/opt/anaconda3/lib/python3.9/site-packages/sklearn/naive_bayes.py:453: RuntimeWarning: invalid value encountered in true_divide\n",
      "  n_ij -= 0.5 * np.sum(((X - self.theta_[i, :]) ** 2) /\n"
     ]
    },
    {
     "name": "stdout",
     "output_type": "stream",
     "text": [
      "[0]\n",
      "92 Pinnock\n",
      "[0]\n"
     ]
    },
    {
     "name": "stderr",
     "output_type": "stream",
     "text": [
      "/Users/maahirmawla/opt/anaconda3/lib/python3.9/site-packages/sklearn/naive_bayes.py:452: RuntimeWarning: divide by zero encountered in log\n",
      "  n_ij = - 0.5 * np.sum(np.log(2. * np.pi * self.sigma_[i, :]))\n",
      "/Users/maahirmawla/opt/anaconda3/lib/python3.9/site-packages/sklearn/naive_bayes.py:453: RuntimeWarning: invalid value encountered in true_divide\n",
      "  n_ij -= 0.5 * np.sum(((X - self.theta_[i, :]) ** 2) /\n",
      "/Users/maahirmawla/opt/anaconda3/lib/python3.9/site-packages/sklearn/naive_bayes.py:452: RuntimeWarning: divide by zero encountered in log\n",
      "  n_ij = - 0.5 * np.sum(np.log(2. * np.pi * self.sigma_[i, :]))\n",
      "/Users/maahirmawla/opt/anaconda3/lib/python3.9/site-packages/sklearn/naive_bayes.py:453: RuntimeWarning: invalid value encountered in true_divide\n",
      "  n_ij -= 0.5 * np.sum(((X - self.theta_[i, :]) ** 2) /\n"
     ]
    },
    {
     "name": "stdout",
     "output_type": "stream",
     "text": [
      "93 Onyeka\n",
      "[0]\n",
      "94 Baptiste\n"
     ]
    },
    {
     "name": "stderr",
     "output_type": "stream",
     "text": [
      "/Users/maahirmawla/opt/anaconda3/lib/python3.9/site-packages/sklearn/naive_bayes.py:452: RuntimeWarning: divide by zero encountered in log\n",
      "  n_ij = - 0.5 * np.sum(np.log(2. * np.pi * self.sigma_[i, :]))\n",
      "/Users/maahirmawla/opt/anaconda3/lib/python3.9/site-packages/sklearn/naive_bayes.py:453: RuntimeWarning: invalid value encountered in true_divide\n",
      "  n_ij -= 0.5 * np.sum(((X - self.theta_[i, :]) ** 2) /\n",
      "/Users/maahirmawla/opt/anaconda3/lib/python3.9/site-packages/sklearn/naive_bayes.py:452: RuntimeWarning: divide by zero encountered in log\n",
      "  n_ij = - 0.5 * np.sum(np.log(2. * np.pi * self.sigma_[i, :]))\n",
      "/Users/maahirmawla/opt/anaconda3/lib/python3.9/site-packages/sklearn/naive_bayes.py:453: RuntimeWarning: invalid value encountered in true_divide\n",
      "  n_ij -= 0.5 * np.sum(((X - self.theta_[i, :]) ** 2) /\n"
     ]
    },
    {
     "name": "stdout",
     "output_type": "stream",
     "text": [
      "[1]\n",
      "95 Mbeumo\n",
      "[2]\n",
      "96 Goode\n",
      "[0]\n",
      "97 Forss\n"
     ]
    },
    {
     "name": "stderr",
     "output_type": "stream",
     "text": [
      "/Users/maahirmawla/opt/anaconda3/lib/python3.9/site-packages/sklearn/naive_bayes.py:452: RuntimeWarning: divide by zero encountered in log\n",
      "  n_ij = - 0.5 * np.sum(np.log(2. * np.pi * self.sigma_[i, :]))\n",
      "/Users/maahirmawla/opt/anaconda3/lib/python3.9/site-packages/sklearn/naive_bayes.py:453: RuntimeWarning: invalid value encountered in true_divide\n",
      "  n_ij -= 0.5 * np.sum(((X - self.theta_[i, :]) ** 2) /\n",
      "/Users/maahirmawla/opt/anaconda3/lib/python3.9/site-packages/sklearn/naive_bayes.py:452: RuntimeWarning: divide by zero encountered in log\n",
      "  n_ij = - 0.5 * np.sum(np.log(2. * np.pi * self.sigma_[i, :]))\n",
      "/Users/maahirmawla/opt/anaconda3/lib/python3.9/site-packages/sklearn/naive_bayes.py:453: RuntimeWarning: invalid value encountered in true_divide\n",
      "  n_ij -= 0.5 * np.sum(((X - self.theta_[i, :]) ** 2) /\n",
      "/Users/maahirmawla/opt/anaconda3/lib/python3.9/site-packages/sklearn/naive_bayes.py:452: RuntimeWarning: divide by zero encountered in log\n",
      "  n_ij = - 0.5 * np.sum(np.log(2. * np.pi * self.sigma_[i, :]))\n",
      "/Users/maahirmawla/opt/anaconda3/lib/python3.9/site-packages/sklearn/naive_bayes.py:453: RuntimeWarning: invalid value encountered in true_divide\n",
      "  n_ij -= 0.5 * np.sum(((X - self.theta_[i, :]) ** 2) /\n",
      "/Users/maahirmawla/opt/anaconda3/lib/python3.9/site-packages/sklearn/naive_bayes.py:452: RuntimeWarning: divide by zero encountered in log\n",
      "  n_ij = - 0.5 * np.sum(np.log(2. * np.pi * self.sigma_[i, :]))\n",
      "/Users/maahirmawla/opt/anaconda3/lib/python3.9/site-packages/sklearn/naive_bayes.py:453: RuntimeWarning: invalid value encountered in true_divide\n",
      "  n_ij -= 0.5 * np.sum(((X - self.theta_[i, :]) ** 2) /\n",
      "/Users/maahirmawla/opt/anaconda3/lib/python3.9/site-packages/sklearn/naive_bayes.py:452: RuntimeWarning: divide by zero encountered in log\n",
      "  n_ij = - 0.5 * np.sum(np.log(2. * np.pi * self.sigma_[i, :]))\n",
      "/Users/maahirmawla/opt/anaconda3/lib/python3.9/site-packages/sklearn/naive_bayes.py:453: RuntimeWarning: invalid value encountered in true_divide\n",
      "  n_ij -= 0.5 * np.sum(((X - self.theta_[i, :]) ** 2) /\n",
      "/Users/maahirmawla/opt/anaconda3/lib/python3.9/site-packages/sklearn/naive_bayes.py:452: RuntimeWarning: divide by zero encountered in log\n",
      "  n_ij = - 0.5 * np.sum(np.log(2. * np.pi * self.sigma_[i, :]))\n",
      "/Users/maahirmawla/opt/anaconda3/lib/python3.9/site-packages/sklearn/naive_bayes.py:453: RuntimeWarning: invalid value encountered in true_divide\n",
      "  n_ij -= 0.5 * np.sum(((X - self.theta_[i, :]) ** 2) /\n"
     ]
    },
    {
     "name": "stdout",
     "output_type": "stream",
     "text": [
      "[0]\n",
      "98 Thompson\n",
      "[0]\n",
      "99 Bidstrup\n"
     ]
    },
    {
     "name": "stderr",
     "output_type": "stream",
     "text": [
      "/Users/maahirmawla/opt/anaconda3/lib/python3.9/site-packages/sklearn/naive_bayes.py:452: RuntimeWarning: divide by zero encountered in log\n",
      "  n_ij = - 0.5 * np.sum(np.log(2. * np.pi * self.sigma_[i, :]))\n",
      "/Users/maahirmawla/opt/anaconda3/lib/python3.9/site-packages/sklearn/naive_bayes.py:453: RuntimeWarning: invalid value encountered in true_divide\n",
      "  n_ij -= 0.5 * np.sum(((X - self.theta_[i, :]) ** 2) /\n",
      "/Users/maahirmawla/opt/anaconda3/lib/python3.9/site-packages/sklearn/naive_bayes.py:452: RuntimeWarning: divide by zero encountered in log\n",
      "  n_ij = - 0.5 * np.sum(np.log(2. * np.pi * self.sigma_[i, :]))\n",
      "/Users/maahirmawla/opt/anaconda3/lib/python3.9/site-packages/sklearn/naive_bayes.py:453: RuntimeWarning: invalid value encountered in true_divide\n",
      "  n_ij -= 0.5 * np.sum(((X - self.theta_[i, :]) ** 2) /\n"
     ]
    },
    {
     "name": "stdout",
     "output_type": "stream",
     "text": [
      "[0]\n",
      "100 Balcombe\n"
     ]
    },
    {
     "name": "stderr",
     "output_type": "stream",
     "text": [
      "/Users/maahirmawla/opt/anaconda3/lib/python3.9/site-packages/sklearn/naive_bayes.py:452: RuntimeWarning: divide by zero encountered in log\n",
      "  n_ij = - 0.5 * np.sum(np.log(2. * np.pi * self.sigma_[i, :]))\n",
      "/Users/maahirmawla/opt/anaconda3/lib/python3.9/site-packages/sklearn/naive_bayes.py:453: RuntimeWarning: invalid value encountered in true_divide\n",
      "  n_ij -= 0.5 * np.sum(((X - self.theta_[i, :]) ** 2) /\n",
      "/Users/maahirmawla/opt/anaconda3/lib/python3.9/site-packages/sklearn/naive_bayes.py:452: RuntimeWarning: divide by zero encountered in log\n",
      "  n_ij = - 0.5 * np.sum(np.log(2. * np.pi * self.sigma_[i, :]))\n",
      "/Users/maahirmawla/opt/anaconda3/lib/python3.9/site-packages/sklearn/naive_bayes.py:453: RuntimeWarning: invalid value encountered in true_divide\n",
      "  n_ij -= 0.5 * np.sum(((X - self.theta_[i, :]) ** 2) /\n"
     ]
    },
    {
     "name": "stdout",
     "output_type": "stream",
     "text": [
      "[0]\n",
      "510 Hickey\n",
      "[1]\n",
      "515 Lewis-Potter\n"
     ]
    },
    {
     "name": "stderr",
     "output_type": "stream",
     "text": [
      "/Users/maahirmawla/opt/anaconda3/lib/python3.9/site-packages/sklearn/naive_bayes.py:452: RuntimeWarning: divide by zero encountered in log\n",
      "  n_ij = - 0.5 * np.sum(np.log(2. * np.pi * self.sigma_[i, :]))\n",
      "/Users/maahirmawla/opt/anaconda3/lib/python3.9/site-packages/sklearn/naive_bayes.py:453: RuntimeWarning: invalid value encountered in true_divide\n",
      "  n_ij -= 0.5 * np.sum(((X - self.theta_[i, :]) ** 2) /\n",
      "/Users/maahirmawla/opt/anaconda3/lib/python3.9/site-packages/sklearn/naive_bayes.py:452: RuntimeWarning: divide by zero encountered in log\n",
      "  n_ij = - 0.5 * np.sum(np.log(2. * np.pi * self.sigma_[i, :]))\n",
      "/Users/maahirmawla/opt/anaconda3/lib/python3.9/site-packages/sklearn/naive_bayes.py:453: RuntimeWarning: invalid value encountered in true_divide\n",
      "  n_ij -= 0.5 * np.sum(((X - self.theta_[i, :]) ** 2) /\n",
      "/Users/maahirmawla/opt/anaconda3/lib/python3.9/site-packages/sklearn/naive_bayes.py:452: RuntimeWarning: divide by zero encountered in log\n",
      "  n_ij = - 0.5 * np.sum(np.log(2. * np.pi * self.sigma_[i, :]))\n",
      "/Users/maahirmawla/opt/anaconda3/lib/python3.9/site-packages/sklearn/naive_bayes.py:453: RuntimeWarning: invalid value encountered in true_divide\n",
      "  n_ij -= 0.5 * np.sum(((X - self.theta_[i, :]) ** 2) /\n",
      "/Users/maahirmawla/opt/anaconda3/lib/python3.9/site-packages/sklearn/naive_bayes.py:452: RuntimeWarning: divide by zero encountered in log\n",
      "  n_ij = - 0.5 * np.sum(np.log(2. * np.pi * self.sigma_[i, :]))\n",
      "/Users/maahirmawla/opt/anaconda3/lib/python3.9/site-packages/sklearn/naive_bayes.py:453: RuntimeWarning: invalid value encountered in true_divide\n",
      "  n_ij -= 0.5 * np.sum(((X - self.theta_[i, :]) ** 2) /\n"
     ]
    },
    {
     "name": "stdout",
     "output_type": "stream",
     "text": [
      "[0]\n",
      "517 Strakosha\n",
      "[0]\n",
      "526 Mee\n",
      "[0]\n",
      "540 Stevens\n"
     ]
    },
    {
     "name": "stderr",
     "output_type": "stream",
     "text": [
      "/Users/maahirmawla/opt/anaconda3/lib/python3.9/site-packages/sklearn/naive_bayes.py:452: RuntimeWarning: divide by zero encountered in log\n",
      "  n_ij = - 0.5 * np.sum(np.log(2. * np.pi * self.sigma_[i, :]))\n",
      "/Users/maahirmawla/opt/anaconda3/lib/python3.9/site-packages/sklearn/naive_bayes.py:453: RuntimeWarning: invalid value encountered in true_divide\n",
      "  n_ij -= 0.5 * np.sum(((X - self.theta_[i, :]) ** 2) /\n",
      "/Users/maahirmawla/opt/anaconda3/lib/python3.9/site-packages/sklearn/naive_bayes.py:452: RuntimeWarning: divide by zero encountered in log\n",
      "  n_ij = - 0.5 * np.sum(np.log(2. * np.pi * self.sigma_[i, :]))\n",
      "/Users/maahirmawla/opt/anaconda3/lib/python3.9/site-packages/sklearn/naive_bayes.py:453: RuntimeWarning: invalid value encountered in true_divide\n",
      "  n_ij -= 0.5 * np.sum(((X - self.theta_[i, :]) ** 2) /\n"
     ]
    },
    {
     "name": "stdout",
     "output_type": "stream",
     "text": [
      "[0]\n",
      "541 Dervişoğlu\n"
     ]
    },
    {
     "name": "stderr",
     "output_type": "stream",
     "text": [
      "/Users/maahirmawla/opt/anaconda3/lib/python3.9/site-packages/sklearn/naive_bayes.py:452: RuntimeWarning: divide by zero encountered in log\n",
      "  n_ij = - 0.5 * np.sum(np.log(2. * np.pi * self.sigma_[i, :]))\n",
      "/Users/maahirmawla/opt/anaconda3/lib/python3.9/site-packages/sklearn/naive_bayes.py:453: RuntimeWarning: invalid value encountered in true_divide\n",
      "  n_ij -= 0.5 * np.sum(((X - self.theta_[i, :]) ** 2) /\n",
      "/Users/maahirmawla/opt/anaconda3/lib/python3.9/site-packages/sklearn/naive_bayes.py:452: RuntimeWarning: divide by zero encountered in log\n",
      "  n_ij = - 0.5 * np.sum(np.log(2. * np.pi * self.sigma_[i, :]))\n",
      "/Users/maahirmawla/opt/anaconda3/lib/python3.9/site-packages/sklearn/naive_bayes.py:453: RuntimeWarning: invalid value encountered in true_divide\n",
      "  n_ij -= 0.5 * np.sum(((X - self.theta_[i, :]) ** 2) /\n"
     ]
    },
    {
     "name": "stdout",
     "output_type": "stream",
     "text": [
      "[0]\n",
      "580 Damsgaard\n"
     ]
    },
    {
     "name": "stderr",
     "output_type": "stream",
     "text": [
      "/Users/maahirmawla/opt/anaconda3/lib/python3.9/site-packages/sklearn/naive_bayes.py:452: RuntimeWarning: divide by zero encountered in log\n",
      "  n_ij = - 0.5 * np.sum(np.log(2. * np.pi * self.sigma_[i, :]))\n",
      "/Users/maahirmawla/opt/anaconda3/lib/python3.9/site-packages/sklearn/naive_bayes.py:453: RuntimeWarning: invalid value encountered in true_divide\n",
      "  n_ij -= 0.5 * np.sum(((X - self.theta_[i, :]) ** 2) /\n",
      "/Users/maahirmawla/opt/anaconda3/lib/python3.9/site-packages/sklearn/naive_bayes.py:452: RuntimeWarning: divide by zero encountered in log\n",
      "  n_ij = - 0.5 * np.sum(np.log(2. * np.pi * self.sigma_[i, :]))\n",
      "/Users/maahirmawla/opt/anaconda3/lib/python3.9/site-packages/sklearn/naive_bayes.py:453: RuntimeWarning: invalid value encountered in true_divide\n",
      "  n_ij -= 0.5 * np.sum(((X - self.theta_[i, :]) ** 2) /\n",
      "/Users/maahirmawla/opt/anaconda3/lib/python3.9/site-packages/sklearn/naive_bayes.py:452: RuntimeWarning: divide by zero encountered in log\n",
      "  n_ij = - 0.5 * np.sum(np.log(2. * np.pi * self.sigma_[i, :]))\n",
      "/Users/maahirmawla/opt/anaconda3/lib/python3.9/site-packages/sklearn/naive_bayes.py:453: RuntimeWarning: invalid value encountered in true_divide\n",
      "  n_ij -= 0.5 * np.sum(((X - self.theta_[i, :]) ** 2) /\n",
      "/Users/maahirmawla/opt/anaconda3/lib/python3.9/site-packages/sklearn/naive_bayes.py:452: RuntimeWarning: divide by zero encountered in log\n",
      "  n_ij = - 0.5 * np.sum(np.log(2. * np.pi * self.sigma_[i, :]))\n",
      "/Users/maahirmawla/opt/anaconda3/lib/python3.9/site-packages/sklearn/naive_bayes.py:453: RuntimeWarning: invalid value encountered in true_divide\n",
      "  n_ij -= 0.5 * np.sum(((X - self.theta_[i, :]) ** 2) /\n"
     ]
    },
    {
     "name": "stdout",
     "output_type": "stream",
     "text": [
      "[0]\n",
      "595 Zanka\n",
      "[1]\n",
      "101 Lallana\n",
      "[0]\n",
      "102 Steele\n"
     ]
    },
    {
     "name": "stderr",
     "output_type": "stream",
     "text": [
      "/Users/maahirmawla/opt/anaconda3/lib/python3.9/site-packages/sklearn/naive_bayes.py:452: RuntimeWarning: divide by zero encountered in log\n",
      "  n_ij = - 0.5 * np.sum(np.log(2. * np.pi * self.sigma_[i, :]))\n",
      "/Users/maahirmawla/opt/anaconda3/lib/python3.9/site-packages/sklearn/naive_bayes.py:453: RuntimeWarning: invalid value encountered in true_divide\n",
      "  n_ij -= 0.5 * np.sum(((X - self.theta_[i, :]) ** 2) /\n",
      "/Users/maahirmawla/opt/anaconda3/lib/python3.9/site-packages/sklearn/naive_bayes.py:452: RuntimeWarning: divide by zero encountered in log\n",
      "  n_ij = - 0.5 * np.sum(np.log(2. * np.pi * self.sigma_[i, :]))\n",
      "/Users/maahirmawla/opt/anaconda3/lib/python3.9/site-packages/sklearn/naive_bayes.py:453: RuntimeWarning: invalid value encountered in true_divide\n",
      "  n_ij -= 0.5 * np.sum(((X - self.theta_[i, :]) ** 2) /\n"
     ]
    },
    {
     "name": "stdout",
     "output_type": "stream",
     "text": [
      "[0]\n",
      "103 Welbeck\n",
      "[5]\n",
      "104 Groß\n",
      "[2]\n",
      "106 Dunk\n",
      "[7]\n",
      "107 March\n",
      "[2]\n",
      "108 Webster\n",
      "[1]\n",
      "109 Veltman\n",
      "[1]\n",
      "111 Trossard\n",
      "[1]\n",
      "113 Sánchez\n",
      "[1]\n",
      "114 Lamptey\n"
     ]
    },
    {
     "name": "stderr",
     "output_type": "stream",
     "text": [
      "/Users/maahirmawla/opt/anaconda3/lib/python3.9/site-packages/sklearn/naive_bayes.py:452: RuntimeWarning: divide by zero encountered in log\n",
      "  n_ij = - 0.5 * np.sum(np.log(2. * np.pi * self.sigma_[i, :]))\n",
      "/Users/maahirmawla/opt/anaconda3/lib/python3.9/site-packages/sklearn/naive_bayes.py:453: RuntimeWarning: invalid value encountered in true_divide\n",
      "  n_ij -= 0.5 * np.sum(((X - self.theta_[i, :]) ** 2) /\n",
      "/Users/maahirmawla/opt/anaconda3/lib/python3.9/site-packages/sklearn/naive_bayes.py:452: RuntimeWarning: divide by zero encountered in log\n",
      "  n_ij = - 0.5 * np.sum(np.log(2. * np.pi * self.sigma_[i, :]))\n",
      "/Users/maahirmawla/opt/anaconda3/lib/python3.9/site-packages/sklearn/naive_bayes.py:453: RuntimeWarning: invalid value encountered in true_divide\n",
      "  n_ij -= 0.5 * np.sum(((X - self.theta_[i, :]) ** 2) /\n"
     ]
    },
    {
     "name": "stdout",
     "output_type": "stream",
     "text": [
      "[0]\n",
      "115 Alzate\n"
     ]
    },
    {
     "name": "stderr",
     "output_type": "stream",
     "text": [
      "/Users/maahirmawla/opt/anaconda3/lib/python3.9/site-packages/sklearn/naive_bayes.py:452: RuntimeWarning: divide by zero encountered in log\n",
      "  n_ij = - 0.5 * np.sum(np.log(2. * np.pi * self.sigma_[i, :]))\n",
      "/Users/maahirmawla/opt/anaconda3/lib/python3.9/site-packages/sklearn/naive_bayes.py:453: RuntimeWarning: invalid value encountered in true_divide\n",
      "  n_ij -= 0.5 * np.sum(((X - self.theta_[i, :]) ** 2) /\n",
      "/Users/maahirmawla/opt/anaconda3/lib/python3.9/site-packages/sklearn/naive_bayes.py:452: RuntimeWarning: divide by zero encountered in log\n",
      "  n_ij = - 0.5 * np.sum(np.log(2. * np.pi * self.sigma_[i, :]))\n",
      "/Users/maahirmawla/opt/anaconda3/lib/python3.9/site-packages/sklearn/naive_bayes.py:453: RuntimeWarning: invalid value encountered in true_divide\n",
      "  n_ij -= 0.5 * np.sum(((X - self.theta_[i, :]) ** 2) /\n"
     ]
    },
    {
     "name": "stdout",
     "output_type": "stream",
     "text": [
      "[0]\n",
      "116 Mac Allister\n",
      "[10]\n",
      "117 Moder\n"
     ]
    },
    {
     "name": "stderr",
     "output_type": "stream",
     "text": [
      "/Users/maahirmawla/opt/anaconda3/lib/python3.9/site-packages/sklearn/naive_bayes.py:452: RuntimeWarning: divide by zero encountered in log\n",
      "  n_ij = - 0.5 * np.sum(np.log(2. * np.pi * self.sigma_[i, :]))\n",
      "/Users/maahirmawla/opt/anaconda3/lib/python3.9/site-packages/sklearn/naive_bayes.py:453: RuntimeWarning: invalid value encountered in true_divide\n",
      "  n_ij -= 0.5 * np.sum(((X - self.theta_[i, :]) ** 2) /\n",
      "/Users/maahirmawla/opt/anaconda3/lib/python3.9/site-packages/sklearn/naive_bayes.py:452: RuntimeWarning: divide by zero encountered in log\n",
      "  n_ij = - 0.5 * np.sum(np.log(2. * np.pi * self.sigma_[i, :]))\n",
      "/Users/maahirmawla/opt/anaconda3/lib/python3.9/site-packages/sklearn/naive_bayes.py:453: RuntimeWarning: invalid value encountered in true_divide\n",
      "  n_ij -= 0.5 * np.sum(((X - self.theta_[i, :]) ** 2) /\n"
     ]
    },
    {
     "name": "stdout",
     "output_type": "stream",
     "text": [
      "[0]\n",
      "118 Mwepu\n"
     ]
    },
    {
     "name": "stderr",
     "output_type": "stream",
     "text": [
      "/Users/maahirmawla/opt/anaconda3/lib/python3.9/site-packages/sklearn/naive_bayes.py:452: RuntimeWarning: divide by zero encountered in log\n",
      "  n_ij = - 0.5 * np.sum(np.log(2. * np.pi * self.sigma_[i, :]))\n",
      "/Users/maahirmawla/opt/anaconda3/lib/python3.9/site-packages/sklearn/naive_bayes.py:453: RuntimeWarning: invalid value encountered in true_divide\n",
      "  n_ij -= 0.5 * np.sum(((X - self.theta_[i, :]) ** 2) /\n",
      "/Users/maahirmawla/opt/anaconda3/lib/python3.9/site-packages/sklearn/naive_bayes.py:452: RuntimeWarning: divide by zero encountered in log\n",
      "  n_ij = - 0.5 * np.sum(np.log(2. * np.pi * self.sigma_[i, :]))\n",
      "/Users/maahirmawla/opt/anaconda3/lib/python3.9/site-packages/sklearn/naive_bayes.py:453: RuntimeWarning: invalid value encountered in true_divide\n",
      "  n_ij -= 0.5 * np.sum(((X - self.theta_[i, :]) ** 2) /\n"
     ]
    },
    {
     "name": "stdout",
     "output_type": "stream",
     "text": [
      "[1]\n",
      "119 Sarmiento\n"
     ]
    },
    {
     "name": "stderr",
     "output_type": "stream",
     "text": [
      "/Users/maahirmawla/opt/anaconda3/lib/python3.9/site-packages/sklearn/naive_bayes.py:452: RuntimeWarning: divide by zero encountered in log\n",
      "  n_ij = - 0.5 * np.sum(np.log(2. * np.pi * self.sigma_[i, :]))\n",
      "/Users/maahirmawla/opt/anaconda3/lib/python3.9/site-packages/sklearn/naive_bayes.py:453: RuntimeWarning: invalid value encountered in true_divide\n",
      "  n_ij -= 0.5 * np.sum(((X - self.theta_[i, :]) ** 2) /\n",
      "/Users/maahirmawla/opt/anaconda3/lib/python3.9/site-packages/sklearn/naive_bayes.py:452: RuntimeWarning: divide by zero encountered in log\n",
      "  n_ij = - 0.5 * np.sum(np.log(2. * np.pi * self.sigma_[i, :]))\n",
      "/Users/maahirmawla/opt/anaconda3/lib/python3.9/site-packages/sklearn/naive_bayes.py:453: RuntimeWarning: invalid value encountered in true_divide\n",
      "  n_ij -= 0.5 * np.sum(((X - self.theta_[i, :]) ** 2) /\n"
     ]
    },
    {
     "name": "stdout",
     "output_type": "stream",
     "text": [
      "[0]\n",
      "120 Caicedo\n",
      "[3]\n",
      "121 Richards\n"
     ]
    },
    {
     "name": "stderr",
     "output_type": "stream",
     "text": [
      "/Users/maahirmawla/opt/anaconda3/lib/python3.9/site-packages/sklearn/naive_bayes.py:452: RuntimeWarning: divide by zero encountered in log\n",
      "  n_ij = - 0.5 * np.sum(np.log(2. * np.pi * self.sigma_[i, :]))\n",
      "/Users/maahirmawla/opt/anaconda3/lib/python3.9/site-packages/sklearn/naive_bayes.py:453: RuntimeWarning: invalid value encountered in true_divide\n",
      "  n_ij -= 0.5 * np.sum(((X - self.theta_[i, :]) ** 2) /\n",
      "/Users/maahirmawla/opt/anaconda3/lib/python3.9/site-packages/sklearn/naive_bayes.py:452: RuntimeWarning: divide by zero encountered in log\n",
      "  n_ij = - 0.5 * np.sum(np.log(2. * np.pi * self.sigma_[i, :]))\n",
      "/Users/maahirmawla/opt/anaconda3/lib/python3.9/site-packages/sklearn/naive_bayes.py:453: RuntimeWarning: invalid value encountered in true_divide\n",
      "  n_ij -= 0.5 * np.sum(((X - self.theta_[i, :]) ** 2) /\n"
     ]
    },
    {
     "name": "stdout",
     "output_type": "stream",
     "text": [
      "[0]\n",
      "122 Roberts\n"
     ]
    },
    {
     "name": "stderr",
     "output_type": "stream",
     "text": [
      "/Users/maahirmawla/opt/anaconda3/lib/python3.9/site-packages/sklearn/naive_bayes.py:452: RuntimeWarning: divide by zero encountered in log\n",
      "  n_ij = - 0.5 * np.sum(np.log(2. * np.pi * self.sigma_[i, :]))\n",
      "/Users/maahirmawla/opt/anaconda3/lib/python3.9/site-packages/sklearn/naive_bayes.py:453: RuntimeWarning: invalid value encountered in true_divide\n",
      "  n_ij -= 0.5 * np.sum(((X - self.theta_[i, :]) ** 2) /\n",
      "/Users/maahirmawla/opt/anaconda3/lib/python3.9/site-packages/sklearn/naive_bayes.py:452: RuntimeWarning: divide by zero encountered in log\n",
      "  n_ij = - 0.5 * np.sum(np.log(2. * np.pi * self.sigma_[i, :]))\n",
      "/Users/maahirmawla/opt/anaconda3/lib/python3.9/site-packages/sklearn/naive_bayes.py:453: RuntimeWarning: invalid value encountered in true_divide\n",
      "  n_ij -= 0.5 * np.sum(((X - self.theta_[i, :]) ** 2) /\n"
     ]
    },
    {
     "name": "stdout",
     "output_type": "stream",
     "text": [
      "[0]\n",
      "123 Undav\n"
     ]
    },
    {
     "name": "stderr",
     "output_type": "stream",
     "text": [
      "/Users/maahirmawla/opt/anaconda3/lib/python3.9/site-packages/sklearn/naive_bayes.py:452: RuntimeWarning: divide by zero encountered in log\n",
      "  n_ij = - 0.5 * np.sum(np.log(2. * np.pi * self.sigma_[i, :]))\n",
      "/Users/maahirmawla/opt/anaconda3/lib/python3.9/site-packages/sklearn/naive_bayes.py:453: RuntimeWarning: invalid value encountered in true_divide\n",
      "  n_ij -= 0.5 * np.sum(((X - self.theta_[i, :]) ** 2) /\n",
      "/Users/maahirmawla/opt/anaconda3/lib/python3.9/site-packages/sklearn/naive_bayes.py:452: RuntimeWarning: divide by zero encountered in log\n",
      "  n_ij = - 0.5 * np.sum(np.log(2. * np.pi * self.sigma_[i, :]))\n",
      "/Users/maahirmawla/opt/anaconda3/lib/python3.9/site-packages/sklearn/naive_bayes.py:453: RuntimeWarning: invalid value encountered in true_divide\n",
      "  n_ij -= 0.5 * np.sum(((X - self.theta_[i, :]) ** 2) /\n",
      "/Users/maahirmawla/opt/anaconda3/lib/python3.9/site-packages/sklearn/naive_bayes.py:452: RuntimeWarning: divide by zero encountered in log\n",
      "  n_ij = - 0.5 * np.sum(np.log(2. * np.pi * self.sigma_[i, :]))\n",
      "/Users/maahirmawla/opt/anaconda3/lib/python3.9/site-packages/sklearn/naive_bayes.py:453: RuntimeWarning: invalid value encountered in true_divide\n",
      "  n_ij -= 0.5 * np.sum(((X - self.theta_[i, :]) ** 2) /\n",
      "/Users/maahirmawla/opt/anaconda3/lib/python3.9/site-packages/sklearn/naive_bayes.py:452: RuntimeWarning: divide by zero encountered in log\n",
      "  n_ij = - 0.5 * np.sum(np.log(2. * np.pi * self.sigma_[i, :]))\n",
      "/Users/maahirmawla/opt/anaconda3/lib/python3.9/site-packages/sklearn/naive_bayes.py:453: RuntimeWarning: invalid value encountered in true_divide\n",
      "  n_ij -= 0.5 * np.sum(((X - self.theta_[i, :]) ** 2) /\n"
     ]
    },
    {
     "name": "stdout",
     "output_type": "stream",
     "text": [
      "[0]\n",
      "124 Mitoma\n",
      "[0]\n",
      "125 Enciso\n"
     ]
    },
    {
     "name": "stderr",
     "output_type": "stream",
     "text": [
      "/Users/maahirmawla/opt/anaconda3/lib/python3.9/site-packages/sklearn/naive_bayes.py:452: RuntimeWarning: divide by zero encountered in log\n",
      "  n_ij = - 0.5 * np.sum(np.log(2. * np.pi * self.sigma_[i, :]))\n",
      "/Users/maahirmawla/opt/anaconda3/lib/python3.9/site-packages/sklearn/naive_bayes.py:453: RuntimeWarning: invalid value encountered in true_divide\n",
      "  n_ij -= 0.5 * np.sum(((X - self.theta_[i, :]) ** 2) /\n",
      "/Users/maahirmawla/opt/anaconda3/lib/python3.9/site-packages/sklearn/naive_bayes.py:452: RuntimeWarning: divide by zero encountered in log\n",
      "  n_ij = - 0.5 * np.sum(np.log(2. * np.pi * self.sigma_[i, :]))\n",
      "/Users/maahirmawla/opt/anaconda3/lib/python3.9/site-packages/sklearn/naive_bayes.py:453: RuntimeWarning: invalid value encountered in true_divide\n",
      "  n_ij -= 0.5 * np.sum(((X - self.theta_[i, :]) ** 2) /\n"
     ]
    },
    {
     "name": "stdout",
     "output_type": "stream",
     "text": [
      "[0]\n",
      "126 Kozłowski\n"
     ]
    },
    {
     "name": "stderr",
     "output_type": "stream",
     "text": [
      "/Users/maahirmawla/opt/anaconda3/lib/python3.9/site-packages/sklearn/naive_bayes.py:452: RuntimeWarning: divide by zero encountered in log\n",
      "  n_ij = - 0.5 * np.sum(np.log(2. * np.pi * self.sigma_[i, :]))\n",
      "/Users/maahirmawla/opt/anaconda3/lib/python3.9/site-packages/sklearn/naive_bayes.py:453: RuntimeWarning: invalid value encountered in true_divide\n",
      "  n_ij -= 0.5 * np.sum(((X - self.theta_[i, :]) ** 2) /\n",
      "/Users/maahirmawla/opt/anaconda3/lib/python3.9/site-packages/sklearn/naive_bayes.py:452: RuntimeWarning: divide by zero encountered in log\n",
      "  n_ij = - 0.5 * np.sum(np.log(2. * np.pi * self.sigma_[i, :]))\n",
      "/Users/maahirmawla/opt/anaconda3/lib/python3.9/site-packages/sklearn/naive_bayes.py:453: RuntimeWarning: invalid value encountered in true_divide\n",
      "  n_ij -= 0.5 * np.sum(((X - self.theta_[i, :]) ** 2) /\n",
      "/Users/maahirmawla/opt/anaconda3/lib/python3.9/site-packages/sklearn/naive_bayes.py:452: RuntimeWarning: divide by zero encountered in log\n",
      "  n_ij = - 0.5 * np.sum(np.log(2. * np.pi * self.sigma_[i, :]))\n",
      "/Users/maahirmawla/opt/anaconda3/lib/python3.9/site-packages/sklearn/naive_bayes.py:453: RuntimeWarning: invalid value encountered in true_divide\n",
      "  n_ij -= 0.5 * np.sum(((X - self.theta_[i, :]) ** 2) /\n",
      "/Users/maahirmawla/opt/anaconda3/lib/python3.9/site-packages/sklearn/naive_bayes.py:452: RuntimeWarning: divide by zero encountered in log\n",
      "  n_ij = - 0.5 * np.sum(np.log(2. * np.pi * self.sigma_[i, :]))\n",
      "/Users/maahirmawla/opt/anaconda3/lib/python3.9/site-packages/sklearn/naive_bayes.py:453: RuntimeWarning: invalid value encountered in true_divide\n",
      "  n_ij -= 0.5 * np.sum(((X - self.theta_[i, :]) ** 2) /\n"
     ]
    },
    {
     "name": "stdout",
     "output_type": "stream",
     "text": [
      "[0]\n",
      "149 Gilmour\n",
      "[0]\n",
      "542 Scherpen\n"
     ]
    },
    {
     "name": "stderr",
     "output_type": "stream",
     "text": [
      "/Users/maahirmawla/opt/anaconda3/lib/python3.9/site-packages/sklearn/naive_bayes.py:452: RuntimeWarning: divide by zero encountered in log\n",
      "  n_ij = - 0.5 * np.sum(np.log(2. * np.pi * self.sigma_[i, :]))\n",
      "/Users/maahirmawla/opt/anaconda3/lib/python3.9/site-packages/sklearn/naive_bayes.py:453: RuntimeWarning: invalid value encountered in true_divide\n",
      "  n_ij -= 0.5 * np.sum(((X - self.theta_[i, :]) ** 2) /\n",
      "/Users/maahirmawla/opt/anaconda3/lib/python3.9/site-packages/sklearn/naive_bayes.py:452: RuntimeWarning: divide by zero encountered in log\n",
      "  n_ij = - 0.5 * np.sum(np.log(2. * np.pi * self.sigma_[i, :]))\n",
      "/Users/maahirmawla/opt/anaconda3/lib/python3.9/site-packages/sklearn/naive_bayes.py:453: RuntimeWarning: invalid value encountered in true_divide\n",
      "  n_ij -= 0.5 * np.sum(((X - self.theta_[i, :]) ** 2) /\n"
     ]
    },
    {
     "name": "stdout",
     "output_type": "stream",
     "text": [
      "[0]\n",
      "543 Clarke\n"
     ]
    },
    {
     "name": "stderr",
     "output_type": "stream",
     "text": [
      "/Users/maahirmawla/opt/anaconda3/lib/python3.9/site-packages/sklearn/naive_bayes.py:452: RuntimeWarning: divide by zero encountered in log\n",
      "  n_ij = - 0.5 * np.sum(np.log(2. * np.pi * self.sigma_[i, :]))\n",
      "/Users/maahirmawla/opt/anaconda3/lib/python3.9/site-packages/sklearn/naive_bayes.py:453: RuntimeWarning: invalid value encountered in true_divide\n",
      "  n_ij -= 0.5 * np.sum(((X - self.theta_[i, :]) ** 2) /\n",
      "/Users/maahirmawla/opt/anaconda3/lib/python3.9/site-packages/sklearn/naive_bayes.py:452: RuntimeWarning: divide by zero encountered in log\n",
      "  n_ij = - 0.5 * np.sum(np.log(2. * np.pi * self.sigma_[i, :]))\n",
      "/Users/maahirmawla/opt/anaconda3/lib/python3.9/site-packages/sklearn/naive_bayes.py:453: RuntimeWarning: invalid value encountered in true_divide\n",
      "  n_ij -= 0.5 * np.sum(((X - self.theta_[i, :]) ** 2) /\n"
     ]
    },
    {
     "name": "stdout",
     "output_type": "stream",
     "text": [
      "[0]\n",
      "544 Van Hecke\n"
     ]
    },
    {
     "name": "stderr",
     "output_type": "stream",
     "text": [
      "/Users/maahirmawla/opt/anaconda3/lib/python3.9/site-packages/sklearn/naive_bayes.py:452: RuntimeWarning: divide by zero encountered in log\n",
      "  n_ij = - 0.5 * np.sum(np.log(2. * np.pi * self.sigma_[i, :]))\n",
      "/Users/maahirmawla/opt/anaconda3/lib/python3.9/site-packages/sklearn/naive_bayes.py:453: RuntimeWarning: invalid value encountered in true_divide\n",
      "  n_ij -= 0.5 * np.sum(((X - self.theta_[i, :]) ** 2) /\n",
      "/Users/maahirmawla/opt/anaconda3/lib/python3.9/site-packages/sklearn/naive_bayes.py:452: RuntimeWarning: divide by zero encountered in log\n",
      "  n_ij = - 0.5 * np.sum(np.log(2. * np.pi * self.sigma_[i, :]))\n",
      "/Users/maahirmawla/opt/anaconda3/lib/python3.9/site-packages/sklearn/naive_bayes.py:453: RuntimeWarning: invalid value encountered in true_divide\n",
      "  n_ij -= 0.5 * np.sum(((X - self.theta_[i, :]) ** 2) /\n"
     ]
    },
    {
     "name": "stdout",
     "output_type": "stream",
     "text": [
      "[0]\n",
      "559 Colwill\n"
     ]
    },
    {
     "name": "stderr",
     "output_type": "stream",
     "text": [
      "/Users/maahirmawla/opt/anaconda3/lib/python3.9/site-packages/sklearn/naive_bayes.py:452: RuntimeWarning: divide by zero encountered in log\n",
      "  n_ij = - 0.5 * np.sum(np.log(2. * np.pi * self.sigma_[i, :]))\n",
      "/Users/maahirmawla/opt/anaconda3/lib/python3.9/site-packages/sklearn/naive_bayes.py:453: RuntimeWarning: invalid value encountered in true_divide\n",
      "  n_ij -= 0.5 * np.sum(((X - self.theta_[i, :]) ** 2) /\n",
      "/Users/maahirmawla/opt/anaconda3/lib/python3.9/site-packages/sklearn/naive_bayes.py:452: RuntimeWarning: divide by zero encountered in log\n",
      "  n_ij = - 0.5 * np.sum(np.log(2. * np.pi * self.sigma_[i, :]))\n",
      "/Users/maahirmawla/opt/anaconda3/lib/python3.9/site-packages/sklearn/naive_bayes.py:453: RuntimeWarning: invalid value encountered in true_divide\n",
      "  n_ij -= 0.5 * np.sum(((X - self.theta_[i, :]) ** 2) /\n"
     ]
    },
    {
     "name": "stdout",
     "output_type": "stream",
     "text": [
      "[0]\n",
      "586 Estupiñán\n",
      "[1]\n",
      "596 Ferguson\n"
     ]
    },
    {
     "name": "stderr",
     "output_type": "stream",
     "text": [
      "/Users/maahirmawla/opt/anaconda3/lib/python3.9/site-packages/sklearn/naive_bayes.py:452: RuntimeWarning: divide by zero encountered in log\n",
      "  n_ij = - 0.5 * np.sum(np.log(2. * np.pi * self.sigma_[i, :]))\n",
      "/Users/maahirmawla/opt/anaconda3/lib/python3.9/site-packages/sklearn/naive_bayes.py:453: RuntimeWarning: invalid value encountered in true_divide\n",
      "  n_ij -= 0.5 * np.sum(((X - self.theta_[i, :]) ** 2) /\n",
      "/Users/maahirmawla/opt/anaconda3/lib/python3.9/site-packages/sklearn/naive_bayes.py:452: RuntimeWarning: divide by zero encountered in log\n",
      "  n_ij = - 0.5 * np.sum(np.log(2. * np.pi * self.sigma_[i, :]))\n",
      "/Users/maahirmawla/opt/anaconda3/lib/python3.9/site-packages/sklearn/naive_bayes.py:453: RuntimeWarning: invalid value encountered in true_divide\n",
      "  n_ij -= 0.5 * np.sum(((X - self.theta_[i, :]) ** 2) /\n"
     ]
    },
    {
     "name": "stdout",
     "output_type": "stream",
     "text": [
      "[0]\n",
      "48 Chukwuemeka\n"
     ]
    },
    {
     "name": "stderr",
     "output_type": "stream",
     "text": [
      "/Users/maahirmawla/opt/anaconda3/lib/python3.9/site-packages/sklearn/naive_bayes.py:452: RuntimeWarning: divide by zero encountered in log\n",
      "  n_ij = - 0.5 * np.sum(np.log(2. * np.pi * self.sigma_[i, :]))\n",
      "/Users/maahirmawla/opt/anaconda3/lib/python3.9/site-packages/sklearn/naive_bayes.py:453: RuntimeWarning: invalid value encountered in true_divide\n",
      "  n_ij -= 0.5 * np.sum(((X - self.theta_[i, :]) ** 2) /\n",
      "/Users/maahirmawla/opt/anaconda3/lib/python3.9/site-packages/sklearn/naive_bayes.py:452: RuntimeWarning: divide by zero encountered in log\n",
      "  n_ij = - 0.5 * np.sum(np.log(2. * np.pi * self.sigma_[i, :]))\n",
      "/Users/maahirmawla/opt/anaconda3/lib/python3.9/site-packages/sklearn/naive_bayes.py:453: RuntimeWarning: invalid value encountered in true_divide\n",
      "  n_ij -= 0.5 * np.sum(((X - self.theta_[i, :]) ** 2) /\n"
     ]
    },
    {
     "name": "stdout",
     "output_type": "stream",
     "text": [
      "[0]\n",
      "112 Cucurella\n"
     ]
    },
    {
     "name": "stderr",
     "output_type": "stream",
     "text": [
      "/Users/maahirmawla/opt/anaconda3/lib/python3.9/site-packages/sklearn/naive_bayes.py:452: RuntimeWarning: divide by zero encountered in log\n",
      "  n_ij = - 0.5 * np.sum(np.log(2. * np.pi * self.sigma_[i, :]))\n",
      "/Users/maahirmawla/opt/anaconda3/lib/python3.9/site-packages/sklearn/naive_bayes.py:453: RuntimeWarning: invalid value encountered in true_divide\n",
      "  n_ij -= 0.5 * np.sum(((X - self.theta_[i, :]) ** 2) /\n",
      "/Users/maahirmawla/opt/anaconda3/lib/python3.9/site-packages/sklearn/naive_bayes.py:452: RuntimeWarning: divide by zero encountered in log\n",
      "  n_ij = - 0.5 * np.sum(np.log(2. * np.pi * self.sigma_[i, :]))\n",
      "/Users/maahirmawla/opt/anaconda3/lib/python3.9/site-packages/sklearn/naive_bayes.py:453: RuntimeWarning: invalid value encountered in true_divide\n",
      "  n_ij -= 0.5 * np.sum(((X - self.theta_[i, :]) ** 2) /\n"
     ]
    },
    {
     "name": "stdout",
     "output_type": "stream",
     "text": [
      "[0]\n",
      "127 Azpilicueta\n",
      "[1]\n",
      "128 Thiago Silva\n",
      "[1]\n",
      "129 Alonso\n"
     ]
    },
    {
     "name": "stderr",
     "output_type": "stream",
     "text": [
      "/Users/maahirmawla/opt/anaconda3/lib/python3.9/site-packages/sklearn/naive_bayes.py:452: RuntimeWarning: divide by zero encountered in log\n",
      "  n_ij = - 0.5 * np.sum(np.log(2. * np.pi * self.sigma_[i, :]))\n",
      "/Users/maahirmawla/opt/anaconda3/lib/python3.9/site-packages/sklearn/naive_bayes.py:453: RuntimeWarning: invalid value encountered in true_divide\n",
      "  n_ij -= 0.5 * np.sum(((X - self.theta_[i, :]) ** 2) /\n",
      "/Users/maahirmawla/opt/anaconda3/lib/python3.9/site-packages/sklearn/naive_bayes.py:452: RuntimeWarning: divide by zero encountered in log\n",
      "  n_ij = - 0.5 * np.sum(np.log(2. * np.pi * self.sigma_[i, :]))\n",
      "/Users/maahirmawla/opt/anaconda3/lib/python3.9/site-packages/sklearn/naive_bayes.py:453: RuntimeWarning: invalid value encountered in true_divide\n",
      "  n_ij -= 0.5 * np.sum(((X - self.theta_[i, :]) ** 2) /\n"
     ]
    },
    {
     "name": "stdout",
     "output_type": "stream",
     "text": [
      "[0]\n",
      "130 Jorginho\n",
      "[2]\n",
      "131 Barkley\n",
      "[0]\n",
      "132 Kovacic\n"
     ]
    },
    {
     "name": "stderr",
     "output_type": "stream",
     "text": [
      "/Users/maahirmawla/opt/anaconda3/lib/python3.9/site-packages/sklearn/naive_bayes.py:452: RuntimeWarning: divide by zero encountered in log\n",
      "  n_ij = - 0.5 * np.sum(np.log(2. * np.pi * self.sigma_[i, :]))\n",
      "/Users/maahirmawla/opt/anaconda3/lib/python3.9/site-packages/sklearn/naive_bayes.py:453: RuntimeWarning: invalid value encountered in true_divide\n",
      "  n_ij -= 0.5 * np.sum(((X - self.theta_[i, :]) ** 2) /\n",
      "/Users/maahirmawla/opt/anaconda3/lib/python3.9/site-packages/sklearn/naive_bayes.py:452: RuntimeWarning: divide by zero encountered in log\n",
      "  n_ij = - 0.5 * np.sum(np.log(2. * np.pi * self.sigma_[i, :]))\n",
      "/Users/maahirmawla/opt/anaconda3/lib/python3.9/site-packages/sklearn/naive_bayes.py:453: RuntimeWarning: invalid value encountered in true_divide\n",
      "  n_ij -= 0.5 * np.sum(((X - self.theta_[i, :]) ** 2) /\n",
      "/Users/maahirmawla/opt/anaconda3/lib/python3.9/site-packages/sklearn/naive_bayes.py:452: RuntimeWarning: divide by zero encountered in log\n",
      "  n_ij = - 0.5 * np.sum(np.log(2. * np.pi * self.sigma_[i, :]))\n",
      "/Users/maahirmawla/opt/anaconda3/lib/python3.9/site-packages/sklearn/naive_bayes.py:453: RuntimeWarning: invalid value encountered in true_divide\n",
      "  n_ij -= 0.5 * np.sum(((X - self.theta_[i, :]) ** 2) /\n",
      "/Users/maahirmawla/opt/anaconda3/lib/python3.9/site-packages/sklearn/naive_bayes.py:452: RuntimeWarning: divide by zero encountered in log\n",
      "  n_ij = - 0.5 * np.sum(np.log(2. * np.pi * self.sigma_[i, :]))\n",
      "/Users/maahirmawla/opt/anaconda3/lib/python3.9/site-packages/sklearn/naive_bayes.py:453: RuntimeWarning: invalid value encountered in true_divide\n",
      "  n_ij -= 0.5 * np.sum(((X - self.theta_[i, :]) ** 2) /\n"
     ]
    },
    {
     "name": "stdout",
     "output_type": "stream",
     "text": [
      "[0]\n",
      "133 Arrizabalaga\n"
     ]
    },
    {
     "name": "stderr",
     "output_type": "stream",
     "text": [
      "/Users/maahirmawla/opt/anaconda3/lib/python3.9/site-packages/sklearn/naive_bayes.py:452: RuntimeWarning: divide by zero encountered in log\n",
      "  n_ij = - 0.5 * np.sum(np.log(2. * np.pi * self.sigma_[i, :]))\n",
      "/Users/maahirmawla/opt/anaconda3/lib/python3.9/site-packages/sklearn/naive_bayes.py:453: RuntimeWarning: invalid value encountered in true_divide\n",
      "  n_ij -= 0.5 * np.sum(((X - self.theta_[i, :]) ** 2) /\n",
      "/Users/maahirmawla/opt/anaconda3/lib/python3.9/site-packages/sklearn/naive_bayes.py:452: RuntimeWarning: divide by zero encountered in log\n",
      "  n_ij = - 0.5 * np.sum(np.log(2. * np.pi * self.sigma_[i, :]))\n",
      "/Users/maahirmawla/opt/anaconda3/lib/python3.9/site-packages/sklearn/naive_bayes.py:453: RuntimeWarning: invalid value encountered in true_divide\n",
      "  n_ij -= 0.5 * np.sum(((X - self.theta_[i, :]) ** 2) /\n"
     ]
    },
    {
     "name": "stdout",
     "output_type": "stream",
     "text": [
      "[0]\n",
      "134 Kanté\n",
      "[0]\n",
      "135 Ziyech\n"
     ]
    },
    {
     "name": "stderr",
     "output_type": "stream",
     "text": [
      "/Users/maahirmawla/opt/anaconda3/lib/python3.9/site-packages/sklearn/naive_bayes.py:452: RuntimeWarning: divide by zero encountered in log\n",
      "  n_ij = - 0.5 * np.sum(np.log(2. * np.pi * self.sigma_[i, :]))\n",
      "/Users/maahirmawla/opt/anaconda3/lib/python3.9/site-packages/sklearn/naive_bayes.py:453: RuntimeWarning: invalid value encountered in true_divide\n",
      "  n_ij -= 0.5 * np.sum(((X - self.theta_[i, :]) ** 2) /\n",
      "/Users/maahirmawla/opt/anaconda3/lib/python3.9/site-packages/sklearn/naive_bayes.py:452: RuntimeWarning: divide by zero encountered in log\n",
      "  n_ij = - 0.5 * np.sum(np.log(2. * np.pi * self.sigma_[i, :]))\n",
      "/Users/maahirmawla/opt/anaconda3/lib/python3.9/site-packages/sklearn/naive_bayes.py:453: RuntimeWarning: invalid value encountered in true_divide\n",
      "  n_ij -= 0.5 * np.sum(((X - self.theta_[i, :]) ** 2) /\n"
     ]
    },
    {
     "name": "stdout",
     "output_type": "stream",
     "text": [
      "[0]\n",
      "136 Loftus-Cheek\n"
     ]
    },
    {
     "name": "stderr",
     "output_type": "stream",
     "text": [
      "/Users/maahirmawla/opt/anaconda3/lib/python3.9/site-packages/sklearn/naive_bayes.py:452: RuntimeWarning: divide by zero encountered in log\n",
      "  n_ij = - 0.5 * np.sum(np.log(2. * np.pi * self.sigma_[i, :]))\n",
      "/Users/maahirmawla/opt/anaconda3/lib/python3.9/site-packages/sklearn/naive_bayes.py:453: RuntimeWarning: invalid value encountered in true_divide\n",
      "  n_ij -= 0.5 * np.sum(((X - self.theta_[i, :]) ** 2) /\n",
      "/Users/maahirmawla/opt/anaconda3/lib/python3.9/site-packages/sklearn/naive_bayes.py:452: RuntimeWarning: divide by zero encountered in log\n",
      "  n_ij = - 0.5 * np.sum(np.log(2. * np.pi * self.sigma_[i, :]))\n",
      "/Users/maahirmawla/opt/anaconda3/lib/python3.9/site-packages/sklearn/naive_bayes.py:453: RuntimeWarning: invalid value encountered in true_divide\n",
      "  n_ij -= 0.5 * np.sum(((X - self.theta_[i, :]) ** 2) /\n"
     ]
    },
    {
     "name": "stdout",
     "output_type": "stream",
     "text": [
      "[1]\n",
      "137 Werner\n"
     ]
    },
    {
     "name": "stderr",
     "output_type": "stream",
     "text": [
      "/Users/maahirmawla/opt/anaconda3/lib/python3.9/site-packages/sklearn/naive_bayes.py:452: RuntimeWarning: divide by zero encountered in log\n",
      "  n_ij = - 0.5 * np.sum(np.log(2. * np.pi * self.sigma_[i, :]))\n",
      "/Users/maahirmawla/opt/anaconda3/lib/python3.9/site-packages/sklearn/naive_bayes.py:453: RuntimeWarning: invalid value encountered in true_divide\n",
      "  n_ij -= 0.5 * np.sum(((X - self.theta_[i, :]) ** 2) /\n",
      "/Users/maahirmawla/opt/anaconda3/lib/python3.9/site-packages/sklearn/naive_bayes.py:452: RuntimeWarning: divide by zero encountered in log\n",
      "  n_ij = - 0.5 * np.sum(np.log(2. * np.pi * self.sigma_[i, :]))\n",
      "/Users/maahirmawla/opt/anaconda3/lib/python3.9/site-packages/sklearn/naive_bayes.py:453: RuntimeWarning: invalid value encountered in true_divide\n",
      "  n_ij -= 0.5 * np.sum(((X - self.theta_[i, :]) ** 2) /\n"
     ]
    },
    {
     "name": "stdout",
     "output_type": "stream",
     "text": [
      "[0]\n",
      "138 Kenedy\n"
     ]
    },
    {
     "name": "stderr",
     "output_type": "stream",
     "text": [
      "/Users/maahirmawla/opt/anaconda3/lib/python3.9/site-packages/sklearn/naive_bayes.py:452: RuntimeWarning: divide by zero encountered in log\n",
      "  n_ij = - 0.5 * np.sum(np.log(2. * np.pi * self.sigma_[i, :]))\n",
      "/Users/maahirmawla/opt/anaconda3/lib/python3.9/site-packages/sklearn/naive_bayes.py:453: RuntimeWarning: invalid value encountered in true_divide\n",
      "  n_ij -= 0.5 * np.sum(((X - self.theta_[i, :]) ** 2) /\n",
      "/Users/maahirmawla/opt/anaconda3/lib/python3.9/site-packages/sklearn/naive_bayes.py:452: RuntimeWarning: divide by zero encountered in log\n",
      "  n_ij = - 0.5 * np.sum(np.log(2. * np.pi * self.sigma_[i, :]))\n",
      "/Users/maahirmawla/opt/anaconda3/lib/python3.9/site-packages/sklearn/naive_bayes.py:453: RuntimeWarning: invalid value encountered in true_divide\n",
      "  n_ij -= 0.5 * np.sum(((X - self.theta_[i, :]) ** 2) /\n"
     ]
    },
    {
     "name": "stdout",
     "output_type": "stream",
     "text": [
      "[0]\n",
      "139 Chilwell\n",
      "[1]\n",
      "140 Pulisic\n"
     ]
    },
    {
     "name": "stderr",
     "output_type": "stream",
     "text": [
      "/Users/maahirmawla/opt/anaconda3/lib/python3.9/site-packages/sklearn/naive_bayes.py:452: RuntimeWarning: divide by zero encountered in log\n",
      "  n_ij = - 0.5 * np.sum(np.log(2. * np.pi * self.sigma_[i, :]))\n",
      "/Users/maahirmawla/opt/anaconda3/lib/python3.9/site-packages/sklearn/naive_bayes.py:453: RuntimeWarning: invalid value encountered in true_divide\n",
      "  n_ij -= 0.5 * np.sum(((X - self.theta_[i, :]) ** 2) /\n",
      "/Users/maahirmawla/opt/anaconda3/lib/python3.9/site-packages/sklearn/naive_bayes.py:452: RuntimeWarning: divide by zero encountered in log\n",
      "  n_ij = - 0.5 * np.sum(np.log(2. * np.pi * self.sigma_[i, :]))\n",
      "/Users/maahirmawla/opt/anaconda3/lib/python3.9/site-packages/sklearn/naive_bayes.py:453: RuntimeWarning: invalid value encountered in true_divide\n",
      "  n_ij -= 0.5 * np.sum(((X - self.theta_[i, :]) ** 2) /\n"
     ]
    },
    {
     "name": "stdout",
     "output_type": "stream",
     "text": [
      "[0]\n",
      "141 Chalobah\n"
     ]
    },
    {
     "name": "stderr",
     "output_type": "stream",
     "text": [
      "/Users/maahirmawla/opt/anaconda3/lib/python3.9/site-packages/sklearn/naive_bayes.py:452: RuntimeWarning: divide by zero encountered in log\n",
      "  n_ij = - 0.5 * np.sum(np.log(2. * np.pi * self.sigma_[i, :]))\n",
      "/Users/maahirmawla/opt/anaconda3/lib/python3.9/site-packages/sklearn/naive_bayes.py:453: RuntimeWarning: invalid value encountered in true_divide\n",
      "  n_ij -= 0.5 * np.sum(((X - self.theta_[i, :]) ** 2) /\n",
      "/Users/maahirmawla/opt/anaconda3/lib/python3.9/site-packages/sklearn/naive_bayes.py:452: RuntimeWarning: divide by zero encountered in log\n",
      "  n_ij = - 0.5 * np.sum(np.log(2. * np.pi * self.sigma_[i, :]))\n",
      "/Users/maahirmawla/opt/anaconda3/lib/python3.9/site-packages/sklearn/naive_bayes.py:453: RuntimeWarning: invalid value encountered in true_divide\n",
      "  n_ij -= 0.5 * np.sum(((X - self.theta_[i, :]) ** 2) /\n"
     ]
    },
    {
     "name": "stdout",
     "output_type": "stream",
     "text": [
      "[0]\n",
      "142 Mount\n",
      "[1]\n",
      "143 Sarr\n"
     ]
    },
    {
     "name": "stderr",
     "output_type": "stream",
     "text": [
      "/Users/maahirmawla/opt/anaconda3/lib/python3.9/site-packages/sklearn/naive_bayes.py:452: RuntimeWarning: divide by zero encountered in log\n",
      "  n_ij = - 0.5 * np.sum(np.log(2. * np.pi * self.sigma_[i, :]))\n",
      "/Users/maahirmawla/opt/anaconda3/lib/python3.9/site-packages/sklearn/naive_bayes.py:453: RuntimeWarning: invalid value encountered in true_divide\n",
      "  n_ij -= 0.5 * np.sum(((X - self.theta_[i, :]) ** 2) /\n",
      "/Users/maahirmawla/opt/anaconda3/lib/python3.9/site-packages/sklearn/naive_bayes.py:452: RuntimeWarning: divide by zero encountered in log\n",
      "  n_ij = - 0.5 * np.sum(np.log(2. * np.pi * self.sigma_[i, :]))\n",
      "/Users/maahirmawla/opt/anaconda3/lib/python3.9/site-packages/sklearn/naive_bayes.py:453: RuntimeWarning: invalid value encountered in true_divide\n",
      "  n_ij -= 0.5 * np.sum(((X - self.theta_[i, :]) ** 2) /\n"
     ]
    },
    {
     "name": "stdout",
     "output_type": "stream",
     "text": [
      "[0]\n",
      "144 Hudson-Odoi\n"
     ]
    },
    {
     "name": "stderr",
     "output_type": "stream",
     "text": [
      "/Users/maahirmawla/opt/anaconda3/lib/python3.9/site-packages/sklearn/naive_bayes.py:452: RuntimeWarning: divide by zero encountered in log\n",
      "  n_ij = - 0.5 * np.sum(np.log(2. * np.pi * self.sigma_[i, :]))\n",
      "/Users/maahirmawla/opt/anaconda3/lib/python3.9/site-packages/sklearn/naive_bayes.py:453: RuntimeWarning: invalid value encountered in true_divide\n",
      "  n_ij -= 0.5 * np.sum(((X - self.theta_[i, :]) ** 2) /\n",
      "/Users/maahirmawla/opt/anaconda3/lib/python3.9/site-packages/sklearn/naive_bayes.py:452: RuntimeWarning: divide by zero encountered in log\n",
      "  n_ij = - 0.5 * np.sum(np.log(2. * np.pi * self.sigma_[i, :]))\n",
      "/Users/maahirmawla/opt/anaconda3/lib/python3.9/site-packages/sklearn/naive_bayes.py:453: RuntimeWarning: invalid value encountered in true_divide\n",
      "  n_ij -= 0.5 * np.sum(((X - self.theta_[i, :]) ** 2) /\n"
     ]
    },
    {
     "name": "stdout",
     "output_type": "stream",
     "text": [
      "[0]\n",
      "145 Havertz\n",
      "[2]\n",
      "146 James\n",
      "[7]\n",
      "147 Mendy\n",
      "[2]\n",
      "148 Gallagher\n"
     ]
    },
    {
     "name": "stderr",
     "output_type": "stream",
     "text": [
      "/Users/maahirmawla/opt/anaconda3/lib/python3.9/site-packages/sklearn/naive_bayes.py:452: RuntimeWarning: divide by zero encountered in log\n",
      "  n_ij = - 0.5 * np.sum(np.log(2. * np.pi * self.sigma_[i, :]))\n",
      "/Users/maahirmawla/opt/anaconda3/lib/python3.9/site-packages/sklearn/naive_bayes.py:453: RuntimeWarning: invalid value encountered in true_divide\n",
      "  n_ij -= 0.5 * np.sum(((X - self.theta_[i, :]) ** 2) /\n",
      "/Users/maahirmawla/opt/anaconda3/lib/python3.9/site-packages/sklearn/naive_bayes.py:452: RuntimeWarning: divide by zero encountered in log\n",
      "  n_ij = - 0.5 * np.sum(np.log(2. * np.pi * self.sigma_[i, :]))\n",
      "/Users/maahirmawla/opt/anaconda3/lib/python3.9/site-packages/sklearn/naive_bayes.py:453: RuntimeWarning: invalid value encountered in true_divide\n",
      "  n_ij -= 0.5 * np.sum(((X - self.theta_[i, :]) ** 2) /\n"
     ]
    },
    {
     "name": "stdout",
     "output_type": "stream",
     "text": [
      "[-2]\n",
      "150 Broja\n"
     ]
    },
    {
     "name": "stderr",
     "output_type": "stream",
     "text": [
      "/Users/maahirmawla/opt/anaconda3/lib/python3.9/site-packages/sklearn/naive_bayes.py:452: RuntimeWarning: divide by zero encountered in log\n",
      "  n_ij = - 0.5 * np.sum(np.log(2. * np.pi * self.sigma_[i, :]))\n",
      "/Users/maahirmawla/opt/anaconda3/lib/python3.9/site-packages/sklearn/naive_bayes.py:453: RuntimeWarning: invalid value encountered in true_divide\n",
      "  n_ij -= 0.5 * np.sum(((X - self.theta_[i, :]) ** 2) /\n",
      "/Users/maahirmawla/opt/anaconda3/lib/python3.9/site-packages/sklearn/naive_bayes.py:452: RuntimeWarning: divide by zero encountered in log\n",
      "  n_ij = - 0.5 * np.sum(np.log(2. * np.pi * self.sigma_[i, :]))\n",
      "/Users/maahirmawla/opt/anaconda3/lib/python3.9/site-packages/sklearn/naive_bayes.py:453: RuntimeWarning: invalid value encountered in true_divide\n",
      "  n_ij -= 0.5 * np.sum(((X - self.theta_[i, :]) ** 2) /\n"
     ]
    },
    {
     "name": "stdout",
     "output_type": "stream",
     "text": [
      "[0]\n",
      "151 Ampadu\n"
     ]
    },
    {
     "name": "stderr",
     "output_type": "stream",
     "text": [
      "/Users/maahirmawla/opt/anaconda3/lib/python3.9/site-packages/sklearn/naive_bayes.py:452: RuntimeWarning: divide by zero encountered in log\n",
      "  n_ij = - 0.5 * np.sum(np.log(2. * np.pi * self.sigma_[i, :]))\n",
      "/Users/maahirmawla/opt/anaconda3/lib/python3.9/site-packages/sklearn/naive_bayes.py:453: RuntimeWarning: invalid value encountered in true_divide\n",
      "  n_ij -= 0.5 * np.sum(((X - self.theta_[i, :]) ** 2) /\n",
      "/Users/maahirmawla/opt/anaconda3/lib/python3.9/site-packages/sklearn/naive_bayes.py:452: RuntimeWarning: divide by zero encountered in log\n",
      "  n_ij = - 0.5 * np.sum(np.log(2. * np.pi * self.sigma_[i, :]))\n",
      "/Users/maahirmawla/opt/anaconda3/lib/python3.9/site-packages/sklearn/naive_bayes.py:453: RuntimeWarning: invalid value encountered in true_divide\n",
      "  n_ij -= 0.5 * np.sum(((X - self.theta_[i, :]) ** 2) /\n"
     ]
    },
    {
     "name": "stdout",
     "output_type": "stream",
     "text": [
      "[0]\n",
      "272 Fofana\n"
     ]
    },
    {
     "name": "stderr",
     "output_type": "stream",
     "text": [
      "/Users/maahirmawla/opt/anaconda3/lib/python3.9/site-packages/sklearn/naive_bayes.py:452: RuntimeWarning: divide by zero encountered in log\n",
      "  n_ij = - 0.5 * np.sum(np.log(2. * np.pi * self.sigma_[i, :]))\n",
      "/Users/maahirmawla/opt/anaconda3/lib/python3.9/site-packages/sklearn/naive_bayes.py:453: RuntimeWarning: invalid value encountered in true_divide\n",
      "  n_ij -= 0.5 * np.sum(((X - self.theta_[i, :]) ** 2) /\n",
      "/Users/maahirmawla/opt/anaconda3/lib/python3.9/site-packages/sklearn/naive_bayes.py:452: RuntimeWarning: divide by zero encountered in log\n",
      "  n_ij = - 0.5 * np.sum(np.log(2. * np.pi * self.sigma_[i, :]))\n",
      "/Users/maahirmawla/opt/anaconda3/lib/python3.9/site-packages/sklearn/naive_bayes.py:453: RuntimeWarning: invalid value encountered in true_divide\n",
      "  n_ij -= 0.5 * np.sum(((X - self.theta_[i, :]) ** 2) /\n"
     ]
    },
    {
     "name": "stdout",
     "output_type": "stream",
     "text": [
      "[-1]\n",
      "304 Sterling\n",
      "[1]\n",
      "520 Koulibaly\n",
      "[-2]\n",
      "606 Vale\n"
     ]
    },
    {
     "name": "stderr",
     "output_type": "stream",
     "text": [
      "/Users/maahirmawla/opt/anaconda3/lib/python3.9/site-packages/sklearn/naive_bayes.py:452: RuntimeWarning: divide by zero encountered in log\n",
      "  n_ij = - 0.5 * np.sum(np.log(2. * np.pi * self.sigma_[i, :]))\n",
      "/Users/maahirmawla/opt/anaconda3/lib/python3.9/site-packages/sklearn/naive_bayes.py:453: RuntimeWarning: invalid value encountered in true_divide\n",
      "  n_ij -= 0.5 * np.sum(((X - self.theta_[i, :]) ** 2) /\n",
      "/Users/maahirmawla/opt/anaconda3/lib/python3.9/site-packages/sklearn/naive_bayes.py:452: RuntimeWarning: divide by zero encountered in log\n",
      "  n_ij = - 0.5 * np.sum(np.log(2. * np.pi * self.sigma_[i, :]))\n",
      "/Users/maahirmawla/opt/anaconda3/lib/python3.9/site-packages/sklearn/naive_bayes.py:453: RuntimeWarning: invalid value encountered in true_divide\n",
      "  n_ij -= 0.5 * np.sum(((X - self.theta_[i, :]) ** 2) /\n"
     ]
    },
    {
     "name": "stdout",
     "output_type": "stream",
     "text": [
      "[0]\n",
      "616 Zakaria\n"
     ]
    },
    {
     "name": "stderr",
     "output_type": "stream",
     "text": [
      "/Users/maahirmawla/opt/anaconda3/lib/python3.9/site-packages/sklearn/naive_bayes.py:452: RuntimeWarning: divide by zero encountered in log\n",
      "  n_ij = - 0.5 * np.sum(np.log(2. * np.pi * self.sigma_[i, :]))\n",
      "/Users/maahirmawla/opt/anaconda3/lib/python3.9/site-packages/sklearn/naive_bayes.py:453: RuntimeWarning: invalid value encountered in true_divide\n",
      "  n_ij -= 0.5 * np.sum(((X - self.theta_[i, :]) ** 2) /\n",
      "/Users/maahirmawla/opt/anaconda3/lib/python3.9/site-packages/sklearn/naive_bayes.py:452: RuntimeWarning: divide by zero encountered in log\n",
      "  n_ij = - 0.5 * np.sum(np.log(2. * np.pi * self.sigma_[i, :]))\n",
      "/Users/maahirmawla/opt/anaconda3/lib/python3.9/site-packages/sklearn/naive_bayes.py:453: RuntimeWarning: invalid value encountered in true_divide\n",
      "  n_ij -= 0.5 * np.sum(((X - self.theta_[i, :]) ** 2) /\n"
     ]
    },
    {
     "name": "stdout",
     "output_type": "stream",
     "text": [
      "[0]\n",
      "617 Aubameyang\n"
     ]
    },
    {
     "name": "stderr",
     "output_type": "stream",
     "text": [
      "/Users/maahirmawla/opt/anaconda3/lib/python3.9/site-packages/sklearn/naive_bayes.py:452: RuntimeWarning: divide by zero encountered in log\n",
      "  n_ij = - 0.5 * np.sum(np.log(2. * np.pi * self.sigma_[i, :]))\n",
      "/Users/maahirmawla/opt/anaconda3/lib/python3.9/site-packages/sklearn/naive_bayes.py:453: RuntimeWarning: invalid value encountered in true_divide\n",
      "  n_ij -= 0.5 * np.sum(((X - self.theta_[i, :]) ** 2) /\n",
      "/Users/maahirmawla/opt/anaconda3/lib/python3.9/site-packages/sklearn/naive_bayes.py:452: RuntimeWarning: divide by zero encountered in log\n",
      "  n_ij = - 0.5 * np.sum(np.log(2. * np.pi * self.sigma_[i, :]))\n",
      "/Users/maahirmawla/opt/anaconda3/lib/python3.9/site-packages/sklearn/naive_bayes.py:453: RuntimeWarning: invalid value encountered in true_divide\n",
      "  n_ij -= 0.5 * np.sum(((X - self.theta_[i, :]) ** 2) /\n"
     ]
    },
    {
     "name": "stdout",
     "output_type": "stream",
     "text": [
      "[0]\n",
      "152 Guaita\n",
      "[2]\n",
      "153 Tomkins\n"
     ]
    },
    {
     "name": "stderr",
     "output_type": "stream",
     "text": [
      "/Users/maahirmawla/opt/anaconda3/lib/python3.9/site-packages/sklearn/naive_bayes.py:452: RuntimeWarning: divide by zero encountered in log\n",
      "  n_ij = - 0.5 * np.sum(np.log(2. * np.pi * self.sigma_[i, :]))\n",
      "/Users/maahirmawla/opt/anaconda3/lib/python3.9/site-packages/sklearn/naive_bayes.py:453: RuntimeWarning: invalid value encountered in true_divide\n",
      "  n_ij -= 0.5 * np.sum(((X - self.theta_[i, :]) ** 2) /\n",
      "/Users/maahirmawla/opt/anaconda3/lib/python3.9/site-packages/sklearn/naive_bayes.py:452: RuntimeWarning: divide by zero encountered in log\n",
      "  n_ij = - 0.5 * np.sum(np.log(2. * np.pi * self.sigma_[i, :]))\n",
      "/Users/maahirmawla/opt/anaconda3/lib/python3.9/site-packages/sklearn/naive_bayes.py:453: RuntimeWarning: invalid value encountered in true_divide\n",
      "  n_ij -= 0.5 * np.sum(((X - self.theta_[i, :]) ** 2) /\n"
     ]
    },
    {
     "name": "stdout",
     "output_type": "stream",
     "text": [
      "[0]\n",
      "154 McArthur\n"
     ]
    },
    {
     "name": "stderr",
     "output_type": "stream",
     "text": [
      "/Users/maahirmawla/opt/anaconda3/lib/python3.9/site-packages/sklearn/naive_bayes.py:452: RuntimeWarning: divide by zero encountered in log\n",
      "  n_ij = - 0.5 * np.sum(np.log(2. * np.pi * self.sigma_[i, :]))\n",
      "/Users/maahirmawla/opt/anaconda3/lib/python3.9/site-packages/sklearn/naive_bayes.py:453: RuntimeWarning: invalid value encountered in true_divide\n",
      "  n_ij -= 0.5 * np.sum(((X - self.theta_[i, :]) ** 2) /\n",
      "/Users/maahirmawla/opt/anaconda3/lib/python3.9/site-packages/sklearn/naive_bayes.py:452: RuntimeWarning: divide by zero encountered in log\n",
      "  n_ij = - 0.5 * np.sum(np.log(2. * np.pi * self.sigma_[i, :]))\n",
      "/Users/maahirmawla/opt/anaconda3/lib/python3.9/site-packages/sklearn/naive_bayes.py:453: RuntimeWarning: invalid value encountered in true_divide\n",
      "  n_ij -= 0.5 * np.sum(((X - self.theta_[i, :]) ** 2) /\n"
     ]
    },
    {
     "name": "stdout",
     "output_type": "stream",
     "text": [
      "[0]\n",
      "155 Benteke\n"
     ]
    },
    {
     "name": "stderr",
     "output_type": "stream",
     "text": [
      "/Users/maahirmawla/opt/anaconda3/lib/python3.9/site-packages/sklearn/naive_bayes.py:452: RuntimeWarning: divide by zero encountered in log\n",
      "  n_ij = - 0.5 * np.sum(np.log(2. * np.pi * self.sigma_[i, :]))\n",
      "/Users/maahirmawla/opt/anaconda3/lib/python3.9/site-packages/sklearn/naive_bayes.py:453: RuntimeWarning: invalid value encountered in true_divide\n",
      "  n_ij -= 0.5 * np.sum(((X - self.theta_[i, :]) ** 2) /\n",
      "/Users/maahirmawla/opt/anaconda3/lib/python3.9/site-packages/sklearn/naive_bayes.py:452: RuntimeWarning: divide by zero encountered in log\n",
      "  n_ij = - 0.5 * np.sum(np.log(2. * np.pi * self.sigma_[i, :]))\n",
      "/Users/maahirmawla/opt/anaconda3/lib/python3.9/site-packages/sklearn/naive_bayes.py:453: RuntimeWarning: invalid value encountered in true_divide\n",
      "  n_ij -= 0.5 * np.sum(((X - self.theta_[i, :]) ** 2) /\n"
     ]
    },
    {
     "name": "stdout",
     "output_type": "stream",
     "text": [
      "[0]\n",
      "156 Ward\n",
      "[0]\n",
      "157 Clyne\n"
     ]
    },
    {
     "name": "stderr",
     "output_type": "stream",
     "text": [
      "/Users/maahirmawla/opt/anaconda3/lib/python3.9/site-packages/sklearn/naive_bayes.py:452: RuntimeWarning: divide by zero encountered in log\n",
      "  n_ij = - 0.5 * np.sum(np.log(2. * np.pi * self.sigma_[i, :]))\n",
      "/Users/maahirmawla/opt/anaconda3/lib/python3.9/site-packages/sklearn/naive_bayes.py:453: RuntimeWarning: invalid value encountered in true_divide\n",
      "  n_ij -= 0.5 * np.sum(((X - self.theta_[i, :]) ** 2) /\n",
      "/Users/maahirmawla/opt/anaconda3/lib/python3.9/site-packages/sklearn/naive_bayes.py:452: RuntimeWarning: divide by zero encountered in log\n",
      "  n_ij = - 0.5 * np.sum(np.log(2. * np.pi * self.sigma_[i, :]))\n",
      "/Users/maahirmawla/opt/anaconda3/lib/python3.9/site-packages/sklearn/naive_bayes.py:453: RuntimeWarning: invalid value encountered in true_divide\n",
      "  n_ij -= 0.5 * np.sum(((X - self.theta_[i, :]) ** 2) /\n"
     ]
    },
    {
     "name": "stdout",
     "output_type": "stream",
     "text": [
      "[0]\n",
      "158 Milivojevic\n"
     ]
    },
    {
     "name": "stderr",
     "output_type": "stream",
     "text": [
      "/Users/maahirmawla/opt/anaconda3/lib/python3.9/site-packages/sklearn/naive_bayes.py:452: RuntimeWarning: divide by zero encountered in log\n",
      "  n_ij = - 0.5 * np.sum(np.log(2. * np.pi * self.sigma_[i, :]))\n",
      "/Users/maahirmawla/opt/anaconda3/lib/python3.9/site-packages/sklearn/naive_bayes.py:453: RuntimeWarning: invalid value encountered in true_divide\n",
      "  n_ij -= 0.5 * np.sum(((X - self.theta_[i, :]) ** 2) /\n",
      "/Users/maahirmawla/opt/anaconda3/lib/python3.9/site-packages/sklearn/naive_bayes.py:452: RuntimeWarning: divide by zero encountered in log\n",
      "  n_ij = - 0.5 * np.sum(np.log(2. * np.pi * self.sigma_[i, :]))\n",
      "/Users/maahirmawla/opt/anaconda3/lib/python3.9/site-packages/sklearn/naive_bayes.py:453: RuntimeWarning: invalid value encountered in true_divide\n",
      "  n_ij -= 0.5 * np.sum(((X - self.theta_[i, :]) ** 2) /\n"
     ]
    },
    {
     "name": "stdout",
     "output_type": "stream",
     "text": [
      "[0]\n",
      "159 Ayew\n",
      "[2]\n",
      "160 Zaha\n",
      "[7]\n",
      "161 Schlupp\n",
      "[2]\n",
      "162 Butland\n"
     ]
    },
    {
     "name": "stderr",
     "output_type": "stream",
     "text": [
      "/Users/maahirmawla/opt/anaconda3/lib/python3.9/site-packages/sklearn/naive_bayes.py:452: RuntimeWarning: divide by zero encountered in log\n",
      "  n_ij = - 0.5 * np.sum(np.log(2. * np.pi * self.sigma_[i, :]))\n",
      "/Users/maahirmawla/opt/anaconda3/lib/python3.9/site-packages/sklearn/naive_bayes.py:453: RuntimeWarning: invalid value encountered in true_divide\n",
      "  n_ij -= 0.5 * np.sum(((X - self.theta_[i, :]) ** 2) /\n",
      "/Users/maahirmawla/opt/anaconda3/lib/python3.9/site-packages/sklearn/naive_bayes.py:452: RuntimeWarning: divide by zero encountered in log\n",
      "  n_ij = - 0.5 * np.sum(np.log(2. * np.pi * self.sigma_[i, :]))\n",
      "/Users/maahirmawla/opt/anaconda3/lib/python3.9/site-packages/sklearn/naive_bayes.py:453: RuntimeWarning: invalid value encountered in true_divide\n",
      "  n_ij -= 0.5 * np.sum(((X - self.theta_[i, :]) ** 2) /\n"
     ]
    },
    {
     "name": "stdout",
     "output_type": "stream",
     "text": [
      "[0]\n",
      "163 Hughes\n"
     ]
    },
    {
     "name": "stderr",
     "output_type": "stream",
     "text": [
      "/Users/maahirmawla/opt/anaconda3/lib/python3.9/site-packages/sklearn/naive_bayes.py:452: RuntimeWarning: divide by zero encountered in log\n",
      "  n_ij = - 0.5 * np.sum(np.log(2. * np.pi * self.sigma_[i, :]))\n",
      "/Users/maahirmawla/opt/anaconda3/lib/python3.9/site-packages/sklearn/naive_bayes.py:453: RuntimeWarning: invalid value encountered in true_divide\n",
      "  n_ij -= 0.5 * np.sum(((X - self.theta_[i, :]) ** 2) /\n",
      "/Users/maahirmawla/opt/anaconda3/lib/python3.9/site-packages/sklearn/naive_bayes.py:452: RuntimeWarning: divide by zero encountered in log\n",
      "  n_ij = - 0.5 * np.sum(np.log(2. * np.pi * self.sigma_[i, :]))\n",
      "/Users/maahirmawla/opt/anaconda3/lib/python3.9/site-packages/sklearn/naive_bayes.py:453: RuntimeWarning: invalid value encountered in true_divide\n",
      "  n_ij -= 0.5 * np.sum(((X - self.theta_[i, :]) ** 2) /\n"
     ]
    },
    {
     "name": "stdout",
     "output_type": "stream",
     "text": [
      "[0]\n",
      "164 Riedewald\n"
     ]
    },
    {
     "name": "stderr",
     "output_type": "stream",
     "text": [
      "/Users/maahirmawla/opt/anaconda3/lib/python3.9/site-packages/sklearn/naive_bayes.py:452: RuntimeWarning: divide by zero encountered in log\n",
      "  n_ij = - 0.5 * np.sum(np.log(2. * np.pi * self.sigma_[i, :]))\n",
      "/Users/maahirmawla/opt/anaconda3/lib/python3.9/site-packages/sklearn/naive_bayes.py:453: RuntimeWarning: invalid value encountered in true_divide\n",
      "  n_ij -= 0.5 * np.sum(((X - self.theta_[i, :]) ** 2) /\n",
      "/Users/maahirmawla/opt/anaconda3/lib/python3.9/site-packages/sklearn/naive_bayes.py:452: RuntimeWarning: divide by zero encountered in log\n",
      "  n_ij = - 0.5 * np.sum(np.log(2. * np.pi * self.sigma_[i, :]))\n",
      "/Users/maahirmawla/opt/anaconda3/lib/python3.9/site-packages/sklearn/naive_bayes.py:453: RuntimeWarning: invalid value encountered in true_divide\n",
      "  n_ij -= 0.5 * np.sum(((X - self.theta_[i, :]) ** 2) /\n"
     ]
    },
    {
     "name": "stdout",
     "output_type": "stream",
     "text": [
      "[0]\n",
      "165 Andersen\n",
      "[1]\n",
      "166 Edouard\n",
      "[0]\n",
      "167"
     ]
    },
    {
     "name": "stderr",
     "output_type": "stream",
     "text": [
      "/Users/maahirmawla/opt/anaconda3/lib/python3.9/site-packages/sklearn/naive_bayes.py:452: RuntimeWarning: divide by zero encountered in log\n",
      "  n_ij = - 0.5 * np.sum(np.log(2. * np.pi * self.sigma_[i, :]))\n",
      "/Users/maahirmawla/opt/anaconda3/lib/python3.9/site-packages/sklearn/naive_bayes.py:453: RuntimeWarning: invalid value encountered in true_divide\n",
      "  n_ij -= 0.5 * np.sum(((X - self.theta_[i, :]) ** 2) /\n",
      "/Users/maahirmawla/opt/anaconda3/lib/python3.9/site-packages/sklearn/naive_bayes.py:452: RuntimeWarning: divide by zero encountered in log\n",
      "  n_ij = - 0.5 * np.sum(np.log(2. * np.pi * self.sigma_[i, :]))\n",
      "/Users/maahirmawla/opt/anaconda3/lib/python3.9/site-packages/sklearn/naive_bayes.py:453: RuntimeWarning: invalid value encountered in true_divide\n",
      "  n_ij -= 0.5 * np.sum(((X - self.theta_[i, :]) ** 2) /\n"
     ]
    },
    {
     "name": "stdout",
     "output_type": "stream",
     "text": [
      " Guéhi\n",
      "[2]\n",
      "168 Mateta\n",
      "[0]\n",
      "169 Eze\n",
      "[3]\n",
      "170 Mitchell\n",
      "[6]\n",
      "171 Olise\n",
      "[1]\n",
      "172 Rak-Sakyi\n"
     ]
    },
    {
     "name": "stderr",
     "output_type": "stream",
     "text": [
      "/Users/maahirmawla/opt/anaconda3/lib/python3.9/site-packages/sklearn/naive_bayes.py:452: RuntimeWarning: divide by zero encountered in log\n",
      "  n_ij = - 0.5 * np.sum(np.log(2. * np.pi * self.sigma_[i, :]))\n",
      "/Users/maahirmawla/opt/anaconda3/lib/python3.9/site-packages/sklearn/naive_bayes.py:453: RuntimeWarning: invalid value encountered in true_divide\n",
      "  n_ij -= 0.5 * np.sum(((X - self.theta_[i, :]) ** 2) /\n",
      "/Users/maahirmawla/opt/anaconda3/lib/python3.9/site-packages/sklearn/naive_bayes.py:452: RuntimeWarning: divide by zero encountered in log\n",
      "  n_ij = - 0.5 * np.sum(np.log(2. * np.pi * self.sigma_[i, :]))\n",
      "/Users/maahirmawla/opt/anaconda3/lib/python3.9/site-packages/sklearn/naive_bayes.py:453: RuntimeWarning: invalid value encountered in true_divide\n",
      "  n_ij -= 0.5 * np.sum(((X - self.theta_[i, :]) ** 2) /\n",
      "/Users/maahirmawla/opt/anaconda3/lib/python3.9/site-packages/sklearn/naive_bayes.py:452: RuntimeWarning: divide by zero encountered in log\n",
      "  n_ij = - 0.5 * np.sum(np.log(2. * np.pi * self.sigma_[i, :]))\n",
      "/Users/maahirmawla/opt/anaconda3/lib/python3.9/site-packages/sklearn/naive_bayes.py:453: RuntimeWarning: invalid value encountered in true_divide\n",
      "  n_ij -= 0.5 * np.sum(((X - self.theta_[i, :]) ** 2) /\n",
      "/Users/maahirmawla/opt/anaconda3/lib/python3.9/site-packages/sklearn/naive_bayes.py:452: RuntimeWarning: divide by zero encountered in log\n",
      "  n_ij = - 0.5 * np.sum(np.log(2. * np.pi * self.sigma_[i, :]))\n",
      "/Users/maahirmawla/opt/anaconda3/lib/python3.9/site-packages/sklearn/naive_bayes.py:453: RuntimeWarning: invalid value encountered in true_divide\n",
      "  n_ij -= 0.5 * np.sum(((X - self.theta_[i, :]) ** 2) /\n"
     ]
    },
    {
     "name": "stdout",
     "output_type": "stream",
     "text": [
      "[0]\n",
      "173 Ebiowei\n",
      "[0]\n",
      "174 Ferguson\n"
     ]
    },
    {
     "name": "stderr",
     "output_type": "stream",
     "text": [
      "/Users/maahirmawla/opt/anaconda3/lib/python3.9/site-packages/sklearn/naive_bayes.py:452: RuntimeWarning: divide by zero encountered in log\n",
      "  n_ij = - 0.5 * np.sum(np.log(2. * np.pi * self.sigma_[i, :]))\n",
      "/Users/maahirmawla/opt/anaconda3/lib/python3.9/site-packages/sklearn/naive_bayes.py:453: RuntimeWarning: invalid value encountered in true_divide\n",
      "  n_ij -= 0.5 * np.sum(((X - self.theta_[i, :]) ** 2) /\n",
      "/Users/maahirmawla/opt/anaconda3/lib/python3.9/site-packages/sklearn/naive_bayes.py:452: RuntimeWarning: divide by zero encountered in log\n",
      "  n_ij = - 0.5 * np.sum(np.log(2. * np.pi * self.sigma_[i, :]))\n",
      "/Users/maahirmawla/opt/anaconda3/lib/python3.9/site-packages/sklearn/naive_bayes.py:453: RuntimeWarning: invalid value encountered in true_divide\n",
      "  n_ij -= 0.5 * np.sum(((X - self.theta_[i, :]) ** 2) /\n"
     ]
    },
    {
     "name": "stdout",
     "output_type": "stream",
     "text": [
      "[0]\n",
      "175 Johnstone\n"
     ]
    },
    {
     "name": "stderr",
     "output_type": "stream",
     "text": [
      "/Users/maahirmawla/opt/anaconda3/lib/python3.9/site-packages/sklearn/naive_bayes.py:452: RuntimeWarning: divide by zero encountered in log\n",
      "  n_ij = - 0.5 * np.sum(np.log(2. * np.pi * self.sigma_[i, :]))\n",
      "/Users/maahirmawla/opt/anaconda3/lib/python3.9/site-packages/sklearn/naive_bayes.py:453: RuntimeWarning: invalid value encountered in true_divide\n",
      "  n_ij -= 0.5 * np.sum(((X - self.theta_[i, :]) ** 2) /\n",
      "/Users/maahirmawla/opt/anaconda3/lib/python3.9/site-packages/sklearn/naive_bayes.py:452: RuntimeWarning: divide by zero encountered in log\n",
      "  n_ij = - 0.5 * np.sum(np.log(2. * np.pi * self.sigma_[i, :]))\n",
      "/Users/maahirmawla/opt/anaconda3/lib/python3.9/site-packages/sklearn/naive_bayes.py:453: RuntimeWarning: invalid value encountered in true_divide\n",
      "  n_ij -= 0.5 * np.sum(((X - self.theta_[i, :]) ** 2) /\n"
     ]
    },
    {
     "name": "stdout",
     "output_type": "stream",
     "text": [
      "[0]\n",
      "495 Matthews\n"
     ]
    },
    {
     "name": "stderr",
     "output_type": "stream",
     "text": [
      "/Users/maahirmawla/opt/anaconda3/lib/python3.9/site-packages/sklearn/naive_bayes.py:452: RuntimeWarning: divide by zero encountered in log\n",
      "  n_ij = - 0.5 * np.sum(np.log(2. * np.pi * self.sigma_[i, :]))\n",
      "/Users/maahirmawla/opt/anaconda3/lib/python3.9/site-packages/sklearn/naive_bayes.py:453: RuntimeWarning: invalid value encountered in true_divide\n",
      "  n_ij -= 0.5 * np.sum(((X - self.theta_[i, :]) ** 2) /\n",
      "/Users/maahirmawla/opt/anaconda3/lib/python3.9/site-packages/sklearn/naive_bayes.py:452: RuntimeWarning: divide by zero encountered in log\n",
      "  n_ij = - 0.5 * np.sum(np.log(2. * np.pi * self.sigma_[i, :]))\n",
      "/Users/maahirmawla/opt/anaconda3/lib/python3.9/site-packages/sklearn/naive_bayes.py:453: RuntimeWarning: invalid value encountered in true_divide\n",
      "  n_ij -= 0.5 * np.sum(((X - self.theta_[i, :]) ** 2) /\n"
     ]
    },
    {
     "name": "stdout",
     "output_type": "stream",
     "text": [
      "[0]\n",
      "496 Plange\n"
     ]
    },
    {
     "name": "stderr",
     "output_type": "stream",
     "text": [
      "/Users/maahirmawla/opt/anaconda3/lib/python3.9/site-packages/sklearn/naive_bayes.py:452: RuntimeWarning: divide by zero encountered in log\n",
      "  n_ij = - 0.5 * np.sum(np.log(2. * np.pi * self.sigma_[i, :]))\n",
      "/Users/maahirmawla/opt/anaconda3/lib/python3.9/site-packages/sklearn/naive_bayes.py:453: RuntimeWarning: invalid value encountered in true_divide\n",
      "  n_ij -= 0.5 * np.sum(((X - self.theta_[i, :]) ** 2) /\n",
      "/Users/maahirmawla/opt/anaconda3/lib/python3.9/site-packages/sklearn/naive_bayes.py:452: RuntimeWarning: divide by zero encountered in log\n",
      "  n_ij = - 0.5 * np.sum(np.log(2. * np.pi * self.sigma_[i, :]))\n",
      "/Users/maahirmawla/opt/anaconda3/lib/python3.9/site-packages/sklearn/naive_bayes.py:453: RuntimeWarning: invalid value encountered in true_divide\n",
      "  n_ij -= 0.5 * np.sum(((X - self.theta_[i, :]) ** 2) /\n"
     ]
    },
    {
     "name": "stdout",
     "output_type": "stream",
     "text": [
      "[0]\n",
      "514 C.Doucouré\n",
      "[2]\n",
      "530 Richards\n"
     ]
    },
    {
     "name": "stderr",
     "output_type": "stream",
     "text": [
      "/Users/maahirmawla/opt/anaconda3/lib/python3.9/site-packages/sklearn/naive_bayes.py:452: RuntimeWarning: divide by zero encountered in log\n",
      "  n_ij = - 0.5 * np.sum(np.log(2. * np.pi * self.sigma_[i, :]))\n",
      "/Users/maahirmawla/opt/anaconda3/lib/python3.9/site-packages/sklearn/naive_bayes.py:453: RuntimeWarning: invalid value encountered in true_divide\n",
      "  n_ij -= 0.5 * np.sum(((X - self.theta_[i, :]) ** 2) /\n",
      "/Users/maahirmawla/opt/anaconda3/lib/python3.9/site-packages/sklearn/naive_bayes.py:452: RuntimeWarning: divide by zero encountered in log\n",
      "  n_ij = - 0.5 * np.sum(np.log(2. * np.pi * self.sigma_[i, :]))\n",
      "/Users/maahirmawla/opt/anaconda3/lib/python3.9/site-packages/sklearn/naive_bayes.py:453: RuntimeWarning: invalid value encountered in true_divide\n",
      "  n_ij -= 0.5 * np.sum(((X - self.theta_[i, :]) ** 2) /\n",
      "/Users/maahirmawla/opt/anaconda3/lib/python3.9/site-packages/sklearn/naive_bayes.py:452: RuntimeWarning: divide by zero encountered in log\n",
      "  n_ij = - 0.5 * np.sum(np.log(2. * np.pi * self.sigma_[i, :]))\n",
      "/Users/maahirmawla/opt/anaconda3/lib/python3.9/site-packages/sklearn/naive_bayes.py:453: RuntimeWarning: invalid value encountered in true_divide\n",
      "  n_ij -= 0.5 * np.sum(((X - self.theta_[i, :]) ** 2) /\n",
      "/Users/maahirmawla/opt/anaconda3/lib/python3.9/site-packages/sklearn/naive_bayes.py:452: RuntimeWarning: divide by zero encountered in log\n",
      "  n_ij = - 0.5 * np.sum(np.log(2. * np.pi * self.sigma_[i, :]))\n",
      "/Users/maahirmawla/opt/anaconda3/lib/python3.9/site-packages/sklearn/naive_bayes.py:453: RuntimeWarning: invalid value encountered in true_divide\n",
      "  n_ij -= 0.5 * np.sum(((X - self.theta_[i, :]) ** 2) /\n"
     ]
    },
    {
     "name": "stdout",
     "output_type": "stream",
     "text": [
      "[0]\n",
      "590 Whitworth\n",
      "[0]\n",
      "601 Rodney\n"
     ]
    },
    {
     "name": "stderr",
     "output_type": "stream",
     "text": [
      "/Users/maahirmawla/opt/anaconda3/lib/python3.9/site-packages/sklearn/naive_bayes.py:452: RuntimeWarning: divide by zero encountered in log\n",
      "  n_ij = - 0.5 * np.sum(np.log(2. * np.pi * self.sigma_[i, :]))\n",
      "/Users/maahirmawla/opt/anaconda3/lib/python3.9/site-packages/sklearn/naive_bayes.py:453: RuntimeWarning: invalid value encountered in true_divide\n",
      "  n_ij -= 0.5 * np.sum(((X - self.theta_[i, :]) ** 2) /\n",
      "/Users/maahirmawla/opt/anaconda3/lib/python3.9/site-packages/sklearn/naive_bayes.py:452: RuntimeWarning: divide by zero encountered in log\n",
      "  n_ij = - 0.5 * np.sum(np.log(2. * np.pi * self.sigma_[i, :]))\n",
      "/Users/maahirmawla/opt/anaconda3/lib/python3.9/site-packages/sklearn/naive_bayes.py:453: RuntimeWarning: invalid value encountered in true_divide\n",
      "  n_ij -= 0.5 * np.sum(((X - self.theta_[i, :]) ** 2) /\n",
      "/Users/maahirmawla/opt/anaconda3/lib/python3.9/site-packages/sklearn/naive_bayes.py:452: RuntimeWarning: divide by zero encountered in log\n",
      "  n_ij = - 0.5 * np.sum(np.log(2. * np.pi * self.sigma_[i, :]))\n",
      "/Users/maahirmawla/opt/anaconda3/lib/python3.9/site-packages/sklearn/naive_bayes.py:453: RuntimeWarning: invalid value encountered in true_divide\n",
      "  n_ij -= 0.5 * np.sum(((X - self.theta_[i, :]) ** 2) /\n",
      "/Users/maahirmawla/opt/anaconda3/lib/python3.9/site-packages/sklearn/naive_bayes.py:452: RuntimeWarning: divide by zero encountered in log\n",
      "  n_ij = - 0.5 * np.sum(np.log(2. * np.pi * self.sigma_[i, :]))\n",
      "/Users/maahirmawla/opt/anaconda3/lib/python3.9/site-packages/sklearn/naive_bayes.py:453: RuntimeWarning: invalid value encountered in true_divide\n",
      "  n_ij -= 0.5 * np.sum(((X - self.theta_[i, :]) ** 2) /\n"
     ]
    },
    {
     "name": "stdout",
     "output_type": "stream",
     "text": [
      "[0]\n",
      "604 Phillips\n",
      "[0]\n",
      "110 Maupay\n",
      "[0]\n",
      "176 Begović\n",
      "[0]\n",
      "177 Rondón\n"
     ]
    },
    {
     "name": "stderr",
     "output_type": "stream",
     "text": [
      "/Users/maahirmawla/opt/anaconda3/lib/python3.9/site-packages/sklearn/naive_bayes.py:452: RuntimeWarning: divide by zero encountered in log\n",
      "  n_ij = - 0.5 * np.sum(np.log(2. * np.pi * self.sigma_[i, :]))\n",
      "/Users/maahirmawla/opt/anaconda3/lib/python3.9/site-packages/sklearn/naive_bayes.py:453: RuntimeWarning: invalid value encountered in true_divide\n",
      "  n_ij -= 0.5 * np.sum(((X - self.theta_[i, :]) ** 2) /\n",
      "/Users/maahirmawla/opt/anaconda3/lib/python3.9/site-packages/sklearn/naive_bayes.py:452: RuntimeWarning: divide by zero encountered in log\n",
      "  n_ij = - 0.5 * np.sum(np.log(2. * np.pi * self.sigma_[i, :]))\n",
      "/Users/maahirmawla/opt/anaconda3/lib/python3.9/site-packages/sklearn/naive_bayes.py:453: RuntimeWarning: invalid value encountered in true_divide\n",
      "  n_ij -= 0.5 * np.sum(((X - self.theta_[i, :]) ** 2) /\n",
      "/Users/maahirmawla/opt/anaconda3/lib/python3.9/site-packages/sklearn/naive_bayes.py:452: RuntimeWarning: divide by zero encountered in log\n",
      "  n_ij = - 0.5 * np.sum(np.log(2. * np.pi * self.sigma_[i, :]))\n",
      "/Users/maahirmawla/opt/anaconda3/lib/python3.9/site-packages/sklearn/naive_bayes.py:453: RuntimeWarning: invalid value encountered in true_divide\n",
      "  n_ij -= 0.5 * np.sum(((X - self.theta_[i, :]) ** 2) /\n",
      "/Users/maahirmawla/opt/anaconda3/lib/python3.9/site-packages/sklearn/naive_bayes.py:452: RuntimeWarning: divide by zero encountered in log\n",
      "  n_ij = - 0.5 * np.sum(np.log(2. * np.pi * self.sigma_[i, :]))\n",
      "/Users/maahirmawla/opt/anaconda3/lib/python3.9/site-packages/sklearn/naive_bayes.py:453: RuntimeWarning: invalid value encountered in true_divide\n",
      "  n_ij -= 0.5 * np.sum(((X - self.theta_[i, :]) ** 2) /\n"
     ]
    },
    {
     "name": "stdout",
     "output_type": "stream",
     "text": [
      "[0]\n",
      "178 Coleman\n"
     ]
    },
    {
     "name": "stderr",
     "output_type": "stream",
     "text": [
      "/Users/maahirmawla/opt/anaconda3/lib/python3.9/site-packages/sklearn/naive_bayes.py:452: RuntimeWarning: divide by zero encountered in log\n",
      "  n_ij = - 0.5 * np.sum(np.log(2. * np.pi * self.sigma_[i, :]))\n",
      "/Users/maahirmawla/opt/anaconda3/lib/python3.9/site-packages/sklearn/naive_bayes.py:453: RuntimeWarning: invalid value encountered in true_divide\n",
      "  n_ij -= 0.5 * np.sum(((X - self.theta_[i, :]) ** 2) /\n",
      "/Users/maahirmawla/opt/anaconda3/lib/python3.9/site-packages/sklearn/naive_bayes.py:452: RuntimeWarning: divide by zero encountered in log\n",
      "  n_ij = - 0.5 * np.sum(np.log(2. * np.pi * self.sigma_[i, :]))\n",
      "/Users/maahirmawla/opt/anaconda3/lib/python3.9/site-packages/sklearn/naive_bayes.py:453: RuntimeWarning: invalid value encountered in true_divide\n",
      "  n_ij -= 0.5 * np.sum(((X - self.theta_[i, :]) ** 2) /\n",
      "/Users/maahirmawla/opt/anaconda3/lib/python3.9/site-packages/sklearn/naive_bayes.py:452: RuntimeWarning: divide by zero encountered in log\n",
      "  n_ij = - 0.5 * np.sum(np.log(2. * np.pi * self.sigma_[i, :]))\n",
      "/Users/maahirmawla/opt/anaconda3/lib/python3.9/site-packages/sklearn/naive_bayes.py:453: RuntimeWarning: invalid value encountered in true_divide\n",
      "  n_ij -= 0.5 * np.sum(((X - self.theta_[i, :]) ** 2) /\n",
      "/Users/maahirmawla/opt/anaconda3/lib/python3.9/site-packages/sklearn/naive_bayes.py:452: RuntimeWarning: divide by zero encountered in log\n",
      "  n_ij = - 0.5 * np.sum(np.log(2. * np.pi * self.sigma_[i, :]))\n",
      "/Users/maahirmawla/opt/anaconda3/lib/python3.9/site-packages/sklearn/naive_bayes.py:453: RuntimeWarning: invalid value encountered in true_divide\n",
      "  n_ij -= 0.5 * np.sum(((X - self.theta_[i, :]) ** 2) /\n"
     ]
    },
    {
     "name": "stdout",
     "output_type": "stream",
     "text": [
      "[0]\n",
      "179 Townsend\n",
      "[0]\n",
      "180 Keane\n"
     ]
    },
    {
     "name": "stderr",
     "output_type": "stream",
     "text": [
      "/Users/maahirmawla/opt/anaconda3/lib/python3.9/site-packages/sklearn/naive_bayes.py:452: RuntimeWarning: divide by zero encountered in log\n",
      "  n_ij = - 0.5 * np.sum(np.log(2. * np.pi * self.sigma_[i, :]))\n",
      "/Users/maahirmawla/opt/anaconda3/lib/python3.9/site-packages/sklearn/naive_bayes.py:453: RuntimeWarning: invalid value encountered in true_divide\n",
      "  n_ij -= 0.5 * np.sum(((X - self.theta_[i, :]) ** 2) /\n",
      "/Users/maahirmawla/opt/anaconda3/lib/python3.9/site-packages/sklearn/naive_bayes.py:452: RuntimeWarning: divide by zero encountered in log\n",
      "  n_ij = - 0.5 * np.sum(np.log(2. * np.pi * self.sigma_[i, :]))\n",
      "/Users/maahirmawla/opt/anaconda3/lib/python3.9/site-packages/sklearn/naive_bayes.py:453: RuntimeWarning: invalid value encountered in true_divide\n",
      "  n_ij -= 0.5 * np.sum(((X - self.theta_[i, :]) ** 2) /\n"
     ]
    },
    {
     "name": "stdout",
     "output_type": "stream",
     "text": [
      "[0]\n",
      "181 Dele\n"
     ]
    },
    {
     "name": "stderr",
     "output_type": "stream",
     "text": [
      "/Users/maahirmawla/opt/anaconda3/lib/python3.9/site-packages/sklearn/naive_bayes.py:452: RuntimeWarning: divide by zero encountered in log\n",
      "  n_ij = - 0.5 * np.sum(np.log(2. * np.pi * self.sigma_[i, :]))\n",
      "/Users/maahirmawla/opt/anaconda3/lib/python3.9/site-packages/sklearn/naive_bayes.py:453: RuntimeWarning: invalid value encountered in true_divide\n",
      "  n_ij -= 0.5 * np.sum(((X - self.theta_[i, :]) ** 2) /\n",
      "/Users/maahirmawla/opt/anaconda3/lib/python3.9/site-packages/sklearn/naive_bayes.py:452: RuntimeWarning: divide by zero encountered in log\n",
      "  n_ij = - 0.5 * np.sum(np.log(2. * np.pi * self.sigma_[i, :]))\n",
      "/Users/maahirmawla/opt/anaconda3/lib/python3.9/site-packages/sklearn/naive_bayes.py:453: RuntimeWarning: invalid value encountered in true_divide\n",
      "  n_ij -= 0.5 * np.sum(((X - self.theta_[i, :]) ** 2) /\n"
     ]
    },
    {
     "name": "stdout",
     "output_type": "stream",
     "text": [
      "[0]\n",
      "182 Pickford\n"
     ]
    },
    {
     "name": "stderr",
     "output_type": "stream",
     "text": [
      "/Users/maahirmawla/opt/anaconda3/lib/python3.9/site-packages/sklearn/naive_bayes.py:452: RuntimeWarning: divide by zero encountered in log\n",
      "  n_ij = - 0.5 * np.sum(np.log(2. * np.pi * self.sigma_[i, :]))\n",
      "/Users/maahirmawla/opt/anaconda3/lib/python3.9/site-packages/sklearn/naive_bayes.py:453: RuntimeWarning: invalid value encountered in true_divide\n",
      "  n_ij -= 0.5 * np.sum(((X - self.theta_[i, :]) ** 2) /\n",
      "/Users/maahirmawla/opt/anaconda3/lib/python3.9/site-packages/sklearn/naive_bayes.py:452: RuntimeWarning: divide by zero encountered in log\n",
      "  n_ij = - 0.5 * np.sum(np.log(2. * np.pi * self.sigma_[i, :]))\n",
      "/Users/maahirmawla/opt/anaconda3/lib/python3.9/site-packages/sklearn/naive_bayes.py:453: RuntimeWarning: invalid value encountered in true_divide\n",
      "  n_ij -= 0.5 * np.sum(((X - self.theta_[i, :]) ** 2) /\n"
     ]
    },
    {
     "name": "stdout",
     "output_type": "stream",
     "text": [
      "[3]\n",
      "183 Allan\n",
      "[0]\n",
      "184 André Gomes\n"
     ]
    },
    {
     "name": "stderr",
     "output_type": "stream",
     "text": [
      "/Users/maahirmawla/opt/anaconda3/lib/python3.9/site-packages/sklearn/naive_bayes.py:452: RuntimeWarning: divide by zero encountered in log\n",
      "  n_ij = - 0.5 * np.sum(np.log(2. * np.pi * self.sigma_[i, :]))\n",
      "/Users/maahirmawla/opt/anaconda3/lib/python3.9/site-packages/sklearn/naive_bayes.py:453: RuntimeWarning: invalid value encountered in true_divide\n",
      "  n_ij -= 0.5 * np.sum(((X - self.theta_[i, :]) ** 2) /\n",
      "/Users/maahirmawla/opt/anaconda3/lib/python3.9/site-packages/sklearn/naive_bayes.py:452: RuntimeWarning: divide by zero encountered in log\n",
      "  n_ij = - 0.5 * np.sum(np.log(2. * np.pi * self.sigma_[i, :]))\n",
      "/Users/maahirmawla/opt/anaconda3/lib/python3.9/site-packages/sklearn/naive_bayes.py:453: RuntimeWarning: invalid value encountered in true_divide\n",
      "  n_ij -= 0.5 * np.sum(((X - self.theta_[i, :]) ** 2) /\n"
     ]
    },
    {
     "name": "stdout",
     "output_type": "stream",
     "text": [
      "[0]\n",
      "185 A.Doucouré\n"
     ]
    },
    {
     "name": "stderr",
     "output_type": "stream",
     "text": [
      "/Users/maahirmawla/opt/anaconda3/lib/python3.9/site-packages/sklearn/naive_bayes.py:452: RuntimeWarning: divide by zero encountered in log\n",
      "  n_ij = - 0.5 * np.sum(np.log(2. * np.pi * self.sigma_[i, :]))\n",
      "/Users/maahirmawla/opt/anaconda3/lib/python3.9/site-packages/sklearn/naive_bayes.py:453: RuntimeWarning: invalid value encountered in true_divide\n",
      "  n_ij -= 0.5 * np.sum(((X - self.theta_[i, :]) ** 2) /\n",
      "/Users/maahirmawla/opt/anaconda3/lib/python3.9/site-packages/sklearn/naive_bayes.py:452: RuntimeWarning: divide by zero encountered in log\n",
      "  n_ij = - 0.5 * np.sum(np.log(2. * np.pi * self.sigma_[i, :]))\n",
      "/Users/maahirmawla/opt/anaconda3/lib/python3.9/site-packages/sklearn/naive_bayes.py:453: RuntimeWarning: invalid value encountered in true_divide\n",
      "  n_ij -= 0.5 * np.sum(((X - self.theta_[i, :]) ** 2) /\n"
     ]
    },
    {
     "name": "stdout",
     "output_type": "stream",
     "text": [
      "[0]\n",
      "186 Iwobi\n",
      "[2]\n",
      "187 Gbamin\n"
     ]
    },
    {
     "name": "stderr",
     "output_type": "stream",
     "text": [
      "/Users/maahirmawla/opt/anaconda3/lib/python3.9/site-packages/sklearn/naive_bayes.py:452: RuntimeWarning: divide by zero encountered in log\n",
      "  n_ij = - 0.5 * np.sum(np.log(2. * np.pi * self.sigma_[i, :]))\n",
      "/Users/maahirmawla/opt/anaconda3/lib/python3.9/site-packages/sklearn/naive_bayes.py:453: RuntimeWarning: invalid value encountered in true_divide\n",
      "  n_ij -= 0.5 * np.sum(((X - self.theta_[i, :]) ** 2) /\n",
      "/Users/maahirmawla/opt/anaconda3/lib/python3.9/site-packages/sklearn/naive_bayes.py:452: RuntimeWarning: divide by zero encountered in log\n",
      "  n_ij = - 0.5 * np.sum(np.log(2. * np.pi * self.sigma_[i, :]))\n",
      "/Users/maahirmawla/opt/anaconda3/lib/python3.9/site-packages/sklearn/naive_bayes.py:453: RuntimeWarning: invalid value encountered in true_divide\n",
      "  n_ij -= 0.5 * np.sum(((X - self.theta_[i, :]) ** 2) /\n"
     ]
    },
    {
     "name": "stdout",
     "output_type": "stream",
     "text": [
      "[0]\n",
      "188 Mina\n"
     ]
    },
    {
     "name": "stderr",
     "output_type": "stream",
     "text": [
      "/Users/maahirmawla/opt/anaconda3/lib/python3.9/site-packages/sklearn/naive_bayes.py:452: RuntimeWarning: divide by zero encountered in log\n",
      "  n_ij = - 0.5 * np.sum(np.log(2. * np.pi * self.sigma_[i, :]))\n",
      "/Users/maahirmawla/opt/anaconda3/lib/python3.9/site-packages/sklearn/naive_bayes.py:453: RuntimeWarning: invalid value encountered in true_divide\n",
      "  n_ij -= 0.5 * np.sum(((X - self.theta_[i, :]) ** 2) /\n",
      "/Users/maahirmawla/opt/anaconda3/lib/python3.9/site-packages/sklearn/naive_bayes.py:452: RuntimeWarning: divide by zero encountered in log\n",
      "  n_ij = - 0.5 * np.sum(np.log(2. * np.pi * self.sigma_[i, :]))\n",
      "/Users/maahirmawla/opt/anaconda3/lib/python3.9/site-packages/sklearn/naive_bayes.py:453: RuntimeWarning: invalid value encountered in true_divide\n",
      "  n_ij -= 0.5 * np.sum(((X - self.theta_[i, :]) ** 2) /\n"
     ]
    },
    {
     "name": "stdout",
     "output_type": "stream",
     "text": [
      "[0]\n",
      "189 Gray\n",
      "[2]\n",
      "190 Davies\n",
      "[1]\n",
      "191 Calvert-Lewin\n"
     ]
    },
    {
     "name": "stderr",
     "output_type": "stream",
     "text": [
      "/Users/maahirmawla/opt/anaconda3/lib/python3.9/site-packages/sklearn/naive_bayes.py:452: RuntimeWarning: divide by zero encountered in log\n",
      "  n_ij = - 0.5 * np.sum(np.log(2. * np.pi * self.sigma_[i, :]))\n",
      "/Users/maahirmawla/opt/anaconda3/lib/python3.9/site-packages/sklearn/naive_bayes.py:453: RuntimeWarning: invalid value encountered in true_divide\n",
      "  n_ij -= 0.5 * np.sum(((X - self.theta_[i, :]) ** 2) /\n",
      "/Users/maahirmawla/opt/anaconda3/lib/python3.9/site-packages/sklearn/naive_bayes.py:452: RuntimeWarning: divide by zero encountered in log\n",
      "  n_ij = - 0.5 * np.sum(np.log(2. * np.pi * self.sigma_[i, :]))\n",
      "/Users/maahirmawla/opt/anaconda3/lib/python3.9/site-packages/sklearn/naive_bayes.py:453: RuntimeWarning: invalid value encountered in true_divide\n",
      "  n_ij -= 0.5 * np.sum(((X - self.theta_[i, :]) ** 2) /\n"
     ]
    },
    {
     "name": "stdout",
     "output_type": "stream",
     "text": [
      "[0]\n",
      "192 Holgate\n",
      "[0]\n",
      "193 Godfrey\n",
      "[0]\n",
      "194 Mykolenko\n"
     ]
    },
    {
     "name": "stderr",
     "output_type": "stream",
     "text": [
      "/Users/maahirmawla/opt/anaconda3/lib/python3.9/site-packages/sklearn/naive_bayes.py:452: RuntimeWarning: divide by zero encountered in log\n",
      "  n_ij = - 0.5 * np.sum(np.log(2. * np.pi * self.sigma_[i, :]))\n",
      "/Users/maahirmawla/opt/anaconda3/lib/python3.9/site-packages/sklearn/naive_bayes.py:453: RuntimeWarning: invalid value encountered in true_divide\n",
      "  n_ij -= 0.5 * np.sum(((X - self.theta_[i, :]) ** 2) /\n",
      "/Users/maahirmawla/opt/anaconda3/lib/python3.9/site-packages/sklearn/naive_bayes.py:452: RuntimeWarning: divide by zero encountered in log\n",
      "  n_ij = - 0.5 * np.sum(np.log(2. * np.pi * self.sigma_[i, :]))\n",
      "/Users/maahirmawla/opt/anaconda3/lib/python3.9/site-packages/sklearn/naive_bayes.py:453: RuntimeWarning: invalid value encountered in true_divide\n",
      "  n_ij -= 0.5 * np.sum(((X - self.theta_[i, :]) ** 2) /\n"
     ]
    },
    {
     "name": "stdout",
     "output_type": "stream",
     "text": [
      "[2]\n",
      "195 Gordon\n",
      "[2]\n",
      "196 Branthwaite\n",
      "[0]\n",
      "197 Patterson\n"
     ]
    },
    {
     "name": "stderr",
     "output_type": "stream",
     "text": [
      "/Users/maahirmawla/opt/anaconda3/lib/python3.9/site-packages/sklearn/naive_bayes.py:452: RuntimeWarning: divide by zero encountered in log\n",
      "  n_ij = - 0.5 * np.sum(np.log(2. * np.pi * self.sigma_[i, :]))\n",
      "/Users/maahirmawla/opt/anaconda3/lib/python3.9/site-packages/sklearn/naive_bayes.py:453: RuntimeWarning: invalid value encountered in true_divide\n",
      "  n_ij -= 0.5 * np.sum(((X - self.theta_[i, :]) ** 2) /\n",
      "/Users/maahirmawla/opt/anaconda3/lib/python3.9/site-packages/sklearn/naive_bayes.py:452: RuntimeWarning: divide by zero encountered in log\n",
      "  n_ij = - 0.5 * np.sum(np.log(2. * np.pi * self.sigma_[i, :]))\n",
      "/Users/maahirmawla/opt/anaconda3/lib/python3.9/site-packages/sklearn/naive_bayes.py:453: RuntimeWarning: invalid value encountered in true_divide\n",
      "  n_ij -= 0.5 * np.sum(((X - self.theta_[i, :]) ** 2) /\n"
     ]
    },
    {
     "name": "stdout",
     "output_type": "stream",
     "text": [
      "[2]\n",
      "198 Nkounkou\n",
      "[0]\n",
      "199 Tarkowski\n"
     ]
    },
    {
     "name": "stderr",
     "output_type": "stream",
     "text": [
      "/Users/maahirmawla/opt/anaconda3/lib/python3.9/site-packages/sklearn/naive_bayes.py:452: RuntimeWarning: divide by zero encountered in log\n",
      "  n_ij = - 0.5 * np.sum(np.log(2. * np.pi * self.sigma_[i, :]))\n",
      "/Users/maahirmawla/opt/anaconda3/lib/python3.9/site-packages/sklearn/naive_bayes.py:453: RuntimeWarning: invalid value encountered in true_divide\n",
      "  n_ij -= 0.5 * np.sum(((X - self.theta_[i, :]) ** 2) /\n",
      "/Users/maahirmawla/opt/anaconda3/lib/python3.9/site-packages/sklearn/naive_bayes.py:452: RuntimeWarning: divide by zero encountered in log\n",
      "  n_ij = - 0.5 * np.sum(np.log(2. * np.pi * self.sigma_[i, :]))\n",
      "/Users/maahirmawla/opt/anaconda3/lib/python3.9/site-packages/sklearn/naive_bayes.py:453: RuntimeWarning: invalid value encountered in true_divide\n",
      "  n_ij -= 0.5 * np.sum(((X - self.theta_[i, :]) ** 2) /\n"
     ]
    },
    {
     "name": "stdout",
     "output_type": "stream",
     "text": [
      "[2]\n",
      "475 Coady\n",
      "[2]\n",
      "531 Vinagre\n"
     ]
    },
    {
     "name": "stderr",
     "output_type": "stream",
     "text": [
      "/Users/maahirmawla/opt/anaconda3/lib/python3.9/site-packages/sklearn/naive_bayes.py:452: RuntimeWarning: divide by zero encountered in log\n",
      "  n_ij = - 0.5 * np.sum(np.log(2. * np.pi * self.sigma_[i, :]))\n",
      "/Users/maahirmawla/opt/anaconda3/lib/python3.9/site-packages/sklearn/naive_bayes.py:453: RuntimeWarning: invalid value encountered in true_divide\n",
      "  n_ij -= 0.5 * np.sum(((X - self.theta_[i, :]) ** 2) /\n",
      "/Users/maahirmawla/opt/anaconda3/lib/python3.9/site-packages/sklearn/naive_bayes.py:452: RuntimeWarning: divide by zero encountered in log\n",
      "  n_ij = - 0.5 * np.sum(np.log(2. * np.pi * self.sigma_[i, :]))\n",
      "/Users/maahirmawla/opt/anaconda3/lib/python3.9/site-packages/sklearn/naive_bayes.py:453: RuntimeWarning: invalid value encountered in true_divide\n",
      "  n_ij -= 0.5 * np.sum(((X - self.theta_[i, :]) ** 2) /\n",
      "/Users/maahirmawla/opt/anaconda3/lib/python3.9/site-packages/sklearn/naive_bayes.py:452: RuntimeWarning: divide by zero encountered in log\n",
      "  n_ij = - 0.5 * np.sum(np.log(2. * np.pi * self.sigma_[i, :]))\n",
      "/Users/maahirmawla/opt/anaconda3/lib/python3.9/site-packages/sklearn/naive_bayes.py:453: RuntimeWarning: invalid value encountered in true_divide\n",
      "  n_ij -= 0.5 * np.sum(((X - self.theta_[i, :]) ** 2) /\n",
      "/Users/maahirmawla/opt/anaconda3/lib/python3.9/site-packages/sklearn/naive_bayes.py:452: RuntimeWarning: divide by zero encountered in log\n",
      "  n_ij = - 0.5 * np.sum(np.log(2. * np.pi * self.sigma_[i, :]))\n",
      "/Users/maahirmawla/opt/anaconda3/lib/python3.9/site-packages/sklearn/naive_bayes.py:453: RuntimeWarning: invalid value encountered in true_divide\n",
      "  n_ij -= 0.5 * np.sum(((X - self.theta_[i, :]) ** 2) /\n"
     ]
    },
    {
     "name": "stdout",
     "output_type": "stream",
     "text": [
      "[0]\n",
      "534 McNeil\n",
      "[1]\n",
      "560 Mills\n"
     ]
    },
    {
     "name": "stderr",
     "output_type": "stream",
     "text": [
      "/Users/maahirmawla/opt/anaconda3/lib/python3.9/site-packages/sklearn/naive_bayes.py:452: RuntimeWarning: divide by zero encountered in log\n",
      "  n_ij = - 0.5 * np.sum(np.log(2. * np.pi * self.sigma_[i, :]))\n",
      "/Users/maahirmawla/opt/anaconda3/lib/python3.9/site-packages/sklearn/naive_bayes.py:453: RuntimeWarning: invalid value encountered in true_divide\n",
      "  n_ij -= 0.5 * np.sum(((X - self.theta_[i, :]) ** 2) /\n",
      "/Users/maahirmawla/opt/anaconda3/lib/python3.9/site-packages/sklearn/naive_bayes.py:452: RuntimeWarning: divide by zero encountered in log\n",
      "  n_ij = - 0.5 * np.sum(np.log(2. * np.pi * self.sigma_[i, :]))\n",
      "/Users/maahirmawla/opt/anaconda3/lib/python3.9/site-packages/sklearn/naive_bayes.py:453: RuntimeWarning: invalid value encountered in true_divide\n",
      "  n_ij -= 0.5 * np.sum(((X - self.theta_[i, :]) ** 2) /\n",
      "/Users/maahirmawla/opt/anaconda3/lib/python3.9/site-packages/sklearn/naive_bayes.py:452: RuntimeWarning: divide by zero encountered in log\n",
      "  n_ij = - 0.5 * np.sum(np.log(2. * np.pi * self.sigma_[i, :]))\n",
      "/Users/maahirmawla/opt/anaconda3/lib/python3.9/site-packages/sklearn/naive_bayes.py:453: RuntimeWarning: invalid value encountered in true_divide\n",
      "  n_ij -= 0.5 * np.sum(((X - self.theta_[i, :]) ** 2) /\n",
      "/Users/maahirmawla/opt/anaconda3/lib/python3.9/site-packages/sklearn/naive_bayes.py:452: RuntimeWarning: divide by zero encountered in log\n",
      "  n_ij = - 0.5 * np.sum(np.log(2. * np.pi * self.sigma_[i, :]))\n",
      "/Users/maahirmawla/opt/anaconda3/lib/python3.9/site-packages/sklearn/naive_bayes.py:453: RuntimeWarning: invalid value encountered in true_divide\n",
      "  n_ij -= 0.5 * np.sum(((X - self.theta_[i, :]) ** 2) /\n"
     ]
    },
    {
     "name": "stdout",
     "output_type": "stream",
     "text": [
      "[0]\n",
      "561 Warrington\n",
      "[0]\n",
      "570 Garner\n"
     ]
    },
    {
     "name": "stderr",
     "output_type": "stream",
     "text": [
      "/Users/maahirmawla/opt/anaconda3/lib/python3.9/site-packages/sklearn/naive_bayes.py:452: RuntimeWarning: divide by zero encountered in log\n",
      "  n_ij = - 0.5 * np.sum(np.log(2. * np.pi * self.sigma_[i, :]))\n",
      "/Users/maahirmawla/opt/anaconda3/lib/python3.9/site-packages/sklearn/naive_bayes.py:453: RuntimeWarning: invalid value encountered in true_divide\n",
      "  n_ij -= 0.5 * np.sum(((X - self.theta_[i, :]) ** 2) /\n",
      "/Users/maahirmawla/opt/anaconda3/lib/python3.9/site-packages/sklearn/naive_bayes.py:452: RuntimeWarning: divide by zero encountered in log\n",
      "  n_ij = - 0.5 * np.sum(np.log(2. * np.pi * self.sigma_[i, :]))\n",
      "/Users/maahirmawla/opt/anaconda3/lib/python3.9/site-packages/sklearn/naive_bayes.py:453: RuntimeWarning: invalid value encountered in true_divide\n",
      "  n_ij -= 0.5 * np.sum(((X - self.theta_[i, :]) ** 2) /\n"
     ]
    },
    {
     "name": "stdout",
     "output_type": "stream",
     "text": [
      "[0]\n",
      "577 Onana\n",
      "[2]\n",
      "605 Welch\n"
     ]
    },
    {
     "name": "stderr",
     "output_type": "stream",
     "text": [
      "/Users/maahirmawla/opt/anaconda3/lib/python3.9/site-packages/sklearn/naive_bayes.py:452: RuntimeWarning: divide by zero encountered in log\n",
      "  n_ij = - 0.5 * np.sum(np.log(2. * np.pi * self.sigma_[i, :]))\n",
      "/Users/maahirmawla/opt/anaconda3/lib/python3.9/site-packages/sklearn/naive_bayes.py:453: RuntimeWarning: invalid value encountered in true_divide\n",
      "  n_ij -= 0.5 * np.sum(((X - self.theta_[i, :]) ** 2) /\n",
      "/Users/maahirmawla/opt/anaconda3/lib/python3.9/site-packages/sklearn/naive_bayes.py:452: RuntimeWarning: divide by zero encountered in log\n",
      "  n_ij = - 0.5 * np.sum(np.log(2. * np.pi * self.sigma_[i, :]))\n",
      "/Users/maahirmawla/opt/anaconda3/lib/python3.9/site-packages/sklearn/naive_bayes.py:453: RuntimeWarning: invalid value encountered in true_divide\n",
      "  n_ij -= 0.5 * np.sum(((X - self.theta_[i, :]) ** 2) /\n"
     ]
    },
    {
     "name": "stdout",
     "output_type": "stream",
     "text": [
      "[0]\n",
      "611 Gueye\n"
     ]
    },
    {
     "name": "stderr",
     "output_type": "stream",
     "text": [
      "/Users/maahirmawla/opt/anaconda3/lib/python3.9/site-packages/sklearn/naive_bayes.py:452: RuntimeWarning: divide by zero encountered in log\n",
      "  n_ij = - 0.5 * np.sum(np.log(2. * np.pi * self.sigma_[i, :]))\n",
      "/Users/maahirmawla/opt/anaconda3/lib/python3.9/site-packages/sklearn/naive_bayes.py:453: RuntimeWarning: invalid value encountered in true_divide\n",
      "  n_ij -= 0.5 * np.sum(((X - self.theta_[i, :]) ** 2) /\n",
      "/Users/maahirmawla/opt/anaconda3/lib/python3.9/site-packages/sklearn/naive_bayes.py:452: RuntimeWarning: divide by zero encountered in log\n",
      "  n_ij = - 0.5 * np.sum(np.log(2. * np.pi * self.sigma_[i, :]))\n",
      "/Users/maahirmawla/opt/anaconda3/lib/python3.9/site-packages/sklearn/naive_bayes.py:453: RuntimeWarning: invalid value encountered in true_divide\n",
      "  n_ij -= 0.5 * np.sum(((X - self.theta_[i, :]) ** 2) /\n"
     ]
    },
    {
     "name": "stdout",
     "output_type": "stream",
     "text": [
      "[1]\n",
      "2 Leno\n"
     ]
    },
    {
     "name": "stderr",
     "output_type": "stream",
     "text": [
      "/Users/maahirmawla/opt/anaconda3/lib/python3.9/site-packages/sklearn/naive_bayes.py:452: RuntimeWarning: divide by zero encountered in log\n",
      "  n_ij = - 0.5 * np.sum(np.log(2. * np.pi * self.sigma_[i, :]))\n",
      "/Users/maahirmawla/opt/anaconda3/lib/python3.9/site-packages/sklearn/naive_bayes.py:453: RuntimeWarning: invalid value encountered in true_divide\n",
      "  n_ij -= 0.5 * np.sum(((X - self.theta_[i, :]) ** 2) /\n",
      "/Users/maahirmawla/opt/anaconda3/lib/python3.9/site-packages/sklearn/naive_bayes.py:452: RuntimeWarning: divide by zero encountered in log\n",
      "  n_ij = - 0.5 * np.sum(np.log(2. * np.pi * self.sigma_[i, :]))\n",
      "/Users/maahirmawla/opt/anaconda3/lib/python3.9/site-packages/sklearn/naive_bayes.py:453: RuntimeWarning: invalid value encountered in true_divide\n",
      "  n_ij -= 0.5 * np.sum(((X - self.theta_[i, :]) ** 2) /\n",
      "/Users/maahirmawla/opt/anaconda3/lib/python3.9/site-packages/sklearn/naive_bayes.py:452: RuntimeWarning: divide by zero encountered in log\n",
      "  n_ij = - 0.5 * np.sum(np.log(2. * np.pi * self.sigma_[i, :]))\n",
      "/Users/maahirmawla/opt/anaconda3/lib/python3.9/site-packages/sklearn/naive_bayes.py:453: RuntimeWarning: invalid value encountered in true_divide\n",
      "  n_ij -= 0.5 * np.sum(((X - self.theta_[i, :]) ** 2) /\n",
      "/Users/maahirmawla/opt/anaconda3/lib/python3.9/site-packages/sklearn/naive_bayes.py:452: RuntimeWarning: divide by zero encountered in log\n",
      "  n_ij = - 0.5 * np.sum(np.log(2. * np.pi * self.sigma_[i, :]))\n",
      "/Users/maahirmawla/opt/anaconda3/lib/python3.9/site-packages/sklearn/naive_bayes.py:453: RuntimeWarning: invalid value encountered in true_divide\n",
      "  n_ij -= 0.5 * np.sum(((X - self.theta_[i, :]) ** 2) /\n"
     ]
    },
    {
     "name": "stdout",
     "output_type": "stream",
     "text": [
      "[0]\n",
      "105 Duffy\n",
      "[0]\n",
      "200 Cairney\n"
     ]
    },
    {
     "name": "stderr",
     "output_type": "stream",
     "text": [
      "/Users/maahirmawla/opt/anaconda3/lib/python3.9/site-packages/sklearn/naive_bayes.py:452: RuntimeWarning: divide by zero encountered in log\n",
      "  n_ij = - 0.5 * np.sum(np.log(2. * np.pi * self.sigma_[i, :]))\n",
      "/Users/maahirmawla/opt/anaconda3/lib/python3.9/site-packages/sklearn/naive_bayes.py:453: RuntimeWarning: invalid value encountered in true_divide\n",
      "  n_ij -= 0.5 * np.sum(((X - self.theta_[i, :]) ** 2) /\n",
      "/Users/maahirmawla/opt/anaconda3/lib/python3.9/site-packages/sklearn/naive_bayes.py:452: RuntimeWarning: divide by zero encountered in log\n",
      "  n_ij = - 0.5 * np.sum(np.log(2. * np.pi * self.sigma_[i, :]))\n",
      "/Users/maahirmawla/opt/anaconda3/lib/python3.9/site-packages/sklearn/naive_bayes.py:453: RuntimeWarning: invalid value encountered in true_divide\n",
      "  n_ij -= 0.5 * np.sum(((X - self.theta_[i, :]) ** 2) /\n"
     ]
    },
    {
     "name": "stdout",
     "output_type": "stream",
     "text": [
      "[1]\n",
      "201 Ream\n"
     ]
    },
    {
     "name": "stderr",
     "output_type": "stream",
     "text": [
      "/Users/maahirmawla/opt/anaconda3/lib/python3.9/site-packages/sklearn/naive_bayes.py:452: RuntimeWarning: divide by zero encountered in log\n",
      "  n_ij = - 0.5 * np.sum(np.log(2. * np.pi * self.sigma_[i, :]))\n",
      "/Users/maahirmawla/opt/anaconda3/lib/python3.9/site-packages/sklearn/naive_bayes.py:453: RuntimeWarning: invalid value encountered in true_divide\n",
      "  n_ij -= 0.5 * np.sum(((X - self.theta_[i, :]) ** 2) /\n",
      "/Users/maahirmawla/opt/anaconda3/lib/python3.9/site-packages/sklearn/naive_bayes.py:452: RuntimeWarning: divide by zero encountered in log\n",
      "  n_ij = - 0.5 * np.sum(np.log(2. * np.pi * self.sigma_[i, :]))\n",
      "/Users/maahirmawla/opt/anaconda3/lib/python3.9/site-packages/sklearn/naive_bayes.py:453: RuntimeWarning: invalid value encountered in true_divide\n",
      "  n_ij -= 0.5 * np.sum(((X - self.theta_[i, :]) ** 2) /\n"
     ]
    },
    {
     "name": "stdout",
     "output_type": "stream",
     "text": [
      "[1]\n",
      "202 Knockaert\n",
      "[0]\n",
      "203 Chalobah\n"
     ]
    },
    {
     "name": "stderr",
     "output_type": "stream",
     "text": [
      "/Users/maahirmawla/opt/anaconda3/lib/python3.9/site-packages/sklearn/naive_bayes.py:452: RuntimeWarning: divide by zero encountered in log\n",
      "  n_ij = - 0.5 * np.sum(np.log(2. * np.pi * self.sigma_[i, :]))\n",
      "/Users/maahirmawla/opt/anaconda3/lib/python3.9/site-packages/sklearn/naive_bayes.py:453: RuntimeWarning: invalid value encountered in true_divide\n",
      "  n_ij -= 0.5 * np.sum(((X - self.theta_[i, :]) ** 2) /\n",
      "/Users/maahirmawla/opt/anaconda3/lib/python3.9/site-packages/sklearn/naive_bayes.py:452: RuntimeWarning: divide by zero encountered in log\n",
      "  n_ij = - 0.5 * np.sum(np.log(2. * np.pi * self.sigma_[i, :]))\n",
      "/Users/maahirmawla/opt/anaconda3/lib/python3.9/site-packages/sklearn/naive_bayes.py:453: RuntimeWarning: invalid value encountered in true_divide\n",
      "  n_ij -= 0.5 * np.sum(((X - self.theta_[i, :]) ** 2) /\n"
     ]
    },
    {
     "name": "stdout",
     "output_type": "stream",
     "text": [
      "[0]\n",
      "204 Kebano\n",
      "[2]\n",
      "205 De Cordova-Reid\n",
      "[1]\n",
      "206 Bryan\n"
     ]
    },
    {
     "name": "stderr",
     "output_type": "stream",
     "text": [
      "/Users/maahirmawla/opt/anaconda3/lib/python3.9/site-packages/sklearn/naive_bayes.py:452: RuntimeWarning: divide by zero encountered in log\n",
      "  n_ij = - 0.5 * np.sum(np.log(2. * np.pi * self.sigma_[i, :]))\n",
      "/Users/maahirmawla/opt/anaconda3/lib/python3.9/site-packages/sklearn/naive_bayes.py:453: RuntimeWarning: invalid value encountered in true_divide\n",
      "  n_ij -= 0.5 * np.sum(((X - self.theta_[i, :]) ** 2) /\n",
      "/Users/maahirmawla/opt/anaconda3/lib/python3.9/site-packages/sklearn/naive_bayes.py:452: RuntimeWarning: divide by zero encountered in log\n",
      "  n_ij = - 0.5 * np.sum(np.log(2. * np.pi * self.sigma_[i, :]))\n",
      "/Users/maahirmawla/opt/anaconda3/lib/python3.9/site-packages/sklearn/naive_bayes.py:453: RuntimeWarning: invalid value encountered in true_divide\n",
      "  n_ij -= 0.5 * np.sum(((X - self.theta_[i, :]) ** 2) /\n"
     ]
    },
    {
     "name": "stdout",
     "output_type": "stream",
     "text": [
      "[0]\n",
      "207 Gazzaniga\n"
     ]
    },
    {
     "name": "stderr",
     "output_type": "stream",
     "text": [
      "/Users/maahirmawla/opt/anaconda3/lib/python3.9/site-packages/sklearn/naive_bayes.py:452: RuntimeWarning: divide by zero encountered in log\n",
      "  n_ij = - 0.5 * np.sum(np.log(2. * np.pi * self.sigma_[i, :]))\n",
      "/Users/maahirmawla/opt/anaconda3/lib/python3.9/site-packages/sklearn/naive_bayes.py:453: RuntimeWarning: invalid value encountered in true_divide\n",
      "  n_ij -= 0.5 * np.sum(((X - self.theta_[i, :]) ** 2) /\n",
      "/Users/maahirmawla/opt/anaconda3/lib/python3.9/site-packages/sklearn/naive_bayes.py:452: RuntimeWarning: divide by zero encountered in log\n",
      "  n_ij = - 0.5 * np.sum(np.log(2. * np.pi * self.sigma_[i, :]))\n",
      "/Users/maahirmawla/opt/anaconda3/lib/python3.9/site-packages/sklearn/naive_bayes.py:453: RuntimeWarning: invalid value encountered in true_divide\n",
      "  n_ij -= 0.5 * np.sum(((X - self.theta_[i, :]) ** 2) /\n"
     ]
    },
    {
     "name": "stdout",
     "output_type": "stream",
     "text": [
      "[0]\n",
      "208 Kongolo\n"
     ]
    },
    {
     "name": "stderr",
     "output_type": "stream",
     "text": [
      "/Users/maahirmawla/opt/anaconda3/lib/python3.9/site-packages/sklearn/naive_bayes.py:452: RuntimeWarning: divide by zero encountered in log\n",
      "  n_ij = - 0.5 * np.sum(np.log(2. * np.pi * self.sigma_[i, :]))\n",
      "/Users/maahirmawla/opt/anaconda3/lib/python3.9/site-packages/sklearn/naive_bayes.py:453: RuntimeWarning: invalid value encountered in true_divide\n",
      "  n_ij -= 0.5 * np.sum(((X - self.theta_[i, :]) ** 2) /\n",
      "/Users/maahirmawla/opt/anaconda3/lib/python3.9/site-packages/sklearn/naive_bayes.py:452: RuntimeWarning: divide by zero encountered in log\n",
      "  n_ij = - 0.5 * np.sum(np.log(2. * np.pi * self.sigma_[i, :]))\n",
      "/Users/maahirmawla/opt/anaconda3/lib/python3.9/site-packages/sklearn/naive_bayes.py:453: RuntimeWarning: invalid value encountered in true_divide\n",
      "  n_ij -= 0.5 * np.sum(((X - self.theta_[i, :]) ** 2) /\n"
     ]
    },
    {
     "name": "stdout",
     "output_type": "stream",
     "text": [
      "[0]\n",
      "209 Tosin\n",
      "[1]\n",
      "210 Mitrović\n",
      "[5]\n",
      "211 Reed\n",
      "[2]\n",
      "212 Wilson\n",
      "[0]\n",
      "213 Rodák\n"
     ]
    },
    {
     "name": "stderr",
     "output_type": "stream",
     "text": [
      "/Users/maahirmawla/opt/anaconda3/lib/python3.9/site-packages/sklearn/naive_bayes.py:452: RuntimeWarning: divide by zero encountered in log\n",
      "  n_ij = - 0.5 * np.sum(np.log(2. * np.pi * self.sigma_[i, :]))\n",
      "/Users/maahirmawla/opt/anaconda3/lib/python3.9/site-packages/sklearn/naive_bayes.py:453: RuntimeWarning: invalid value encountered in true_divide\n",
      "  n_ij -= 0.5 * np.sum(((X - self.theta_[i, :]) ** 2) /\n",
      "/Users/maahirmawla/opt/anaconda3/lib/python3.9/site-packages/sklearn/naive_bayes.py:452: RuntimeWarning: divide by zero encountered in log\n",
      "  n_ij = - 0.5 * np.sum(np.log(2. * np.pi * self.sigma_[i, :]))\n",
      "/Users/maahirmawla/opt/anaconda3/lib/python3.9/site-packages/sklearn/naive_bayes.py:453: RuntimeWarning: invalid value encountered in true_divide\n",
      "  n_ij -= 0.5 * np.sum(((X - self.theta_[i, :]) ** 2) /\n"
     ]
    },
    {
     "name": "stdout",
     "output_type": "stream",
     "text": [
      "[0]\n",
      "214 Cavaleiro\n",
      "[0]\n",
      "215 Tete\n"
     ]
    },
    {
     "name": "stderr",
     "output_type": "stream",
     "text": [
      "/Users/maahirmawla/opt/anaconda3/lib/python3.9/site-packages/sklearn/naive_bayes.py:452: RuntimeWarning: divide by zero encountered in log\n",
      "  n_ij = - 0.5 * np.sum(np.log(2. * np.pi * self.sigma_[i, :]))\n",
      "/Users/maahirmawla/opt/anaconda3/lib/python3.9/site-packages/sklearn/naive_bayes.py:453: RuntimeWarning: invalid value encountered in true_divide\n",
      "  n_ij -= 0.5 * np.sum(((X - self.theta_[i, :]) ** 2) /\n",
      "/Users/maahirmawla/opt/anaconda3/lib/python3.9/site-packages/sklearn/naive_bayes.py:452: RuntimeWarning: divide by zero encountered in log\n",
      "  n_ij = - 0.5 * np.sum(np.log(2. * np.pi * self.sigma_[i, :]))\n",
      "/Users/maahirmawla/opt/anaconda3/lib/python3.9/site-packages/sklearn/naive_bayes.py:453: RuntimeWarning: invalid value encountered in true_divide\n",
      "  n_ij -= 0.5 * np.sum(((X - self.theta_[i, :]) ** 2) /\n"
     ]
    },
    {
     "name": "stdout",
     "output_type": "stream",
     "text": [
      "[2]\n",
      "216 Onomah\n"
     ]
    },
    {
     "name": "stderr",
     "output_type": "stream",
     "text": [
      "/Users/maahirmawla/opt/anaconda3/lib/python3.9/site-packages/sklearn/naive_bayes.py:452: RuntimeWarning: divide by zero encountered in log\n",
      "  n_ij = - 0.5 * np.sum(np.log(2. * np.pi * self.sigma_[i, :]))\n",
      "/Users/maahirmawla/opt/anaconda3/lib/python3.9/site-packages/sklearn/naive_bayes.py:453: RuntimeWarning: invalid value encountered in true_divide\n",
      "  n_ij -= 0.5 * np.sum(((X - self.theta_[i, :]) ** 2) /\n",
      "/Users/maahirmawla/opt/anaconda3/lib/python3.9/site-packages/sklearn/naive_bayes.py:452: RuntimeWarning: divide by zero encountered in log\n",
      "  n_ij = - 0.5 * np.sum(np.log(2. * np.pi * self.sigma_[i, :]))\n",
      "/Users/maahirmawla/opt/anaconda3/lib/python3.9/site-packages/sklearn/naive_bayes.py:453: RuntimeWarning: invalid value encountered in true_divide\n",
      "  n_ij -= 0.5 * np.sum(((X - self.theta_[i, :]) ** 2) /\n"
     ]
    },
    {
     "name": "stdout",
     "output_type": "stream",
     "text": [
      "[0]\n",
      "217 Robinson\n",
      "[1]\n",
      "218 Muniz\n"
     ]
    },
    {
     "name": "stderr",
     "output_type": "stream",
     "text": [
      "/Users/maahirmawla/opt/anaconda3/lib/python3.9/site-packages/sklearn/naive_bayes.py:452: RuntimeWarning: divide by zero encountered in log\n",
      "  n_ij = - 0.5 * np.sum(np.log(2. * np.pi * self.sigma_[i, :]))\n",
      "/Users/maahirmawla/opt/anaconda3/lib/python3.9/site-packages/sklearn/naive_bayes.py:453: RuntimeWarning: invalid value encountered in true_divide\n",
      "  n_ij -= 0.5 * np.sum(((X - self.theta_[i, :]) ** 2) /\n",
      "/Users/maahirmawla/opt/anaconda3/lib/python3.9/site-packages/sklearn/naive_bayes.py:452: RuntimeWarning: divide by zero encountered in log\n",
      "  n_ij = - 0.5 * np.sum(np.log(2. * np.pi * self.sigma_[i, :]))\n",
      "/Users/maahirmawla/opt/anaconda3/lib/python3.9/site-packages/sklearn/naive_bayes.py:453: RuntimeWarning: invalid value encountered in true_divide\n",
      "  n_ij -= 0.5 * np.sum(((X - self.theta_[i, :]) ** 2) /\n",
      "/Users/maahirmawla/opt/anaconda3/lib/python3.9/site-packages/sklearn/naive_bayes.py:452: RuntimeWarning: divide by zero encountered in log\n",
      "  n_ij = - 0.5 * np.sum(np.log(2. * np.pi * self.sigma_[i, :]))\n",
      "/Users/maahirmawla/opt/anaconda3/lib/python3.9/site-packages/sklearn/naive_bayes.py:453: RuntimeWarning: invalid value encountered in true_divide\n",
      "  n_ij -= 0.5 * np.sum(((X - self.theta_[i, :]) ** 2) /\n",
      "/Users/maahirmawla/opt/anaconda3/lib/python3.9/site-packages/sklearn/naive_bayes.py:452: RuntimeWarning: divide by zero encountered in log\n",
      "  n_ij = - 0.5 * np.sum(np.log(2. * np.pi * self.sigma_[i, :]))\n",
      "/Users/maahirmawla/opt/anaconda3/lib/python3.9/site-packages/sklearn/naive_bayes.py:453: RuntimeWarning: invalid value encountered in true_divide\n",
      "  n_ij -= 0.5 * np.sum(((X - self.theta_[i, :]) ** 2) /\n"
     ]
    },
    {
     "name": "stdout",
     "output_type": "stream",
     "text": [
      "[0]\n",
      "219 Stansfield\n",
      "[0]\n",
      "220 Palhinha\n",
      "[2]\n",
      "231 James\n",
      "[1]\n",
      "346 Andreas\n",
      "[2]\n",
      "470 Diop\n",
      "[0]\n",
      "521 Francois\n"
     ]
    },
    {
     "name": "stderr",
     "output_type": "stream",
     "text": [
      "/Users/maahirmawla/opt/anaconda3/lib/python3.9/site-packages/sklearn/naive_bayes.py:452: RuntimeWarning: divide by zero encountered in log\n",
      "  n_ij = - 0.5 * np.sum(np.log(2. * np.pi * self.sigma_[i, :]))\n",
      "/Users/maahirmawla/opt/anaconda3/lib/python3.9/site-packages/sklearn/naive_bayes.py:453: RuntimeWarning: invalid value encountered in true_divide\n",
      "  n_ij -= 0.5 * np.sum(((X - self.theta_[i, :]) ** 2) /\n",
      "/Users/maahirmawla/opt/anaconda3/lib/python3.9/site-packages/sklearn/naive_bayes.py:452: RuntimeWarning: divide by zero encountered in log\n",
      "  n_ij = - 0.5 * np.sum(np.log(2. * np.pi * self.sigma_[i, :]))\n",
      "/Users/maahirmawla/opt/anaconda3/lib/python3.9/site-packages/sklearn/naive_bayes.py:453: RuntimeWarning: invalid value encountered in true_divide\n",
      "  n_ij -= 0.5 * np.sum(((X - self.theta_[i, :]) ** 2) /\n",
      "/Users/maahirmawla/opt/anaconda3/lib/python3.9/site-packages/sklearn/naive_bayes.py:452: RuntimeWarning: divide by zero encountered in log\n",
      "  n_ij = - 0.5 * np.sum(np.log(2. * np.pi * self.sigma_[i, :]))\n",
      "/Users/maahirmawla/opt/anaconda3/lib/python3.9/site-packages/sklearn/naive_bayes.py:453: RuntimeWarning: invalid value encountered in true_divide\n",
      "  n_ij -= 0.5 * np.sum(((X - self.theta_[i, :]) ** 2) /\n",
      "/Users/maahirmawla/opt/anaconda3/lib/python3.9/site-packages/sklearn/naive_bayes.py:452: RuntimeWarning: divide by zero encountered in log\n",
      "  n_ij = - 0.5 * np.sum(np.log(2. * np.pi * self.sigma_[i, :]))\n",
      "/Users/maahirmawla/opt/anaconda3/lib/python3.9/site-packages/sklearn/naive_bayes.py:453: RuntimeWarning: invalid value encountered in true_divide\n",
      "  n_ij -= 0.5 * np.sum(((X - self.theta_[i, :]) ** 2) /\n"
     ]
    },
    {
     "name": "stdout",
     "output_type": "stream",
     "text": [
      "[0]\n",
      "532 Mbabu\n",
      "[0]\n",
      "546 Harris\n"
     ]
    },
    {
     "name": "stderr",
     "output_type": "stream",
     "text": [
      "/Users/maahirmawla/opt/anaconda3/lib/python3.9/site-packages/sklearn/naive_bayes.py:452: RuntimeWarning: divide by zero encountered in log\n",
      "  n_ij = - 0.5 * np.sum(np.log(2. * np.pi * self.sigma_[i, :]))\n",
      "/Users/maahirmawla/opt/anaconda3/lib/python3.9/site-packages/sklearn/naive_bayes.py:453: RuntimeWarning: invalid value encountered in true_divide\n",
      "  n_ij -= 0.5 * np.sum(((X - self.theta_[i, :]) ** 2) /\n",
      "/Users/maahirmawla/opt/anaconda3/lib/python3.9/site-packages/sklearn/naive_bayes.py:452: RuntimeWarning: divide by zero encountered in log\n",
      "  n_ij = - 0.5 * np.sum(np.log(2. * np.pi * self.sigma_[i, :]))\n",
      "/Users/maahirmawla/opt/anaconda3/lib/python3.9/site-packages/sklearn/naive_bayes.py:453: RuntimeWarning: invalid value encountered in true_divide\n",
      "  n_ij -= 0.5 * np.sum(((X - self.theta_[i, :]) ** 2) /\n",
      "/Users/maahirmawla/opt/anaconda3/lib/python3.9/site-packages/sklearn/naive_bayes.py:452: RuntimeWarning: divide by zero encountered in log\n",
      "  n_ij = - 0.5 * np.sum(np.log(2. * np.pi * self.sigma_[i, :]))\n",
      "/Users/maahirmawla/opt/anaconda3/lib/python3.9/site-packages/sklearn/naive_bayes.py:453: RuntimeWarning: invalid value encountered in true_divide\n",
      "  n_ij -= 0.5 * np.sum(((X - self.theta_[i, :]) ** 2) /\n",
      "/Users/maahirmawla/opt/anaconda3/lib/python3.9/site-packages/sklearn/naive_bayes.py:452: RuntimeWarning: divide by zero encountered in log\n",
      "  n_ij = - 0.5 * np.sum(np.log(2. * np.pi * self.sigma_[i, :]))\n",
      "/Users/maahirmawla/opt/anaconda3/lib/python3.9/site-packages/sklearn/naive_bayes.py:453: RuntimeWarning: invalid value encountered in true_divide\n",
      "  n_ij -= 0.5 * np.sum(((X - self.theta_[i, :]) ** 2) /\n"
     ]
    },
    {
     "name": "stdout",
     "output_type": "stream",
     "text": [
      "[0]\n",
      "562 Solomon\n",
      "[0]\n",
      "591 Ablade\n"
     ]
    },
    {
     "name": "stderr",
     "output_type": "stream",
     "text": [
      "/Users/maahirmawla/opt/anaconda3/lib/python3.9/site-packages/sklearn/naive_bayes.py:452: RuntimeWarning: divide by zero encountered in log\n",
      "  n_ij = - 0.5 * np.sum(np.log(2. * np.pi * self.sigma_[i, :]))\n",
      "/Users/maahirmawla/opt/anaconda3/lib/python3.9/site-packages/sklearn/naive_bayes.py:453: RuntimeWarning: invalid value encountered in true_divide\n",
      "  n_ij -= 0.5 * np.sum(((X - self.theta_[i, :]) ** 2) /\n",
      "/Users/maahirmawla/opt/anaconda3/lib/python3.9/site-packages/sklearn/naive_bayes.py:452: RuntimeWarning: divide by zero encountered in log\n",
      "  n_ij = - 0.5 * np.sum(np.log(2. * np.pi * self.sigma_[i, :]))\n",
      "/Users/maahirmawla/opt/anaconda3/lib/python3.9/site-packages/sklearn/naive_bayes.py:453: RuntimeWarning: invalid value encountered in true_divide\n",
      "  n_ij -= 0.5 * np.sum(((X - self.theta_[i, :]) ** 2) /\n",
      "/Users/maahirmawla/opt/anaconda3/lib/python3.9/site-packages/sklearn/naive_bayes.py:452: RuntimeWarning: divide by zero encountered in log\n",
      "  n_ij = - 0.5 * np.sum(np.log(2. * np.pi * self.sigma_[i, :]))\n",
      "/Users/maahirmawla/opt/anaconda3/lib/python3.9/site-packages/sklearn/naive_bayes.py:453: RuntimeWarning: invalid value encountered in true_divide\n",
      "  n_ij -= 0.5 * np.sum(((X - self.theta_[i, :]) ** 2) /\n",
      "/Users/maahirmawla/opt/anaconda3/lib/python3.9/site-packages/sklearn/naive_bayes.py:452: RuntimeWarning: divide by zero encountered in log\n",
      "  n_ij = - 0.5 * np.sum(np.log(2. * np.pi * self.sigma_[i, :]))\n",
      "/Users/maahirmawla/opt/anaconda3/lib/python3.9/site-packages/sklearn/naive_bayes.py:453: RuntimeWarning: invalid value encountered in true_divide\n",
      "  n_ij -= 0.5 * np.sum(((X - self.theta_[i, :]) ** 2) /\n"
     ]
    },
    {
     "name": "stdout",
     "output_type": "stream",
     "text": [
      "[0]\n",
      "613 Kurzawa\n",
      "[0]\n",
      "614 Willian\n"
     ]
    },
    {
     "name": "stderr",
     "output_type": "stream",
     "text": [
      "/Users/maahirmawla/opt/anaconda3/lib/python3.9/site-packages/sklearn/naive_bayes.py:452: RuntimeWarning: divide by zero encountered in log\n",
      "  n_ij = - 0.5 * np.sum(np.log(2. * np.pi * self.sigma_[i, :]))\n",
      "/Users/maahirmawla/opt/anaconda3/lib/python3.9/site-packages/sklearn/naive_bayes.py:453: RuntimeWarning: invalid value encountered in true_divide\n",
      "  n_ij -= 0.5 * np.sum(((X - self.theta_[i, :]) ** 2) /\n",
      "/Users/maahirmawla/opt/anaconda3/lib/python3.9/site-packages/sklearn/naive_bayes.py:452: RuntimeWarning: divide by zero encountered in log\n",
      "  n_ij = - 0.5 * np.sum(np.log(2. * np.pi * self.sigma_[i, :]))\n",
      "/Users/maahirmawla/opt/anaconda3/lib/python3.9/site-packages/sklearn/naive_bayes.py:453: RuntimeWarning: invalid value encountered in true_divide\n",
      "  n_ij -= 0.5 * np.sum(((X - self.theta_[i, :]) ** 2) /\n",
      "/Users/maahirmawla/opt/anaconda3/lib/python3.9/site-packages/sklearn/naive_bayes.py:452: RuntimeWarning: divide by zero encountered in log\n",
      "  n_ij = - 0.5 * np.sum(np.log(2. * np.pi * self.sigma_[i, :]))\n",
      "/Users/maahirmawla/opt/anaconda3/lib/python3.9/site-packages/sklearn/naive_bayes.py:453: RuntimeWarning: invalid value encountered in true_divide\n",
      "  n_ij -= 0.5 * np.sum(((X - self.theta_[i, :]) ** 2) /\n",
      "/Users/maahirmawla/opt/anaconda3/lib/python3.9/site-packages/sklearn/naive_bayes.py:452: RuntimeWarning: divide by zero encountered in log\n",
      "  n_ij = - 0.5 * np.sum(np.log(2. * np.pi * self.sigma_[i, :]))\n",
      "/Users/maahirmawla/opt/anaconda3/lib/python3.9/site-packages/sklearn/naive_bayes.py:453: RuntimeWarning: invalid value encountered in true_divide\n",
      "  n_ij -= 0.5 * np.sum(((X - self.theta_[i, :]) ** 2) /\n"
     ]
    },
    {
     "name": "stdout",
     "output_type": "stream",
     "text": [
      "[1]\n",
      "618 Vinícius\n"
     ]
    },
    {
     "name": "stderr",
     "output_type": "stream",
     "text": [
      "/Users/maahirmawla/opt/anaconda3/lib/python3.9/site-packages/sklearn/naive_bayes.py:452: RuntimeWarning: divide by zero encountered in log\n",
      "  n_ij = - 0.5 * np.sum(np.log(2. * np.pi * self.sigma_[i, :]))\n",
      "/Users/maahirmawla/opt/anaconda3/lib/python3.9/site-packages/sklearn/naive_bayes.py:453: RuntimeWarning: invalid value encountered in true_divide\n",
      "  n_ij -= 0.5 * np.sum(((X - self.theta_[i, :]) ** 2) /\n",
      "/Users/maahirmawla/opt/anaconda3/lib/python3.9/site-packages/sklearn/naive_bayes.py:452: RuntimeWarning: divide by zero encountered in log\n",
      "  n_ij = - 0.5 * np.sum(np.log(2. * np.pi * self.sigma_[i, :]))\n",
      "/Users/maahirmawla/opt/anaconda3/lib/python3.9/site-packages/sklearn/naive_bayes.py:453: RuntimeWarning: invalid value encountered in true_divide\n",
      "  n_ij -= 0.5 * np.sum(((X - self.theta_[i, :]) ** 2) /\n"
     ]
    },
    {
     "name": "stdout",
     "output_type": "stream",
     "text": [
      "[1]\n",
      "248 Schmeichel\n"
     ]
    },
    {
     "name": "stderr",
     "output_type": "stream",
     "text": [
      "/Users/maahirmawla/opt/anaconda3/lib/python3.9/site-packages/sklearn/naive_bayes.py:452: RuntimeWarning: divide by zero encountered in log\n",
      "  n_ij = - 0.5 * np.sum(np.log(2. * np.pi * self.sigma_[i, :]))\n",
      "/Users/maahirmawla/opt/anaconda3/lib/python3.9/site-packages/sklearn/naive_bayes.py:453: RuntimeWarning: invalid value encountered in true_divide\n",
      "  n_ij -= 0.5 * np.sum(((X - self.theta_[i, :]) ** 2) /\n",
      "/Users/maahirmawla/opt/anaconda3/lib/python3.9/site-packages/sklearn/naive_bayes.py:452: RuntimeWarning: divide by zero encountered in log\n",
      "  n_ij = - 0.5 * np.sum(np.log(2. * np.pi * self.sigma_[i, :]))\n",
      "/Users/maahirmawla/opt/anaconda3/lib/python3.9/site-packages/sklearn/naive_bayes.py:453: RuntimeWarning: invalid value encountered in true_divide\n",
      "  n_ij -= 0.5 * np.sum(((X - self.theta_[i, :]) ** 2) /\n"
     ]
    },
    {
     "name": "stdout",
     "output_type": "stream",
     "text": [
      "[0]\n",
      "249 Evans\n"
     ]
    },
    {
     "name": "stderr",
     "output_type": "stream",
     "text": [
      "/Users/maahirmawla/opt/anaconda3/lib/python3.9/site-packages/sklearn/naive_bayes.py:452: RuntimeWarning: divide by zero encountered in log\n",
      "  n_ij = - 0.5 * np.sum(np.log(2. * np.pi * self.sigma_[i, :]))\n",
      "/Users/maahirmawla/opt/anaconda3/lib/python3.9/site-packages/sklearn/naive_bayes.py:453: RuntimeWarning: invalid value encountered in true_divide\n",
      "  n_ij -= 0.5 * np.sum(((X - self.theta_[i, :]) ** 2) /\n",
      "/Users/maahirmawla/opt/anaconda3/lib/python3.9/site-packages/sklearn/naive_bayes.py:452: RuntimeWarning: divide by zero encountered in log\n",
      "  n_ij = - 0.5 * np.sum(np.log(2. * np.pi * self.sigma_[i, :]))\n",
      "/Users/maahirmawla/opt/anaconda3/lib/python3.9/site-packages/sklearn/naive_bayes.py:453: RuntimeWarning: invalid value encountered in true_divide\n",
      "  n_ij -= 0.5 * np.sum(((X - self.theta_[i, :]) ** 2) /\n",
      "/Users/maahirmawla/opt/anaconda3/lib/python3.9/site-packages/sklearn/naive_bayes.py:452: RuntimeWarning: divide by zero encountered in log\n",
      "  n_ij = - 0.5 * np.sum(np.log(2. * np.pi * self.sigma_[i, :]))\n",
      "/Users/maahirmawla/opt/anaconda3/lib/python3.9/site-packages/sklearn/naive_bayes.py:453: RuntimeWarning: invalid value encountered in true_divide\n",
      "  n_ij -= 0.5 * np.sum(((X - self.theta_[i, :]) ** 2) /\n",
      "/Users/maahirmawla/opt/anaconda3/lib/python3.9/site-packages/sklearn/naive_bayes.py:452: RuntimeWarning: divide by zero encountered in log\n",
      "  n_ij = - 0.5 * np.sum(np.log(2. * np.pi * self.sigma_[i, :]))\n",
      "/Users/maahirmawla/opt/anaconda3/lib/python3.9/site-packages/sklearn/naive_bayes.py:453: RuntimeWarning: invalid value encountered in true_divide\n",
      "  n_ij -= 0.5 * np.sum(((X - self.theta_[i, :]) ** 2) /\n"
     ]
    },
    {
     "name": "stdout",
     "output_type": "stream",
     "text": [
      "[0]\n",
      "250 Bertrand\n",
      "[0]\n",
      "251 Albrighton\n"
     ]
    },
    {
     "name": "stderr",
     "output_type": "stream",
     "text": [
      "/Users/maahirmawla/opt/anaconda3/lib/python3.9/site-packages/sklearn/naive_bayes.py:452: RuntimeWarning: divide by zero encountered in log\n",
      "  n_ij = - 0.5 * np.sum(np.log(2. * np.pi * self.sigma_[i, :]))\n",
      "/Users/maahirmawla/opt/anaconda3/lib/python3.9/site-packages/sklearn/naive_bayes.py:453: RuntimeWarning: invalid value encountered in true_divide\n",
      "  n_ij -= 0.5 * np.sum(((X - self.theta_[i, :]) ** 2) /\n",
      "/Users/maahirmawla/opt/anaconda3/lib/python3.9/site-packages/sklearn/naive_bayes.py:452: RuntimeWarning: divide by zero encountered in log\n",
      "  n_ij = - 0.5 * np.sum(np.log(2. * np.pi * self.sigma_[i, :]))\n",
      "/Users/maahirmawla/opt/anaconda3/lib/python3.9/site-packages/sklearn/naive_bayes.py:453: RuntimeWarning: invalid value encountered in true_divide\n",
      "  n_ij -= 0.5 * np.sum(((X - self.theta_[i, :]) ** 2) /\n",
      "/Users/maahirmawla/opt/anaconda3/lib/python3.9/site-packages/sklearn/naive_bayes.py:452: RuntimeWarning: divide by zero encountered in log\n",
      "  n_ij = - 0.5 * np.sum(np.log(2. * np.pi * self.sigma_[i, :]))\n",
      "/Users/maahirmawla/opt/anaconda3/lib/python3.9/site-packages/sklearn/naive_bayes.py:453: RuntimeWarning: invalid value encountered in true_divide\n",
      "  n_ij -= 0.5 * np.sum(((X - self.theta_[i, :]) ** 2) /\n",
      "/Users/maahirmawla/opt/anaconda3/lib/python3.9/site-packages/sklearn/naive_bayes.py:452: RuntimeWarning: divide by zero encountered in log\n",
      "  n_ij = - 0.5 * np.sum(np.log(2. * np.pi * self.sigma_[i, :]))\n",
      "/Users/maahirmawla/opt/anaconda3/lib/python3.9/site-packages/sklearn/naive_bayes.py:453: RuntimeWarning: invalid value encountered in true_divide\n",
      "  n_ij -= 0.5 * np.sum(((X - self.theta_[i, :]) ** 2) /\n"
     ]
    },
    {
     "name": "stdout",
     "output_type": "stream",
     "text": [
      "[0]\n",
      "252 Mendy\n",
      "[0]\n",
      "253 Vestergaard\n"
     ]
    },
    {
     "name": "stderr",
     "output_type": "stream",
     "text": [
      "/Users/maahirmawla/opt/anaconda3/lib/python3.9/site-packages/sklearn/naive_bayes.py:452: RuntimeWarning: divide by zero encountered in log\n",
      "  n_ij = - 0.5 * np.sum(np.log(2. * np.pi * self.sigma_[i, :]))\n",
      "/Users/maahirmawla/opt/anaconda3/lib/python3.9/site-packages/sklearn/naive_bayes.py:453: RuntimeWarning: invalid value encountered in true_divide\n",
      "  n_ij -= 0.5 * np.sum(((X - self.theta_[i, :]) ** 2) /\n",
      "/Users/maahirmawla/opt/anaconda3/lib/python3.9/site-packages/sklearn/naive_bayes.py:452: RuntimeWarning: divide by zero encountered in log\n",
      "  n_ij = - 0.5 * np.sum(np.log(2. * np.pi * self.sigma_[i, :]))\n",
      "/Users/maahirmawla/opt/anaconda3/lib/python3.9/site-packages/sklearn/naive_bayes.py:453: RuntimeWarning: invalid value encountered in true_divide\n",
      "  n_ij -= 0.5 * np.sum(((X - self.theta_[i, :]) ** 2) /\n",
      "/Users/maahirmawla/opt/anaconda3/lib/python3.9/site-packages/sklearn/naive_bayes.py:452: RuntimeWarning: divide by zero encountered in log\n",
      "  n_ij = - 0.5 * np.sum(np.log(2. * np.pi * self.sigma_[i, :]))\n",
      "/Users/maahirmawla/opt/anaconda3/lib/python3.9/site-packages/sklearn/naive_bayes.py:453: RuntimeWarning: invalid value encountered in true_divide\n",
      "  n_ij -= 0.5 * np.sum(((X - self.theta_[i, :]) ** 2) /\n",
      "/Users/maahirmawla/opt/anaconda3/lib/python3.9/site-packages/sklearn/naive_bayes.py:452: RuntimeWarning: divide by zero encountered in log\n",
      "  n_ij = - 0.5 * np.sum(np.log(2. * np.pi * self.sigma_[i, :]))\n",
      "/Users/maahirmawla/opt/anaconda3/lib/python3.9/site-packages/sklearn/naive_bayes.py:453: RuntimeWarning: invalid value encountered in true_divide\n",
      "  n_ij -= 0.5 * np.sum(((X - self.theta_[i, :]) ** 2) /\n"
     ]
    },
    {
     "name": "stdout",
     "output_type": "stream",
     "text": [
      "[0]\n",
      "254 Ward\n",
      "[1]\n",
      "255 Vardy\n",
      "[2]\n",
      "256 Ricardo\n"
     ]
    },
    {
     "name": "stderr",
     "output_type": "stream",
     "text": [
      "/Users/maahirmawla/opt/anaconda3/lib/python3.9/site-packages/sklearn/naive_bayes.py:452: RuntimeWarning: divide by zero encountered in log\n",
      "  n_ij = - 0.5 * np.sum(np.log(2. * np.pi * self.sigma_[i, :]))\n",
      "/Users/maahirmawla/opt/anaconda3/lib/python3.9/site-packages/sklearn/naive_bayes.py:453: RuntimeWarning: invalid value encountered in true_divide\n",
      "  n_ij -= 0.5 * np.sum(((X - self.theta_[i, :]) ** 2) /\n",
      "/Users/maahirmawla/opt/anaconda3/lib/python3.9/site-packages/sklearn/naive_bayes.py:452: RuntimeWarning: divide by zero encountered in log\n",
      "  n_ij = - 0.5 * np.sum(np.log(2. * np.pi * self.sigma_[i, :]))\n",
      "/Users/maahirmawla/opt/anaconda3/lib/python3.9/site-packages/sklearn/naive_bayes.py:453: RuntimeWarning: invalid value encountered in true_divide\n",
      "  n_ij -= 0.5 * np.sum(((X - self.theta_[i, :]) ** 2) /\n",
      "/Users/maahirmawla/opt/anaconda3/lib/python3.9/site-packages/sklearn/naive_bayes.py:452: RuntimeWarning: divide by zero encountered in log\n",
      "  n_ij = - 0.5 * np.sum(np.log(2. * np.pi * self.sigma_[i, :]))\n",
      "/Users/maahirmawla/opt/anaconda3/lib/python3.9/site-packages/sklearn/naive_bayes.py:453: RuntimeWarning: invalid value encountered in true_divide\n",
      "  n_ij -= 0.5 * np.sum(((X - self.theta_[i, :]) ** 2) /\n",
      "/Users/maahirmawla/opt/anaconda3/lib/python3.9/site-packages/sklearn/naive_bayes.py:452: RuntimeWarning: divide by zero encountered in log\n",
      "  n_ij = - 0.5 * np.sum(np.log(2. * np.pi * self.sigma_[i, :]))\n",
      "/Users/maahirmawla/opt/anaconda3/lib/python3.9/site-packages/sklearn/naive_bayes.py:453: RuntimeWarning: invalid value encountered in true_divide\n",
      "  n_ij -= 0.5 * np.sum(((X - self.theta_[i, :]) ** 2) /\n"
     ]
    },
    {
     "name": "stdout",
     "output_type": "stream",
     "text": [
      "[0]\n",
      "257 Amartey\n",
      "[0]\n",
      "258 Castagne\n",
      "[0]\n",
      "259 Tielemans\n"
     ]
    },
    {
     "name": "stderr",
     "output_type": "stream",
     "text": [
      "/Users/maahirmawla/opt/anaconda3/lib/python3.9/site-packages/sklearn/naive_bayes.py:452: RuntimeWarning: divide by zero encountered in log\n",
      "  n_ij = - 0.5 * np.sum(np.log(2. * np.pi * self.sigma_[i, :]))\n",
      "/Users/maahirmawla/opt/anaconda3/lib/python3.9/site-packages/sklearn/naive_bayes.py:453: RuntimeWarning: invalid value encountered in true_divide\n",
      "  n_ij -= 0.5 * np.sum(((X - self.theta_[i, :]) ** 2) /\n",
      "/Users/maahirmawla/opt/anaconda3/lib/python3.9/site-packages/sklearn/naive_bayes.py:452: RuntimeWarning: divide by zero encountered in log\n",
      "  n_ij = - 0.5 * np.sum(np.log(2. * np.pi * self.sigma_[i, :]))\n",
      "/Users/maahirmawla/opt/anaconda3/lib/python3.9/site-packages/sklearn/naive_bayes.py:453: RuntimeWarning: invalid value encountered in true_divide\n",
      "  n_ij -= 0.5 * np.sum(((X - self.theta_[i, :]) ** 2) /\n"
     ]
    },
    {
     "name": "stdout",
     "output_type": "stream",
     "text": [
      "[1]\n",
      "260 Pérez\n",
      "[0]\n",
      "261 Maddison\n",
      "[0]\n",
      "262 Iheanacho\n",
      "[1]\n",
      "263 Choudhury\n"
     ]
    },
    {
     "name": "stderr",
     "output_type": "stream",
     "text": [
      "/Users/maahirmawla/opt/anaconda3/lib/python3.9/site-packages/sklearn/naive_bayes.py:452: RuntimeWarning: divide by zero encountered in log\n",
      "  n_ij = - 0.5 * np.sum(np.log(2. * np.pi * self.sigma_[i, :]))\n",
      "/Users/maahirmawla/opt/anaconda3/lib/python3.9/site-packages/sklearn/naive_bayes.py:453: RuntimeWarning: invalid value encountered in true_divide\n",
      "  n_ij -= 0.5 * np.sum(((X - self.theta_[i, :]) ** 2) /\n",
      "/Users/maahirmawla/opt/anaconda3/lib/python3.9/site-packages/sklearn/naive_bayes.py:452: RuntimeWarning: divide by zero encountered in log\n",
      "  n_ij = - 0.5 * np.sum(np.log(2. * np.pi * self.sigma_[i, :]))\n",
      "/Users/maahirmawla/opt/anaconda3/lib/python3.9/site-packages/sklearn/naive_bayes.py:453: RuntimeWarning: invalid value encountered in true_divide\n",
      "  n_ij -= 0.5 * np.sum(((X - self.theta_[i, :]) ** 2) /\n"
     ]
    },
    {
     "name": "stdout",
     "output_type": "stream",
     "text": [
      "[0]\n",
      "264 Barnes\n"
     ]
    },
    {
     "name": "stderr",
     "output_type": "stream",
     "text": [
      "/Users/maahirmawla/opt/anaconda3/lib/python3.9/site-packages/sklearn/naive_bayes.py:452: RuntimeWarning: divide by zero encountered in log\n",
      "  n_ij = - 0.5 * np.sum(np.log(2. * np.pi * self.sigma_[i, :]))\n",
      "/Users/maahirmawla/opt/anaconda3/lib/python3.9/site-packages/sklearn/naive_bayes.py:453: RuntimeWarning: invalid value encountered in true_divide\n",
      "  n_ij -= 0.5 * np.sum(((X - self.theta_[i, :]) ** 2) /\n",
      "/Users/maahirmawla/opt/anaconda3/lib/python3.9/site-packages/sklearn/naive_bayes.py:452: RuntimeWarning: divide by zero encountered in log\n",
      "  n_ij = - 0.5 * np.sum(np.log(2. * np.pi * self.sigma_[i, :]))\n",
      "/Users/maahirmawla/opt/anaconda3/lib/python3.9/site-packages/sklearn/naive_bayes.py:453: RuntimeWarning: invalid value encountered in true_divide\n",
      "  n_ij -= 0.5 * np.sum(((X - self.theta_[i, :]) ** 2) /\n"
     ]
    },
    {
     "name": "stdout",
     "output_type": "stream",
     "text": [
      "[0]\n",
      "265 Ndidi\n",
      "[1]\n",
      "266 Dewsbury-Hall\n",
      "[2]\n",
      "267 Söyüncü\n"
     ]
    },
    {
     "name": "stderr",
     "output_type": "stream",
     "text": [
      "/Users/maahirmawla/opt/anaconda3/lib/python3.9/site-packages/sklearn/naive_bayes.py:452: RuntimeWarning: divide by zero encountered in log\n",
      "  n_ij = - 0.5 * np.sum(np.log(2. * np.pi * self.sigma_[i, :]))\n",
      "/Users/maahirmawla/opt/anaconda3/lib/python3.9/site-packages/sklearn/naive_bayes.py:453: RuntimeWarning: invalid value encountered in true_divide\n",
      "  n_ij -= 0.5 * np.sum(((X - self.theta_[i, :]) ** 2) /\n",
      "/Users/maahirmawla/opt/anaconda3/lib/python3.9/site-packages/sklearn/naive_bayes.py:452: RuntimeWarning: divide by zero encountered in log\n",
      "  n_ij = - 0.5 * np.sum(np.log(2. * np.pi * self.sigma_[i, :]))\n",
      "/Users/maahirmawla/opt/anaconda3/lib/python3.9/site-packages/sklearn/naive_bayes.py:453: RuntimeWarning: invalid value encountered in true_divide\n",
      "  n_ij -= 0.5 * np.sum(((X - self.theta_[i, :]) ** 2) /\n"
     ]
    },
    {
     "name": "stdout",
     "output_type": "stream",
     "text": [
      "[0]\n",
      "268 Justin\n"
     ]
    },
    {
     "name": "stderr",
     "output_type": "stream",
     "text": [
      "/Users/maahirmawla/opt/anaconda3/lib/python3.9/site-packages/sklearn/naive_bayes.py:452: RuntimeWarning: divide by zero encountered in log\n",
      "  n_ij = - 0.5 * np.sum(np.log(2. * np.pi * self.sigma_[i, :]))\n",
      "/Users/maahirmawla/opt/anaconda3/lib/python3.9/site-packages/sklearn/naive_bayes.py:453: RuntimeWarning: invalid value encountered in true_divide\n",
      "  n_ij -= 0.5 * np.sum(((X - self.theta_[i, :]) ** 2) /\n",
      "/Users/maahirmawla/opt/anaconda3/lib/python3.9/site-packages/sklearn/naive_bayes.py:452: RuntimeWarning: divide by zero encountered in log\n",
      "  n_ij = - 0.5 * np.sum(np.log(2. * np.pi * self.sigma_[i, :]))\n",
      "/Users/maahirmawla/opt/anaconda3/lib/python3.9/site-packages/sklearn/naive_bayes.py:453: RuntimeWarning: invalid value encountered in true_divide\n",
      "  n_ij -= 0.5 * np.sum(((X - self.theta_[i, :]) ** 2) /\n"
     ]
    },
    {
     "name": "stdout",
     "output_type": "stream",
     "text": [
      "[0]\n",
      "269 Soumaré\n"
     ]
    },
    {
     "name": "stderr",
     "output_type": "stream",
     "text": [
      "/Users/maahirmawla/opt/anaconda3/lib/python3.9/site-packages/sklearn/naive_bayes.py:452: RuntimeWarning: divide by zero encountered in log\n",
      "  n_ij = - 0.5 * np.sum(np.log(2. * np.pi * self.sigma_[i, :]))\n",
      "/Users/maahirmawla/opt/anaconda3/lib/python3.9/site-packages/sklearn/naive_bayes.py:453: RuntimeWarning: invalid value encountered in true_divide\n",
      "  n_ij -= 0.5 * np.sum(((X - self.theta_[i, :]) ** 2) /\n",
      "/Users/maahirmawla/opt/anaconda3/lib/python3.9/site-packages/sklearn/naive_bayes.py:452: RuntimeWarning: divide by zero encountered in log\n",
      "  n_ij = - 0.5 * np.sum(np.log(2. * np.pi * self.sigma_[i, :]))\n",
      "/Users/maahirmawla/opt/anaconda3/lib/python3.9/site-packages/sklearn/naive_bayes.py:453: RuntimeWarning: invalid value encountered in true_divide\n",
      "  n_ij -= 0.5 * np.sum(((X - self.theta_[i, :]) ** 2) /\n"
     ]
    },
    {
     "name": "stdout",
     "output_type": "stream",
     "text": [
      "[0]\n",
      "270 Thomas\n"
     ]
    },
    {
     "name": "stderr",
     "output_type": "stream",
     "text": [
      "/Users/maahirmawla/opt/anaconda3/lib/python3.9/site-packages/sklearn/naive_bayes.py:452: RuntimeWarning: divide by zero encountered in log\n",
      "  n_ij = - 0.5 * np.sum(np.log(2. * np.pi * self.sigma_[i, :]))\n",
      "/Users/maahirmawla/opt/anaconda3/lib/python3.9/site-packages/sklearn/naive_bayes.py:453: RuntimeWarning: invalid value encountered in true_divide\n",
      "  n_ij -= 0.5 * np.sum(((X - self.theta_[i, :]) ** 2) /\n",
      "/Users/maahirmawla/opt/anaconda3/lib/python3.9/site-packages/sklearn/naive_bayes.py:452: RuntimeWarning: divide by zero encountered in log\n",
      "  n_ij = - 0.5 * np.sum(np.log(2. * np.pi * self.sigma_[i, :]))\n",
      "/Users/maahirmawla/opt/anaconda3/lib/python3.9/site-packages/sklearn/naive_bayes.py:453: RuntimeWarning: invalid value encountered in true_divide\n",
      "  n_ij -= 0.5 * np.sum(((X - self.theta_[i, :]) ** 2) /\n"
     ]
    },
    {
     "name": "stdout",
     "output_type": "stream",
     "text": [
      "[-3]\n",
      "271 Daka\n",
      "[1]\n",
      "273 Brunt\n",
      "[0]\n",
      "548 Iversen\n"
     ]
    },
    {
     "name": "stderr",
     "output_type": "stream",
     "text": [
      "/Users/maahirmawla/opt/anaconda3/lib/python3.9/site-packages/sklearn/naive_bayes.py:452: RuntimeWarning: divide by zero encountered in log\n",
      "  n_ij = - 0.5 * np.sum(np.log(2. * np.pi * self.sigma_[i, :]))\n",
      "/Users/maahirmawla/opt/anaconda3/lib/python3.9/site-packages/sklearn/naive_bayes.py:453: RuntimeWarning: invalid value encountered in true_divide\n",
      "  n_ij -= 0.5 * np.sum(((X - self.theta_[i, :]) ** 2) /\n",
      "/Users/maahirmawla/opt/anaconda3/lib/python3.9/site-packages/sklearn/naive_bayes.py:452: RuntimeWarning: divide by zero encountered in log\n",
      "  n_ij = - 0.5 * np.sum(np.log(2. * np.pi * self.sigma_[i, :]))\n",
      "/Users/maahirmawla/opt/anaconda3/lib/python3.9/site-packages/sklearn/naive_bayes.py:453: RuntimeWarning: invalid value encountered in true_divide\n",
      "  n_ij -= 0.5 * np.sum(((X - self.theta_[i, :]) ** 2) /\n",
      "/Users/maahirmawla/opt/anaconda3/lib/python3.9/site-packages/sklearn/naive_bayes.py:452: RuntimeWarning: divide by zero encountered in log\n",
      "  n_ij = - 0.5 * np.sum(np.log(2. * np.pi * self.sigma_[i, :]))\n",
      "/Users/maahirmawla/opt/anaconda3/lib/python3.9/site-packages/sklearn/naive_bayes.py:453: RuntimeWarning: invalid value encountered in true_divide\n",
      "  n_ij -= 0.5 * np.sum(((X - self.theta_[i, :]) ** 2) /\n",
      "/Users/maahirmawla/opt/anaconda3/lib/python3.9/site-packages/sklearn/naive_bayes.py:452: RuntimeWarning: divide by zero encountered in log\n",
      "  n_ij = - 0.5 * np.sum(np.log(2. * np.pi * self.sigma_[i, :]))\n",
      "/Users/maahirmawla/opt/anaconda3/lib/python3.9/site-packages/sklearn/naive_bayes.py:453: RuntimeWarning: invalid value encountered in true_divide\n",
      "  n_ij -= 0.5 * np.sum(((X - self.theta_[i, :]) ** 2) /\n",
      "/Users/maahirmawla/opt/anaconda3/lib/python3.9/site-packages/sklearn/naive_bayes.py:452: RuntimeWarning: divide by zero encountered in log\n",
      "  n_ij = - 0.5 * np.sum(np.log(2. * np.pi * self.sigma_[i, :]))\n",
      "/Users/maahirmawla/opt/anaconda3/lib/python3.9/site-packages/sklearn/naive_bayes.py:453: RuntimeWarning: invalid value encountered in true_divide\n",
      "  n_ij -= 0.5 * np.sum(((X - self.theta_[i, :]) ** 2) /\n",
      "/Users/maahirmawla/opt/anaconda3/lib/python3.9/site-packages/sklearn/naive_bayes.py:452: RuntimeWarning: divide by zero encountered in log\n",
      "  n_ij = - 0.5 * np.sum(np.log(2. * np.pi * self.sigma_[i, :]))\n",
      "/Users/maahirmawla/opt/anaconda3/lib/python3.9/site-packages/sklearn/naive_bayes.py:453: RuntimeWarning: invalid value encountered in true_divide\n",
      "  n_ij -= 0.5 * np.sum(((X - self.theta_[i, :]) ** 2) /\n"
     ]
    },
    {
     "name": "stdout",
     "output_type": "stream",
     "text": [
      "[0]\n",
      "549 Praet\n",
      "[0]\n",
      "581 Smithies\n"
     ]
    },
    {
     "name": "stderr",
     "output_type": "stream",
     "text": [
      "/Users/maahirmawla/opt/anaconda3/lib/python3.9/site-packages/sklearn/naive_bayes.py:452: RuntimeWarning: divide by zero encountered in log\n",
      "  n_ij = - 0.5 * np.sum(np.log(2. * np.pi * self.sigma_[i, :]))\n",
      "/Users/maahirmawla/opt/anaconda3/lib/python3.9/site-packages/sklearn/naive_bayes.py:453: RuntimeWarning: invalid value encountered in true_divide\n",
      "  n_ij -= 0.5 * np.sum(((X - self.theta_[i, :]) ** 2) /\n",
      "/Users/maahirmawla/opt/anaconda3/lib/python3.9/site-packages/sklearn/naive_bayes.py:452: RuntimeWarning: divide by zero encountered in log\n",
      "  n_ij = - 0.5 * np.sum(np.log(2. * np.pi * self.sigma_[i, :]))\n",
      "/Users/maahirmawla/opt/anaconda3/lib/python3.9/site-packages/sklearn/naive_bayes.py:453: RuntimeWarning: invalid value encountered in true_divide\n",
      "  n_ij -= 0.5 * np.sum(((X - self.theta_[i, :]) ** 2) /\n"
     ]
    },
    {
     "name": "stdout",
     "output_type": "stream",
     "text": [
      "[0]\n",
      "612 Faes\n"
     ]
    },
    {
     "name": "stderr",
     "output_type": "stream",
     "text": [
      "/Users/maahirmawla/opt/anaconda3/lib/python3.9/site-packages/sklearn/naive_bayes.py:452: RuntimeWarning: divide by zero encountered in log\n",
      "  n_ij = - 0.5 * np.sum(np.log(2. * np.pi * self.sigma_[i, :]))\n",
      "/Users/maahirmawla/opt/anaconda3/lib/python3.9/site-packages/sklearn/naive_bayes.py:453: RuntimeWarning: invalid value encountered in true_divide\n",
      "  n_ij -= 0.5 * np.sum(((X - self.theta_[i, :]) ** 2) /\n",
      "/Users/maahirmawla/opt/anaconda3/lib/python3.9/site-packages/sklearn/naive_bayes.py:452: RuntimeWarning: divide by zero encountered in log\n",
      "  n_ij = - 0.5 * np.sum(np.log(2. * np.pi * self.sigma_[i, :]))\n",
      "/Users/maahirmawla/opt/anaconda3/lib/python3.9/site-packages/sklearn/naive_bayes.py:453: RuntimeWarning: invalid value encountered in true_divide\n",
      "  n_ij -= 0.5 * np.sum(((X - self.theta_[i, :]) ** 2) /\n",
      "/Users/maahirmawla/opt/anaconda3/lib/python3.9/site-packages/sklearn/naive_bayes.py:452: RuntimeWarning: divide by zero encountered in log\n",
      "  n_ij = - 0.5 * np.sum(np.log(2. * np.pi * self.sigma_[i, :]))\n",
      "/Users/maahirmawla/opt/anaconda3/lib/python3.9/site-packages/sklearn/naive_bayes.py:453: RuntimeWarning: invalid value encountered in true_divide\n",
      "  n_ij -= 0.5 * np.sum(((X - self.theta_[i, :]) ** 2) /\n",
      "/Users/maahirmawla/opt/anaconda3/lib/python3.9/site-packages/sklearn/naive_bayes.py:452: RuntimeWarning: divide by zero encountered in log\n",
      "  n_ij = - 0.5 * np.sum(np.log(2. * np.pi * self.sigma_[i, :]))\n",
      "/Users/maahirmawla/opt/anaconda3/lib/python3.9/site-packages/sklearn/naive_bayes.py:453: RuntimeWarning: invalid value encountered in true_divide\n",
      "  n_ij -= 0.5 * np.sum(((X - self.theta_[i, :]) ** 2) /\n"
     ]
    },
    {
     "name": "stdout",
     "output_type": "stream",
     "text": [
      "[0]\n",
      "221 Cooper\n",
      "[0]\n",
      "222 Ayling\n"
     ]
    },
    {
     "name": "stderr",
     "output_type": "stream",
     "text": [
      "/Users/maahirmawla/opt/anaconda3/lib/python3.9/site-packages/sklearn/naive_bayes.py:452: RuntimeWarning: divide by zero encountered in log\n",
      "  n_ij = - 0.5 * np.sum(np.log(2. * np.pi * self.sigma_[i, :]))\n",
      "/Users/maahirmawla/opt/anaconda3/lib/python3.9/site-packages/sklearn/naive_bayes.py:453: RuntimeWarning: invalid value encountered in true_divide\n",
      "  n_ij -= 0.5 * np.sum(((X - self.theta_[i, :]) ** 2) /\n",
      "/Users/maahirmawla/opt/anaconda3/lib/python3.9/site-packages/sklearn/naive_bayes.py:452: RuntimeWarning: divide by zero encountered in log\n",
      "  n_ij = - 0.5 * np.sum(np.log(2. * np.pi * self.sigma_[i, :]))\n",
      "/Users/maahirmawla/opt/anaconda3/lib/python3.9/site-packages/sklearn/naive_bayes.py:453: RuntimeWarning: invalid value encountered in true_divide\n",
      "  n_ij -= 0.5 * np.sum(((X - self.theta_[i, :]) ** 2) /\n",
      "/Users/maahirmawla/opt/anaconda3/lib/python3.9/site-packages/sklearn/naive_bayes.py:452: RuntimeWarning: divide by zero encountered in log\n",
      "  n_ij = - 0.5 * np.sum(np.log(2. * np.pi * self.sigma_[i, :]))\n",
      "/Users/maahirmawla/opt/anaconda3/lib/python3.9/site-packages/sklearn/naive_bayes.py:453: RuntimeWarning: invalid value encountered in true_divide\n",
      "  n_ij -= 0.5 * np.sum(((X - self.theta_[i, :]) ** 2) /\n",
      "/Users/maahirmawla/opt/anaconda3/lib/python3.9/site-packages/sklearn/naive_bayes.py:452: RuntimeWarning: divide by zero encountered in log\n",
      "  n_ij = - 0.5 * np.sum(np.log(2. * np.pi * self.sigma_[i, :]))\n",
      "/Users/maahirmawla/opt/anaconda3/lib/python3.9/site-packages/sklearn/naive_bayes.py:453: RuntimeWarning: invalid value encountered in true_divide\n",
      "  n_ij -= 0.5 * np.sum(((X - self.theta_[i, :]) ** 2) /\n"
     ]
    },
    {
     "name": "stdout",
     "output_type": "stream",
     "text": [
      "[0]\n",
      "223 Klich\n",
      "[0]\n",
      "224 Forshaw\n"
     ]
    },
    {
     "name": "stderr",
     "output_type": "stream",
     "text": [
      "/Users/maahirmawla/opt/anaconda3/lib/python3.9/site-packages/sklearn/naive_bayes.py:452: RuntimeWarning: divide by zero encountered in log\n",
      "  n_ij = - 0.5 * np.sum(np.log(2. * np.pi * self.sigma_[i, :]))\n",
      "/Users/maahirmawla/opt/anaconda3/lib/python3.9/site-packages/sklearn/naive_bayes.py:453: RuntimeWarning: invalid value encountered in true_divide\n",
      "  n_ij -= 0.5 * np.sum(((X - self.theta_[i, :]) ** 2) /\n",
      "/Users/maahirmawla/opt/anaconda3/lib/python3.9/site-packages/sklearn/naive_bayes.py:452: RuntimeWarning: divide by zero encountered in log\n",
      "  n_ij = - 0.5 * np.sum(np.log(2. * np.pi * self.sigma_[i, :]))\n",
      "/Users/maahirmawla/opt/anaconda3/lib/python3.9/site-packages/sklearn/naive_bayes.py:453: RuntimeWarning: invalid value encountered in true_divide\n",
      "  n_ij -= 0.5 * np.sum(((X - self.theta_[i, :]) ** 2) /\n"
     ]
    },
    {
     "name": "stdout",
     "output_type": "stream",
     "text": [
      "[0]\n",
      "225 Rodrigo\n",
      "[7]\n",
      "226 Dallas\n"
     ]
    },
    {
     "name": "stderr",
     "output_type": "stream",
     "text": [
      "/Users/maahirmawla/opt/anaconda3/lib/python3.9/site-packages/sklearn/naive_bayes.py:452: RuntimeWarning: divide by zero encountered in log\n",
      "  n_ij = - 0.5 * np.sum(np.log(2. * np.pi * self.sigma_[i, :]))\n",
      "/Users/maahirmawla/opt/anaconda3/lib/python3.9/site-packages/sklearn/naive_bayes.py:453: RuntimeWarning: invalid value encountered in true_divide\n",
      "  n_ij -= 0.5 * np.sum(((X - self.theta_[i, :]) ** 2) /\n",
      "/Users/maahirmawla/opt/anaconda3/lib/python3.9/site-packages/sklearn/naive_bayes.py:452: RuntimeWarning: divide by zero encountered in log\n",
      "  n_ij = - 0.5 * np.sum(np.log(2. * np.pi * self.sigma_[i, :]))\n",
      "/Users/maahirmawla/opt/anaconda3/lib/python3.9/site-packages/sklearn/naive_bayes.py:453: RuntimeWarning: invalid value encountered in true_divide\n",
      "  n_ij -= 0.5 * np.sum(((X - self.theta_[i, :]) ** 2) /\n",
      "/Users/maahirmawla/opt/anaconda3/lib/python3.9/site-packages/sklearn/naive_bayes.py:452: RuntimeWarning: divide by zero encountered in log\n",
      "  n_ij = - 0.5 * np.sum(np.log(2. * np.pi * self.sigma_[i, :]))\n",
      "/Users/maahirmawla/opt/anaconda3/lib/python3.9/site-packages/sklearn/naive_bayes.py:453: RuntimeWarning: invalid value encountered in true_divide\n",
      "  n_ij -= 0.5 * np.sum(((X - self.theta_[i, :]) ** 2) /\n",
      "/Users/maahirmawla/opt/anaconda3/lib/python3.9/site-packages/sklearn/naive_bayes.py:452: RuntimeWarning: divide by zero encountered in log\n",
      "  n_ij = - 0.5 * np.sum(np.log(2. * np.pi * self.sigma_[i, :]))\n",
      "/Users/maahirmawla/opt/anaconda3/lib/python3.9/site-packages/sklearn/naive_bayes.py:453: RuntimeWarning: invalid value encountered in true_divide\n",
      "  n_ij -= 0.5 * np.sum(((X - self.theta_[i, :]) ** 2) /\n"
     ]
    },
    {
     "name": "stdout",
     "output_type": "stream",
     "text": [
      "[0]\n",
      "227 Bamford\n",
      "[0]\n",
      "228 Llorente\n",
      "[1]\n",
      "229 Roberts\n"
     ]
    },
    {
     "name": "stderr",
     "output_type": "stream",
     "text": [
      "/Users/maahirmawla/opt/anaconda3/lib/python3.9/site-packages/sklearn/naive_bayes.py:452: RuntimeWarning: divide by zero encountered in log\n",
      "  n_ij = - 0.5 * np.sum(np.log(2. * np.pi * self.sigma_[i, :]))\n",
      "/Users/maahirmawla/opt/anaconda3/lib/python3.9/site-packages/sklearn/naive_bayes.py:453: RuntimeWarning: invalid value encountered in true_divide\n",
      "  n_ij -= 0.5 * np.sum(((X - self.theta_[i, :]) ** 2) /\n",
      "/Users/maahirmawla/opt/anaconda3/lib/python3.9/site-packages/sklearn/naive_bayes.py:452: RuntimeWarning: divide by zero encountered in log\n",
      "  n_ij = - 0.5 * np.sum(np.log(2. * np.pi * self.sigma_[i, :]))\n",
      "/Users/maahirmawla/opt/anaconda3/lib/python3.9/site-packages/sklearn/naive_bayes.py:453: RuntimeWarning: invalid value encountered in true_divide\n",
      "  n_ij -= 0.5 * np.sum(((X - self.theta_[i, :]) ** 2) /\n"
     ]
    },
    {
     "name": "stdout",
     "output_type": "stream",
     "text": [
      "[0]\n",
      "230 Koch\n",
      "[2]\n",
      "232 Raphinha\n",
      "[0]\n",
      "233 Harrison\n"
     ]
    },
    {
     "name": "stderr",
     "output_type": "stream",
     "text": [
      "/Users/maahirmawla/opt/anaconda3/lib/python3.9/site-packages/sklearn/naive_bayes.py:452: RuntimeWarning: divide by zero encountered in log\n",
      "  n_ij = - 0.5 * np.sum(np.log(2. * np.pi * self.sigma_[i, :]))\n",
      "/Users/maahirmawla/opt/anaconda3/lib/python3.9/site-packages/sklearn/naive_bayes.py:453: RuntimeWarning: invalid value encountered in true_divide\n",
      "  n_ij -= 0.5 * np.sum(((X - self.theta_[i, :]) ** 2) /\n",
      "/Users/maahirmawla/opt/anaconda3/lib/python3.9/site-packages/sklearn/naive_bayes.py:452: RuntimeWarning: divide by zero encountered in log\n",
      "  n_ij = - 0.5 * np.sum(np.log(2. * np.pi * self.sigma_[i, :]))\n",
      "/Users/maahirmawla/opt/anaconda3/lib/python3.9/site-packages/sklearn/naive_bayes.py:453: RuntimeWarning: invalid value encountered in true_divide\n",
      "  n_ij -= 0.5 * np.sum(((X - self.theta_[i, :]) ** 2) /\n"
     ]
    },
    {
     "name": "stdout",
     "output_type": "stream",
     "text": [
      "[2]\n",
      "234 Shackleton\n"
     ]
    },
    {
     "name": "stderr",
     "output_type": "stream",
     "text": [
      "/Users/maahirmawla/opt/anaconda3/lib/python3.9/site-packages/sklearn/naive_bayes.py:452: RuntimeWarning: divide by zero encountered in log\n",
      "  n_ij = - 0.5 * np.sum(np.log(2. * np.pi * self.sigma_[i, :]))\n",
      "/Users/maahirmawla/opt/anaconda3/lib/python3.9/site-packages/sklearn/naive_bayes.py:453: RuntimeWarning: invalid value encountered in true_divide\n",
      "  n_ij -= 0.5 * np.sum(((X - self.theta_[i, :]) ** 2) /\n",
      "/Users/maahirmawla/opt/anaconda3/lib/python3.9/site-packages/sklearn/naive_bayes.py:452: RuntimeWarning: divide by zero encountered in log\n",
      "  n_ij = - 0.5 * np.sum(np.log(2. * np.pi * self.sigma_[i, :]))\n",
      "/Users/maahirmawla/opt/anaconda3/lib/python3.9/site-packages/sklearn/naive_bayes.py:453: RuntimeWarning: invalid value encountered in true_divide\n",
      "  n_ij -= 0.5 * np.sum(((X - self.theta_[i, :]) ** 2) /\n"
     ]
    },
    {
     "name": "stdout",
     "output_type": "stream",
     "text": [
      "[0]\n",
      "235 Struijk\n",
      "[6]\n",
      "236 Klaesson\n",
      "[0]\n",
      "237 Greenwood\n"
     ]
    },
    {
     "name": "stderr",
     "output_type": "stream",
     "text": [
      "/Users/maahirmawla/opt/anaconda3/lib/python3.9/site-packages/sklearn/naive_bayes.py:452: RuntimeWarning: divide by zero encountered in log\n",
      "  n_ij = - 0.5 * np.sum(np.log(2. * np.pi * self.sigma_[i, :]))\n",
      "/Users/maahirmawla/opt/anaconda3/lib/python3.9/site-packages/sklearn/naive_bayes.py:453: RuntimeWarning: invalid value encountered in true_divide\n",
      "  n_ij -= 0.5 * np.sum(((X - self.theta_[i, :]) ** 2) /\n",
      "/Users/maahirmawla/opt/anaconda3/lib/python3.9/site-packages/sklearn/naive_bayes.py:452: RuntimeWarning: divide by zero encountered in log\n",
      "  n_ij = - 0.5 * np.sum(np.log(2. * np.pi * self.sigma_[i, :]))\n",
      "/Users/maahirmawla/opt/anaconda3/lib/python3.9/site-packages/sklearn/naive_bayes.py:453: RuntimeWarning: invalid value encountered in true_divide\n",
      "  n_ij -= 0.5 * np.sum(((X - self.theta_[i, :]) ** 2) /\n",
      "/Users/maahirmawla/opt/anaconda3/lib/python3.9/site-packages/sklearn/naive_bayes.py:452: RuntimeWarning: divide by zero encountered in log\n",
      "  n_ij = - 0.5 * np.sum(np.log(2. * np.pi * self.sigma_[i, :]))\n",
      "/Users/maahirmawla/opt/anaconda3/lib/python3.9/site-packages/sklearn/naive_bayes.py:453: RuntimeWarning: invalid value encountered in true_divide\n",
      "  n_ij -= 0.5 * np.sum(((X - self.theta_[i, :]) ** 2) /\n",
      "/Users/maahirmawla/opt/anaconda3/lib/python3.9/site-packages/sklearn/naive_bayes.py:452: RuntimeWarning: divide by zero encountered in log\n",
      "  n_ij = - 0.5 * np.sum(np.log(2. * np.pi * self.sigma_[i, :]))\n",
      "/Users/maahirmawla/opt/anaconda3/lib/python3.9/site-packages/sklearn/naive_bayes.py:453: RuntimeWarning: invalid value encountered in true_divide\n",
      "  n_ij -= 0.5 * np.sum(((X - self.theta_[i, :]) ** 2) /\n"
     ]
    },
    {
     "name": "stdout",
     "output_type": "stream",
     "text": [
      "[0]\n",
      "238 Meslier\n",
      "[1]\n",
      "239 Firpo\n"
     ]
    },
    {
     "name": "stderr",
     "output_type": "stream",
     "text": [
      "/Users/maahirmawla/opt/anaconda3/lib/python3.9/site-packages/sklearn/naive_bayes.py:452: RuntimeWarning: divide by zero encountered in log\n",
      "  n_ij = - 0.5 * np.sum(np.log(2. * np.pi * self.sigma_[i, :]))\n",
      "/Users/maahirmawla/opt/anaconda3/lib/python3.9/site-packages/sklearn/naive_bayes.py:453: RuntimeWarning: invalid value encountered in true_divide\n",
      "  n_ij -= 0.5 * np.sum(((X - self.theta_[i, :]) ** 2) /\n",
      "/Users/maahirmawla/opt/anaconda3/lib/python3.9/site-packages/sklearn/naive_bayes.py:452: RuntimeWarning: divide by zero encountered in log\n",
      "  n_ij = - 0.5 * np.sum(np.log(2. * np.pi * self.sigma_[i, :]))\n",
      "/Users/maahirmawla/opt/anaconda3/lib/python3.9/site-packages/sklearn/naive_bayes.py:453: RuntimeWarning: invalid value encountered in true_divide\n",
      "  n_ij -= 0.5 * np.sum(((X - self.theta_[i, :]) ** 2) /\n"
     ]
    },
    {
     "name": "stdout",
     "output_type": "stream",
     "text": [
      "[0]\n",
      "240 Summerville\n"
     ]
    },
    {
     "name": "stderr",
     "output_type": "stream",
     "text": [
      "/Users/maahirmawla/opt/anaconda3/lib/python3.9/site-packages/sklearn/naive_bayes.py:452: RuntimeWarning: divide by zero encountered in log\n",
      "  n_ij = - 0.5 * np.sum(np.log(2. * np.pi * self.sigma_[i, :]))\n",
      "/Users/maahirmawla/opt/anaconda3/lib/python3.9/site-packages/sklearn/naive_bayes.py:453: RuntimeWarning: invalid value encountered in true_divide\n",
      "  n_ij -= 0.5 * np.sum(((X - self.theta_[i, :]) ** 2) /\n",
      "/Users/maahirmawla/opt/anaconda3/lib/python3.9/site-packages/sklearn/naive_bayes.py:452: RuntimeWarning: divide by zero encountered in log\n",
      "  n_ij = - 0.5 * np.sum(np.log(2. * np.pi * self.sigma_[i, :]))\n",
      "/Users/maahirmawla/opt/anaconda3/lib/python3.9/site-packages/sklearn/naive_bayes.py:453: RuntimeWarning: invalid value encountered in true_divide\n",
      "  n_ij -= 0.5 * np.sum(((X - self.theta_[i, :]) ** 2) /\n",
      "/Users/maahirmawla/opt/anaconda3/lib/python3.9/site-packages/sklearn/naive_bayes.py:452: RuntimeWarning: divide by zero encountered in log\n",
      "  n_ij = - 0.5 * np.sum(np.log(2. * np.pi * self.sigma_[i, :]))\n",
      "/Users/maahirmawla/opt/anaconda3/lib/python3.9/site-packages/sklearn/naive_bayes.py:453: RuntimeWarning: invalid value encountered in true_divide\n",
      "  n_ij -= 0.5 * np.sum(((X - self.theta_[i, :]) ** 2) /\n",
      "/Users/maahirmawla/opt/anaconda3/lib/python3.9/site-packages/sklearn/naive_bayes.py:452: RuntimeWarning: divide by zero encountered in log\n",
      "  n_ij = - 0.5 * np.sum(np.log(2. * np.pi * self.sigma_[i, :]))\n",
      "/Users/maahirmawla/opt/anaconda3/lib/python3.9/site-packages/sklearn/naive_bayes.py:453: RuntimeWarning: invalid value encountered in true_divide\n",
      "  n_ij -= 0.5 * np.sum(((X - self.theta_[i, :]) ** 2) /\n"
     ]
    },
    {
     "name": "stdout",
     "output_type": "stream",
     "text": [
      "[0]\n",
      "241 Bate\n",
      "[0]\n",
      "242 Gelhardt\n"
     ]
    },
    {
     "name": "stderr",
     "output_type": "stream",
     "text": [
      "/Users/maahirmawla/opt/anaconda3/lib/python3.9/site-packages/sklearn/naive_bayes.py:452: RuntimeWarning: divide by zero encountered in log\n",
      "  n_ij = - 0.5 * np.sum(np.log(2. * np.pi * self.sigma_[i, :]))\n",
      "/Users/maahirmawla/opt/anaconda3/lib/python3.9/site-packages/sklearn/naive_bayes.py:453: RuntimeWarning: invalid value encountered in true_divide\n",
      "  n_ij -= 0.5 * np.sum(((X - self.theta_[i, :]) ** 2) /\n",
      "/Users/maahirmawla/opt/anaconda3/lib/python3.9/site-packages/sklearn/naive_bayes.py:452: RuntimeWarning: divide by zero encountered in log\n",
      "  n_ij = - 0.5 * np.sum(np.log(2. * np.pi * self.sigma_[i, :]))\n",
      "/Users/maahirmawla/opt/anaconda3/lib/python3.9/site-packages/sklearn/naive_bayes.py:453: RuntimeWarning: invalid value encountered in true_divide\n",
      "  n_ij -= 0.5 * np.sum(((X - self.theta_[i, :]) ** 2) /\n",
      "/Users/maahirmawla/opt/anaconda3/lib/python3.9/site-packages/sklearn/naive_bayes.py:452: RuntimeWarning: divide by zero encountered in log\n",
      "  n_ij = - 0.5 * np.sum(np.log(2. * np.pi * self.sigma_[i, :]))\n",
      "/Users/maahirmawla/opt/anaconda3/lib/python3.9/site-packages/sklearn/naive_bayes.py:453: RuntimeWarning: invalid value encountered in true_divide\n",
      "  n_ij -= 0.5 * np.sum(((X - self.theta_[i, :]) ** 2) /\n",
      "/Users/maahirmawla/opt/anaconda3/lib/python3.9/site-packages/sklearn/naive_bayes.py:452: RuntimeWarning: divide by zero encountered in log\n",
      "  n_ij = - 0.5 * np.sum(np.log(2. * np.pi * self.sigma_[i, :]))\n",
      "/Users/maahirmawla/opt/anaconda3/lib/python3.9/site-packages/sklearn/naive_bayes.py:453: RuntimeWarning: invalid value encountered in true_divide\n",
      "  n_ij -= 0.5 * np.sum(((X - self.theta_[i, :]) ** 2) /\n"
     ]
    },
    {
     "name": "stdout",
     "output_type": "stream",
     "text": [
      "[0]\n",
      "243 Hjelde\n",
      "[0]\n",
      "244 Kristensen\n",
      "[0]\n",
      "245 Roca\n",
      "[2]\n",
      "246 Aaronson\n",
      "[1]\n",
      "247 Gyabi\n"
     ]
    },
    {
     "name": "stderr",
     "output_type": "stream",
     "text": [
      "/Users/maahirmawla/opt/anaconda3/lib/python3.9/site-packages/sklearn/naive_bayes.py:452: RuntimeWarning: divide by zero encountered in log\n",
      "  n_ij = - 0.5 * np.sum(np.log(2. * np.pi * self.sigma_[i, :]))\n",
      "/Users/maahirmawla/opt/anaconda3/lib/python3.9/site-packages/sklearn/naive_bayes.py:453: RuntimeWarning: invalid value encountered in true_divide\n",
      "  n_ij -= 0.5 * np.sum(((X - self.theta_[i, :]) ** 2) /\n",
      "/Users/maahirmawla/opt/anaconda3/lib/python3.9/site-packages/sklearn/naive_bayes.py:452: RuntimeWarning: divide by zero encountered in log\n",
      "  n_ij = - 0.5 * np.sum(np.log(2. * np.pi * self.sigma_[i, :]))\n",
      "/Users/maahirmawla/opt/anaconda3/lib/python3.9/site-packages/sklearn/naive_bayes.py:453: RuntimeWarning: invalid value encountered in true_divide\n",
      "  n_ij -= 0.5 * np.sum(((X - self.theta_[i, :]) ** 2) /\n"
     ]
    },
    {
     "name": "stdout",
     "output_type": "stream",
     "text": [
      "[0]\n",
      "506 Adams\n",
      "[2]\n",
      "508 Sinisterra\n",
      "[1]\n",
      "547 Drameh\n"
     ]
    },
    {
     "name": "stderr",
     "output_type": "stream",
     "text": [
      "/Users/maahirmawla/opt/anaconda3/lib/python3.9/site-packages/sklearn/naive_bayes.py:452: RuntimeWarning: divide by zero encountered in log\n",
      "  n_ij = - 0.5 * np.sum(np.log(2. * np.pi * self.sigma_[i, :]))\n",
      "/Users/maahirmawla/opt/anaconda3/lib/python3.9/site-packages/sklearn/naive_bayes.py:453: RuntimeWarning: invalid value encountered in true_divide\n",
      "  n_ij -= 0.5 * np.sum(((X - self.theta_[i, :]) ** 2) /\n",
      "/Users/maahirmawla/opt/anaconda3/lib/python3.9/site-packages/sklearn/naive_bayes.py:452: RuntimeWarning: divide by zero encountered in log\n",
      "  n_ij = - 0.5 * np.sum(np.log(2. * np.pi * self.sigma_[i, :]))\n",
      "/Users/maahirmawla/opt/anaconda3/lib/python3.9/site-packages/sklearn/naive_bayes.py:453: RuntimeWarning: invalid value encountered in true_divide\n",
      "  n_ij -= 0.5 * np.sum(((X - self.theta_[i, :]) ** 2) /\n",
      "/Users/maahirmawla/opt/anaconda3/lib/python3.9/site-packages/sklearn/naive_bayes.py:452: RuntimeWarning: divide by zero encountered in log\n",
      "  n_ij = - 0.5 * np.sum(np.log(2. * np.pi * self.sigma_[i, :]))\n",
      "/Users/maahirmawla/opt/anaconda3/lib/python3.9/site-packages/sklearn/naive_bayes.py:453: RuntimeWarning: invalid value encountered in true_divide\n",
      "  n_ij -= 0.5 * np.sum(((X - self.theta_[i, :]) ** 2) /\n",
      "/Users/maahirmawla/opt/anaconda3/lib/python3.9/site-packages/sklearn/naive_bayes.py:452: RuntimeWarning: divide by zero encountered in log\n",
      "  n_ij = - 0.5 * np.sum(np.log(2. * np.pi * self.sigma_[i, :]))\n",
      "/Users/maahirmawla/opt/anaconda3/lib/python3.9/site-packages/sklearn/naive_bayes.py:453: RuntimeWarning: invalid value encountered in true_divide\n",
      "  n_ij -= 0.5 * np.sum(((X - self.theta_[i, :]) ** 2) /\n"
     ]
    },
    {
     "name": "stdout",
     "output_type": "stream",
     "text": [
      "[0]\n",
      "565 Gray\n",
      "[0]\n",
      "578 Robles\n"
     ]
    },
    {
     "name": "stderr",
     "output_type": "stream",
     "text": [
      "/Users/maahirmawla/opt/anaconda3/lib/python3.9/site-packages/sklearn/naive_bayes.py:452: RuntimeWarning: divide by zero encountered in log\n",
      "  n_ij = - 0.5 * np.sum(np.log(2. * np.pi * self.sigma_[i, :]))\n",
      "/Users/maahirmawla/opt/anaconda3/lib/python3.9/site-packages/sklearn/naive_bayes.py:453: RuntimeWarning: invalid value encountered in true_divide\n",
      "  n_ij -= 0.5 * np.sum(((X - self.theta_[i, :]) ** 2) /\n",
      "/Users/maahirmawla/opt/anaconda3/lib/python3.9/site-packages/sklearn/naive_bayes.py:452: RuntimeWarning: divide by zero encountered in log\n",
      "  n_ij = - 0.5 * np.sum(np.log(2. * np.pi * self.sigma_[i, :]))\n",
      "/Users/maahirmawla/opt/anaconda3/lib/python3.9/site-packages/sklearn/naive_bayes.py:453: RuntimeWarning: invalid value encountered in true_divide\n",
      "  n_ij -= 0.5 * np.sum(((X - self.theta_[i, :]) ** 2) /\n"
     ]
    },
    {
     "name": "stdout",
     "output_type": "stream",
     "text": [
      "[0]\n",
      "619 Gnonto\n"
     ]
    },
    {
     "name": "stderr",
     "output_type": "stream",
     "text": [
      "/Users/maahirmawla/opt/anaconda3/lib/python3.9/site-packages/sklearn/naive_bayes.py:452: RuntimeWarning: divide by zero encountered in log\n",
      "  n_ij = - 0.5 * np.sum(np.log(2. * np.pi * self.sigma_[i, :]))\n",
      "/Users/maahirmawla/opt/anaconda3/lib/python3.9/site-packages/sklearn/naive_bayes.py:453: RuntimeWarning: invalid value encountered in true_divide\n",
      "  n_ij -= 0.5 * np.sum(((X - self.theta_[i, :]) ** 2) /\n",
      "/Users/maahirmawla/opt/anaconda3/lib/python3.9/site-packages/sklearn/naive_bayes.py:452: RuntimeWarning: divide by zero encountered in log\n",
      "  n_ij = - 0.5 * np.sum(np.log(2. * np.pi * self.sigma_[i, :]))\n",
      "/Users/maahirmawla/opt/anaconda3/lib/python3.9/site-packages/sklearn/naive_bayes.py:453: RuntimeWarning: invalid value encountered in true_divide\n",
      "  n_ij -= 0.5 * np.sum(((X - self.theta_[i, :]) ** 2) /\n"
     ]
    },
    {
     "name": "stdout",
     "output_type": "stream",
     "text": [
      "[0]\n",
      "274 Milner\n"
     ]
    },
    {
     "name": "stderr",
     "output_type": "stream",
     "text": [
      "/Users/maahirmawla/opt/anaconda3/lib/python3.9/site-packages/sklearn/naive_bayes.py:452: RuntimeWarning: divide by zero encountered in log\n",
      "  n_ij = - 0.5 * np.sum(np.log(2. * np.pi * self.sigma_[i, :]))\n",
      "/Users/maahirmawla/opt/anaconda3/lib/python3.9/site-packages/sklearn/naive_bayes.py:453: RuntimeWarning: invalid value encountered in true_divide\n",
      "  n_ij -= 0.5 * np.sum(((X - self.theta_[i, :]) ** 2) /\n",
      "/Users/maahirmawla/opt/anaconda3/lib/python3.9/site-packages/sklearn/naive_bayes.py:452: RuntimeWarning: divide by zero encountered in log\n",
      "  n_ij = - 0.5 * np.sum(np.log(2. * np.pi * self.sigma_[i, :]))\n",
      "/Users/maahirmawla/opt/anaconda3/lib/python3.9/site-packages/sklearn/naive_bayes.py:453: RuntimeWarning: invalid value encountered in true_divide\n",
      "  n_ij -= 0.5 * np.sum(((X - self.theta_[i, :]) ** 2) /\n"
     ]
    },
    {
     "name": "stdout",
     "output_type": "stream",
     "text": [
      "[1]\n",
      "275 Henderson\n",
      "[1]\n",
      "276 Matip\n"
     ]
    },
    {
     "name": "stderr",
     "output_type": "stream",
     "text": [
      "/Users/maahirmawla/opt/anaconda3/lib/python3.9/site-packages/sklearn/naive_bayes.py:452: RuntimeWarning: divide by zero encountered in log\n",
      "  n_ij = - 0.5 * np.sum(np.log(2. * np.pi * self.sigma_[i, :]))\n",
      "/Users/maahirmawla/opt/anaconda3/lib/python3.9/site-packages/sklearn/naive_bayes.py:453: RuntimeWarning: invalid value encountered in true_divide\n",
      "  n_ij -= 0.5 * np.sum(((X - self.theta_[i, :]) ** 2) /\n",
      "/Users/maahirmawla/opt/anaconda3/lib/python3.9/site-packages/sklearn/naive_bayes.py:452: RuntimeWarning: divide by zero encountered in log\n",
      "  n_ij = - 0.5 * np.sum(np.log(2. * np.pi * self.sigma_[i, :]))\n",
      "/Users/maahirmawla/opt/anaconda3/lib/python3.9/site-packages/sklearn/naive_bayes.py:453: RuntimeWarning: invalid value encountered in true_divide\n",
      "  n_ij -= 0.5 * np.sum(((X - self.theta_[i, :]) ** 2) /\n",
      "/Users/maahirmawla/opt/anaconda3/lib/python3.9/site-packages/sklearn/naive_bayes.py:452: RuntimeWarning: divide by zero encountered in log\n",
      "  n_ij = - 0.5 * np.sum(np.log(2. * np.pi * self.sigma_[i, :]))\n",
      "/Users/maahirmawla/opt/anaconda3/lib/python3.9/site-packages/sklearn/naive_bayes.py:453: RuntimeWarning: invalid value encountered in true_divide\n",
      "  n_ij -= 0.5 * np.sum(((X - self.theta_[i, :]) ** 2) /\n",
      "/Users/maahirmawla/opt/anaconda3/lib/python3.9/site-packages/sklearn/naive_bayes.py:452: RuntimeWarning: divide by zero encountered in log\n",
      "  n_ij = - 0.5 * np.sum(np.log(2. * np.pi * self.sigma_[i, :]))\n",
      "/Users/maahirmawla/opt/anaconda3/lib/python3.9/site-packages/sklearn/naive_bayes.py:453: RuntimeWarning: invalid value encountered in true_divide\n",
      "  n_ij -= 0.5 * np.sum(((X - self.theta_[i, :]) ** 2) /\n"
     ]
    },
    {
     "name": "stdout",
     "output_type": "stream",
     "text": [
      "[0]\n",
      "277 Thiago\n",
      "[0]\n",
      "278 Chamberlain\n"
     ]
    },
    {
     "name": "stderr",
     "output_type": "stream",
     "text": [
      "/Users/maahirmawla/opt/anaconda3/lib/python3.9/site-packages/sklearn/naive_bayes.py:452: RuntimeWarning: divide by zero encountered in log\n",
      "  n_ij = - 0.5 * np.sum(np.log(2. * np.pi * self.sigma_[i, :]))\n",
      "/Users/maahirmawla/opt/anaconda3/lib/python3.9/site-packages/sklearn/naive_bayes.py:453: RuntimeWarning: invalid value encountered in true_divide\n",
      "  n_ij -= 0.5 * np.sum(((X - self.theta_[i, :]) ** 2) /\n",
      "/Users/maahirmawla/opt/anaconda3/lib/python3.9/site-packages/sklearn/naive_bayes.py:452: RuntimeWarning: divide by zero encountered in log\n",
      "  n_ij = - 0.5 * np.sum(np.log(2. * np.pi * self.sigma_[i, :]))\n",
      "/Users/maahirmawla/opt/anaconda3/lib/python3.9/site-packages/sklearn/naive_bayes.py:453: RuntimeWarning: invalid value encountered in true_divide\n",
      "  n_ij -= 0.5 * np.sum(((X - self.theta_[i, :]) ** 2) /\n"
     ]
    },
    {
     "name": "stdout",
     "output_type": "stream",
     "text": [
      "[0]\n",
      "279 Firmino\n",
      "[1]\n",
      "280 Van Dijk\n",
      "[1]\n",
      "281 Alisson\n",
      "[1]\n",
      "282 Fabinho\n",
      "[2]\n",
      "283 Salah\n",
      "[2]\n",
      "284 Robertson\n",
      "[1]\n",
      "285 Alexander-Arnold\n",
      "[1]\n",
      "286 Gomez\n",
      "[1]\n",
      "287 Keita\n"
     ]
    },
    {
     "name": "stderr",
     "output_type": "stream",
     "text": [
      "/Users/maahirmawla/opt/anaconda3/lib/python3.9/site-packages/sklearn/naive_bayes.py:452: RuntimeWarning: divide by zero encountered in log\n",
      "  n_ij = - 0.5 * np.sum(np.log(2. * np.pi * self.sigma_[i, :]))\n",
      "/Users/maahirmawla/opt/anaconda3/lib/python3.9/site-packages/sklearn/naive_bayes.py:453: RuntimeWarning: invalid value encountered in true_divide\n",
      "  n_ij -= 0.5 * np.sum(((X - self.theta_[i, :]) ** 2) /\n",
      "/Users/maahirmawla/opt/anaconda3/lib/python3.9/site-packages/sklearn/naive_bayes.py:452: RuntimeWarning: divide by zero encountered in log\n",
      "  n_ij = - 0.5 * np.sum(np.log(2. * np.pi * self.sigma_[i, :]))\n",
      "/Users/maahirmawla/opt/anaconda3/lib/python3.9/site-packages/sklearn/naive_bayes.py:453: RuntimeWarning: invalid value encountered in true_divide\n",
      "  n_ij -= 0.5 * np.sum(((X - self.theta_[i, :]) ** 2) /\n",
      "/Users/maahirmawla/opt/anaconda3/lib/python3.9/site-packages/sklearn/naive_bayes.py:452: RuntimeWarning: divide by zero encountered in log\n",
      "  n_ij = - 0.5 * np.sum(np.log(2. * np.pi * self.sigma_[i, :]))\n",
      "/Users/maahirmawla/opt/anaconda3/lib/python3.9/site-packages/sklearn/naive_bayes.py:453: RuntimeWarning: invalid value encountered in true_divide\n",
      "  n_ij -= 0.5 * np.sum(((X - self.theta_[i, :]) ** 2) /\n",
      "/Users/maahirmawla/opt/anaconda3/lib/python3.9/site-packages/sklearn/naive_bayes.py:452: RuntimeWarning: divide by zero encountered in log\n",
      "  n_ij = - 0.5 * np.sum(np.log(2. * np.pi * self.sigma_[i, :]))\n",
      "/Users/maahirmawla/opt/anaconda3/lib/python3.9/site-packages/sklearn/naive_bayes.py:453: RuntimeWarning: invalid value encountered in true_divide\n",
      "  n_ij -= 0.5 * np.sum(((X - self.theta_[i, :]) ** 2) /\n"
     ]
    },
    {
     "name": "stdout",
     "output_type": "stream",
     "text": [
      "[0]\n",
      "288 Diogo Jota\n",
      "[0]\n",
      "289 Kelleher\n"
     ]
    },
    {
     "name": "stderr",
     "output_type": "stream",
     "text": [
      "/Users/maahirmawla/opt/anaconda3/lib/python3.9/site-packages/sklearn/naive_bayes.py:452: RuntimeWarning: divide by zero encountered in log\n",
      "  n_ij = - 0.5 * np.sum(np.log(2. * np.pi * self.sigma_[i, :]))\n",
      "/Users/maahirmawla/opt/anaconda3/lib/python3.9/site-packages/sklearn/naive_bayes.py:453: RuntimeWarning: invalid value encountered in true_divide\n",
      "  n_ij -= 0.5 * np.sum(((X - self.theta_[i, :]) ** 2) /\n",
      "/Users/maahirmawla/opt/anaconda3/lib/python3.9/site-packages/sklearn/naive_bayes.py:452: RuntimeWarning: divide by zero encountered in log\n",
      "  n_ij = - 0.5 * np.sum(np.log(2. * np.pi * self.sigma_[i, :]))\n",
      "/Users/maahirmawla/opt/anaconda3/lib/python3.9/site-packages/sklearn/naive_bayes.py:453: RuntimeWarning: invalid value encountered in true_divide\n",
      "  n_ij -= 0.5 * np.sum(((X - self.theta_[i, :]) ** 2) /\n"
     ]
    },
    {
     "name": "stdout",
     "output_type": "stream",
     "text": [
      "[0]\n",
      "290 Konaté\n"
     ]
    },
    {
     "name": "stderr",
     "output_type": "stream",
     "text": [
      "/Users/maahirmawla/opt/anaconda3/lib/python3.9/site-packages/sklearn/naive_bayes.py:452: RuntimeWarning: divide by zero encountered in log\n",
      "  n_ij = - 0.5 * np.sum(np.log(2. * np.pi * self.sigma_[i, :]))\n",
      "/Users/maahirmawla/opt/anaconda3/lib/python3.9/site-packages/sklearn/naive_bayes.py:453: RuntimeWarning: invalid value encountered in true_divide\n",
      "  n_ij -= 0.5 * np.sum(((X - self.theta_[i, :]) ** 2) /\n",
      "/Users/maahirmawla/opt/anaconda3/lib/python3.9/site-packages/sklearn/naive_bayes.py:452: RuntimeWarning: divide by zero encountered in log\n",
      "  n_ij = - 0.5 * np.sum(np.log(2. * np.pi * self.sigma_[i, :]))\n",
      "/Users/maahirmawla/opt/anaconda3/lib/python3.9/site-packages/sklearn/naive_bayes.py:453: RuntimeWarning: invalid value encountered in true_divide\n",
      "  n_ij -= 0.5 * np.sum(((X - self.theta_[i, :]) ** 2) /\n"
     ]
    },
    {
     "name": "stdout",
     "output_type": "stream",
     "text": [
      "[0]\n",
      "291 Jones\n"
     ]
    },
    {
     "name": "stderr",
     "output_type": "stream",
     "text": [
      "/Users/maahirmawla/opt/anaconda3/lib/python3.9/site-packages/sklearn/naive_bayes.py:452: RuntimeWarning: divide by zero encountered in log\n",
      "  n_ij = - 0.5 * np.sum(np.log(2. * np.pi * self.sigma_[i, :]))\n",
      "/Users/maahirmawla/opt/anaconda3/lib/python3.9/site-packages/sklearn/naive_bayes.py:453: RuntimeWarning: invalid value encountered in true_divide\n",
      "  n_ij -= 0.5 * np.sum(((X - self.theta_[i, :]) ** 2) /\n",
      "/Users/maahirmawla/opt/anaconda3/lib/python3.9/site-packages/sklearn/naive_bayes.py:452: RuntimeWarning: divide by zero encountered in log\n",
      "  n_ij = - 0.5 * np.sum(np.log(2. * np.pi * self.sigma_[i, :]))\n",
      "/Users/maahirmawla/opt/anaconda3/lib/python3.9/site-packages/sklearn/naive_bayes.py:453: RuntimeWarning: invalid value encountered in true_divide\n",
      "  n_ij -= 0.5 * np.sum(((X - self.theta_[i, :]) ** 2) /\n"
     ]
    },
    {
     "name": "stdout",
     "output_type": "stream",
     "text": [
      "[0]\n",
      "292 Tsimikas\n"
     ]
    },
    {
     "name": "stderr",
     "output_type": "stream",
     "text": [
      "/Users/maahirmawla/opt/anaconda3/lib/python3.9/site-packages/sklearn/naive_bayes.py:452: RuntimeWarning: divide by zero encountered in log\n",
      "  n_ij = - 0.5 * np.sum(np.log(2. * np.pi * self.sigma_[i, :]))\n",
      "/Users/maahirmawla/opt/anaconda3/lib/python3.9/site-packages/sklearn/naive_bayes.py:453: RuntimeWarning: invalid value encountered in true_divide\n",
      "  n_ij -= 0.5 * np.sum(((X - self.theta_[i, :]) ** 2) /\n",
      "/Users/maahirmawla/opt/anaconda3/lib/python3.9/site-packages/sklearn/naive_bayes.py:452: RuntimeWarning: divide by zero encountered in log\n",
      "  n_ij = - 0.5 * np.sum(np.log(2. * np.pi * self.sigma_[i, :]))\n",
      "/Users/maahirmawla/opt/anaconda3/lib/python3.9/site-packages/sklearn/naive_bayes.py:453: RuntimeWarning: invalid value encountered in true_divide\n",
      "  n_ij -= 0.5 * np.sum(((X - self.theta_[i, :]) ** 2) /\n"
     ]
    },
    {
     "name": "stdout",
     "output_type": "stream",
     "text": [
      "[0]\n",
      "293 Luis Díaz\n",
      "[2]\n",
      "294 Elliott\n",
      "[2]\n",
      "296 Carvalho\n",
      "[1]\n",
      "297 Darwin\n",
      "[0]\n",
      "298 Ramsay\n"
     ]
    },
    {
     "name": "stderr",
     "output_type": "stream",
     "text": [
      "/Users/maahirmawla/opt/anaconda3/lib/python3.9/site-packages/sklearn/naive_bayes.py:452: RuntimeWarning: divide by zero encountered in log\n",
      "  n_ij = - 0.5 * np.sum(np.log(2. * np.pi * self.sigma_[i, :]))\n",
      "/Users/maahirmawla/opt/anaconda3/lib/python3.9/site-packages/sklearn/naive_bayes.py:453: RuntimeWarning: invalid value encountered in true_divide\n",
      "  n_ij -= 0.5 * np.sum(((X - self.theta_[i, :]) ** 2) /\n",
      "/Users/maahirmawla/opt/anaconda3/lib/python3.9/site-packages/sklearn/naive_bayes.py:452: RuntimeWarning: divide by zero encountered in log\n",
      "  n_ij = - 0.5 * np.sum(np.log(2. * np.pi * self.sigma_[i, :]))\n",
      "/Users/maahirmawla/opt/anaconda3/lib/python3.9/site-packages/sklearn/naive_bayes.py:453: RuntimeWarning: invalid value encountered in true_divide\n",
      "  n_ij -= 0.5 * np.sum(((X - self.theta_[i, :]) ** 2) /\n",
      "/Users/maahirmawla/opt/anaconda3/lib/python3.9/site-packages/sklearn/naive_bayes.py:452: RuntimeWarning: divide by zero encountered in log\n",
      "  n_ij = - 0.5 * np.sum(np.log(2. * np.pi * self.sigma_[i, :]))\n",
      "/Users/maahirmawla/opt/anaconda3/lib/python3.9/site-packages/sklearn/naive_bayes.py:453: RuntimeWarning: invalid value encountered in true_divide\n",
      "  n_ij -= 0.5 * np.sum(((X - self.theta_[i, :]) ** 2) /\n",
      "/Users/maahirmawla/opt/anaconda3/lib/python3.9/site-packages/sklearn/naive_bayes.py:452: RuntimeWarning: divide by zero encountered in log\n",
      "  n_ij = - 0.5 * np.sum(np.log(2. * np.pi * self.sigma_[i, :]))\n",
      "/Users/maahirmawla/opt/anaconda3/lib/python3.9/site-packages/sklearn/naive_bayes.py:453: RuntimeWarning: invalid value encountered in true_divide\n",
      "  n_ij -= 0.5 * np.sum(((X - self.theta_[i, :]) ** 2) /\n"
     ]
    },
    {
     "name": "stdout",
     "output_type": "stream",
     "text": [
      "[0]\n",
      "497 Adrián\n",
      "[0]\n",
      "498 R.Williams\n"
     ]
    },
    {
     "name": "stderr",
     "output_type": "stream",
     "text": [
      "/Users/maahirmawla/opt/anaconda3/lib/python3.9/site-packages/sklearn/naive_bayes.py:452: RuntimeWarning: divide by zero encountered in log\n",
      "  n_ij = - 0.5 * np.sum(np.log(2. * np.pi * self.sigma_[i, :]))\n",
      "/Users/maahirmawla/opt/anaconda3/lib/python3.9/site-packages/sklearn/naive_bayes.py:453: RuntimeWarning: invalid value encountered in true_divide\n",
      "  n_ij -= 0.5 * np.sum(((X - self.theta_[i, :]) ** 2) /\n",
      "/Users/maahirmawla/opt/anaconda3/lib/python3.9/site-packages/sklearn/naive_bayes.py:452: RuntimeWarning: divide by zero encountered in log\n",
      "  n_ij = - 0.5 * np.sum(np.log(2. * np.pi * self.sigma_[i, :]))\n",
      "/Users/maahirmawla/opt/anaconda3/lib/python3.9/site-packages/sklearn/naive_bayes.py:453: RuntimeWarning: invalid value encountered in true_divide\n",
      "  n_ij -= 0.5 * np.sum(((X - self.theta_[i, :]) ** 2) /\n"
     ]
    },
    {
     "name": "stdout",
     "output_type": "stream",
     "text": [
      "[0]\n",
      "499 Davies\n"
     ]
    },
    {
     "name": "stderr",
     "output_type": "stream",
     "text": [
      "/Users/maahirmawla/opt/anaconda3/lib/python3.9/site-packages/sklearn/naive_bayes.py:452: RuntimeWarning: divide by zero encountered in log\n",
      "  n_ij = - 0.5 * np.sum(np.log(2. * np.pi * self.sigma_[i, :]))\n",
      "/Users/maahirmawla/opt/anaconda3/lib/python3.9/site-packages/sklearn/naive_bayes.py:453: RuntimeWarning: invalid value encountered in true_divide\n",
      "  n_ij -= 0.5 * np.sum(((X - self.theta_[i, :]) ** 2) /\n",
      "/Users/maahirmawla/opt/anaconda3/lib/python3.9/site-packages/sklearn/naive_bayes.py:452: RuntimeWarning: divide by zero encountered in log\n",
      "  n_ij = - 0.5 * np.sum(np.log(2. * np.pi * self.sigma_[i, :]))\n",
      "/Users/maahirmawla/opt/anaconda3/lib/python3.9/site-packages/sklearn/naive_bayes.py:453: RuntimeWarning: invalid value encountered in true_divide\n",
      "  n_ij -= 0.5 * np.sum(((X - self.theta_[i, :]) ** 2) /\n",
      "/Users/maahirmawla/opt/anaconda3/lib/python3.9/site-packages/sklearn/naive_bayes.py:452: RuntimeWarning: divide by zero encountered in log\n",
      "  n_ij = - 0.5 * np.sum(np.log(2. * np.pi * self.sigma_[i, :]))\n",
      "/Users/maahirmawla/opt/anaconda3/lib/python3.9/site-packages/sklearn/naive_bayes.py:453: RuntimeWarning: invalid value encountered in true_divide\n",
      "  n_ij -= 0.5 * np.sum(((X - self.theta_[i, :]) ** 2) /\n",
      "/Users/maahirmawla/opt/anaconda3/lib/python3.9/site-packages/sklearn/naive_bayes.py:452: RuntimeWarning: divide by zero encountered in log\n",
      "  n_ij = - 0.5 * np.sum(np.log(2. * np.pi * self.sigma_[i, :]))\n",
      "/Users/maahirmawla/opt/anaconda3/lib/python3.9/site-packages/sklearn/naive_bayes.py:453: RuntimeWarning: invalid value encountered in true_divide\n",
      "  n_ij -= 0.5 * np.sum(((X - self.theta_[i, :]) ** 2) /\n"
     ]
    },
    {
     "name": "stdout",
     "output_type": "stream",
     "text": [
      "[0]\n",
      "500 Van den Berg\n",
      "[0]\n",
      "501 Phillips\n"
     ]
    },
    {
     "name": "stderr",
     "output_type": "stream",
     "text": [
      "/Users/maahirmawla/opt/anaconda3/lib/python3.9/site-packages/sklearn/naive_bayes.py:452: RuntimeWarning: divide by zero encountered in log\n",
      "  n_ij = - 0.5 * np.sum(np.log(2. * np.pi * self.sigma_[i, :]))\n",
      "/Users/maahirmawla/opt/anaconda3/lib/python3.9/site-packages/sklearn/naive_bayes.py:453: RuntimeWarning: invalid value encountered in true_divide\n",
      "  n_ij -= 0.5 * np.sum(((X - self.theta_[i, :]) ** 2) /\n",
      "/Users/maahirmawla/opt/anaconda3/lib/python3.9/site-packages/sklearn/naive_bayes.py:452: RuntimeWarning: divide by zero encountered in log\n",
      "  n_ij = - 0.5 * np.sum(np.log(2. * np.pi * self.sigma_[i, :]))\n",
      "/Users/maahirmawla/opt/anaconda3/lib/python3.9/site-packages/sklearn/naive_bayes.py:453: RuntimeWarning: invalid value encountered in true_divide\n",
      "  n_ij -= 0.5 * np.sum(((X - self.theta_[i, :]) ** 2) /\n"
     ]
    },
    {
     "name": "stdout",
     "output_type": "stream",
     "text": [
      "[0]\n",
      "563 Chambers\n"
     ]
    },
    {
     "name": "stderr",
     "output_type": "stream",
     "text": [
      "/Users/maahirmawla/opt/anaconda3/lib/python3.9/site-packages/sklearn/naive_bayes.py:452: RuntimeWarning: divide by zero encountered in log\n",
      "  n_ij = - 0.5 * np.sum(np.log(2. * np.pi * self.sigma_[i, :]))\n",
      "/Users/maahirmawla/opt/anaconda3/lib/python3.9/site-packages/sklearn/naive_bayes.py:453: RuntimeWarning: invalid value encountered in true_divide\n",
      "  n_ij -= 0.5 * np.sum(((X - self.theta_[i, :]) ** 2) /\n",
      "/Users/maahirmawla/opt/anaconda3/lib/python3.9/site-packages/sklearn/naive_bayes.py:452: RuntimeWarning: divide by zero encountered in log\n",
      "  n_ij = - 0.5 * np.sum(np.log(2. * np.pi * self.sigma_[i, :]))\n",
      "/Users/maahirmawla/opt/anaconda3/lib/python3.9/site-packages/sklearn/naive_bayes.py:453: RuntimeWarning: invalid value encountered in true_divide\n",
      "  n_ij -= 0.5 * np.sum(((X - self.theta_[i, :]) ** 2) /\n",
      "/Users/maahirmawla/opt/anaconda3/lib/python3.9/site-packages/sklearn/naive_bayes.py:452: RuntimeWarning: divide by zero encountered in log\n",
      "  n_ij = - 0.5 * np.sum(np.log(2. * np.pi * self.sigma_[i, :]))\n",
      "/Users/maahirmawla/opt/anaconda3/lib/python3.9/site-packages/sklearn/naive_bayes.py:453: RuntimeWarning: invalid value encountered in true_divide\n",
      "  n_ij -= 0.5 * np.sum(((X - self.theta_[i, :]) ** 2) /\n",
      "/Users/maahirmawla/opt/anaconda3/lib/python3.9/site-packages/sklearn/naive_bayes.py:452: RuntimeWarning: divide by zero encountered in log\n",
      "  n_ij = - 0.5 * np.sum(np.log(2. * np.pi * self.sigma_[i, :]))\n",
      "/Users/maahirmawla/opt/anaconda3/lib/python3.9/site-packages/sklearn/naive_bayes.py:453: RuntimeWarning: invalid value encountered in true_divide\n",
      "  n_ij -= 0.5 * np.sum(((X - self.theta_[i, :]) ** 2) /\n"
     ]
    },
    {
     "name": "stdout",
     "output_type": "stream",
     "text": [
      "[0]\n",
      "564 Bajcetic\n",
      "[0]\n",
      "584 Clark\n"
     ]
    },
    {
     "name": "stderr",
     "output_type": "stream",
     "text": [
      "/Users/maahirmawla/opt/anaconda3/lib/python3.9/site-packages/sklearn/naive_bayes.py:452: RuntimeWarning: divide by zero encountered in log\n",
      "  n_ij = - 0.5 * np.sum(np.log(2. * np.pi * self.sigma_[i, :]))\n",
      "/Users/maahirmawla/opt/anaconda3/lib/python3.9/site-packages/sklearn/naive_bayes.py:453: RuntimeWarning: invalid value encountered in true_divide\n",
      "  n_ij -= 0.5 * np.sum(((X - self.theta_[i, :]) ** 2) /\n",
      "/Users/maahirmawla/opt/anaconda3/lib/python3.9/site-packages/sklearn/naive_bayes.py:452: RuntimeWarning: divide by zero encountered in log\n",
      "  n_ij = - 0.5 * np.sum(np.log(2. * np.pi * self.sigma_[i, :]))\n",
      "/Users/maahirmawla/opt/anaconda3/lib/python3.9/site-packages/sklearn/naive_bayes.py:453: RuntimeWarning: invalid value encountered in true_divide\n",
      "  n_ij -= 0.5 * np.sum(((X - self.theta_[i, :]) ** 2) /\n"
     ]
    },
    {
     "name": "stdout",
     "output_type": "stream",
     "text": [
      "[0]\n",
      "592 H.Davies\n"
     ]
    },
    {
     "name": "stderr",
     "output_type": "stream",
     "text": [
      "/Users/maahirmawla/opt/anaconda3/lib/python3.9/site-packages/sklearn/naive_bayes.py:452: RuntimeWarning: divide by zero encountered in log\n",
      "  n_ij = - 0.5 * np.sum(np.log(2. * np.pi * self.sigma_[i, :]))\n",
      "/Users/maahirmawla/opt/anaconda3/lib/python3.9/site-packages/sklearn/naive_bayes.py:453: RuntimeWarning: invalid value encountered in true_divide\n",
      "  n_ij -= 0.5 * np.sum(((X - self.theta_[i, :]) ** 2) /\n",
      "/Users/maahirmawla/opt/anaconda3/lib/python3.9/site-packages/sklearn/naive_bayes.py:452: RuntimeWarning: divide by zero encountered in log\n",
      "  n_ij = - 0.5 * np.sum(np.log(2. * np.pi * self.sigma_[i, :]))\n",
      "/Users/maahirmawla/opt/anaconda3/lib/python3.9/site-packages/sklearn/naive_bayes.py:453: RuntimeWarning: invalid value encountered in true_divide\n",
      "  n_ij -= 0.5 * np.sum(((X - self.theta_[i, :]) ** 2) /\n"
     ]
    },
    {
     "name": "stdout",
     "output_type": "stream",
     "text": [
      "[0]\n",
      "620 Arthur\n"
     ]
    },
    {
     "name": "stderr",
     "output_type": "stream",
     "text": [
      "/Users/maahirmawla/opt/anaconda3/lib/python3.9/site-packages/sklearn/naive_bayes.py:452: RuntimeWarning: divide by zero encountered in log\n",
      "  n_ij = - 0.5 * np.sum(np.log(2. * np.pi * self.sigma_[i, :]))\n",
      "/Users/maahirmawla/opt/anaconda3/lib/python3.9/site-packages/sklearn/naive_bayes.py:453: RuntimeWarning: invalid value encountered in true_divide\n",
      "  n_ij -= 0.5 * np.sum(((X - self.theta_[i, :]) ** 2) /\n",
      "/Users/maahirmawla/opt/anaconda3/lib/python3.9/site-packages/sklearn/naive_bayes.py:452: RuntimeWarning: divide by zero encountered in log\n",
      "  n_ij = - 0.5 * np.sum(np.log(2. * np.pi * self.sigma_[i, :]))\n",
      "/Users/maahirmawla/opt/anaconda3/lib/python3.9/site-packages/sklearn/naive_bayes.py:453: RuntimeWarning: invalid value encountered in true_divide\n",
      "  n_ij -= 0.5 * np.sum(((X - self.theta_[i, :]) ** 2) /\n"
     ]
    },
    {
     "name": "stdout",
     "output_type": "stream",
     "text": [
      "[0]\n",
      "299 Walker\n",
      "[6]\n",
      "300 Gündogan\n",
      "[3]\n",
      "301 De Bruyne\n",
      "[1]\n",
      "302 Stones\n",
      "[0]\n",
      "303 Mahrez\n",
      "[1]\n",
      "305 Grealish\n",
      "[0]\n",
      "306 Cancelo\n",
      "[0]\n",
      "307 Ederson\n",
      "[1]\n",
      "308 Aké\n",
      "[0]\n",
      "309 Laporte\n"
     ]
    },
    {
     "name": "stderr",
     "output_type": "stream",
     "text": [
      "/Users/maahirmawla/opt/anaconda3/lib/python3.9/site-packages/sklearn/naive_bayes.py:452: RuntimeWarning: divide by zero encountered in log\n",
      "  n_ij = - 0.5 * np.sum(np.log(2. * np.pi * self.sigma_[i, :]))\n",
      "/Users/maahirmawla/opt/anaconda3/lib/python3.9/site-packages/sklearn/naive_bayes.py:453: RuntimeWarning: invalid value encountered in true_divide\n",
      "  n_ij -= 0.5 * np.sum(((X - self.theta_[i, :]) ** 2) /\n",
      "/Users/maahirmawla/opt/anaconda3/lib/python3.9/site-packages/sklearn/naive_bayes.py:452: RuntimeWarning: divide by zero encountered in log\n",
      "  n_ij = - 0.5 * np.sum(np.log(2. * np.pi * self.sigma_[i, :]))\n",
      "/Users/maahirmawla/opt/anaconda3/lib/python3.9/site-packages/sklearn/naive_bayes.py:453: RuntimeWarning: invalid value encountered in true_divide\n",
      "  n_ij -= 0.5 * np.sum(((X - self.theta_[i, :]) ** 2) /\n"
     ]
    },
    {
     "name": "stdout",
     "output_type": "stream",
     "text": [
      "[0]\n",
      "310 Steffen\n"
     ]
    },
    {
     "name": "stderr",
     "output_type": "stream",
     "text": [
      "/Users/maahirmawla/opt/anaconda3/lib/python3.9/site-packages/sklearn/naive_bayes.py:452: RuntimeWarning: divide by zero encountered in log\n",
      "  n_ij = - 0.5 * np.sum(np.log(2. * np.pi * self.sigma_[i, :]))\n",
      "/Users/maahirmawla/opt/anaconda3/lib/python3.9/site-packages/sklearn/naive_bayes.py:453: RuntimeWarning: invalid value encountered in true_divide\n",
      "  n_ij -= 0.5 * np.sum(((X - self.theta_[i, :]) ** 2) /\n",
      "/Users/maahirmawla/opt/anaconda3/lib/python3.9/site-packages/sklearn/naive_bayes.py:452: RuntimeWarning: divide by zero encountered in log\n",
      "  n_ij = - 0.5 * np.sum(np.log(2. * np.pi * self.sigma_[i, :]))\n",
      "/Users/maahirmawla/opt/anaconda3/lib/python3.9/site-packages/sklearn/naive_bayes.py:453: RuntimeWarning: invalid value encountered in true_divide\n",
      "  n_ij -= 0.5 * np.sum(((X - self.theta_[i, :]) ** 2) /\n"
     ]
    },
    {
     "name": "stdout",
     "output_type": "stream",
     "text": [
      "[0]\n",
      "311 Bernardo\n",
      "[1]\n",
      "312 Dias\n",
      "[6]\n",
      "314 Foden\n",
      "[2]\n",
      "315 Rodri\n",
      "[5]\n",
      "316 Palmer\n",
      "[0]\n",
      "317 McAtee\n"
     ]
    },
    {
     "name": "stderr",
     "output_type": "stream",
     "text": [
      "/Users/maahirmawla/opt/anaconda3/lib/python3.9/site-packages/sklearn/naive_bayes.py:452: RuntimeWarning: divide by zero encountered in log\n",
      "  n_ij = - 0.5 * np.sum(np.log(2. * np.pi * self.sigma_[i, :]))\n",
      "/Users/maahirmawla/opt/anaconda3/lib/python3.9/site-packages/sklearn/naive_bayes.py:453: RuntimeWarning: invalid value encountered in true_divide\n",
      "  n_ij -= 0.5 * np.sum(((X - self.theta_[i, :]) ** 2) /\n",
      "/Users/maahirmawla/opt/anaconda3/lib/python3.9/site-packages/sklearn/naive_bayes.py:452: RuntimeWarning: divide by zero encountered in log\n",
      "  n_ij = - 0.5 * np.sum(np.log(2. * np.pi * self.sigma_[i, :]))\n",
      "/Users/maahirmawla/opt/anaconda3/lib/python3.9/site-packages/sklearn/naive_bayes.py:453: RuntimeWarning: invalid value encountered in true_divide\n",
      "  n_ij -= 0.5 * np.sum(((X - self.theta_[i, :]) ** 2) /\n",
      "/Users/maahirmawla/opt/anaconda3/lib/python3.9/site-packages/sklearn/naive_bayes.py:452: RuntimeWarning: divide by zero encountered in log\n",
      "  n_ij = - 0.5 * np.sum(np.log(2. * np.pi * self.sigma_[i, :]))\n",
      "/Users/maahirmawla/opt/anaconda3/lib/python3.9/site-packages/sklearn/naive_bayes.py:453: RuntimeWarning: invalid value encountered in true_divide\n",
      "  n_ij -= 0.5 * np.sum(((X - self.theta_[i, :]) ** 2) /\n",
      "/Users/maahirmawla/opt/anaconda3/lib/python3.9/site-packages/sklearn/naive_bayes.py:452: RuntimeWarning: divide by zero encountered in log\n",
      "  n_ij = - 0.5 * np.sum(np.log(2. * np.pi * self.sigma_[i, :]))\n",
      "/Users/maahirmawla/opt/anaconda3/lib/python3.9/site-packages/sklearn/naive_bayes.py:453: RuntimeWarning: invalid value encountered in true_divide\n",
      "  n_ij -= 0.5 * np.sum(((X - self.theta_[i, :]) ** 2) /\n"
     ]
    },
    {
     "name": "stdout",
     "output_type": "stream",
     "text": [
      "[0]\n",
      "318 Haaland\n",
      "[13]\n",
      "319 Álvarez\n",
      "[1]\n",
      "320 Mbete\n"
     ]
    },
    {
     "name": "stderr",
     "output_type": "stream",
     "text": [
      "/Users/maahirmawla/opt/anaconda3/lib/python3.9/site-packages/sklearn/naive_bayes.py:452: RuntimeWarning: divide by zero encountered in log\n",
      "  n_ij = - 0.5 * np.sum(np.log(2. * np.pi * self.sigma_[i, :]))\n",
      "/Users/maahirmawla/opt/anaconda3/lib/python3.9/site-packages/sklearn/naive_bayes.py:453: RuntimeWarning: invalid value encountered in true_divide\n",
      "  n_ij -= 0.5 * np.sum(((X - self.theta_[i, :]) ** 2) /\n",
      "/Users/maahirmawla/opt/anaconda3/lib/python3.9/site-packages/sklearn/naive_bayes.py:452: RuntimeWarning: divide by zero encountered in log\n",
      "  n_ij = - 0.5 * np.sum(np.log(2. * np.pi * self.sigma_[i, :]))\n",
      "/Users/maahirmawla/opt/anaconda3/lib/python3.9/site-packages/sklearn/naive_bayes.py:453: RuntimeWarning: invalid value encountered in true_divide\n",
      "  n_ij -= 0.5 * np.sum(((X - self.theta_[i, :]) ** 2) /\n"
     ]
    },
    {
     "name": "stdout",
     "output_type": "stream",
     "text": [
      "[0]\n",
      "322 Wilson-Esbrand\n"
     ]
    },
    {
     "name": "stderr",
     "output_type": "stream",
     "text": [
      "/Users/maahirmawla/opt/anaconda3/lib/python3.9/site-packages/sklearn/naive_bayes.py:452: RuntimeWarning: divide by zero encountered in log\n",
      "  n_ij = - 0.5 * np.sum(np.log(2. * np.pi * self.sigma_[i, :]))\n",
      "/Users/maahirmawla/opt/anaconda3/lib/python3.9/site-packages/sklearn/naive_bayes.py:453: RuntimeWarning: invalid value encountered in true_divide\n",
      "  n_ij -= 0.5 * np.sum(((X - self.theta_[i, :]) ** 2) /\n",
      "/Users/maahirmawla/opt/anaconda3/lib/python3.9/site-packages/sklearn/naive_bayes.py:452: RuntimeWarning: divide by zero encountered in log\n",
      "  n_ij = - 0.5 * np.sum(np.log(2. * np.pi * self.sigma_[i, :]))\n",
      "/Users/maahirmawla/opt/anaconda3/lib/python3.9/site-packages/sklearn/naive_bayes.py:453: RuntimeWarning: invalid value encountered in true_divide\n",
      "  n_ij -= 0.5 * np.sum(((X - self.theta_[i, :]) ** 2) /\n"
     ]
    },
    {
     "name": "stdout",
     "output_type": "stream",
     "text": [
      "[0]\n",
      "323 Delap\n"
     ]
    },
    {
     "name": "stderr",
     "output_type": "stream",
     "text": [
      "/Users/maahirmawla/opt/anaconda3/lib/python3.9/site-packages/sklearn/naive_bayes.py:452: RuntimeWarning: divide by zero encountered in log\n",
      "  n_ij = - 0.5 * np.sum(np.log(2. * np.pi * self.sigma_[i, :]))\n",
      "/Users/maahirmawla/opt/anaconda3/lib/python3.9/site-packages/sklearn/naive_bayes.py:453: RuntimeWarning: invalid value encountered in true_divide\n",
      "  n_ij -= 0.5 * np.sum(((X - self.theta_[i, :]) ** 2) /\n",
      "/Users/maahirmawla/opt/anaconda3/lib/python3.9/site-packages/sklearn/naive_bayes.py:452: RuntimeWarning: divide by zero encountered in log\n",
      "  n_ij = - 0.5 * np.sum(np.log(2. * np.pi * self.sigma_[i, :]))\n",
      "/Users/maahirmawla/opt/anaconda3/lib/python3.9/site-packages/sklearn/naive_bayes.py:453: RuntimeWarning: invalid value encountered in true_divide\n",
      "  n_ij -= 0.5 * np.sum(((X - self.theta_[i, :]) ** 2) /\n"
     ]
    },
    {
     "name": "stdout",
     "output_type": "stream",
     "text": [
      "[0]\n",
      "324 Ortega\n"
     ]
    },
    {
     "name": "stderr",
     "output_type": "stream",
     "text": [
      "/Users/maahirmawla/opt/anaconda3/lib/python3.9/site-packages/sklearn/naive_bayes.py:452: RuntimeWarning: divide by zero encountered in log\n",
      "  n_ij = - 0.5 * np.sum(np.log(2. * np.pi * self.sigma_[i, :]))\n",
      "/Users/maahirmawla/opt/anaconda3/lib/python3.9/site-packages/sklearn/naive_bayes.py:453: RuntimeWarning: invalid value encountered in true_divide\n",
      "  n_ij -= 0.5 * np.sum(((X - self.theta_[i, :]) ** 2) /\n",
      "/Users/maahirmawla/opt/anaconda3/lib/python3.9/site-packages/sklearn/naive_bayes.py:452: RuntimeWarning: divide by zero encountered in log\n",
      "  n_ij = - 0.5 * np.sum(np.log(2. * np.pi * self.sigma_[i, :]))\n",
      "/Users/maahirmawla/opt/anaconda3/lib/python3.9/site-packages/sklearn/naive_bayes.py:453: RuntimeWarning: invalid value encountered in true_divide\n",
      "  n_ij -= 0.5 * np.sum(((X - self.theta_[i, :]) ** 2) /\n"
     ]
    },
    {
     "name": "stdout",
     "output_type": "stream",
     "text": [
      "[0]\n",
      "325 Phillips\n"
     ]
    },
    {
     "name": "stderr",
     "output_type": "stream",
     "text": [
      "/Users/maahirmawla/opt/anaconda3/lib/python3.9/site-packages/sklearn/naive_bayes.py:452: RuntimeWarning: divide by zero encountered in log\n",
      "  n_ij = - 0.5 * np.sum(np.log(2. * np.pi * self.sigma_[i, :]))\n",
      "/Users/maahirmawla/opt/anaconda3/lib/python3.9/site-packages/sklearn/naive_bayes.py:453: RuntimeWarning: invalid value encountered in true_divide\n",
      "  n_ij -= 0.5 * np.sum(((X - self.theta_[i, :]) ** 2) /\n",
      "/Users/maahirmawla/opt/anaconda3/lib/python3.9/site-packages/sklearn/naive_bayes.py:452: RuntimeWarning: divide by zero encountered in log\n",
      "  n_ij = - 0.5 * np.sum(np.log(2. * np.pi * self.sigma_[i, :]))\n",
      "/Users/maahirmawla/opt/anaconda3/lib/python3.9/site-packages/sklearn/naive_bayes.py:453: RuntimeWarning: invalid value encountered in true_divide\n",
      "  n_ij -= 0.5 * np.sum(((X - self.theta_[i, :]) ** 2) /\n"
     ]
    },
    {
     "name": "stdout",
     "output_type": "stream",
     "text": [
      "[0]\n",
      "502 Carson\n"
     ]
    },
    {
     "name": "stderr",
     "output_type": "stream",
     "text": [
      "/Users/maahirmawla/opt/anaconda3/lib/python3.9/site-packages/sklearn/naive_bayes.py:452: RuntimeWarning: divide by zero encountered in log\n",
      "  n_ij = - 0.5 * np.sum(np.log(2. * np.pi * self.sigma_[i, :]))\n",
      "/Users/maahirmawla/opt/anaconda3/lib/python3.9/site-packages/sklearn/naive_bayes.py:453: RuntimeWarning: invalid value encountered in true_divide\n",
      "  n_ij -= 0.5 * np.sum(((X - self.theta_[i, :]) ** 2) /\n",
      "/Users/maahirmawla/opt/anaconda3/lib/python3.9/site-packages/sklearn/naive_bayes.py:452: RuntimeWarning: divide by zero encountered in log\n",
      "  n_ij = - 0.5 * np.sum(np.log(2. * np.pi * self.sigma_[i, :]))\n",
      "/Users/maahirmawla/opt/anaconda3/lib/python3.9/site-packages/sklearn/naive_bayes.py:453: RuntimeWarning: invalid value encountered in true_divide\n",
      "  n_ij -= 0.5 * np.sum(((X - self.theta_[i, :]) ** 2) /\n"
     ]
    },
    {
     "name": "stdout",
     "output_type": "stream",
     "text": [
      "[0]\n",
      "573 Lewis\n"
     ]
    },
    {
     "name": "stderr",
     "output_type": "stream",
     "text": [
      "/Users/maahirmawla/opt/anaconda3/lib/python3.9/site-packages/sklearn/naive_bayes.py:452: RuntimeWarning: divide by zero encountered in log\n",
      "  n_ij = - 0.5 * np.sum(np.log(2. * np.pi * self.sigma_[i, :]))\n",
      "/Users/maahirmawla/opt/anaconda3/lib/python3.9/site-packages/sklearn/naive_bayes.py:453: RuntimeWarning: invalid value encountered in true_divide\n",
      "  n_ij -= 0.5 * np.sum(((X - self.theta_[i, :]) ** 2) /\n",
      "/Users/maahirmawla/opt/anaconda3/lib/python3.9/site-packages/sklearn/naive_bayes.py:452: RuntimeWarning: divide by zero encountered in log\n",
      "  n_ij = - 0.5 * np.sum(np.log(2. * np.pi * self.sigma_[i, :]))\n",
      "/Users/maahirmawla/opt/anaconda3/lib/python3.9/site-packages/sklearn/naive_bayes.py:453: RuntimeWarning: invalid value encountered in true_divide\n",
      "  n_ij -= 0.5 * np.sum(((X - self.theta_[i, :]) ** 2) /\n"
     ]
    },
    {
     "name": "stdout",
     "output_type": "stream",
     "text": [
      "[0]\n",
      "587 Sergio Gómez\n"
     ]
    },
    {
     "name": "stderr",
     "output_type": "stream",
     "text": [
      "/Users/maahirmawla/opt/anaconda3/lib/python3.9/site-packages/sklearn/naive_bayes.py:452: RuntimeWarning: divide by zero encountered in log\n",
      "  n_ij = - 0.5 * np.sum(np.log(2. * np.pi * self.sigma_[i, :]))\n",
      "/Users/maahirmawla/opt/anaconda3/lib/python3.9/site-packages/sklearn/naive_bayes.py:453: RuntimeWarning: invalid value encountered in true_divide\n",
      "  n_ij -= 0.5 * np.sum(((X - self.theta_[i, :]) ** 2) /\n",
      "/Users/maahirmawla/opt/anaconda3/lib/python3.9/site-packages/sklearn/naive_bayes.py:452: RuntimeWarning: divide by zero encountered in log\n",
      "  n_ij = - 0.5 * np.sum(np.log(2. * np.pi * self.sigma_[i, :]))\n",
      "/Users/maahirmawla/opt/anaconda3/lib/python3.9/site-packages/sklearn/naive_bayes.py:453: RuntimeWarning: invalid value encountered in true_divide\n",
      "  n_ij -= 0.5 * np.sum(((X - self.theta_[i, :]) ** 2) /\n"
     ]
    },
    {
     "name": "stdout",
     "output_type": "stream",
     "text": [
      "[0]\n",
      "599 Gomes\n"
     ]
    },
    {
     "name": "stderr",
     "output_type": "stream",
     "text": [
      "/Users/maahirmawla/opt/anaconda3/lib/python3.9/site-packages/sklearn/naive_bayes.py:452: RuntimeWarning: divide by zero encountered in log\n",
      "  n_ij = - 0.5 * np.sum(np.log(2. * np.pi * self.sigma_[i, :]))\n",
      "/Users/maahirmawla/opt/anaconda3/lib/python3.9/site-packages/sklearn/naive_bayes.py:453: RuntimeWarning: invalid value encountered in true_divide\n",
      "  n_ij -= 0.5 * np.sum(((X - self.theta_[i, :]) ** 2) /\n",
      "/Users/maahirmawla/opt/anaconda3/lib/python3.9/site-packages/sklearn/naive_bayes.py:452: RuntimeWarning: divide by zero encountered in log\n",
      "  n_ij = - 0.5 * np.sum(np.log(2. * np.pi * self.sigma_[i, :]))\n",
      "/Users/maahirmawla/opt/anaconda3/lib/python3.9/site-packages/sklearn/naive_bayes.py:453: RuntimeWarning: invalid value encountered in true_divide\n",
      "  n_ij -= 0.5 * np.sum(((X - self.theta_[i, :]) ** 2) /\n"
     ]
    },
    {
     "name": "stdout",
     "output_type": "stream",
     "text": [
      "[0]\n",
      "600 Knight\n"
     ]
    },
    {
     "name": "stderr",
     "output_type": "stream",
     "text": [
      "/Users/maahirmawla/opt/anaconda3/lib/python3.9/site-packages/sklearn/naive_bayes.py:452: RuntimeWarning: divide by zero encountered in log\n",
      "  n_ij = - 0.5 * np.sum(np.log(2. * np.pi * self.sigma_[i, :]))\n",
      "/Users/maahirmawla/opt/anaconda3/lib/python3.9/site-packages/sklearn/naive_bayes.py:453: RuntimeWarning: invalid value encountered in true_divide\n",
      "  n_ij -= 0.5 * np.sum(((X - self.theta_[i, :]) ** 2) /\n",
      "/Users/maahirmawla/opt/anaconda3/lib/python3.9/site-packages/sklearn/naive_bayes.py:452: RuntimeWarning: divide by zero encountered in log\n",
      "  n_ij = - 0.5 * np.sum(np.log(2. * np.pi * self.sigma_[i, :]))\n",
      "/Users/maahirmawla/opt/anaconda3/lib/python3.9/site-packages/sklearn/naive_bayes.py:453: RuntimeWarning: invalid value encountered in true_divide\n",
      "  n_ij -= 0.5 * np.sum(((X - self.theta_[i, :]) ** 2) /\n"
     ]
    },
    {
     "name": "stdout",
     "output_type": "stream",
     "text": [
      "[0]\n",
      "610 Akanji\n"
     ]
    },
    {
     "name": "stderr",
     "output_type": "stream",
     "text": [
      "/Users/maahirmawla/opt/anaconda3/lib/python3.9/site-packages/sklearn/naive_bayes.py:452: RuntimeWarning: divide by zero encountered in log\n",
      "  n_ij = - 0.5 * np.sum(np.log(2. * np.pi * self.sigma_[i, :]))\n",
      "/Users/maahirmawla/opt/anaconda3/lib/python3.9/site-packages/sklearn/naive_bayes.py:453: RuntimeWarning: invalid value encountered in true_divide\n",
      "  n_ij -= 0.5 * np.sum(((X - self.theta_[i, :]) ** 2) /\n",
      "/Users/maahirmawla/opt/anaconda3/lib/python3.9/site-packages/sklearn/naive_bayes.py:452: RuntimeWarning: divide by zero encountered in log\n",
      "  n_ij = - 0.5 * np.sum(np.log(2. * np.pi * self.sigma_[i, :]))\n",
      "/Users/maahirmawla/opt/anaconda3/lib/python3.9/site-packages/sklearn/naive_bayes.py:453: RuntimeWarning: invalid value encountered in true_divide\n",
      "  n_ij -= 0.5 * np.sum(((X - self.theta_[i, :]) ** 2) /\n"
     ]
    },
    {
     "name": "stdout",
     "output_type": "stream",
     "text": [
      "[0]\n",
      "326 Ronaldo\n"
     ]
    },
    {
     "name": "stderr",
     "output_type": "stream",
     "text": [
      "/Users/maahirmawla/opt/anaconda3/lib/python3.9/site-packages/sklearn/naive_bayes.py:452: RuntimeWarning: divide by zero encountered in log\n",
      "  n_ij = - 0.5 * np.sum(np.log(2. * np.pi * self.sigma_[i, :]))\n",
      "/Users/maahirmawla/opt/anaconda3/lib/python3.9/site-packages/sklearn/naive_bayes.py:453: RuntimeWarning: invalid value encountered in true_divide\n",
      "  n_ij -= 0.5 * np.sum(((X - self.theta_[i, :]) ** 2) /\n",
      "/Users/maahirmawla/opt/anaconda3/lib/python3.9/site-packages/sklearn/naive_bayes.py:452: RuntimeWarning: divide by zero encountered in log\n",
      "  n_ij = - 0.5 * np.sum(np.log(2. * np.pi * self.sigma_[i, :]))\n",
      "/Users/maahirmawla/opt/anaconda3/lib/python3.9/site-packages/sklearn/naive_bayes.py:453: RuntimeWarning: invalid value encountered in true_divide\n",
      "  n_ij -= 0.5 * np.sum(((X - self.theta_[i, :]) ** 2) /\n"
     ]
    },
    {
     "name": "stdout",
     "output_type": "stream",
     "text": [
      "[1]\n",
      "327 De Gea\n",
      "[1]\n",
      "328 Jones\n"
     ]
    },
    {
     "name": "stderr",
     "output_type": "stream",
     "text": [
      "/Users/maahirmawla/opt/anaconda3/lib/python3.9/site-packages/sklearn/naive_bayes.py:452: RuntimeWarning: divide by zero encountered in log\n",
      "  n_ij = - 0.5 * np.sum(np.log(2. * np.pi * self.sigma_[i, :]))\n",
      "/Users/maahirmawla/opt/anaconda3/lib/python3.9/site-packages/sklearn/naive_bayes.py:453: RuntimeWarning: invalid value encountered in true_divide\n",
      "  n_ij -= 0.5 * np.sum(((X - self.theta_[i, :]) ** 2) /\n",
      "/Users/maahirmawla/opt/anaconda3/lib/python3.9/site-packages/sklearn/naive_bayes.py:452: RuntimeWarning: divide by zero encountered in log\n",
      "  n_ij = - 0.5 * np.sum(np.log(2. * np.pi * self.sigma_[i, :]))\n",
      "/Users/maahirmawla/opt/anaconda3/lib/python3.9/site-packages/sklearn/naive_bayes.py:453: RuntimeWarning: invalid value encountered in true_divide\n",
      "  n_ij -= 0.5 * np.sum(((X - self.theta_[i, :]) ** 2) /\n"
     ]
    },
    {
     "name": "stdout",
     "output_type": "stream",
     "text": [
      "[0]\n",
      "329 Varane\n",
      "[1]\n",
      "330 Maguire\n",
      "[-1]\n",
      "331 Fred\n"
     ]
    },
    {
     "name": "stderr",
     "output_type": "stream",
     "text": [
      "/Users/maahirmawla/opt/anaconda3/lib/python3.9/site-packages/sklearn/naive_bayes.py:452: RuntimeWarning: divide by zero encountered in log\n",
      "  n_ij = - 0.5 * np.sum(np.log(2. * np.pi * self.sigma_[i, :]))\n",
      "/Users/maahirmawla/opt/anaconda3/lib/python3.9/site-packages/sklearn/naive_bayes.py:453: RuntimeWarning: invalid value encountered in true_divide\n",
      "  n_ij -= 0.5 * np.sum(((X - self.theta_[i, :]) ** 2) /\n",
      "/Users/maahirmawla/opt/anaconda3/lib/python3.9/site-packages/sklearn/naive_bayes.py:452: RuntimeWarning: divide by zero encountered in log\n",
      "  n_ij = - 0.5 * np.sum(np.log(2. * np.pi * self.sigma_[i, :]))\n",
      "/Users/maahirmawla/opt/anaconda3/lib/python3.9/site-packages/sklearn/naive_bayes.py:453: RuntimeWarning: invalid value encountered in true_divide\n",
      "  n_ij -= 0.5 * np.sum(((X - self.theta_[i, :]) ** 2) /\n",
      "/Users/maahirmawla/opt/anaconda3/lib/python3.9/site-packages/sklearn/naive_bayes.py:452: RuntimeWarning: divide by zero encountered in log\n",
      "  n_ij = - 0.5 * np.sum(np.log(2. * np.pi * self.sigma_[i, :]))\n",
      "/Users/maahirmawla/opt/anaconda3/lib/python3.9/site-packages/sklearn/naive_bayes.py:453: RuntimeWarning: invalid value encountered in true_divide\n",
      "  n_ij -= 0.5 * np.sum(((X - self.theta_[i, :]) ** 2) /\n",
      "/Users/maahirmawla/opt/anaconda3/lib/python3.9/site-packages/sklearn/naive_bayes.py:452: RuntimeWarning: divide by zero encountered in log\n",
      "  n_ij = - 0.5 * np.sum(np.log(2. * np.pi * self.sigma_[i, :]))\n",
      "/Users/maahirmawla/opt/anaconda3/lib/python3.9/site-packages/sklearn/naive_bayes.py:453: RuntimeWarning: invalid value encountered in true_divide\n",
      "  n_ij -= 0.5 * np.sum(((X - self.theta_[i, :]) ** 2) /\n"
     ]
    },
    {
     "name": "stdout",
     "output_type": "stream",
     "text": [
      "[0]\n",
      "332 Shaw\n"
     ]
    },
    {
     "name": "stderr",
     "output_type": "stream",
     "text": [
      "/Users/maahirmawla/opt/anaconda3/lib/python3.9/site-packages/sklearn/naive_bayes.py:452: RuntimeWarning: divide by zero encountered in log\n",
      "  n_ij = - 0.5 * np.sum(np.log(2. * np.pi * self.sigma_[i, :]))\n",
      "/Users/maahirmawla/opt/anaconda3/lib/python3.9/site-packages/sklearn/naive_bayes.py:453: RuntimeWarning: invalid value encountered in true_divide\n",
      "  n_ij -= 0.5 * np.sum(((X - self.theta_[i, :]) ** 2) /\n",
      "/Users/maahirmawla/opt/anaconda3/lib/python3.9/site-packages/sklearn/naive_bayes.py:452: RuntimeWarning: divide by zero encountered in log\n",
      "  n_ij = - 0.5 * np.sum(np.log(2. * np.pi * self.sigma_[i, :]))\n",
      "/Users/maahirmawla/opt/anaconda3/lib/python3.9/site-packages/sklearn/naive_bayes.py:453: RuntimeWarning: invalid value encountered in true_divide\n",
      "  n_ij -= 0.5 * np.sum(((X - self.theta_[i, :]) ** 2) /\n"
     ]
    },
    {
     "name": "stdout",
     "output_type": "stream",
     "text": [
      "[-1]\n",
      "333 Fernandes\n",
      "[1]\n",
      "334 Telles\n"
     ]
    },
    {
     "name": "stderr",
     "output_type": "stream",
     "text": [
      "/Users/maahirmawla/opt/anaconda3/lib/python3.9/site-packages/sklearn/naive_bayes.py:452: RuntimeWarning: divide by zero encountered in log\n",
      "  n_ij = - 0.5 * np.sum(np.log(2. * np.pi * self.sigma_[i, :]))\n",
      "/Users/maahirmawla/opt/anaconda3/lib/python3.9/site-packages/sklearn/naive_bayes.py:453: RuntimeWarning: invalid value encountered in true_divide\n",
      "  n_ij -= 0.5 * np.sum(((X - self.theta_[i, :]) ** 2) /\n",
      "/Users/maahirmawla/opt/anaconda3/lib/python3.9/site-packages/sklearn/naive_bayes.py:452: RuntimeWarning: divide by zero encountered in log\n",
      "  n_ij = - 0.5 * np.sum(np.log(2. * np.pi * self.sigma_[i, :]))\n",
      "/Users/maahirmawla/opt/anaconda3/lib/python3.9/site-packages/sklearn/naive_bayes.py:453: RuntimeWarning: invalid value encountered in true_divide\n",
      "  n_ij -= 0.5 * np.sum(((X - self.theta_[i, :]) ** 2) /\n"
     ]
    },
    {
     "name": "stdout",
     "output_type": "stream",
     "text": [
      "[0]\n",
      "335 Rashford\n",
      "[1]\n",
      "336 Van de Beek\n"
     ]
    },
    {
     "name": "stderr",
     "output_type": "stream",
     "text": [
      "/Users/maahirmawla/opt/anaconda3/lib/python3.9/site-packages/sklearn/naive_bayes.py:452: RuntimeWarning: divide by zero encountered in log\n",
      "  n_ij = - 0.5 * np.sum(np.log(2. * np.pi * self.sigma_[i, :]))\n",
      "/Users/maahirmawla/opt/anaconda3/lib/python3.9/site-packages/sklearn/naive_bayes.py:453: RuntimeWarning: invalid value encountered in true_divide\n",
      "  n_ij -= 0.5 * np.sum(((X - self.theta_[i, :]) ** 2) /\n",
      "/Users/maahirmawla/opt/anaconda3/lib/python3.9/site-packages/sklearn/naive_bayes.py:452: RuntimeWarning: divide by zero encountered in log\n",
      "  n_ij = - 0.5 * np.sum(np.log(2. * np.pi * self.sigma_[i, :]))\n",
      "/Users/maahirmawla/opt/anaconda3/lib/python3.9/site-packages/sklearn/naive_bayes.py:453: RuntimeWarning: invalid value encountered in true_divide\n",
      "  n_ij -= 0.5 * np.sum(((X - self.theta_[i, :]) ** 2) /\n"
     ]
    },
    {
     "name": "stdout",
     "output_type": "stream",
     "text": [
      "[0]\n",
      "337 Lindelöf\n"
     ]
    },
    {
     "name": "stderr",
     "output_type": "stream",
     "text": [
      "/Users/maahirmawla/opt/anaconda3/lib/python3.9/site-packages/sklearn/naive_bayes.py:452: RuntimeWarning: divide by zero encountered in log\n",
      "  n_ij = - 0.5 * np.sum(np.log(2. * np.pi * self.sigma_[i, :]))\n",
      "/Users/maahirmawla/opt/anaconda3/lib/python3.9/site-packages/sklearn/naive_bayes.py:453: RuntimeWarning: invalid value encountered in true_divide\n",
      "  n_ij -= 0.5 * np.sum(((X - self.theta_[i, :]) ** 2) /\n",
      "/Users/maahirmawla/opt/anaconda3/lib/python3.9/site-packages/sklearn/naive_bayes.py:452: RuntimeWarning: divide by zero encountered in log\n",
      "  n_ij = - 0.5 * np.sum(np.log(2. * np.pi * self.sigma_[i, :]))\n",
      "/Users/maahirmawla/opt/anaconda3/lib/python3.9/site-packages/sklearn/naive_bayes.py:453: RuntimeWarning: invalid value encountered in true_divide\n",
      "  n_ij -= 0.5 * np.sum(((X - self.theta_[i, :]) ** 2) /\n"
     ]
    },
    {
     "name": "stdout",
     "output_type": "stream",
     "text": [
      "[0]\n",
      "338 McTominay\n",
      "[2]\n",
      "339 Bailly\n"
     ]
    },
    {
     "name": "stderr",
     "output_type": "stream",
     "text": [
      "/Users/maahirmawla/opt/anaconda3/lib/python3.9/site-packages/sklearn/naive_bayes.py:452: RuntimeWarning: divide by zero encountered in log\n",
      "  n_ij = - 0.5 * np.sum(np.log(2. * np.pi * self.sigma_[i, :]))\n",
      "/Users/maahirmawla/opt/anaconda3/lib/python3.9/site-packages/sklearn/naive_bayes.py:453: RuntimeWarning: invalid value encountered in true_divide\n",
      "  n_ij -= 0.5 * np.sum(((X - self.theta_[i, :]) ** 2) /\n",
      "/Users/maahirmawla/opt/anaconda3/lib/python3.9/site-packages/sklearn/naive_bayes.py:452: RuntimeWarning: divide by zero encountered in log\n",
      "  n_ij = - 0.5 * np.sum(np.log(2. * np.pi * self.sigma_[i, :]))\n",
      "/Users/maahirmawla/opt/anaconda3/lib/python3.9/site-packages/sklearn/naive_bayes.py:453: RuntimeWarning: invalid value encountered in true_divide\n",
      "  n_ij -= 0.5 * np.sum(((X - self.theta_[i, :]) ** 2) /\n"
     ]
    },
    {
     "name": "stdout",
     "output_type": "stream",
     "text": [
      "[0]\n",
      "340 Sancho\n",
      "[2]\n",
      "341 Wan-Bissaka\n"
     ]
    },
    {
     "name": "stderr",
     "output_type": "stream",
     "text": [
      "/Users/maahirmawla/opt/anaconda3/lib/python3.9/site-packages/sklearn/naive_bayes.py:452: RuntimeWarning: divide by zero encountered in log\n",
      "  n_ij = - 0.5 * np.sum(np.log(2. * np.pi * self.sigma_[i, :]))\n",
      "/Users/maahirmawla/opt/anaconda3/lib/python3.9/site-packages/sklearn/naive_bayes.py:453: RuntimeWarning: invalid value encountered in true_divide\n",
      "  n_ij -= 0.5 * np.sum(((X - self.theta_[i, :]) ** 2) /\n",
      "/Users/maahirmawla/opt/anaconda3/lib/python3.9/site-packages/sklearn/naive_bayes.py:452: RuntimeWarning: divide by zero encountered in log\n",
      "  n_ij = - 0.5 * np.sum(np.log(2. * np.pi * self.sigma_[i, :]))\n",
      "/Users/maahirmawla/opt/anaconda3/lib/python3.9/site-packages/sklearn/naive_bayes.py:453: RuntimeWarning: invalid value encountered in true_divide\n",
      "  n_ij -= 0.5 * np.sum(((X - self.theta_[i, :]) ** 2) /\n"
     ]
    },
    {
     "name": "stdout",
     "output_type": "stream",
     "text": [
      "[0]\n",
      "342 Dalot\n",
      "[1]\n",
      "343 B.Williams\n",
      "[0]\n",
      "344 Elanga\n"
     ]
    },
    {
     "name": "stderr",
     "output_type": "stream",
     "text": [
      "/Users/maahirmawla/opt/anaconda3/lib/python3.9/site-packages/sklearn/naive_bayes.py:452: RuntimeWarning: divide by zero encountered in log\n",
      "  n_ij = - 0.5 * np.sum(np.log(2. * np.pi * self.sigma_[i, :]))\n",
      "/Users/maahirmawla/opt/anaconda3/lib/python3.9/site-packages/sklearn/naive_bayes.py:453: RuntimeWarning: invalid value encountered in true_divide\n",
      "  n_ij -= 0.5 * np.sum(((X - self.theta_[i, :]) ** 2) /\n",
      "/Users/maahirmawla/opt/anaconda3/lib/python3.9/site-packages/sklearn/naive_bayes.py:452: RuntimeWarning: divide by zero encountered in log\n",
      "  n_ij = - 0.5 * np.sum(np.log(2. * np.pi * self.sigma_[i, :]))\n",
      "/Users/maahirmawla/opt/anaconda3/lib/python3.9/site-packages/sklearn/naive_bayes.py:453: RuntimeWarning: invalid value encountered in true_divide\n",
      "  n_ij -= 0.5 * np.sum(((X - self.theta_[i, :]) ** 2) /\n"
     ]
    },
    {
     "name": "stdout",
     "output_type": "stream",
     "text": [
      "[1]\n",
      "345 Martial\n"
     ]
    },
    {
     "name": "stderr",
     "output_type": "stream",
     "text": [
      "/Users/maahirmawla/opt/anaconda3/lib/python3.9/site-packages/sklearn/naive_bayes.py:452: RuntimeWarning: divide by zero encountered in log\n",
      "  n_ij = - 0.5 * np.sum(np.log(2. * np.pi * self.sigma_[i, :]))\n",
      "/Users/maahirmawla/opt/anaconda3/lib/python3.9/site-packages/sklearn/naive_bayes.py:453: RuntimeWarning: invalid value encountered in true_divide\n",
      "  n_ij -= 0.5 * np.sum(((X - self.theta_[i, :]) ** 2) /\n",
      "/Users/maahirmawla/opt/anaconda3/lib/python3.9/site-packages/sklearn/naive_bayes.py:452: RuntimeWarning: divide by zero encountered in log\n",
      "  n_ij = - 0.5 * np.sum(np.log(2. * np.pi * self.sigma_[i, :]))\n",
      "/Users/maahirmawla/opt/anaconda3/lib/python3.9/site-packages/sklearn/naive_bayes.py:453: RuntimeWarning: invalid value encountered in true_divide\n",
      "  n_ij -= 0.5 * np.sum(((X - self.theta_[i, :]) ** 2) /\n"
     ]
    },
    {
     "name": "stdout",
     "output_type": "stream",
     "text": [
      "[0]\n",
      "347 Pellistri\n"
     ]
    },
    {
     "name": "stderr",
     "output_type": "stream",
     "text": [
      "/Users/maahirmawla/opt/anaconda3/lib/python3.9/site-packages/sklearn/naive_bayes.py:452: RuntimeWarning: divide by zero encountered in log\n",
      "  n_ij = - 0.5 * np.sum(np.log(2. * np.pi * self.sigma_[i, :]))\n",
      "/Users/maahirmawla/opt/anaconda3/lib/python3.9/site-packages/sklearn/naive_bayes.py:453: RuntimeWarning: invalid value encountered in true_divide\n",
      "  n_ij -= 0.5 * np.sum(((X - self.theta_[i, :]) ** 2) /\n",
      "/Users/maahirmawla/opt/anaconda3/lib/python3.9/site-packages/sklearn/naive_bayes.py:452: RuntimeWarning: divide by zero encountered in log\n",
      "  n_ij = - 0.5 * np.sum(np.log(2. * np.pi * self.sigma_[i, :]))\n",
      "/Users/maahirmawla/opt/anaconda3/lib/python3.9/site-packages/sklearn/naive_bayes.py:453: RuntimeWarning: invalid value encountered in true_divide\n",
      "  n_ij -= 0.5 * np.sum(((X - self.theta_[i, :]) ** 2) /\n"
     ]
    },
    {
     "name": "stdout",
     "output_type": "stream",
     "text": [
      "[0]\n",
      "348 Heaton\n"
     ]
    },
    {
     "name": "stderr",
     "output_type": "stream",
     "text": [
      "/Users/maahirmawla/opt/anaconda3/lib/python3.9/site-packages/sklearn/naive_bayes.py:452: RuntimeWarning: divide by zero encountered in log\n",
      "  n_ij = - 0.5 * np.sum(np.log(2. * np.pi * self.sigma_[i, :]))\n",
      "/Users/maahirmawla/opt/anaconda3/lib/python3.9/site-packages/sklearn/naive_bayes.py:453: RuntimeWarning: invalid value encountered in true_divide\n",
      "  n_ij -= 0.5 * np.sum(((X - self.theta_[i, :]) ** 2) /\n",
      "/Users/maahirmawla/opt/anaconda3/lib/python3.9/site-packages/sklearn/naive_bayes.py:452: RuntimeWarning: divide by zero encountered in log\n",
      "  n_ij = - 0.5 * np.sum(np.log(2. * np.pi * self.sigma_[i, :]))\n",
      "/Users/maahirmawla/opt/anaconda3/lib/python3.9/site-packages/sklearn/naive_bayes.py:453: RuntimeWarning: invalid value encountered in true_divide\n",
      "  n_ij -= 0.5 * np.sum(((X - self.theta_[i, :]) ** 2) /\n"
     ]
    },
    {
     "name": "stdout",
     "output_type": "stream",
     "text": [
      "[0]\n",
      "355 Dubravka\n"
     ]
    },
    {
     "name": "stderr",
     "output_type": "stream",
     "text": [
      "/Users/maahirmawla/opt/anaconda3/lib/python3.9/site-packages/sklearn/naive_bayes.py:452: RuntimeWarning: divide by zero encountered in log\n",
      "  n_ij = - 0.5 * np.sum(np.log(2. * np.pi * self.sigma_[i, :]))\n",
      "/Users/maahirmawla/opt/anaconda3/lib/python3.9/site-packages/sklearn/naive_bayes.py:453: RuntimeWarning: invalid value encountered in true_divide\n",
      "  n_ij -= 0.5 * np.sum(((X - self.theta_[i, :]) ** 2) /\n",
      "/Users/maahirmawla/opt/anaconda3/lib/python3.9/site-packages/sklearn/naive_bayes.py:452: RuntimeWarning: divide by zero encountered in log\n",
      "  n_ij = - 0.5 * np.sum(np.log(2. * np.pi * self.sigma_[i, :]))\n",
      "/Users/maahirmawla/opt/anaconda3/lib/python3.9/site-packages/sklearn/naive_bayes.py:453: RuntimeWarning: invalid value encountered in true_divide\n",
      "  n_ij -= 0.5 * np.sum(((X - self.theta_[i, :]) ** 2) /\n"
     ]
    },
    {
     "name": "stdout",
     "output_type": "stream",
     "text": [
      "[0]\n",
      "504 Malacia\n",
      "[1]\n",
      "519 Eriksen\n",
      "[2]\n",
      "533 Martínez\n",
      "[2]\n",
      "550 Amad\n"
     ]
    },
    {
     "name": "stderr",
     "output_type": "stream",
     "text": [
      "/Users/maahirmawla/opt/anaconda3/lib/python3.9/site-packages/sklearn/naive_bayes.py:452: RuntimeWarning: divide by zero encountered in log\n",
      "  n_ij = - 0.5 * np.sum(np.log(2. * np.pi * self.sigma_[i, :]))\n",
      "/Users/maahirmawla/opt/anaconda3/lib/python3.9/site-packages/sklearn/naive_bayes.py:453: RuntimeWarning: invalid value encountered in true_divide\n",
      "  n_ij -= 0.5 * np.sum(((X - self.theta_[i, :]) ** 2) /\n",
      "/Users/maahirmawla/opt/anaconda3/lib/python3.9/site-packages/sklearn/naive_bayes.py:452: RuntimeWarning: divide by zero encountered in log\n",
      "  n_ij = - 0.5 * np.sum(np.log(2. * np.pi * self.sigma_[i, :]))\n",
      "/Users/maahirmawla/opt/anaconda3/lib/python3.9/site-packages/sklearn/naive_bayes.py:453: RuntimeWarning: invalid value encountered in true_divide\n",
      "  n_ij -= 0.5 * np.sum(((X - self.theta_[i, :]) ** 2) /\n"
     ]
    },
    {
     "name": "stdout",
     "output_type": "stream",
     "text": [
      "[0]\n",
      "551 Iqbal\n"
     ]
    },
    {
     "name": "stderr",
     "output_type": "stream",
     "text": [
      "/Users/maahirmawla/opt/anaconda3/lib/python3.9/site-packages/sklearn/naive_bayes.py:452: RuntimeWarning: divide by zero encountered in log\n",
      "  n_ij = - 0.5 * np.sum(np.log(2. * np.pi * self.sigma_[i, :]))\n",
      "/Users/maahirmawla/opt/anaconda3/lib/python3.9/site-packages/sklearn/naive_bayes.py:453: RuntimeWarning: invalid value encountered in true_divide\n",
      "  n_ij -= 0.5 * np.sum(((X - self.theta_[i, :]) ** 2) /\n",
      "/Users/maahirmawla/opt/anaconda3/lib/python3.9/site-packages/sklearn/naive_bayes.py:452: RuntimeWarning: divide by zero encountered in log\n",
      "  n_ij = - 0.5 * np.sum(np.log(2. * np.pi * self.sigma_[i, :]))\n",
      "/Users/maahirmawla/opt/anaconda3/lib/python3.9/site-packages/sklearn/naive_bayes.py:453: RuntimeWarning: invalid value encountered in true_divide\n",
      "  n_ij -= 0.5 * np.sum(((X - self.theta_[i, :]) ** 2) /\n"
     ]
    },
    {
     "name": "stdout",
     "output_type": "stream",
     "text": [
      "[0]\n",
      "569 Garnacho\n"
     ]
    },
    {
     "name": "stderr",
     "output_type": "stream",
     "text": [
      "/Users/maahirmawla/opt/anaconda3/lib/python3.9/site-packages/sklearn/naive_bayes.py:452: RuntimeWarning: divide by zero encountered in log\n",
      "  n_ij = - 0.5 * np.sum(np.log(2. * np.pi * self.sigma_[i, :]))\n",
      "/Users/maahirmawla/opt/anaconda3/lib/python3.9/site-packages/sklearn/naive_bayes.py:453: RuntimeWarning: invalid value encountered in true_divide\n",
      "  n_ij -= 0.5 * np.sum(((X - self.theta_[i, :]) ** 2) /\n",
      "/Users/maahirmawla/opt/anaconda3/lib/python3.9/site-packages/sklearn/naive_bayes.py:452: RuntimeWarning: divide by zero encountered in log\n",
      "  n_ij = - 0.5 * np.sum(np.log(2. * np.pi * self.sigma_[i, :]))\n",
      "/Users/maahirmawla/opt/anaconda3/lib/python3.9/site-packages/sklearn/naive_bayes.py:453: RuntimeWarning: invalid value encountered in true_divide\n",
      "  n_ij -= 0.5 * np.sum(((X - self.theta_[i, :]) ** 2) /\n"
     ]
    },
    {
     "name": "stdout",
     "output_type": "stream",
     "text": [
      "[0]\n",
      "593 Casemiro\n"
     ]
    },
    {
     "name": "stderr",
     "output_type": "stream",
     "text": [
      "/Users/maahirmawla/opt/anaconda3/lib/python3.9/site-packages/sklearn/naive_bayes.py:452: RuntimeWarning: divide by zero encountered in log\n",
      "  n_ij = - 0.5 * np.sum(np.log(2. * np.pi * self.sigma_[i, :]))\n",
      "/Users/maahirmawla/opt/anaconda3/lib/python3.9/site-packages/sklearn/naive_bayes.py:453: RuntimeWarning: invalid value encountered in true_divide\n",
      "  n_ij -= 0.5 * np.sum(((X - self.theta_[i, :]) ** 2) /\n",
      "/Users/maahirmawla/opt/anaconda3/lib/python3.9/site-packages/sklearn/naive_bayes.py:452: RuntimeWarning: divide by zero encountered in log\n",
      "  n_ij = - 0.5 * np.sum(np.log(2. * np.pi * self.sigma_[i, :]))\n",
      "/Users/maahirmawla/opt/anaconda3/lib/python3.9/site-packages/sklearn/naive_bayes.py:453: RuntimeWarning: invalid value encountered in true_divide\n",
      "  n_ij -= 0.5 * np.sum(((X - self.theta_[i, :]) ** 2) /\n"
     ]
    },
    {
     "name": "stdout",
     "output_type": "stream",
     "text": [
      "[1]\n",
      "609 Antony\n"
     ]
    },
    {
     "name": "stderr",
     "output_type": "stream",
     "text": [
      "/Users/maahirmawla/opt/anaconda3/lib/python3.9/site-packages/sklearn/naive_bayes.py:452: RuntimeWarning: divide by zero encountered in log\n",
      "  n_ij = - 0.5 * np.sum(np.log(2. * np.pi * self.sigma_[i, :]))\n",
      "/Users/maahirmawla/opt/anaconda3/lib/python3.9/site-packages/sklearn/naive_bayes.py:453: RuntimeWarning: invalid value encountered in true_divide\n",
      "  n_ij -= 0.5 * np.sum(((X - self.theta_[i, :]) ** 2) /\n",
      "/Users/maahirmawla/opt/anaconda3/lib/python3.9/site-packages/sklearn/naive_bayes.py:452: RuntimeWarning: divide by zero encountered in log\n",
      "  n_ij = - 0.5 * np.sum(np.log(2. * np.pi * self.sigma_[i, :]))\n",
      "/Users/maahirmawla/opt/anaconda3/lib/python3.9/site-packages/sklearn/naive_bayes.py:453: RuntimeWarning: invalid value encountered in true_divide\n",
      "  n_ij -= 0.5 * np.sum(((X - self.theta_[i, :]) ** 2) /\n"
     ]
    },
    {
     "name": "stdout",
     "output_type": "stream",
     "text": [
      "[6]\n",
      "615 Kovár\n"
     ]
    },
    {
     "name": "stderr",
     "output_type": "stream",
     "text": [
      "/Users/maahirmawla/opt/anaconda3/lib/python3.9/site-packages/sklearn/naive_bayes.py:452: RuntimeWarning: divide by zero encountered in log\n",
      "  n_ij = - 0.5 * np.sum(np.log(2. * np.pi * self.sigma_[i, :]))\n",
      "/Users/maahirmawla/opt/anaconda3/lib/python3.9/site-packages/sklearn/naive_bayes.py:453: RuntimeWarning: invalid value encountered in true_divide\n",
      "  n_ij -= 0.5 * np.sum(((X - self.theta_[i, :]) ** 2) /\n",
      "/Users/maahirmawla/opt/anaconda3/lib/python3.9/site-packages/sklearn/naive_bayes.py:452: RuntimeWarning: divide by zero encountered in log\n",
      "  n_ij = - 0.5 * np.sum(np.log(2. * np.pi * self.sigma_[i, :]))\n",
      "/Users/maahirmawla/opt/anaconda3/lib/python3.9/site-packages/sklearn/naive_bayes.py:453: RuntimeWarning: invalid value encountered in true_divide\n",
      "  n_ij -= 0.5 * np.sum(((X - self.theta_[i, :]) ** 2) /\n"
     ]
    },
    {
     "name": "stdout",
     "output_type": "stream",
     "text": [
      "[0]\n",
      "349 Shelvey\n"
     ]
    },
    {
     "name": "stderr",
     "output_type": "stream",
     "text": [
      "/Users/maahirmawla/opt/anaconda3/lib/python3.9/site-packages/sklearn/naive_bayes.py:452: RuntimeWarning: divide by zero encountered in log\n",
      "  n_ij = - 0.5 * np.sum(np.log(2. * np.pi * self.sigma_[i, :]))\n",
      "/Users/maahirmawla/opt/anaconda3/lib/python3.9/site-packages/sklearn/naive_bayes.py:453: RuntimeWarning: invalid value encountered in true_divide\n",
      "  n_ij -= 0.5 * np.sum(((X - self.theta_[i, :]) ** 2) /\n",
      "/Users/maahirmawla/opt/anaconda3/lib/python3.9/site-packages/sklearn/naive_bayes.py:452: RuntimeWarning: divide by zero encountered in log\n",
      "  n_ij = - 0.5 * np.sum(np.log(2. * np.pi * self.sigma_[i, :]))\n",
      "/Users/maahirmawla/opt/anaconda3/lib/python3.9/site-packages/sklearn/naive_bayes.py:453: RuntimeWarning: invalid value encountered in true_divide\n",
      "  n_ij -= 0.5 * np.sum(((X - self.theta_[i, :]) ** 2) /\n",
      "/Users/maahirmawla/opt/anaconda3/lib/python3.9/site-packages/sklearn/naive_bayes.py:452: RuntimeWarning: divide by zero encountered in log\n",
      "  n_ij = - 0.5 * np.sum(np.log(2. * np.pi * self.sigma_[i, :]))\n",
      "/Users/maahirmawla/opt/anaconda3/lib/python3.9/site-packages/sklearn/naive_bayes.py:453: RuntimeWarning: invalid value encountered in true_divide\n",
      "  n_ij -= 0.5 * np.sum(((X - self.theta_[i, :]) ** 2) /\n",
      "/Users/maahirmawla/opt/anaconda3/lib/python3.9/site-packages/sklearn/naive_bayes.py:452: RuntimeWarning: divide by zero encountered in log\n",
      "  n_ij = - 0.5 * np.sum(np.log(2. * np.pi * self.sigma_[i, :]))\n",
      "/Users/maahirmawla/opt/anaconda3/lib/python3.9/site-packages/sklearn/naive_bayes.py:453: RuntimeWarning: invalid value encountered in true_divide\n",
      "  n_ij -= 0.5 * np.sum(((X - self.theta_[i, :]) ** 2) /\n"
     ]
    },
    {
     "name": "stdout",
     "output_type": "stream",
     "text": [
      "[0]\n",
      "350 Ritchie\n",
      "[0]\n",
      "351 Fernández\n"
     ]
    },
    {
     "name": "stderr",
     "output_type": "stream",
     "text": [
      "/Users/maahirmawla/opt/anaconda3/lib/python3.9/site-packages/sklearn/naive_bayes.py:452: RuntimeWarning: divide by zero encountered in log\n",
      "  n_ij = - 0.5 * np.sum(np.log(2. * np.pi * self.sigma_[i, :]))\n",
      "/Users/maahirmawla/opt/anaconda3/lib/python3.9/site-packages/sklearn/naive_bayes.py:453: RuntimeWarning: invalid value encountered in true_divide\n",
      "  n_ij -= 0.5 * np.sum(((X - self.theta_[i, :]) ** 2) /\n",
      "/Users/maahirmawla/opt/anaconda3/lib/python3.9/site-packages/sklearn/naive_bayes.py:452: RuntimeWarning: divide by zero encountered in log\n",
      "  n_ij = - 0.5 * np.sum(np.log(2. * np.pi * self.sigma_[i, :]))\n",
      "/Users/maahirmawla/opt/anaconda3/lib/python3.9/site-packages/sklearn/naive_bayes.py:453: RuntimeWarning: invalid value encountered in true_divide\n",
      "  n_ij -= 0.5 * np.sum(((X - self.theta_[i, :]) ** 2) /\n"
     ]
    },
    {
     "name": "stdout",
     "output_type": "stream",
     "text": [
      "[0]\n",
      "352 Clark\n"
     ]
    },
    {
     "name": "stderr",
     "output_type": "stream",
     "text": [
      "/Users/maahirmawla/opt/anaconda3/lib/python3.9/site-packages/sklearn/naive_bayes.py:452: RuntimeWarning: divide by zero encountered in log\n",
      "  n_ij = - 0.5 * np.sum(np.log(2. * np.pi * self.sigma_[i, :]))\n",
      "/Users/maahirmawla/opt/anaconda3/lib/python3.9/site-packages/sklearn/naive_bayes.py:453: RuntimeWarning: invalid value encountered in true_divide\n",
      "  n_ij -= 0.5 * np.sum(((X - self.theta_[i, :]) ** 2) /\n",
      "/Users/maahirmawla/opt/anaconda3/lib/python3.9/site-packages/sklearn/naive_bayes.py:452: RuntimeWarning: divide by zero encountered in log\n",
      "  n_ij = - 0.5 * np.sum(np.log(2. * np.pi * self.sigma_[i, :]))\n",
      "/Users/maahirmawla/opt/anaconda3/lib/python3.9/site-packages/sklearn/naive_bayes.py:453: RuntimeWarning: invalid value encountered in true_divide\n",
      "  n_ij -= 0.5 * np.sum(((X - self.theta_[i, :]) ** 2) /\n"
     ]
    },
    {
     "name": "stdout",
     "output_type": "stream",
     "text": [
      "[0]\n",
      "353 Darlow\n"
     ]
    },
    {
     "name": "stderr",
     "output_type": "stream",
     "text": [
      "/Users/maahirmawla/opt/anaconda3/lib/python3.9/site-packages/sklearn/naive_bayes.py:452: RuntimeWarning: divide by zero encountered in log\n",
      "  n_ij = - 0.5 * np.sum(np.log(2. * np.pi * self.sigma_[i, :]))\n",
      "/Users/maahirmawla/opt/anaconda3/lib/python3.9/site-packages/sklearn/naive_bayes.py:453: RuntimeWarning: invalid value encountered in true_divide\n",
      "  n_ij -= 0.5 * np.sum(((X - self.theta_[i, :]) ** 2) /\n",
      "/Users/maahirmawla/opt/anaconda3/lib/python3.9/site-packages/sklearn/naive_bayes.py:452: RuntimeWarning: divide by zero encountered in log\n",
      "  n_ij = - 0.5 * np.sum(np.log(2. * np.pi * self.sigma_[i, :]))\n",
      "/Users/maahirmawla/opt/anaconda3/lib/python3.9/site-packages/sklearn/naive_bayes.py:453: RuntimeWarning: invalid value encountered in true_divide\n",
      "  n_ij -= 0.5 * np.sum(((X - self.theta_[i, :]) ** 2) /\n",
      "/Users/maahirmawla/opt/anaconda3/lib/python3.9/site-packages/sklearn/naive_bayes.py:452: RuntimeWarning: divide by zero encountered in log\n",
      "  n_ij = - 0.5 * np.sum(np.log(2. * np.pi * self.sigma_[i, :]))\n",
      "/Users/maahirmawla/opt/anaconda3/lib/python3.9/site-packages/sklearn/naive_bayes.py:453: RuntimeWarning: invalid value encountered in true_divide\n",
      "  n_ij -= 0.5 * np.sum(((X - self.theta_[i, :]) ** 2) /\n",
      "/Users/maahirmawla/opt/anaconda3/lib/python3.9/site-packages/sklearn/naive_bayes.py:452: RuntimeWarning: divide by zero encountered in log\n",
      "  n_ij = - 0.5 * np.sum(np.log(2. * np.pi * self.sigma_[i, :]))\n",
      "/Users/maahirmawla/opt/anaconda3/lib/python3.9/site-packages/sklearn/naive_bayes.py:453: RuntimeWarning: invalid value encountered in true_divide\n",
      "  n_ij -= 0.5 * np.sum(((X - self.theta_[i, :]) ** 2) /\n"
     ]
    },
    {
     "name": "stdout",
     "output_type": "stream",
     "text": [
      "[0]\n",
      "354 Wood\n",
      "[1]\n",
      "356 Wilson\n",
      "[0]\n",
      "357 Trippier\n",
      "[7]\n",
      "358 Burn\n",
      "[1]\n",
      "359 Fraser\n",
      "[2]\n",
      "360 Lascelles\n"
     ]
    },
    {
     "name": "stderr",
     "output_type": "stream",
     "text": [
      "/Users/maahirmawla/opt/anaconda3/lib/python3.9/site-packages/sklearn/naive_bayes.py:452: RuntimeWarning: divide by zero encountered in log\n",
      "  n_ij = - 0.5 * np.sum(np.log(2. * np.pi * self.sigma_[i, :]))\n",
      "/Users/maahirmawla/opt/anaconda3/lib/python3.9/site-packages/sklearn/naive_bayes.py:453: RuntimeWarning: invalid value encountered in true_divide\n",
      "  n_ij -= 0.5 * np.sum(((X - self.theta_[i, :]) ** 2) /\n",
      "/Users/maahirmawla/opt/anaconda3/lib/python3.9/site-packages/sklearn/naive_bayes.py:452: RuntimeWarning: divide by zero encountered in log\n",
      "  n_ij = - 0.5 * np.sum(np.log(2. * np.pi * self.sigma_[i, :]))\n",
      "/Users/maahirmawla/opt/anaconda3/lib/python3.9/site-packages/sklearn/naive_bayes.py:453: RuntimeWarning: invalid value encountered in true_divide\n",
      "  n_ij -= 0.5 * np.sum(((X - self.theta_[i, :]) ** 2) /\n"
     ]
    },
    {
     "name": "stdout",
     "output_type": "stream",
     "text": [
      "[0]\n",
      "361 Gayle\n"
     ]
    },
    {
     "name": "stderr",
     "output_type": "stream",
     "text": [
      "/Users/maahirmawla/opt/anaconda3/lib/python3.9/site-packages/sklearn/naive_bayes.py:452: RuntimeWarning: divide by zero encountered in log\n",
      "  n_ij = - 0.5 * np.sum(np.log(2. * np.pi * self.sigma_[i, :]))\n",
      "/Users/maahirmawla/opt/anaconda3/lib/python3.9/site-packages/sklearn/naive_bayes.py:453: RuntimeWarning: invalid value encountered in true_divide\n",
      "  n_ij -= 0.5 * np.sum(((X - self.theta_[i, :]) ** 2) /\n",
      "/Users/maahirmawla/opt/anaconda3/lib/python3.9/site-packages/sklearn/naive_bayes.py:452: RuntimeWarning: divide by zero encountered in log\n",
      "  n_ij = - 0.5 * np.sum(np.log(2. * np.pi * self.sigma_[i, :]))\n",
      "/Users/maahirmawla/opt/anaconda3/lib/python3.9/site-packages/sklearn/naive_bayes.py:453: RuntimeWarning: invalid value encountered in true_divide\n",
      "  n_ij -= 0.5 * np.sum(((X - self.theta_[i, :]) ** 2) /\n"
     ]
    },
    {
     "name": "stdout",
     "output_type": "stream",
     "text": [
      "[0]\n",
      "362 Dummett\n"
     ]
    },
    {
     "name": "stderr",
     "output_type": "stream",
     "text": [
      "/Users/maahirmawla/opt/anaconda3/lib/python3.9/site-packages/sklearn/naive_bayes.py:452: RuntimeWarning: divide by zero encountered in log\n",
      "  n_ij = - 0.5 * np.sum(np.log(2. * np.pi * self.sigma_[i, :]))\n",
      "/Users/maahirmawla/opt/anaconda3/lib/python3.9/site-packages/sklearn/naive_bayes.py:453: RuntimeWarning: invalid value encountered in true_divide\n",
      "  n_ij -= 0.5 * np.sum(((X - self.theta_[i, :]) ** 2) /\n",
      "/Users/maahirmawla/opt/anaconda3/lib/python3.9/site-packages/sklearn/naive_bayes.py:452: RuntimeWarning: divide by zero encountered in log\n",
      "  n_ij = - 0.5 * np.sum(np.log(2. * np.pi * self.sigma_[i, :]))\n",
      "/Users/maahirmawla/opt/anaconda3/lib/python3.9/site-packages/sklearn/naive_bayes.py:453: RuntimeWarning: invalid value encountered in true_divide\n",
      "  n_ij -= 0.5 * np.sum(((X - self.theta_[i, :]) ** 2) /\n",
      "/Users/maahirmawla/opt/anaconda3/lib/python3.9/site-packages/sklearn/naive_bayes.py:452: RuntimeWarning: divide by zero encountered in log\n",
      "  n_ij = - 0.5 * np.sum(np.log(2. * np.pi * self.sigma_[i, :]))\n",
      "/Users/maahirmawla/opt/anaconda3/lib/python3.9/site-packages/sklearn/naive_bayes.py:453: RuntimeWarning: invalid value encountered in true_divide\n",
      "  n_ij -= 0.5 * np.sum(((X - self.theta_[i, :]) ** 2) /\n",
      "/Users/maahirmawla/opt/anaconda3/lib/python3.9/site-packages/sklearn/naive_bayes.py:452: RuntimeWarning: divide by zero encountered in log\n",
      "  n_ij = - 0.5 * np.sum(np.log(2. * np.pi * self.sigma_[i, :]))\n",
      "/Users/maahirmawla/opt/anaconda3/lib/python3.9/site-packages/sklearn/naive_bayes.py:453: RuntimeWarning: invalid value encountered in true_divide\n",
      "  n_ij -= 0.5 * np.sum(((X - self.theta_[i, :]) ** 2) /\n"
     ]
    },
    {
     "name": "stdout",
     "output_type": "stream",
     "text": [
      "[0]\n",
      "363 Manquillo\n",
      "[0]\n",
      "364 Krafth\n"
     ]
    },
    {
     "name": "stderr",
     "output_type": "stream",
     "text": [
      "/Users/maahirmawla/opt/anaconda3/lib/python3.9/site-packages/sklearn/naive_bayes.py:452: RuntimeWarning: divide by zero encountered in log\n",
      "  n_ij = - 0.5 * np.sum(np.log(2. * np.pi * self.sigma_[i, :]))\n",
      "/Users/maahirmawla/opt/anaconda3/lib/python3.9/site-packages/sklearn/naive_bayes.py:453: RuntimeWarning: invalid value encountered in true_divide\n",
      "  n_ij -= 0.5 * np.sum(((X - self.theta_[i, :]) ** 2) /\n",
      "/Users/maahirmawla/opt/anaconda3/lib/python3.9/site-packages/sklearn/naive_bayes.py:452: RuntimeWarning: divide by zero encountered in log\n",
      "  n_ij = - 0.5 * np.sum(np.log(2. * np.pi * self.sigma_[i, :]))\n",
      "/Users/maahirmawla/opt/anaconda3/lib/python3.9/site-packages/sklearn/naive_bayes.py:453: RuntimeWarning: invalid value encountered in true_divide\n",
      "  n_ij -= 0.5 * np.sum(((X - self.theta_[i, :]) ** 2) /\n"
     ]
    },
    {
     "name": "stdout",
     "output_type": "stream",
     "text": [
      "[0]\n",
      "365 Murphy\n"
     ]
    },
    {
     "name": "stderr",
     "output_type": "stream",
     "text": [
      "/Users/maahirmawla/opt/anaconda3/lib/python3.9/site-packages/sklearn/naive_bayes.py:452: RuntimeWarning: divide by zero encountered in log\n",
      "  n_ij = - 0.5 * np.sum(np.log(2. * np.pi * self.sigma_[i, :]))\n",
      "/Users/maahirmawla/opt/anaconda3/lib/python3.9/site-packages/sklearn/naive_bayes.py:453: RuntimeWarning: invalid value encountered in true_divide\n",
      "  n_ij -= 0.5 * np.sum(((X - self.theta_[i, :]) ** 2) /\n",
      "/Users/maahirmawla/opt/anaconda3/lib/python3.9/site-packages/sklearn/naive_bayes.py:452: RuntimeWarning: divide by zero encountered in log\n",
      "  n_ij = - 0.5 * np.sum(np.log(2. * np.pi * self.sigma_[i, :]))\n",
      "/Users/maahirmawla/opt/anaconda3/lib/python3.9/site-packages/sklearn/naive_bayes.py:453: RuntimeWarning: invalid value encountered in true_divide\n",
      "  n_ij -= 0.5 * np.sum(((X - self.theta_[i, :]) ** 2) /\n"
     ]
    },
    {
     "name": "stdout",
     "output_type": "stream",
     "text": [
      "[1]\n",
      "366 Schär\n",
      "[0]\n",
      "367 Targett\n",
      "[0]\n",
      "368 Saint-Maximin\n",
      "[0]\n",
      "369 Almirón\n",
      "[3]\n",
      "370 S.Longstaff\n",
      "[2]\n",
      "371 Joelinton\n",
      "[2]\n",
      "372 Lewis\n"
     ]
    },
    {
     "name": "stderr",
     "output_type": "stream",
     "text": [
      "/Users/maahirmawla/opt/anaconda3/lib/python3.9/site-packages/sklearn/naive_bayes.py:452: RuntimeWarning: divide by zero encountered in log\n",
      "  n_ij = - 0.5 * np.sum(np.log(2. * np.pi * self.sigma_[i, :]))\n",
      "/Users/maahirmawla/opt/anaconda3/lib/python3.9/site-packages/sklearn/naive_bayes.py:453: RuntimeWarning: invalid value encountered in true_divide\n",
      "  n_ij -= 0.5 * np.sum(((X - self.theta_[i, :]) ** 2) /\n",
      "/Users/maahirmawla/opt/anaconda3/lib/python3.9/site-packages/sklearn/naive_bayes.py:452: RuntimeWarning: divide by zero encountered in log\n",
      "  n_ij = - 0.5 * np.sum(np.log(2. * np.pi * self.sigma_[i, :]))\n",
      "/Users/maahirmawla/opt/anaconda3/lib/python3.9/site-packages/sklearn/naive_bayes.py:453: RuntimeWarning: invalid value encountered in true_divide\n",
      "  n_ij -= 0.5 * np.sum(((X - self.theta_[i, :]) ** 2) /\n"
     ]
    },
    {
     "name": "stdout",
     "output_type": "stream",
     "text": [
      "[0]\n",
      "373 Willock\n",
      "[2]\n",
      "374 Bruno Guimarães\n",
      "[0]\n",
      "375 Hendrick\n"
     ]
    },
    {
     "name": "stderr",
     "output_type": "stream",
     "text": [
      "/Users/maahirmawla/opt/anaconda3/lib/python3.9/site-packages/sklearn/naive_bayes.py:452: RuntimeWarning: divide by zero encountered in log\n",
      "  n_ij = - 0.5 * np.sum(np.log(2. * np.pi * self.sigma_[i, :]))\n",
      "/Users/maahirmawla/opt/anaconda3/lib/python3.9/site-packages/sklearn/naive_bayes.py:453: RuntimeWarning: invalid value encountered in true_divide\n",
      "  n_ij -= 0.5 * np.sum(((X - self.theta_[i, :]) ** 2) /\n",
      "/Users/maahirmawla/opt/anaconda3/lib/python3.9/site-packages/sklearn/naive_bayes.py:452: RuntimeWarning: divide by zero encountered in log\n",
      "  n_ij = - 0.5 * np.sum(np.log(2. * np.pi * self.sigma_[i, :]))\n",
      "/Users/maahirmawla/opt/anaconda3/lib/python3.9/site-packages/sklearn/naive_bayes.py:453: RuntimeWarning: invalid value encountered in true_divide\n",
      "  n_ij -= 0.5 * np.sum(((X - self.theta_[i, :]) ** 2) /\n"
     ]
    },
    {
     "name": "stdout",
     "output_type": "stream",
     "text": [
      "[0]\n",
      "376 Pope\n",
      "[3]\n",
      "377 Botman\n",
      "[1]\n",
      "552 Anderson\n"
     ]
    },
    {
     "name": "stderr",
     "output_type": "stream",
     "text": [
      "/Users/maahirmawla/opt/anaconda3/lib/python3.9/site-packages/sklearn/naive_bayes.py:452: RuntimeWarning: divide by zero encountered in log\n",
      "  n_ij = - 0.5 * np.sum(np.log(2. * np.pi * self.sigma_[i, :]))\n",
      "/Users/maahirmawla/opt/anaconda3/lib/python3.9/site-packages/sklearn/naive_bayes.py:453: RuntimeWarning: invalid value encountered in true_divide\n",
      "  n_ij -= 0.5 * np.sum(((X - self.theta_[i, :]) ** 2) /\n",
      "/Users/maahirmawla/opt/anaconda3/lib/python3.9/site-packages/sklearn/naive_bayes.py:452: RuntimeWarning: divide by zero encountered in log\n",
      "  n_ij = - 0.5 * np.sum(np.log(2. * np.pi * self.sigma_[i, :]))\n",
      "/Users/maahirmawla/opt/anaconda3/lib/python3.9/site-packages/sklearn/naive_bayes.py:453: RuntimeWarning: invalid value encountered in true_divide\n",
      "  n_ij -= 0.5 * np.sum(((X - self.theta_[i, :]) ** 2) /\n"
     ]
    },
    {
     "name": "stdout",
     "output_type": "stream",
     "text": [
      "[0]\n",
      "594 Isak\n",
      "[0]\n",
      "295 N.Williams\n",
      "[1]\n",
      "378 Arter\n",
      "[0]\n",
      "379 Cook\n"
     ]
    },
    {
     "name": "stderr",
     "output_type": "stream",
     "text": [
      "/Users/maahirmawla/opt/anaconda3/lib/python3.9/site-packages/sklearn/naive_bayes.py:452: RuntimeWarning: divide by zero encountered in log\n",
      "  n_ij = - 0.5 * np.sum(np.log(2. * np.pi * self.sigma_[i, :]))\n",
      "/Users/maahirmawla/opt/anaconda3/lib/python3.9/site-packages/sklearn/naive_bayes.py:453: RuntimeWarning: invalid value encountered in true_divide\n",
      "  n_ij -= 0.5 * np.sum(((X - self.theta_[i, :]) ** 2) /\n",
      "/Users/maahirmawla/opt/anaconda3/lib/python3.9/site-packages/sklearn/naive_bayes.py:452: RuntimeWarning: divide by zero encountered in log\n",
      "  n_ij = - 0.5 * np.sum(np.log(2. * np.pi * self.sigma_[i, :]))\n",
      "/Users/maahirmawla/opt/anaconda3/lib/python3.9/site-packages/sklearn/naive_bayes.py:453: RuntimeWarning: invalid value encountered in true_divide\n",
      "  n_ij -= 0.5 * np.sum(((X - self.theta_[i, :]) ** 2) /\n",
      "/Users/maahirmawla/opt/anaconda3/lib/python3.9/site-packages/sklearn/naive_bayes.py:452: RuntimeWarning: divide by zero encountered in log\n",
      "  n_ij = - 0.5 * np.sum(np.log(2. * np.pi * self.sigma_[i, :]))\n",
      "/Users/maahirmawla/opt/anaconda3/lib/python3.9/site-packages/sklearn/naive_bayes.py:453: RuntimeWarning: invalid value encountered in true_divide\n",
      "  n_ij -= 0.5 * np.sum(((X - self.theta_[i, :]) ** 2) /\n",
      "/Users/maahirmawla/opt/anaconda3/lib/python3.9/site-packages/sklearn/naive_bayes.py:452: RuntimeWarning: divide by zero encountered in log\n",
      "  n_ij = - 0.5 * np.sum(np.log(2. * np.pi * self.sigma_[i, :]))\n",
      "/Users/maahirmawla/opt/anaconda3/lib/python3.9/site-packages/sklearn/naive_bayes.py:453: RuntimeWarning: invalid value encountered in true_divide\n",
      "  n_ij -= 0.5 * np.sum(((X - self.theta_[i, :]) ** 2) /\n"
     ]
    },
    {
     "name": "stdout",
     "output_type": "stream",
     "text": [
      "[0]\n",
      "380 Taylor\n"
     ]
    },
    {
     "name": "stderr",
     "output_type": "stream",
     "text": [
      "/Users/maahirmawla/opt/anaconda3/lib/python3.9/site-packages/sklearn/naive_bayes.py:452: RuntimeWarning: divide by zero encountered in log\n",
      "  n_ij = - 0.5 * np.sum(np.log(2. * np.pi * self.sigma_[i, :]))\n",
      "/Users/maahirmawla/opt/anaconda3/lib/python3.9/site-packages/sklearn/naive_bayes.py:453: RuntimeWarning: invalid value encountered in true_divide\n",
      "  n_ij -= 0.5 * np.sum(((X - self.theta_[i, :]) ** 2) /\n",
      "/Users/maahirmawla/opt/anaconda3/lib/python3.9/site-packages/sklearn/naive_bayes.py:452: RuntimeWarning: divide by zero encountered in log\n",
      "  n_ij = - 0.5 * np.sum(np.log(2. * np.pi * self.sigma_[i, :]))\n",
      "/Users/maahirmawla/opt/anaconda3/lib/python3.9/site-packages/sklearn/naive_bayes.py:453: RuntimeWarning: invalid value encountered in true_divide\n",
      "  n_ij -= 0.5 * np.sum(((X - self.theta_[i, :]) ** 2) /\n",
      "/Users/maahirmawla/opt/anaconda3/lib/python3.9/site-packages/sklearn/naive_bayes.py:452: RuntimeWarning: divide by zero encountered in log\n",
      "  n_ij = - 0.5 * np.sum(np.log(2. * np.pi * self.sigma_[i, :]))\n",
      "/Users/maahirmawla/opt/anaconda3/lib/python3.9/site-packages/sklearn/naive_bayes.py:453: RuntimeWarning: invalid value encountered in true_divide\n",
      "  n_ij -= 0.5 * np.sum(((X - self.theta_[i, :]) ** 2) /\n",
      "/Users/maahirmawla/opt/anaconda3/lib/python3.9/site-packages/sklearn/naive_bayes.py:452: RuntimeWarning: divide by zero encountered in log\n",
      "  n_ij = - 0.5 * np.sum(np.log(2. * np.pi * self.sigma_[i, :]))\n",
      "/Users/maahirmawla/opt/anaconda3/lib/python3.9/site-packages/sklearn/naive_bayes.py:453: RuntimeWarning: invalid value encountered in true_divide\n",
      "  n_ij -= 0.5 * np.sum(((X - self.theta_[i, :]) ** 2) /\n"
     ]
    },
    {
     "name": "stdout",
     "output_type": "stream",
     "text": [
      "[0]\n",
      "381 Colback\n",
      "[0]\n",
      "382 Samba\n"
     ]
    },
    {
     "name": "stderr",
     "output_type": "stream",
     "text": [
      "/Users/maahirmawla/opt/anaconda3/lib/python3.9/site-packages/sklearn/naive_bayes.py:452: RuntimeWarning: divide by zero encountered in log\n",
      "  n_ij = - 0.5 * np.sum(np.log(2. * np.pi * self.sigma_[i, :]))\n",
      "/Users/maahirmawla/opt/anaconda3/lib/python3.9/site-packages/sklearn/naive_bayes.py:453: RuntimeWarning: invalid value encountered in true_divide\n",
      "  n_ij -= 0.5 * np.sum(((X - self.theta_[i, :]) ** 2) /\n",
      "/Users/maahirmawla/opt/anaconda3/lib/python3.9/site-packages/sklearn/naive_bayes.py:452: RuntimeWarning: divide by zero encountered in log\n",
      "  n_ij = - 0.5 * np.sum(np.log(2. * np.pi * self.sigma_[i, :]))\n",
      "/Users/maahirmawla/opt/anaconda3/lib/python3.9/site-packages/sklearn/naive_bayes.py:453: RuntimeWarning: invalid value encountered in true_divide\n",
      "  n_ij -= 0.5 * np.sum(((X - self.theta_[i, :]) ** 2) /\n"
     ]
    },
    {
     "name": "stdout",
     "output_type": "stream",
     "text": [
      "[0]\n",
      "383 Cafú\n"
     ]
    },
    {
     "name": "stderr",
     "output_type": "stream",
     "text": [
      "/Users/maahirmawla/opt/anaconda3/lib/python3.9/site-packages/sklearn/naive_bayes.py:452: RuntimeWarning: divide by zero encountered in log\n",
      "  n_ij = - 0.5 * np.sum(np.log(2. * np.pi * self.sigma_[i, :]))\n",
      "/Users/maahirmawla/opt/anaconda3/lib/python3.9/site-packages/sklearn/naive_bayes.py:453: RuntimeWarning: invalid value encountered in true_divide\n",
      "  n_ij -= 0.5 * np.sum(((X - self.theta_[i, :]) ** 2) /\n",
      "/Users/maahirmawla/opt/anaconda3/lib/python3.9/site-packages/sklearn/naive_bayes.py:452: RuntimeWarning: divide by zero encountered in log\n",
      "  n_ij = - 0.5 * np.sum(np.log(2. * np.pi * self.sigma_[i, :]))\n",
      "/Users/maahirmawla/opt/anaconda3/lib/python3.9/site-packages/sklearn/naive_bayes.py:453: RuntimeWarning: invalid value encountered in true_divide\n",
      "  n_ij -= 0.5 * np.sum(((X - self.theta_[i, :]) ** 2) /\n"
     ]
    },
    {
     "name": "stdout",
     "output_type": "stream",
     "text": [
      "[0]\n",
      "384 Lolley\n"
     ]
    },
    {
     "name": "stderr",
     "output_type": "stream",
     "text": [
      "/Users/maahirmawla/opt/anaconda3/lib/python3.9/site-packages/sklearn/naive_bayes.py:452: RuntimeWarning: divide by zero encountered in log\n",
      "  n_ij = - 0.5 * np.sum(np.log(2. * np.pi * self.sigma_[i, :]))\n",
      "/Users/maahirmawla/opt/anaconda3/lib/python3.9/site-packages/sklearn/naive_bayes.py:453: RuntimeWarning: invalid value encountered in true_divide\n",
      "  n_ij -= 0.5 * np.sum(((X - self.theta_[i, :]) ** 2) /\n",
      "/Users/maahirmawla/opt/anaconda3/lib/python3.9/site-packages/sklearn/naive_bayes.py:452: RuntimeWarning: divide by zero encountered in log\n",
      "  n_ij = - 0.5 * np.sum(np.log(2. * np.pi * self.sigma_[i, :]))\n",
      "/Users/maahirmawla/opt/anaconda3/lib/python3.9/site-packages/sklearn/naive_bayes.py:453: RuntimeWarning: invalid value encountered in true_divide\n",
      "  n_ij -= 0.5 * np.sum(((X - self.theta_[i, :]) ** 2) /\n"
     ]
    },
    {
     "name": "stdout",
     "output_type": "stream",
     "text": [
      "[0]\n",
      "385 McKenna\n",
      "[0]\n",
      "386 Dräger\n"
     ]
    },
    {
     "name": "stderr",
     "output_type": "stream",
     "text": [
      "/Users/maahirmawla/opt/anaconda3/lib/python3.9/site-packages/sklearn/naive_bayes.py:452: RuntimeWarning: divide by zero encountered in log\n",
      "  n_ij = - 0.5 * np.sum(np.log(2. * np.pi * self.sigma_[i, :]))\n",
      "/Users/maahirmawla/opt/anaconda3/lib/python3.9/site-packages/sklearn/naive_bayes.py:453: RuntimeWarning: invalid value encountered in true_divide\n",
      "  n_ij -= 0.5 * np.sum(((X - self.theta_[i, :]) ** 2) /\n",
      "/Users/maahirmawla/opt/anaconda3/lib/python3.9/site-packages/sklearn/naive_bayes.py:452: RuntimeWarning: divide by zero encountered in log\n",
      "  n_ij = - 0.5 * np.sum(np.log(2. * np.pi * self.sigma_[i, :]))\n",
      "/Users/maahirmawla/opt/anaconda3/lib/python3.9/site-packages/sklearn/naive_bayes.py:453: RuntimeWarning: invalid value encountered in true_divide\n",
      "  n_ij -= 0.5 * np.sum(((X - self.theta_[i, :]) ** 2) /\n"
     ]
    },
    {
     "name": "stdout",
     "output_type": "stream",
     "text": [
      "[0]\n",
      "387 Yates\n"
     ]
    },
    {
     "name": "stderr",
     "output_type": "stream",
     "text": [
      "/Users/maahirmawla/opt/anaconda3/lib/python3.9/site-packages/sklearn/naive_bayes.py:452: RuntimeWarning: divide by zero encountered in log\n",
      "  n_ij = - 0.5 * np.sum(np.log(2. * np.pi * self.sigma_[i, :]))\n",
      "/Users/maahirmawla/opt/anaconda3/lib/python3.9/site-packages/sklearn/naive_bayes.py:453: RuntimeWarning: invalid value encountered in true_divide\n",
      "  n_ij -= 0.5 * np.sum(((X - self.theta_[i, :]) ** 2) /\n",
      "/Users/maahirmawla/opt/anaconda3/lib/python3.9/site-packages/sklearn/naive_bayes.py:452: RuntimeWarning: divide by zero encountered in log\n",
      "  n_ij = - 0.5 * np.sum(np.log(2. * np.pi * self.sigma_[i, :]))\n",
      "/Users/maahirmawla/opt/anaconda3/lib/python3.9/site-packages/sklearn/naive_bayes.py:453: RuntimeWarning: invalid value encountered in true_divide\n",
      "  n_ij -= 0.5 * np.sum(((X - self.theta_[i, :]) ** 2) /\n"
     ]
    },
    {
     "name": "stdout",
     "output_type": "stream",
     "text": [
      "[0]\n",
      "388 Worrall\n",
      "[0]\n",
      "389 Panzo\n"
     ]
    },
    {
     "name": "stderr",
     "output_type": "stream",
     "text": [
      "/Users/maahirmawla/opt/anaconda3/lib/python3.9/site-packages/sklearn/naive_bayes.py:452: RuntimeWarning: divide by zero encountered in log\n",
      "  n_ij = - 0.5 * np.sum(np.log(2. * np.pi * self.sigma_[i, :]))\n",
      "/Users/maahirmawla/opt/anaconda3/lib/python3.9/site-packages/sklearn/naive_bayes.py:453: RuntimeWarning: invalid value encountered in true_divide\n",
      "  n_ij -= 0.5 * np.sum(((X - self.theta_[i, :]) ** 2) /\n",
      "/Users/maahirmawla/opt/anaconda3/lib/python3.9/site-packages/sklearn/naive_bayes.py:452: RuntimeWarning: divide by zero encountered in log\n",
      "  n_ij = - 0.5 * np.sum(np.log(2. * np.pi * self.sigma_[i, :]))\n",
      "/Users/maahirmawla/opt/anaconda3/lib/python3.9/site-packages/sklearn/naive_bayes.py:453: RuntimeWarning: invalid value encountered in true_divide\n",
      "  n_ij -= 0.5 * np.sum(((X - self.theta_[i, :]) ** 2) /\n"
     ]
    },
    {
     "name": "stdout",
     "output_type": "stream",
     "text": [
      "[0]\n",
      "390 Xande Silva\n"
     ]
    },
    {
     "name": "stderr",
     "output_type": "stream",
     "text": [
      "/Users/maahirmawla/opt/anaconda3/lib/python3.9/site-packages/sklearn/naive_bayes.py:452: RuntimeWarning: divide by zero encountered in log\n",
      "  n_ij = - 0.5 * np.sum(np.log(2. * np.pi * self.sigma_[i, :]))\n",
      "/Users/maahirmawla/opt/anaconda3/lib/python3.9/site-packages/sklearn/naive_bayes.py:453: RuntimeWarning: invalid value encountered in true_divide\n",
      "  n_ij -= 0.5 * np.sum(((X - self.theta_[i, :]) ** 2) /\n",
      "/Users/maahirmawla/opt/anaconda3/lib/python3.9/site-packages/sklearn/naive_bayes.py:452: RuntimeWarning: divide by zero encountered in log\n",
      "  n_ij = - 0.5 * np.sum(np.log(2. * np.pi * self.sigma_[i, :]))\n",
      "/Users/maahirmawla/opt/anaconda3/lib/python3.9/site-packages/sklearn/naive_bayes.py:453: RuntimeWarning: invalid value encountered in true_divide\n",
      "  n_ij -= 0.5 * np.sum(((X - self.theta_[i, :]) ** 2) /\n"
     ]
    },
    {
     "name": "stdout",
     "output_type": "stream",
     "text": [
      "[0]\n",
      "391 Surridge\n"
     ]
    },
    {
     "name": "stderr",
     "output_type": "stream",
     "text": [
      "/Users/maahirmawla/opt/anaconda3/lib/python3.9/site-packages/sklearn/naive_bayes.py:452: RuntimeWarning: divide by zero encountered in log\n",
      "  n_ij = - 0.5 * np.sum(np.log(2. * np.pi * self.sigma_[i, :]))\n",
      "/Users/maahirmawla/opt/anaconda3/lib/python3.9/site-packages/sklearn/naive_bayes.py:453: RuntimeWarning: invalid value encountered in true_divide\n",
      "  n_ij -= 0.5 * np.sum(((X - self.theta_[i, :]) ** 2) /\n",
      "/Users/maahirmawla/opt/anaconda3/lib/python3.9/site-packages/sklearn/naive_bayes.py:452: RuntimeWarning: divide by zero encountered in log\n",
      "  n_ij = - 0.5 * np.sum(np.log(2. * np.pi * self.sigma_[i, :]))\n",
      "/Users/maahirmawla/opt/anaconda3/lib/python3.9/site-packages/sklearn/naive_bayes.py:453: RuntimeWarning: invalid value encountered in true_divide\n",
      "  n_ij -= 0.5 * np.sum(((X - self.theta_[i, :]) ** 2) /\n",
      "/Users/maahirmawla/opt/anaconda3/lib/python3.9/site-packages/sklearn/naive_bayes.py:452: RuntimeWarning: divide by zero encountered in log\n",
      "  n_ij = - 0.5 * np.sum(np.log(2. * np.pi * self.sigma_[i, :]))\n",
      "/Users/maahirmawla/opt/anaconda3/lib/python3.9/site-packages/sklearn/naive_bayes.py:453: RuntimeWarning: invalid value encountered in true_divide\n",
      "  n_ij -= 0.5 * np.sum(((X - self.theta_[i, :]) ** 2) /\n",
      "/Users/maahirmawla/opt/anaconda3/lib/python3.9/site-packages/sklearn/naive_bayes.py:452: RuntimeWarning: divide by zero encountered in log\n",
      "  n_ij = - 0.5 * np.sum(np.log(2. * np.pi * self.sigma_[i, :]))\n",
      "/Users/maahirmawla/opt/anaconda3/lib/python3.9/site-packages/sklearn/naive_bayes.py:453: RuntimeWarning: invalid value encountered in true_divide\n",
      "  n_ij -= 0.5 * np.sum(((X - self.theta_[i, :]) ** 2) /\n"
     ]
    },
    {
     "name": "stdout",
     "output_type": "stream",
     "text": [
      "[0]\n",
      "392 Laryea\n",
      "[0]\n",
      "393"
     ]
    },
    {
     "name": "stderr",
     "output_type": "stream",
     "text": [
      "/Users/maahirmawla/opt/anaconda3/lib/python3.9/site-packages/sklearn/naive_bayes.py:452: RuntimeWarning: divide by zero encountered in log\n",
      "  n_ij = - 0.5 * np.sum(np.log(2. * np.pi * self.sigma_[i, :]))\n",
      "/Users/maahirmawla/opt/anaconda3/lib/python3.9/site-packages/sklearn/naive_bayes.py:453: RuntimeWarning: invalid value encountered in true_divide\n",
      "  n_ij -= 0.5 * np.sum(((X - self.theta_[i, :]) ** 2) /\n",
      "/Users/maahirmawla/opt/anaconda3/lib/python3.9/site-packages/sklearn/naive_bayes.py:452: RuntimeWarning: divide by zero encountered in log\n",
      "  n_ij = - 0.5 * np.sum(np.log(2. * np.pi * self.sigma_[i, :]))\n",
      "/Users/maahirmawla/opt/anaconda3/lib/python3.9/site-packages/sklearn/naive_bayes.py:453: RuntimeWarning: invalid value encountered in true_divide\n",
      "  n_ij -= 0.5 * np.sum(((X - self.theta_[i, :]) ** 2) /\n"
     ]
    },
    {
     "name": "stdout",
     "output_type": "stream",
     "text": [
      " Mbe Soh\n",
      "[0]\n",
      "394 Johnson\n",
      "[1]\n",
      "395 Mighten\n"
     ]
    },
    {
     "name": "stderr",
     "output_type": "stream",
     "text": [
      "/Users/maahirmawla/opt/anaconda3/lib/python3.9/site-packages/sklearn/naive_bayes.py:452: RuntimeWarning: divide by zero encountered in log\n",
      "  n_ij = - 0.5 * np.sum(np.log(2. * np.pi * self.sigma_[i, :]))\n",
      "/Users/maahirmawla/opt/anaconda3/lib/python3.9/site-packages/sklearn/naive_bayes.py:453: RuntimeWarning: invalid value encountered in true_divide\n",
      "  n_ij -= 0.5 * np.sum(((X - self.theta_[i, :]) ** 2) /\n",
      "/Users/maahirmawla/opt/anaconda3/lib/python3.9/site-packages/sklearn/naive_bayes.py:452: RuntimeWarning: divide by zero encountered in log\n",
      "  n_ij = - 0.5 * np.sum(np.log(2. * np.pi * self.sigma_[i, :]))\n",
      "/Users/maahirmawla/opt/anaconda3/lib/python3.9/site-packages/sklearn/naive_bayes.py:453: RuntimeWarning: invalid value encountered in true_divide\n",
      "  n_ij -= 0.5 * np.sum(((X - self.theta_[i, :]) ** 2) /\n"
     ]
    },
    {
     "name": "stdout",
     "output_type": "stream",
     "text": [
      "[0]\n",
      "396 Ojeda\n"
     ]
    },
    {
     "name": "stderr",
     "output_type": "stream",
     "text": [
      "/Users/maahirmawla/opt/anaconda3/lib/python3.9/site-packages/sklearn/naive_bayes.py:452: RuntimeWarning: divide by zero encountered in log\n",
      "  n_ij = - 0.5 * np.sum(np.log(2. * np.pi * self.sigma_[i, :]))\n",
      "/Users/maahirmawla/opt/anaconda3/lib/python3.9/site-packages/sklearn/naive_bayes.py:453: RuntimeWarning: invalid value encountered in true_divide\n",
      "  n_ij -= 0.5 * np.sum(((X - self.theta_[i, :]) ** 2) /\n",
      "/Users/maahirmawla/opt/anaconda3/lib/python3.9/site-packages/sklearn/naive_bayes.py:452: RuntimeWarning: divide by zero encountered in log\n",
      "  n_ij = - 0.5 * np.sum(np.log(2. * np.pi * self.sigma_[i, :]))\n",
      "/Users/maahirmawla/opt/anaconda3/lib/python3.9/site-packages/sklearn/naive_bayes.py:453: RuntimeWarning: invalid value encountered in true_divide\n",
      "  n_ij -= 0.5 * np.sum(((X - self.theta_[i, :]) ** 2) /\n"
     ]
    },
    {
     "name": "stdout",
     "output_type": "stream",
     "text": [
      "[0]\n",
      "397 Awoniyi\n",
      "[1]\n",
      "398 Henderson\n",
      "[0]\n",
      "399 Biancone\n"
     ]
    },
    {
     "name": "stderr",
     "output_type": "stream",
     "text": [
      "/Users/maahirmawla/opt/anaconda3/lib/python3.9/site-packages/sklearn/naive_bayes.py:452: RuntimeWarning: divide by zero encountered in log\n",
      "  n_ij = - 0.5 * np.sum(np.log(2. * np.pi * self.sigma_[i, :]))\n",
      "/Users/maahirmawla/opt/anaconda3/lib/python3.9/site-packages/sklearn/naive_bayes.py:453: RuntimeWarning: invalid value encountered in true_divide\n",
      "  n_ij -= 0.5 * np.sum(((X - self.theta_[i, :]) ** 2) /\n",
      "/Users/maahirmawla/opt/anaconda3/lib/python3.9/site-packages/sklearn/naive_bayes.py:452: RuntimeWarning: divide by zero encountered in log\n",
      "  n_ij = - 0.5 * np.sum(np.log(2. * np.pi * self.sigma_[i, :]))\n",
      "/Users/maahirmawla/opt/anaconda3/lib/python3.9/site-packages/sklearn/naive_bayes.py:453: RuntimeWarning: invalid value encountered in true_divide\n",
      "  n_ij -= 0.5 * np.sum(((X - self.theta_[i, :]) ** 2) /\n",
      "/Users/maahirmawla/opt/anaconda3/lib/python3.9/site-packages/sklearn/naive_bayes.py:452: RuntimeWarning: divide by zero encountered in log\n",
      "  n_ij = - 0.5 * np.sum(np.log(2. * np.pi * self.sigma_[i, :]))\n",
      "/Users/maahirmawla/opt/anaconda3/lib/python3.9/site-packages/sklearn/naive_bayes.py:453: RuntimeWarning: invalid value encountered in true_divide\n",
      "  n_ij -= 0.5 * np.sum(((X - self.theta_[i, :]) ** 2) /\n",
      "/Users/maahirmawla/opt/anaconda3/lib/python3.9/site-packages/sklearn/naive_bayes.py:452: RuntimeWarning: divide by zero encountered in log\n",
      "  n_ij = - 0.5 * np.sum(np.log(2. * np.pi * self.sigma_[i, :]))\n",
      "/Users/maahirmawla/opt/anaconda3/lib/python3.9/site-packages/sklearn/naive_bayes.py:453: RuntimeWarning: invalid value encountered in true_divide\n",
      "  n_ij -= 0.5 * np.sum(((X - self.theta_[i, :]) ** 2) /\n"
     ]
    },
    {
     "name": "stdout",
     "output_type": "stream",
     "text": [
      "[0]\n",
      "474 Boly\n",
      "[0]\n",
      "493 Gibbs-White\n",
      "[2]\n",
      "507 Niakhaté\n",
      "[0]\n",
      "511 Richards\n"
     ]
    },
    {
     "name": "stderr",
     "output_type": "stream",
     "text": [
      "/Users/maahirmawla/opt/anaconda3/lib/python3.9/site-packages/sklearn/naive_bayes.py:452: RuntimeWarning: divide by zero encountered in log\n",
      "  n_ij = - 0.5 * np.sum(np.log(2. * np.pi * self.sigma_[i, :]))\n",
      "/Users/maahirmawla/opt/anaconda3/lib/python3.9/site-packages/sklearn/naive_bayes.py:453: RuntimeWarning: invalid value encountered in true_divide\n",
      "  n_ij -= 0.5 * np.sum(((X - self.theta_[i, :]) ** 2) /\n",
      "/Users/maahirmawla/opt/anaconda3/lib/python3.9/site-packages/sklearn/naive_bayes.py:452: RuntimeWarning: divide by zero encountered in log\n",
      "  n_ij = - 0.5 * np.sum(np.log(2. * np.pi * self.sigma_[i, :]))\n",
      "/Users/maahirmawla/opt/anaconda3/lib/python3.9/site-packages/sklearn/naive_bayes.py:453: RuntimeWarning: invalid value encountered in true_divide\n",
      "  n_ij -= 0.5 * np.sum(((X - self.theta_[i, :]) ** 2) /\n"
     ]
    },
    {
     "name": "stdout",
     "output_type": "stream",
     "text": [
      "[0]\n",
      "518 Hennessey\n"
     ]
    },
    {
     "name": "stderr",
     "output_type": "stream",
     "text": [
      "/Users/maahirmawla/opt/anaconda3/lib/python3.9/site-packages/sklearn/naive_bayes.py:452: RuntimeWarning: divide by zero encountered in log\n",
      "  n_ij = - 0.5 * np.sum(np.log(2. * np.pi * self.sigma_[i, :]))\n",
      "/Users/maahirmawla/opt/anaconda3/lib/python3.9/site-packages/sklearn/naive_bayes.py:453: RuntimeWarning: invalid value encountered in true_divide\n",
      "  n_ij -= 0.5 * np.sum(((X - self.theta_[i, :]) ** 2) /\n",
      "/Users/maahirmawla/opt/anaconda3/lib/python3.9/site-packages/sklearn/naive_bayes.py:452: RuntimeWarning: divide by zero encountered in log\n",
      "  n_ij = - 0.5 * np.sum(np.log(2. * np.pi * self.sigma_[i, :]))\n",
      "/Users/maahirmawla/opt/anaconda3/lib/python3.9/site-packages/sklearn/naive_bayes.py:453: RuntimeWarning: invalid value encountered in true_divide\n",
      "  n_ij -= 0.5 * np.sum(((X - self.theta_[i, :]) ** 2) /\n"
     ]
    },
    {
     "name": "stdout",
     "output_type": "stream",
     "text": [
      "[0]\n",
      "523 Toffolo\n",
      "[1]\n",
      "524 O'Brien\n",
      "[1]\n",
      "527 Lingard\n",
      "[2]\n",
      "536 Mangala\n",
      "[0]\n",
      "553 Hammond\n"
     ]
    },
    {
     "name": "stderr",
     "output_type": "stream",
     "text": [
      "/Users/maahirmawla/opt/anaconda3/lib/python3.9/site-packages/sklearn/naive_bayes.py:452: RuntimeWarning: divide by zero encountered in log\n",
      "  n_ij = - 0.5 * np.sum(np.log(2. * np.pi * self.sigma_[i, :]))\n",
      "/Users/maahirmawla/opt/anaconda3/lib/python3.9/site-packages/sklearn/naive_bayes.py:453: RuntimeWarning: invalid value encountered in true_divide\n",
      "  n_ij -= 0.5 * np.sum(((X - self.theta_[i, :]) ** 2) /\n",
      "/Users/maahirmawla/opt/anaconda3/lib/python3.9/site-packages/sklearn/naive_bayes.py:452: RuntimeWarning: divide by zero encountered in log\n",
      "  n_ij = - 0.5 * np.sum(np.log(2. * np.pi * self.sigma_[i, :]))\n",
      "/Users/maahirmawla/opt/anaconda3/lib/python3.9/site-packages/sklearn/naive_bayes.py:453: RuntimeWarning: invalid value encountered in true_divide\n",
      "  n_ij -= 0.5 * np.sum(((X - self.theta_[i, :]) ** 2) /\n"
     ]
    },
    {
     "name": "stdout",
     "output_type": "stream",
     "text": [
      "[0]\n",
      "582 Freuler\n"
     ]
    },
    {
     "name": "stderr",
     "output_type": "stream",
     "text": [
      "/Users/maahirmawla/opt/anaconda3/lib/python3.9/site-packages/sklearn/naive_bayes.py:452: RuntimeWarning: divide by zero encountered in log\n",
      "  n_ij = - 0.5 * np.sum(np.log(2. * np.pi * self.sigma_[i, :]))\n",
      "/Users/maahirmawla/opt/anaconda3/lib/python3.9/site-packages/sklearn/naive_bayes.py:453: RuntimeWarning: invalid value encountered in true_divide\n",
      "  n_ij -= 0.5 * np.sum(((X - self.theta_[i, :]) ** 2) /\n",
      "/Users/maahirmawla/opt/anaconda3/lib/python3.9/site-packages/sklearn/naive_bayes.py:452: RuntimeWarning: divide by zero encountered in log\n",
      "  n_ij = - 0.5 * np.sum(np.log(2. * np.pi * self.sigma_[i, :]))\n",
      "/Users/maahirmawla/opt/anaconda3/lib/python3.9/site-packages/sklearn/naive_bayes.py:453: RuntimeWarning: invalid value encountered in true_divide\n",
      "  n_ij -= 0.5 * np.sum(((X - self.theta_[i, :]) ** 2) /\n"
     ]
    },
    {
     "name": "stdout",
     "output_type": "stream",
     "text": [
      "[0]\n",
      "583 Kouyaté\n",
      "[0]\n",
      "585 Dennis\n"
     ]
    },
    {
     "name": "stderr",
     "output_type": "stream",
     "text": [
      "/Users/maahirmawla/opt/anaconda3/lib/python3.9/site-packages/sklearn/naive_bayes.py:452: RuntimeWarning: divide by zero encountered in log\n",
      "  n_ij = - 0.5 * np.sum(np.log(2. * np.pi * self.sigma_[i, :]))\n",
      "/Users/maahirmawla/opt/anaconda3/lib/python3.9/site-packages/sklearn/naive_bayes.py:453: RuntimeWarning: invalid value encountered in true_divide\n",
      "  n_ij -= 0.5 * np.sum(((X - self.theta_[i, :]) ** 2) /\n",
      "/Users/maahirmawla/opt/anaconda3/lib/python3.9/site-packages/sklearn/naive_bayes.py:452: RuntimeWarning: divide by zero encountered in log\n",
      "  n_ij = - 0.5 * np.sum(np.log(2. * np.pi * self.sigma_[i, :]))\n",
      "/Users/maahirmawla/opt/anaconda3/lib/python3.9/site-packages/sklearn/naive_bayes.py:453: RuntimeWarning: invalid value encountered in true_divide\n",
      "  n_ij -= 0.5 * np.sum(((X - self.theta_[i, :]) ** 2) /\n"
     ]
    },
    {
     "name": "stdout",
     "output_type": "stream",
     "text": [
      "[0]\n",
      "602 Renan Lodi\n"
     ]
    },
    {
     "name": "stderr",
     "output_type": "stream",
     "text": [
      "/Users/maahirmawla/opt/anaconda3/lib/python3.9/site-packages/sklearn/naive_bayes.py:452: RuntimeWarning: divide by zero encountered in log\n",
      "  n_ij = - 0.5 * np.sum(np.log(2. * np.pi * self.sigma_[i, :]))\n",
      "/Users/maahirmawla/opt/anaconda3/lib/python3.9/site-packages/sklearn/naive_bayes.py:453: RuntimeWarning: invalid value encountered in true_divide\n",
      "  n_ij -= 0.5 * np.sum(((X - self.theta_[i, :]) ** 2) /\n",
      "/Users/maahirmawla/opt/anaconda3/lib/python3.9/site-packages/sklearn/naive_bayes.py:452: RuntimeWarning: divide by zero encountered in log\n",
      "  n_ij = - 0.5 * np.sum(np.log(2. * np.pi * self.sigma_[i, :]))\n",
      "/Users/maahirmawla/opt/anaconda3/lib/python3.9/site-packages/sklearn/naive_bayes.py:453: RuntimeWarning: invalid value encountered in true_divide\n",
      "  n_ij -= 0.5 * np.sum(((X - self.theta_[i, :]) ** 2) /\n"
     ]
    },
    {
     "name": "stdout",
     "output_type": "stream",
     "text": [
      "[0]\n",
      "621 Badé\n"
     ]
    },
    {
     "name": "stderr",
     "output_type": "stream",
     "text": [
      "/Users/maahirmawla/opt/anaconda3/lib/python3.9/site-packages/sklearn/naive_bayes.py:452: RuntimeWarning: divide by zero encountered in log\n",
      "  n_ij = - 0.5 * np.sum(np.log(2. * np.pi * self.sigma_[i, :]))\n",
      "/Users/maahirmawla/opt/anaconda3/lib/python3.9/site-packages/sklearn/naive_bayes.py:453: RuntimeWarning: invalid value encountered in true_divide\n",
      "  n_ij -= 0.5 * np.sum(((X - self.theta_[i, :]) ** 2) /\n",
      "/Users/maahirmawla/opt/anaconda3/lib/python3.9/site-packages/sklearn/naive_bayes.py:452: RuntimeWarning: divide by zero encountered in log\n",
      "  n_ij = - 0.5 * np.sum(np.log(2. * np.pi * self.sigma_[i, :]))\n",
      "/Users/maahirmawla/opt/anaconda3/lib/python3.9/site-packages/sklearn/naive_bayes.py:453: RuntimeWarning: invalid value encountered in true_divide\n",
      "  n_ij -= 0.5 * np.sum(((X - self.theta_[i, :]) ** 2) /\n"
     ]
    },
    {
     "name": "stdout",
     "output_type": "stream",
     "text": [
      "[0]\n",
      "21 Maitland-Niles\n"
     ]
    },
    {
     "name": "stderr",
     "output_type": "stream",
     "text": [
      "/Users/maahirmawla/opt/anaconda3/lib/python3.9/site-packages/sklearn/naive_bayes.py:452: RuntimeWarning: divide by zero encountered in log\n",
      "  n_ij = - 0.5 * np.sum(np.log(2. * np.pi * self.sigma_[i, :]))\n",
      "/Users/maahirmawla/opt/anaconda3/lib/python3.9/site-packages/sklearn/naive_bayes.py:453: RuntimeWarning: invalid value encountered in true_divide\n",
      "  n_ij -= 0.5 * np.sum(((X - self.theta_[i, :]) ** 2) /\n",
      "/Users/maahirmawla/opt/anaconda3/lib/python3.9/site-packages/sklearn/naive_bayes.py:452: RuntimeWarning: divide by zero encountered in log\n",
      "  n_ij = - 0.5 * np.sum(np.log(2. * np.pi * self.sigma_[i, :]))\n",
      "/Users/maahirmawla/opt/anaconda3/lib/python3.9/site-packages/sklearn/naive_bayes.py:453: RuntimeWarning: invalid value encountered in true_divide\n",
      "  n_ij -= 0.5 * np.sum(((X - self.theta_[i, :]) ** 2) /\n"
     ]
    },
    {
     "name": "stdout",
     "output_type": "stream",
     "text": [
      "[0]\n",
      "321 Lavia\n"
     ]
    },
    {
     "name": "stderr",
     "output_type": "stream",
     "text": [
      "/Users/maahirmawla/opt/anaconda3/lib/python3.9/site-packages/sklearn/naive_bayes.py:452: RuntimeWarning: divide by zero encountered in log\n",
      "  n_ij = - 0.5 * np.sum(np.log(2. * np.pi * self.sigma_[i, :]))\n",
      "/Users/maahirmawla/opt/anaconda3/lib/python3.9/site-packages/sklearn/naive_bayes.py:453: RuntimeWarning: invalid value encountered in true_divide\n",
      "  n_ij -= 0.5 * np.sum(((X - self.theta_[i, :]) ** 2) /\n",
      "/Users/maahirmawla/opt/anaconda3/lib/python3.9/site-packages/sklearn/naive_bayes.py:452: RuntimeWarning: divide by zero encountered in log\n",
      "  n_ij = - 0.5 * np.sum(np.log(2. * np.pi * self.sigma_[i, :]))\n",
      "/Users/maahirmawla/opt/anaconda3/lib/python3.9/site-packages/sklearn/naive_bayes.py:453: RuntimeWarning: invalid value encountered in true_divide\n",
      "  n_ij -= 0.5 * np.sum(((X - self.theta_[i, :]) ** 2) /\n"
     ]
    },
    {
     "name": "stdout",
     "output_type": "stream",
     "text": [
      "[2]\n",
      "400 Walcott\n",
      "[0]\n",
      "401 McCarthy\n"
     ]
    },
    {
     "name": "stderr",
     "output_type": "stream",
     "text": [
      "/Users/maahirmawla/opt/anaconda3/lib/python3.9/site-packages/sklearn/naive_bayes.py:452: RuntimeWarning: divide by zero encountered in log\n",
      "  n_ij = - 0.5 * np.sum(np.log(2. * np.pi * self.sigma_[i, :]))\n",
      "/Users/maahirmawla/opt/anaconda3/lib/python3.9/site-packages/sklearn/naive_bayes.py:453: RuntimeWarning: invalid value encountered in true_divide\n",
      "  n_ij -= 0.5 * np.sum(((X - self.theta_[i, :]) ** 2) /\n",
      "/Users/maahirmawla/opt/anaconda3/lib/python3.9/site-packages/sklearn/naive_bayes.py:452: RuntimeWarning: divide by zero encountered in log\n",
      "  n_ij = - 0.5 * np.sum(np.log(2. * np.pi * self.sigma_[i, :]))\n",
      "/Users/maahirmawla/opt/anaconda3/lib/python3.9/site-packages/sklearn/naive_bayes.py:453: RuntimeWarning: invalid value encountered in true_divide\n",
      "  n_ij -= 0.5 * np.sum(((X - self.theta_[i, :]) ** 2) /\n"
     ]
    },
    {
     "name": "stdout",
     "output_type": "stream",
     "text": [
      "[0]\n",
      "402 Romeu\n"
     ]
    },
    {
     "name": "stderr",
     "output_type": "stream",
     "text": [
      "/Users/maahirmawla/opt/anaconda3/lib/python3.9/site-packages/sklearn/naive_bayes.py:452: RuntimeWarning: divide by zero encountered in log\n",
      "  n_ij = - 0.5 * np.sum(np.log(2. * np.pi * self.sigma_[i, :]))\n",
      "/Users/maahirmawla/opt/anaconda3/lib/python3.9/site-packages/sklearn/naive_bayes.py:453: RuntimeWarning: invalid value encountered in true_divide\n",
      "  n_ij -= 0.5 * np.sum(((X - self.theta_[i, :]) ** 2) /\n",
      "/Users/maahirmawla/opt/anaconda3/lib/python3.9/site-packages/sklearn/naive_bayes.py:452: RuntimeWarning: divide by zero encountered in log\n",
      "  n_ij = - 0.5 * np.sum(np.log(2. * np.pi * self.sigma_[i, :]))\n",
      "/Users/maahirmawla/opt/anaconda3/lib/python3.9/site-packages/sklearn/naive_bayes.py:453: RuntimeWarning: invalid value encountered in true_divide\n",
      "  n_ij -= 0.5 * np.sum(((X - self.theta_[i, :]) ** 2) /\n"
     ]
    },
    {
     "name": "stdout",
     "output_type": "stream",
     "text": [
      "[0]\n",
      "403 Redmond\n"
     ]
    },
    {
     "name": "stderr",
     "output_type": "stream",
     "text": [
      "/Users/maahirmawla/opt/anaconda3/lib/python3.9/site-packages/sklearn/naive_bayes.py:452: RuntimeWarning: divide by zero encountered in log\n",
      "  n_ij = - 0.5 * np.sum(np.log(2. * np.pi * self.sigma_[i, :]))\n",
      "/Users/maahirmawla/opt/anaconda3/lib/python3.9/site-packages/sklearn/naive_bayes.py:453: RuntimeWarning: invalid value encountered in true_divide\n",
      "  n_ij -= 0.5 * np.sum(((X - self.theta_[i, :]) ** 2) /\n",
      "/Users/maahirmawla/opt/anaconda3/lib/python3.9/site-packages/sklearn/naive_bayes.py:452: RuntimeWarning: divide by zero encountered in log\n",
      "  n_ij = - 0.5 * np.sum(np.log(2. * np.pi * self.sigma_[i, :]))\n",
      "/Users/maahirmawla/opt/anaconda3/lib/python3.9/site-packages/sklearn/naive_bayes.py:453: RuntimeWarning: invalid value encountered in true_divide\n",
      "  n_ij -= 0.5 * np.sum(((X - self.theta_[i, :]) ** 2) /\n"
     ]
    },
    {
     "name": "stdout",
     "output_type": "stream",
     "text": [
      "[0]\n",
      "405 S.Armstrong\n"
     ]
    },
    {
     "name": "stderr",
     "output_type": "stream",
     "text": [
      "/Users/maahirmawla/opt/anaconda3/lib/python3.9/site-packages/sklearn/naive_bayes.py:452: RuntimeWarning: divide by zero encountered in log\n",
      "  n_ij = - 0.5 * np.sum(np.log(2. * np.pi * self.sigma_[i, :]))\n",
      "/Users/maahirmawla/opt/anaconda3/lib/python3.9/site-packages/sklearn/naive_bayes.py:453: RuntimeWarning: invalid value encountered in true_divide\n",
      "  n_ij -= 0.5 * np.sum(((X - self.theta_[i, :]) ** 2) /\n",
      "/Users/maahirmawla/opt/anaconda3/lib/python3.9/site-packages/sklearn/naive_bayes.py:452: RuntimeWarning: divide by zero encountered in log\n",
      "  n_ij = - 0.5 * np.sum(np.log(2. * np.pi * self.sigma_[i, :]))\n",
      "/Users/maahirmawla/opt/anaconda3/lib/python3.9/site-packages/sklearn/naive_bayes.py:453: RuntimeWarning: invalid value encountered in true_divide\n",
      "  n_ij -= 0.5 * np.sum(((X - self.theta_[i, :]) ** 2) /\n"
     ]
    },
    {
     "name": "stdout",
     "output_type": "stream",
     "text": [
      "[0]\n",
      "406 Elyounoussi\n"
     ]
    },
    {
     "name": "stderr",
     "output_type": "stream",
     "text": [
      "/Users/maahirmawla/opt/anaconda3/lib/python3.9/site-packages/sklearn/naive_bayes.py:452: RuntimeWarning: divide by zero encountered in log\n",
      "  n_ij = - 0.5 * np.sum(np.log(2. * np.pi * self.sigma_[i, :]))\n",
      "/Users/maahirmawla/opt/anaconda3/lib/python3.9/site-packages/sklearn/naive_bayes.py:453: RuntimeWarning: invalid value encountered in true_divide\n",
      "  n_ij -= 0.5 * np.sum(((X - self.theta_[i, :]) ** 2) /\n",
      "/Users/maahirmawla/opt/anaconda3/lib/python3.9/site-packages/sklearn/naive_bayes.py:452: RuntimeWarning: divide by zero encountered in log\n",
      "  n_ij = - 0.5 * np.sum(np.log(2. * np.pi * self.sigma_[i, :]))\n",
      "/Users/maahirmawla/opt/anaconda3/lib/python3.9/site-packages/sklearn/naive_bayes.py:453: RuntimeWarning: invalid value encountered in true_divide\n",
      "  n_ij -= 0.5 * np.sum(((X - self.theta_[i, :]) ** 2) /\n"
     ]
    },
    {
     "name": "stdout",
     "output_type": "stream",
     "text": [
      "[0]\n",
      "407 Ward-Prowse\n",
      "[2]\n",
      "408 A.Armstrong\n",
      "[2]\n",
      "409 Walker-Peters\n",
      "[2]\n",
      "411 Adams\n",
      "[2]\n",
      "412 Tella\n"
     ]
    },
    {
     "name": "stderr",
     "output_type": "stream",
     "text": [
      "/Users/maahirmawla/opt/anaconda3/lib/python3.9/site-packages/sklearn/naive_bayes.py:452: RuntimeWarning: divide by zero encountered in log\n",
      "  n_ij = - 0.5 * np.sum(np.log(2. * np.pi * self.sigma_[i, :]))\n",
      "/Users/maahirmawla/opt/anaconda3/lib/python3.9/site-packages/sklearn/naive_bayes.py:453: RuntimeWarning: invalid value encountered in true_divide\n",
      "  n_ij -= 0.5 * np.sum(((X - self.theta_[i, :]) ** 2) /\n",
      "/Users/maahirmawla/opt/anaconda3/lib/python3.9/site-packages/sklearn/naive_bayes.py:452: RuntimeWarning: divide by zero encountered in log\n",
      "  n_ij = - 0.5 * np.sum(np.log(2. * np.pi * self.sigma_[i, :]))\n",
      "/Users/maahirmawla/opt/anaconda3/lib/python3.9/site-packages/sklearn/naive_bayes.py:453: RuntimeWarning: invalid value encountered in true_divide\n",
      "  n_ij -= 0.5 * np.sum(((X - self.theta_[i, :]) ** 2) /\n"
     ]
    },
    {
     "name": "stdout",
     "output_type": "stream",
     "text": [
      "[0]\n",
      "413 Lyanco\n"
     ]
    },
    {
     "name": "stderr",
     "output_type": "stream",
     "text": [
      "/Users/maahirmawla/opt/anaconda3/lib/python3.9/site-packages/sklearn/naive_bayes.py:452: RuntimeWarning: divide by zero encountered in log\n",
      "  n_ij = - 0.5 * np.sum(np.log(2. * np.pi * self.sigma_[i, :]))\n",
      "/Users/maahirmawla/opt/anaconda3/lib/python3.9/site-packages/sklearn/naive_bayes.py:453: RuntimeWarning: invalid value encountered in true_divide\n",
      "  n_ij -= 0.5 * np.sum(((X - self.theta_[i, :]) ** 2) /\n",
      "/Users/maahirmawla/opt/anaconda3/lib/python3.9/site-packages/sklearn/naive_bayes.py:452: RuntimeWarning: divide by zero encountered in log\n",
      "  n_ij = - 0.5 * np.sum(np.log(2. * np.pi * self.sigma_[i, :]))\n",
      "/Users/maahirmawla/opt/anaconda3/lib/python3.9/site-packages/sklearn/naive_bayes.py:453: RuntimeWarning: invalid value encountered in true_divide\n",
      "  n_ij -= 0.5 * np.sum(((X - self.theta_[i, :]) ** 2) /\n"
     ]
    },
    {
     "name": "stdout",
     "output_type": "stream",
     "text": [
      "[0]\n",
      "414 Valery\n"
     ]
    },
    {
     "name": "stderr",
     "output_type": "stream",
     "text": [
      "/Users/maahirmawla/opt/anaconda3/lib/python3.9/site-packages/sklearn/naive_bayes.py:452: RuntimeWarning: divide by zero encountered in log\n",
      "  n_ij = - 0.5 * np.sum(np.log(2. * np.pi * self.sigma_[i, :]))\n",
      "/Users/maahirmawla/opt/anaconda3/lib/python3.9/site-packages/sklearn/naive_bayes.py:453: RuntimeWarning: invalid value encountered in true_divide\n",
      "  n_ij -= 0.5 * np.sum(((X - self.theta_[i, :]) ** 2) /\n",
      "/Users/maahirmawla/opt/anaconda3/lib/python3.9/site-packages/sklearn/naive_bayes.py:452: RuntimeWarning: divide by zero encountered in log\n",
      "  n_ij = - 0.5 * np.sum(np.log(2. * np.pi * self.sigma_[i, :]))\n",
      "/Users/maahirmawla/opt/anaconda3/lib/python3.9/site-packages/sklearn/naive_bayes.py:453: RuntimeWarning: invalid value encountered in true_divide\n",
      "  n_ij -= 0.5 * np.sum(((X - self.theta_[i, :]) ** 2) /\n"
     ]
    },
    {
     "name": "stdout",
     "output_type": "stream",
     "text": [
      "[0]\n",
      "415 Smallbone\n"
     ]
    },
    {
     "name": "stderr",
     "output_type": "stream",
     "text": [
      "/Users/maahirmawla/opt/anaconda3/lib/python3.9/site-packages/sklearn/naive_bayes.py:452: RuntimeWarning: divide by zero encountered in log\n",
      "  n_ij = - 0.5 * np.sum(np.log(2. * np.pi * self.sigma_[i, :]))\n",
      "/Users/maahirmawla/opt/anaconda3/lib/python3.9/site-packages/sklearn/naive_bayes.py:453: RuntimeWarning: invalid value encountered in true_divide\n",
      "  n_ij -= 0.5 * np.sum(((X - self.theta_[i, :]) ** 2) /\n",
      "/Users/maahirmawla/opt/anaconda3/lib/python3.9/site-packages/sklearn/naive_bayes.py:452: RuntimeWarning: divide by zero encountered in log\n",
      "  n_ij = - 0.5 * np.sum(np.log(2. * np.pi * self.sigma_[i, :]))\n",
      "/Users/maahirmawla/opt/anaconda3/lib/python3.9/site-packages/sklearn/naive_bayes.py:453: RuntimeWarning: invalid value encountered in true_divide\n",
      "  n_ij -= 0.5 * np.sum(((X - self.theta_[i, :]) ** 2) /\n"
     ]
    },
    {
     "name": "stdout",
     "output_type": "stream",
     "text": [
      "[0]\n",
      "416 Diallo\n"
     ]
    },
    {
     "name": "stderr",
     "output_type": "stream",
     "text": [
      "/Users/maahirmawla/opt/anaconda3/lib/python3.9/site-packages/sklearn/naive_bayes.py:452: RuntimeWarning: divide by zero encountered in log\n",
      "  n_ij = - 0.5 * np.sum(np.log(2. * np.pi * self.sigma_[i, :]))\n",
      "/Users/maahirmawla/opt/anaconda3/lib/python3.9/site-packages/sklearn/naive_bayes.py:453: RuntimeWarning: invalid value encountered in true_divide\n",
      "  n_ij -= 0.5 * np.sum(((X - self.theta_[i, :]) ** 2) /\n",
      "/Users/maahirmawla/opt/anaconda3/lib/python3.9/site-packages/sklearn/naive_bayes.py:452: RuntimeWarning: divide by zero encountered in log\n",
      "  n_ij = - 0.5 * np.sum(np.log(2. * np.pi * self.sigma_[i, :]))\n",
      "/Users/maahirmawla/opt/anaconda3/lib/python3.9/site-packages/sklearn/naive_bayes.py:453: RuntimeWarning: invalid value encountered in true_divide\n",
      "  n_ij -= 0.5 * np.sum(((X - self.theta_[i, :]) ** 2) /\n"
     ]
    },
    {
     "name": "stdout",
     "output_type": "stream",
     "text": [
      "[0]\n",
      "417 Perraud\n"
     ]
    },
    {
     "name": "stderr",
     "output_type": "stream",
     "text": [
      "/Users/maahirmawla/opt/anaconda3/lib/python3.9/site-packages/sklearn/naive_bayes.py:452: RuntimeWarning: divide by zero encountered in log\n",
      "  n_ij = - 0.5 * np.sum(np.log(2. * np.pi * self.sigma_[i, :]))\n",
      "/Users/maahirmawla/opt/anaconda3/lib/python3.9/site-packages/sklearn/naive_bayes.py:453: RuntimeWarning: invalid value encountered in true_divide\n",
      "  n_ij -= 0.5 * np.sum(((X - self.theta_[i, :]) ** 2) /\n",
      "/Users/maahirmawla/opt/anaconda3/lib/python3.9/site-packages/sklearn/naive_bayes.py:452: RuntimeWarning: divide by zero encountered in log\n",
      "  n_ij = - 0.5 * np.sum(np.log(2. * np.pi * self.sigma_[i, :]))\n",
      "/Users/maahirmawla/opt/anaconda3/lib/python3.9/site-packages/sklearn/naive_bayes.py:453: RuntimeWarning: invalid value encountered in true_divide\n",
      "  n_ij -= 0.5 * np.sum(((X - self.theta_[i, :]) ** 2) /\n"
     ]
    },
    {
     "name": "stdout",
     "output_type": "stream",
     "text": [
      "[0]\n",
      "418 Djenepo\n"
     ]
    },
    {
     "name": "stderr",
     "output_type": "stream",
     "text": [
      "/Users/maahirmawla/opt/anaconda3/lib/python3.9/site-packages/sklearn/naive_bayes.py:452: RuntimeWarning: divide by zero encountered in log\n",
      "  n_ij = - 0.5 * np.sum(np.log(2. * np.pi * self.sigma_[i, :]))\n",
      "/Users/maahirmawla/opt/anaconda3/lib/python3.9/site-packages/sklearn/naive_bayes.py:453: RuntimeWarning: invalid value encountered in true_divide\n",
      "  n_ij -= 0.5 * np.sum(((X - self.theta_[i, :]) ** 2) /\n",
      "/Users/maahirmawla/opt/anaconda3/lib/python3.9/site-packages/sklearn/naive_bayes.py:452: RuntimeWarning: divide by zero encountered in log\n",
      "  n_ij = - 0.5 * np.sum(np.log(2. * np.pi * self.sigma_[i, :]))\n",
      "/Users/maahirmawla/opt/anaconda3/lib/python3.9/site-packages/sklearn/naive_bayes.py:453: RuntimeWarning: invalid value encountered in true_divide\n",
      "  n_ij -= 0.5 * np.sum(((X - self.theta_[i, :]) ** 2) /\n"
     ]
    },
    {
     "name": "stdout",
     "output_type": "stream",
     "text": [
      "[1]\n",
      "419 Livramento\n"
     ]
    },
    {
     "name": "stderr",
     "output_type": "stream",
     "text": [
      "/Users/maahirmawla/opt/anaconda3/lib/python3.9/site-packages/sklearn/naive_bayes.py:452: RuntimeWarning: divide by zero encountered in log\n",
      "  n_ij = - 0.5 * np.sum(np.log(2. * np.pi * self.sigma_[i, :]))\n",
      "/Users/maahirmawla/opt/anaconda3/lib/python3.9/site-packages/sklearn/naive_bayes.py:453: RuntimeWarning: invalid value encountered in true_divide\n",
      "  n_ij -= 0.5 * np.sum(((X - self.theta_[i, :]) ** 2) /\n",
      "/Users/maahirmawla/opt/anaconda3/lib/python3.9/site-packages/sklearn/naive_bayes.py:452: RuntimeWarning: divide by zero encountered in log\n",
      "  n_ij = - 0.5 * np.sum(np.log(2. * np.pi * self.sigma_[i, :]))\n",
      "/Users/maahirmawla/opt/anaconda3/lib/python3.9/site-packages/sklearn/naive_bayes.py:453: RuntimeWarning: invalid value encountered in true_divide\n",
      "  n_ij -= 0.5 * np.sum(((X - self.theta_[i, :]) ** 2) /\n"
     ]
    },
    {
     "name": "stdout",
     "output_type": "stream",
     "text": [
      "[0]\n",
      "420 Salisu\n"
     ]
    },
    {
     "name": "stderr",
     "output_type": "stream",
     "text": [
      "/Users/maahirmawla/opt/anaconda3/lib/python3.9/site-packages/sklearn/naive_bayes.py:452: RuntimeWarning: divide by zero encountered in log\n",
      "  n_ij = - 0.5 * np.sum(np.log(2. * np.pi * self.sigma_[i, :]))\n",
      "/Users/maahirmawla/opt/anaconda3/lib/python3.9/site-packages/sklearn/naive_bayes.py:453: RuntimeWarning: invalid value encountered in true_divide\n",
      "  n_ij -= 0.5 * np.sum(((X - self.theta_[i, :]) ** 2) /\n",
      "/Users/maahirmawla/opt/anaconda3/lib/python3.9/site-packages/sklearn/naive_bayes.py:452: RuntimeWarning: divide by zero encountered in log\n",
      "  n_ij = - 0.5 * np.sum(np.log(2. * np.pi * self.sigma_[i, :]))\n",
      "/Users/maahirmawla/opt/anaconda3/lib/python3.9/site-packages/sklearn/naive_bayes.py:453: RuntimeWarning: invalid value encountered in true_divide\n",
      "  n_ij -= 0.5 * np.sum(((X - self.theta_[i, :]) ** 2) /\n"
     ]
    },
    {
     "name": "stdout",
     "output_type": "stream",
     "text": [
      "[-2]\n",
      "421 Lis\n"
     ]
    },
    {
     "name": "stderr",
     "output_type": "stream",
     "text": [
      "/Users/maahirmawla/opt/anaconda3/lib/python3.9/site-packages/sklearn/naive_bayes.py:452: RuntimeWarning: divide by zero encountered in log\n",
      "  n_ij = - 0.5 * np.sum(np.log(2. * np.pi * self.sigma_[i, :]))\n",
      "/Users/maahirmawla/opt/anaconda3/lib/python3.9/site-packages/sklearn/naive_bayes.py:453: RuntimeWarning: invalid value encountered in true_divide\n",
      "  n_ij -= 0.5 * np.sum(((X - self.theta_[i, :]) ** 2) /\n",
      "/Users/maahirmawla/opt/anaconda3/lib/python3.9/site-packages/sklearn/naive_bayes.py:452: RuntimeWarning: divide by zero encountered in log\n",
      "  n_ij = - 0.5 * np.sum(np.log(2. * np.pi * self.sigma_[i, :]))\n",
      "/Users/maahirmawla/opt/anaconda3/lib/python3.9/site-packages/sklearn/naive_bayes.py:453: RuntimeWarning: invalid value encountered in true_divide\n",
      "  n_ij -= 0.5 * np.sum(((X - self.theta_[i, :]) ** 2) /\n"
     ]
    },
    {
     "name": "stdout",
     "output_type": "stream",
     "text": [
      "[0]\n",
      "422 Bazunu\n"
     ]
    },
    {
     "name": "stderr",
     "output_type": "stream",
     "text": [
      "/Users/maahirmawla/opt/anaconda3/lib/python3.9/site-packages/sklearn/naive_bayes.py:452: RuntimeWarning: divide by zero encountered in log\n",
      "  n_ij = - 0.5 * np.sum(np.log(2. * np.pi * self.sigma_[i, :]))\n",
      "/Users/maahirmawla/opt/anaconda3/lib/python3.9/site-packages/sklearn/naive_bayes.py:453: RuntimeWarning: invalid value encountered in true_divide\n",
      "  n_ij -= 0.5 * np.sum(((X - self.theta_[i, :]) ** 2) /\n",
      "/Users/maahirmawla/opt/anaconda3/lib/python3.9/site-packages/sklearn/naive_bayes.py:452: RuntimeWarning: divide by zero encountered in log\n",
      "  n_ij = - 0.5 * np.sum(np.log(2. * np.pi * self.sigma_[i, :]))\n",
      "/Users/maahirmawla/opt/anaconda3/lib/python3.9/site-packages/sklearn/naive_bayes.py:453: RuntimeWarning: invalid value encountered in true_divide\n",
      "  n_ij -= 0.5 * np.sum(((X - self.theta_[i, :]) ** 2) /\n"
     ]
    },
    {
     "name": "stdout",
     "output_type": "stream",
     "text": [
      "[1]\n",
      "423 Bella-Kotchap\n"
     ]
    },
    {
     "name": "stderr",
     "output_type": "stream",
     "text": [
      "/Users/maahirmawla/opt/anaconda3/lib/python3.9/site-packages/sklearn/naive_bayes.py:452: RuntimeWarning: divide by zero encountered in log\n",
      "  n_ij = - 0.5 * np.sum(np.log(2. * np.pi * self.sigma_[i, :]))\n",
      "/Users/maahirmawla/opt/anaconda3/lib/python3.9/site-packages/sklearn/naive_bayes.py:453: RuntimeWarning: invalid value encountered in true_divide\n",
      "  n_ij -= 0.5 * np.sum(((X - self.theta_[i, :]) ** 2) /\n",
      "/Users/maahirmawla/opt/anaconda3/lib/python3.9/site-packages/sklearn/naive_bayes.py:452: RuntimeWarning: divide by zero encountered in log\n",
      "  n_ij = - 0.5 * np.sum(np.log(2. * np.pi * self.sigma_[i, :]))\n",
      "/Users/maahirmawla/opt/anaconda3/lib/python3.9/site-packages/sklearn/naive_bayes.py:453: RuntimeWarning: invalid value encountered in true_divide\n",
      "  n_ij -= 0.5 * np.sum(((X - self.theta_[i, :]) ** 2) /\n"
     ]
    },
    {
     "name": "stdout",
     "output_type": "stream",
     "text": [
      "[0]\n",
      "424 Caballero\n"
     ]
    },
    {
     "name": "stderr",
     "output_type": "stream",
     "text": [
      "/Users/maahirmawla/opt/anaconda3/lib/python3.9/site-packages/sklearn/naive_bayes.py:452: RuntimeWarning: divide by zero encountered in log\n",
      "  n_ij = - 0.5 * np.sum(np.log(2. * np.pi * self.sigma_[i, :]))\n",
      "/Users/maahirmawla/opt/anaconda3/lib/python3.9/site-packages/sklearn/naive_bayes.py:453: RuntimeWarning: invalid value encountered in true_divide\n",
      "  n_ij -= 0.5 * np.sum(((X - self.theta_[i, :]) ** 2) /\n",
      "/Users/maahirmawla/opt/anaconda3/lib/python3.9/site-packages/sklearn/naive_bayes.py:452: RuntimeWarning: divide by zero encountered in log\n",
      "  n_ij = - 0.5 * np.sum(np.log(2. * np.pi * self.sigma_[i, :]))\n",
      "/Users/maahirmawla/opt/anaconda3/lib/python3.9/site-packages/sklearn/naive_bayes.py:453: RuntimeWarning: invalid value encountered in true_divide\n",
      "  n_ij -= 0.5 * np.sum(((X - self.theta_[i, :]) ** 2) /\n"
     ]
    },
    {
     "name": "stdout",
     "output_type": "stream",
     "text": [
      "[0]\n",
      "512 Aribo\n"
     ]
    },
    {
     "name": "stderr",
     "output_type": "stream",
     "text": [
      "/Users/maahirmawla/opt/anaconda3/lib/python3.9/site-packages/sklearn/naive_bayes.py:452: RuntimeWarning: divide by zero encountered in log\n",
      "  n_ij = - 0.5 * np.sum(np.log(2. * np.pi * self.sigma_[i, :]))\n",
      "/Users/maahirmawla/opt/anaconda3/lib/python3.9/site-packages/sklearn/naive_bayes.py:453: RuntimeWarning: invalid value encountered in true_divide\n",
      "  n_ij -= 0.5 * np.sum(((X - self.theta_[i, :]) ** 2) /\n",
      "/Users/maahirmawla/opt/anaconda3/lib/python3.9/site-packages/sklearn/naive_bayes.py:452: RuntimeWarning: divide by zero encountered in log\n",
      "  n_ij = - 0.5 * np.sum(np.log(2. * np.pi * self.sigma_[i, :]))\n",
      "/Users/maahirmawla/opt/anaconda3/lib/python3.9/site-packages/sklearn/naive_bayes.py:453: RuntimeWarning: invalid value encountered in true_divide\n",
      "  n_ij -= 0.5 * np.sum(((X - self.theta_[i, :]) ** 2) /\n",
      "/Users/maahirmawla/opt/anaconda3/lib/python3.9/site-packages/sklearn/naive_bayes.py:452: RuntimeWarning: divide by zero encountered in log\n",
      "  n_ij = - 0.5 * np.sum(np.log(2. * np.pi * self.sigma_[i, :]))\n",
      "/Users/maahirmawla/opt/anaconda3/lib/python3.9/site-packages/sklearn/naive_bayes.py:453: RuntimeWarning: invalid value encountered in true_divide\n",
      "  n_ij -= 0.5 * np.sum(((X - self.theta_[i, :]) ** 2) /\n",
      "/Users/maahirmawla/opt/anaconda3/lib/python3.9/site-packages/sklearn/naive_bayes.py:452: RuntimeWarning: divide by zero encountered in log\n",
      "  n_ij = - 0.5 * np.sum(np.log(2. * np.pi * self.sigma_[i, :]))\n",
      "/Users/maahirmawla/opt/anaconda3/lib/python3.9/site-packages/sklearn/naive_bayes.py:453: RuntimeWarning: invalid value encountered in true_divide\n",
      "  n_ij -= 0.5 * np.sum(((X - self.theta_[i, :]) ** 2) /\n"
     ]
    },
    {
     "name": "stdout",
     "output_type": "stream",
     "text": [
      "[2]\n",
      "528 Mara\n",
      "[0]\n",
      "622 Larios\n",
      "[0]\n",
      "623 Caleta-Car\n"
     ]
    },
    {
     "name": "stderr",
     "output_type": "stream",
     "text": [
      "/Users/maahirmawla/opt/anaconda3/lib/python3.9/site-packages/sklearn/naive_bayes.py:452: RuntimeWarning: divide by zero encountered in log\n",
      "  n_ij = - 0.5 * np.sum(np.log(2. * np.pi * self.sigma_[i, :]))\n",
      "/Users/maahirmawla/opt/anaconda3/lib/python3.9/site-packages/sklearn/naive_bayes.py:453: RuntimeWarning: invalid value encountered in true_divide\n",
      "  n_ij -= 0.5 * np.sum(((X - self.theta_[i, :]) ** 2) /\n",
      "/Users/maahirmawla/opt/anaconda3/lib/python3.9/site-packages/sklearn/naive_bayes.py:452: RuntimeWarning: divide by zero encountered in log\n",
      "  n_ij = - 0.5 * np.sum(np.log(2. * np.pi * self.sigma_[i, :]))\n",
      "/Users/maahirmawla/opt/anaconda3/lib/python3.9/site-packages/sklearn/naive_bayes.py:453: RuntimeWarning: invalid value encountered in true_divide\n",
      "  n_ij -= 0.5 * np.sum(((X - self.theta_[i, :]) ** 2) /\n"
     ]
    },
    {
     "name": "stdout",
     "output_type": "stream",
     "text": [
      "[0]\n",
      "624 Edozie\n"
     ]
    },
    {
     "name": "stderr",
     "output_type": "stream",
     "text": [
      "/Users/maahirmawla/opt/anaconda3/lib/python3.9/site-packages/sklearn/naive_bayes.py:452: RuntimeWarning: divide by zero encountered in log\n",
      "  n_ij = - 0.5 * np.sum(np.log(2. * np.pi * self.sigma_[i, :]))\n",
      "/Users/maahirmawla/opt/anaconda3/lib/python3.9/site-packages/sklearn/naive_bayes.py:453: RuntimeWarning: invalid value encountered in true_divide\n",
      "  n_ij -= 0.5 * np.sum(((X - self.theta_[i, :]) ** 2) /\n",
      "/Users/maahirmawla/opt/anaconda3/lib/python3.9/site-packages/sklearn/naive_bayes.py:452: RuntimeWarning: divide by zero encountered in log\n",
      "  n_ij = - 0.5 * np.sum(np.log(2. * np.pi * self.sigma_[i, :]))\n",
      "/Users/maahirmawla/opt/anaconda3/lib/python3.9/site-packages/sklearn/naive_bayes.py:453: RuntimeWarning: invalid value encountered in true_divide\n",
      "  n_ij -= 0.5 * np.sum(((X - self.theta_[i, :]) ** 2) /\n"
     ]
    },
    {
     "name": "stdout",
     "output_type": "stream",
     "text": [
      "[1]\n",
      "425 Lloris\n",
      "[2]\n",
      "426 Forster\n"
     ]
    },
    {
     "name": "stderr",
     "output_type": "stream",
     "text": [
      "/Users/maahirmawla/opt/anaconda3/lib/python3.9/site-packages/sklearn/naive_bayes.py:452: RuntimeWarning: divide by zero encountered in log\n",
      "  n_ij = - 0.5 * np.sum(np.log(2. * np.pi * self.sigma_[i, :]))\n",
      "/Users/maahirmawla/opt/anaconda3/lib/python3.9/site-packages/sklearn/naive_bayes.py:453: RuntimeWarning: invalid value encountered in true_divide\n",
      "  n_ij -= 0.5 * np.sum(((X - self.theta_[i, :]) ** 2) /\n",
      "/Users/maahirmawla/opt/anaconda3/lib/python3.9/site-packages/sklearn/naive_bayes.py:452: RuntimeWarning: divide by zero encountered in log\n",
      "  n_ij = - 0.5 * np.sum(np.log(2. * np.pi * self.sigma_[i, :]))\n",
      "/Users/maahirmawla/opt/anaconda3/lib/python3.9/site-packages/sklearn/naive_bayes.py:453: RuntimeWarning: invalid value encountered in true_divide\n",
      "  n_ij -= 0.5 * np.sum(((X - self.theta_[i, :]) ** 2) /\n"
     ]
    },
    {
     "name": "stdout",
     "output_type": "stream",
     "text": [
      "[0]\n",
      "427 Kane\n",
      "[6]\n",
      "428 Son\n",
      "[2]\n",
      "429 Doherty\n"
     ]
    },
    {
     "name": "stderr",
     "output_type": "stream",
     "text": [
      "/Users/maahirmawla/opt/anaconda3/lib/python3.9/site-packages/sklearn/naive_bayes.py:452: RuntimeWarning: divide by zero encountered in log\n",
      "  n_ij = - 0.5 * np.sum(np.log(2. * np.pi * self.sigma_[i, :]))\n",
      "/Users/maahirmawla/opt/anaconda3/lib/python3.9/site-packages/sklearn/naive_bayes.py:453: RuntimeWarning: invalid value encountered in true_divide\n",
      "  n_ij -= 0.5 * np.sum(((X - self.theta_[i, :]) ** 2) /\n",
      "/Users/maahirmawla/opt/anaconda3/lib/python3.9/site-packages/sklearn/naive_bayes.py:452: RuntimeWarning: divide by zero encountered in log\n",
      "  n_ij = - 0.5 * np.sum(np.log(2. * np.pi * self.sigma_[i, :]))\n",
      "/Users/maahirmawla/opt/anaconda3/lib/python3.9/site-packages/sklearn/naive_bayes.py:453: RuntimeWarning: invalid value encountered in true_divide\n",
      "  n_ij -= 0.5 * np.sum(((X - self.theta_[i, :]) ** 2) /\n"
     ]
    },
    {
     "name": "stdout",
     "output_type": "stream",
     "text": [
      "[0]\n",
      "430 Dier\n"
     ]
    },
    {
     "name": "stderr",
     "output_type": "stream",
     "text": [
      "/Users/maahirmawla/opt/anaconda3/lib/python3.9/site-packages/sklearn/naive_bayes.py:452: RuntimeWarning: divide by zero encountered in log\n",
      "  n_ij = - 0.5 * np.sum(np.log(2. * np.pi * self.sigma_[i, :]))\n",
      "/Users/maahirmawla/opt/anaconda3/lib/python3.9/site-packages/sklearn/naive_bayes.py:453: RuntimeWarning: invalid value encountered in true_divide\n",
      "  n_ij -= 0.5 * np.sum(((X - self.theta_[i, :]) ** 2) /\n",
      "/Users/maahirmawla/opt/anaconda3/lib/python3.9/site-packages/sklearn/naive_bayes.py:452: RuntimeWarning: divide by zero encountered in log\n",
      "  n_ij = - 0.5 * np.sum(np.log(2. * np.pi * self.sigma_[i, :]))\n",
      "/Users/maahirmawla/opt/anaconda3/lib/python3.9/site-packages/sklearn/naive_bayes.py:453: RuntimeWarning: invalid value encountered in true_divide\n",
      "  n_ij -= 0.5 * np.sum(((X - self.theta_[i, :]) ** 2) /\n"
     ]
    },
    {
     "name": "stdout",
     "output_type": "stream",
     "text": [
      "[1]\n",
      "431 Lucas Moura\n",
      "[0]\n",
      "432 Davies\n",
      "[0]\n",
      "433 Højbjerg\n",
      "[2]\n",
      "434 Winks\n"
     ]
    },
    {
     "name": "stderr",
     "output_type": "stream",
     "text": [
      "/Users/maahirmawla/opt/anaconda3/lib/python3.9/site-packages/sklearn/naive_bayes.py:452: RuntimeWarning: divide by zero encountered in log\n",
      "  n_ij = - 0.5 * np.sum(np.log(2. * np.pi * self.sigma_[i, :]))\n",
      "/Users/maahirmawla/opt/anaconda3/lib/python3.9/site-packages/sklearn/naive_bayes.py:453: RuntimeWarning: invalid value encountered in true_divide\n",
      "  n_ij -= 0.5 * np.sum(((X - self.theta_[i, :]) ** 2) /\n",
      "/Users/maahirmawla/opt/anaconda3/lib/python3.9/site-packages/sklearn/naive_bayes.py:452: RuntimeWarning: divide by zero encountered in log\n",
      "  n_ij = - 0.5 * np.sum(np.log(2. * np.pi * self.sigma_[i, :]))\n",
      "/Users/maahirmawla/opt/anaconda3/lib/python3.9/site-packages/sklearn/naive_bayes.py:453: RuntimeWarning: invalid value encountered in true_divide\n",
      "  n_ij -= 0.5 * np.sum(((X - self.theta_[i, :]) ** 2) /\n"
     ]
    },
    {
     "name": "stdout",
     "output_type": "stream",
     "text": [
      "[0]\n",
      "435 Sánchez\n",
      "[0]\n",
      "436 R.Sessegnon\n",
      "[1]\n",
      "437 Bergwijn\n"
     ]
    },
    {
     "name": "stderr",
     "output_type": "stream",
     "text": [
      "/Users/maahirmawla/opt/anaconda3/lib/python3.9/site-packages/sklearn/naive_bayes.py:452: RuntimeWarning: divide by zero encountered in log\n",
      "  n_ij = - 0.5 * np.sum(np.log(2. * np.pi * self.sigma_[i, :]))\n",
      "/Users/maahirmawla/opt/anaconda3/lib/python3.9/site-packages/sklearn/naive_bayes.py:453: RuntimeWarning: invalid value encountered in true_divide\n",
      "  n_ij -= 0.5 * np.sum(((X - self.theta_[i, :]) ** 2) /\n",
      "/Users/maahirmawla/opt/anaconda3/lib/python3.9/site-packages/sklearn/naive_bayes.py:452: RuntimeWarning: divide by zero encountered in log\n",
      "  n_ij = - 0.5 * np.sum(np.log(2. * np.pi * self.sigma_[i, :]))\n",
      "/Users/maahirmawla/opt/anaconda3/lib/python3.9/site-packages/sklearn/naive_bayes.py:453: RuntimeWarning: invalid value encountered in true_divide\n",
      "  n_ij -= 0.5 * np.sum(((X - self.theta_[i, :]) ** 2) /\n",
      "/Users/maahirmawla/opt/anaconda3/lib/python3.9/site-packages/sklearn/naive_bayes.py:452: RuntimeWarning: divide by zero encountered in log\n",
      "  n_ij = - 0.5 * np.sum(np.log(2. * np.pi * self.sigma_[i, :]))\n",
      "/Users/maahirmawla/opt/anaconda3/lib/python3.9/site-packages/sklearn/naive_bayes.py:453: RuntimeWarning: invalid value encountered in true_divide\n",
      "  n_ij -= 0.5 * np.sum(((X - self.theta_[i, :]) ** 2) /\n",
      "/Users/maahirmawla/opt/anaconda3/lib/python3.9/site-packages/sklearn/naive_bayes.py:452: RuntimeWarning: divide by zero encountered in log\n",
      "  n_ij = - 0.5 * np.sum(np.log(2. * np.pi * self.sigma_[i, :]))\n",
      "/Users/maahirmawla/opt/anaconda3/lib/python3.9/site-packages/sklearn/naive_bayes.py:453: RuntimeWarning: invalid value encountered in true_divide\n",
      "  n_ij -= 0.5 * np.sum(((X - self.theta_[i, :]) ** 2) /\n"
     ]
    },
    {
     "name": "stdout",
     "output_type": "stream",
     "text": [
      "[0]\n",
      "438 Reguilón\n",
      "[0]\n",
      "439 Tanganga\n"
     ]
    },
    {
     "name": "stderr",
     "output_type": "stream",
     "text": [
      "/Users/maahirmawla/opt/anaconda3/lib/python3.9/site-packages/sklearn/naive_bayes.py:452: RuntimeWarning: divide by zero encountered in log\n",
      "  n_ij = - 0.5 * np.sum(np.log(2. * np.pi * self.sigma_[i, :]))\n",
      "/Users/maahirmawla/opt/anaconda3/lib/python3.9/site-packages/sklearn/naive_bayes.py:453: RuntimeWarning: invalid value encountered in true_divide\n",
      "  n_ij -= 0.5 * np.sum(((X - self.theta_[i, :]) ** 2) /\n",
      "/Users/maahirmawla/opt/anaconda3/lib/python3.9/site-packages/sklearn/naive_bayes.py:452: RuntimeWarning: divide by zero encountered in log\n",
      "  n_ij = - 0.5 * np.sum(np.log(2. * np.pi * self.sigma_[i, :]))\n",
      "/Users/maahirmawla/opt/anaconda3/lib/python3.9/site-packages/sklearn/naive_bayes.py:453: RuntimeWarning: invalid value encountered in true_divide\n",
      "  n_ij -= 0.5 * np.sum(((X - self.theta_[i, :]) ** 2) /\n"
     ]
    },
    {
     "name": "stdout",
     "output_type": "stream",
     "text": [
      "[0]\n",
      "440 Bentancur\n",
      "[1]\n",
      "441 Skipp\n"
     ]
    },
    {
     "name": "stderr",
     "output_type": "stream",
     "text": [
      "/Users/maahirmawla/opt/anaconda3/lib/python3.9/site-packages/sklearn/naive_bayes.py:452: RuntimeWarning: divide by zero encountered in log\n",
      "  n_ij = - 0.5 * np.sum(np.log(2. * np.pi * self.sigma_[i, :]))\n",
      "/Users/maahirmawla/opt/anaconda3/lib/python3.9/site-packages/sklearn/naive_bayes.py:453: RuntimeWarning: invalid value encountered in true_divide\n",
      "  n_ij -= 0.5 * np.sum(((X - self.theta_[i, :]) ** 2) /\n",
      "/Users/maahirmawla/opt/anaconda3/lib/python3.9/site-packages/sklearn/naive_bayes.py:452: RuntimeWarning: divide by zero encountered in log\n",
      "  n_ij = - 0.5 * np.sum(np.log(2. * np.pi * self.sigma_[i, :]))\n",
      "/Users/maahirmawla/opt/anaconda3/lib/python3.9/site-packages/sklearn/naive_bayes.py:453: RuntimeWarning: invalid value encountered in true_divide\n",
      "  n_ij -= 0.5 * np.sum(((X - self.theta_[i, :]) ** 2) /\n"
     ]
    },
    {
     "name": "stdout",
     "output_type": "stream",
     "text": [
      "[0]\n",
      "442 Rodon\n"
     ]
    },
    {
     "name": "stderr",
     "output_type": "stream",
     "text": [
      "/Users/maahirmawla/opt/anaconda3/lib/python3.9/site-packages/sklearn/naive_bayes.py:452: RuntimeWarning: divide by zero encountered in log\n",
      "  n_ij = - 0.5 * np.sum(np.log(2. * np.pi * self.sigma_[i, :]))\n",
      "/Users/maahirmawla/opt/anaconda3/lib/python3.9/site-packages/sklearn/naive_bayes.py:453: RuntimeWarning: invalid value encountered in true_divide\n",
      "  n_ij -= 0.5 * np.sum(((X - self.theta_[i, :]) ** 2) /\n",
      "/Users/maahirmawla/opt/anaconda3/lib/python3.9/site-packages/sklearn/naive_bayes.py:452: RuntimeWarning: divide by zero encountered in log\n",
      "  n_ij = - 0.5 * np.sum(np.log(2. * np.pi * self.sigma_[i, :]))\n",
      "/Users/maahirmawla/opt/anaconda3/lib/python3.9/site-packages/sklearn/naive_bayes.py:453: RuntimeWarning: invalid value encountered in true_divide\n",
      "  n_ij -= 0.5 * np.sum(((X - self.theta_[i, :]) ** 2) /\n"
     ]
    },
    {
     "name": "stdout",
     "output_type": "stream",
     "text": [
      "[0]\n",
      "443 Romero\n"
     ]
    },
    {
     "name": "stderr",
     "output_type": "stream",
     "text": [
      "/Users/maahirmawla/opt/anaconda3/lib/python3.9/site-packages/sklearn/naive_bayes.py:452: RuntimeWarning: divide by zero encountered in log\n",
      "  n_ij = - 0.5 * np.sum(np.log(2. * np.pi * self.sigma_[i, :]))\n",
      "/Users/maahirmawla/opt/anaconda3/lib/python3.9/site-packages/sklearn/naive_bayes.py:453: RuntimeWarning: invalid value encountered in true_divide\n",
      "  n_ij -= 0.5 * np.sum(((X - self.theta_[i, :]) ** 2) /\n",
      "/Users/maahirmawla/opt/anaconda3/lib/python3.9/site-packages/sklearn/naive_bayes.py:452: RuntimeWarning: divide by zero encountered in log\n",
      "  n_ij = - 0.5 * np.sum(np.log(2. * np.pi * self.sigma_[i, :]))\n",
      "/Users/maahirmawla/opt/anaconda3/lib/python3.9/site-packages/sklearn/naive_bayes.py:453: RuntimeWarning: invalid value encountered in true_divide\n",
      "  n_ij -= 0.5 * np.sum(((X - self.theta_[i, :]) ** 2) /\n"
     ]
    },
    {
     "name": "stdout",
     "output_type": "stream",
     "text": [
      "[0]\n",
      "444 Bissouma\n"
     ]
    },
    {
     "name": "stderr",
     "output_type": "stream",
     "text": [
      "/Users/maahirmawla/opt/anaconda3/lib/python3.9/site-packages/sklearn/naive_bayes.py:452: RuntimeWarning: divide by zero encountered in log\n",
      "  n_ij = - 0.5 * np.sum(np.log(2. * np.pi * self.sigma_[i, :]))\n",
      "/Users/maahirmawla/opt/anaconda3/lib/python3.9/site-packages/sklearn/naive_bayes.py:453: RuntimeWarning: invalid value encountered in true_divide\n",
      "  n_ij -= 0.5 * np.sum(((X - self.theta_[i, :]) ** 2) /\n",
      "/Users/maahirmawla/opt/anaconda3/lib/python3.9/site-packages/sklearn/naive_bayes.py:452: RuntimeWarning: divide by zero encountered in log\n",
      "  n_ij = - 0.5 * np.sum(np.log(2. * np.pi * self.sigma_[i, :]))\n",
      "/Users/maahirmawla/opt/anaconda3/lib/python3.9/site-packages/sklearn/naive_bayes.py:453: RuntimeWarning: invalid value encountered in true_divide\n",
      "  n_ij -= 0.5 * np.sum(((X - self.theta_[i, :]) ** 2) /\n"
     ]
    },
    {
     "name": "stdout",
     "output_type": "stream",
     "text": [
      "[0]\n",
      "445 Emerson Royal\n",
      "[2]\n",
      "446 Kulusevski\n",
      "[2]\n",
      "447 Scarlett\n"
     ]
    },
    {
     "name": "stderr",
     "output_type": "stream",
     "text": [
      "/Users/maahirmawla/opt/anaconda3/lib/python3.9/site-packages/sklearn/naive_bayes.py:452: RuntimeWarning: divide by zero encountered in log\n",
      "  n_ij = - 0.5 * np.sum(np.log(2. * np.pi * self.sigma_[i, :]))\n",
      "/Users/maahirmawla/opt/anaconda3/lib/python3.9/site-packages/sklearn/naive_bayes.py:453: RuntimeWarning: invalid value encountered in true_divide\n",
      "  n_ij -= 0.5 * np.sum(((X - self.theta_[i, :]) ** 2) /\n",
      "/Users/maahirmawla/opt/anaconda3/lib/python3.9/site-packages/sklearn/naive_bayes.py:452: RuntimeWarning: divide by zero encountered in log\n",
      "  n_ij = - 0.5 * np.sum(np.log(2. * np.pi * self.sigma_[i, :]))\n",
      "/Users/maahirmawla/opt/anaconda3/lib/python3.9/site-packages/sklearn/naive_bayes.py:453: RuntimeWarning: invalid value encountered in true_divide\n",
      "  n_ij -= 0.5 * np.sum(((X - self.theta_[i, :]) ** 2) /\n"
     ]
    },
    {
     "name": "stdout",
     "output_type": "stream",
     "text": [
      "[0]\n",
      "448 Perišić\n",
      "[1]\n",
      "449 White\n"
     ]
    },
    {
     "name": "stderr",
     "output_type": "stream",
     "text": [
      "/Users/maahirmawla/opt/anaconda3/lib/python3.9/site-packages/sklearn/naive_bayes.py:452: RuntimeWarning: divide by zero encountered in log\n",
      "  n_ij = - 0.5 * np.sum(np.log(2. * np.pi * self.sigma_[i, :]))\n",
      "/Users/maahirmawla/opt/anaconda3/lib/python3.9/site-packages/sklearn/naive_bayes.py:453: RuntimeWarning: invalid value encountered in true_divide\n",
      "  n_ij -= 0.5 * np.sum(((X - self.theta_[i, :]) ** 2) /\n",
      "/Users/maahirmawla/opt/anaconda3/lib/python3.9/site-packages/sklearn/naive_bayes.py:452: RuntimeWarning: divide by zero encountered in log\n",
      "  n_ij = - 0.5 * np.sum(np.log(2. * np.pi * self.sigma_[i, :]))\n",
      "/Users/maahirmawla/opt/anaconda3/lib/python3.9/site-packages/sklearn/naive_bayes.py:453: RuntimeWarning: invalid value encountered in true_divide\n",
      "  n_ij -= 0.5 * np.sum(((X - self.theta_[i, :]) ** 2) /\n"
     ]
    },
    {
     "name": "stdout",
     "output_type": "stream",
     "text": [
      "[0]\n",
      "450 Sarr\n"
     ]
    },
    {
     "name": "stderr",
     "output_type": "stream",
     "text": [
      "/Users/maahirmawla/opt/anaconda3/lib/python3.9/site-packages/sklearn/naive_bayes.py:452: RuntimeWarning: divide by zero encountered in log\n",
      "  n_ij = - 0.5 * np.sum(np.log(2. * np.pi * self.sigma_[i, :]))\n",
      "/Users/maahirmawla/opt/anaconda3/lib/python3.9/site-packages/sklearn/naive_bayes.py:453: RuntimeWarning: invalid value encountered in true_divide\n",
      "  n_ij -= 0.5 * np.sum(((X - self.theta_[i, :]) ** 2) /\n",
      "/Users/maahirmawla/opt/anaconda3/lib/python3.9/site-packages/sklearn/naive_bayes.py:452: RuntimeWarning: divide by zero encountered in log\n",
      "  n_ij = - 0.5 * np.sum(np.log(2. * np.pi * self.sigma_[i, :]))\n",
      "/Users/maahirmawla/opt/anaconda3/lib/python3.9/site-packages/sklearn/naive_bayes.py:453: RuntimeWarning: invalid value encountered in true_divide\n",
      "  n_ij -= 0.5 * np.sum(((X - self.theta_[i, :]) ** 2) /\n"
     ]
    },
    {
     "name": "stdout",
     "output_type": "stream",
     "text": [
      "[0]\n",
      "451 Austin\n"
     ]
    },
    {
     "name": "stderr",
     "output_type": "stream",
     "text": [
      "/Users/maahirmawla/opt/anaconda3/lib/python3.9/site-packages/sklearn/naive_bayes.py:452: RuntimeWarning: divide by zero encountered in log\n",
      "  n_ij = - 0.5 * np.sum(np.log(2. * np.pi * self.sigma_[i, :]))\n",
      "/Users/maahirmawla/opt/anaconda3/lib/python3.9/site-packages/sklearn/naive_bayes.py:453: RuntimeWarning: invalid value encountered in true_divide\n",
      "  n_ij -= 0.5 * np.sum(((X - self.theta_[i, :]) ** 2) /\n",
      "/Users/maahirmawla/opt/anaconda3/lib/python3.9/site-packages/sklearn/naive_bayes.py:452: RuntimeWarning: divide by zero encountered in log\n",
      "  n_ij = - 0.5 * np.sum(np.log(2. * np.pi * self.sigma_[i, :]))\n",
      "/Users/maahirmawla/opt/anaconda3/lib/python3.9/site-packages/sklearn/naive_bayes.py:453: RuntimeWarning: invalid value encountered in true_divide\n",
      "  n_ij -= 0.5 * np.sum(((X - self.theta_[i, :]) ** 2) /\n"
     ]
    },
    {
     "name": "stdout",
     "output_type": "stream",
     "text": [
      "[0]\n",
      "452 Devine\n"
     ]
    },
    {
     "name": "stderr",
     "output_type": "stream",
     "text": [
      "/Users/maahirmawla/opt/anaconda3/lib/python3.9/site-packages/sklearn/naive_bayes.py:452: RuntimeWarning: divide by zero encountered in log\n",
      "  n_ij = - 0.5 * np.sum(np.log(2. * np.pi * self.sigma_[i, :]))\n",
      "/Users/maahirmawla/opt/anaconda3/lib/python3.9/site-packages/sklearn/naive_bayes.py:453: RuntimeWarning: invalid value encountered in true_divide\n",
      "  n_ij -= 0.5 * np.sum(((X - self.theta_[i, :]) ** 2) /\n",
      "/Users/maahirmawla/opt/anaconda3/lib/python3.9/site-packages/sklearn/naive_bayes.py:452: RuntimeWarning: divide by zero encountered in log\n",
      "  n_ij = - 0.5 * np.sum(np.log(2. * np.pi * self.sigma_[i, :]))\n",
      "/Users/maahirmawla/opt/anaconda3/lib/python3.9/site-packages/sklearn/naive_bayes.py:453: RuntimeWarning: invalid value encountered in true_divide\n",
      "  n_ij -= 0.5 * np.sum(((X - self.theta_[i, :]) ** 2) /\n"
     ]
    },
    {
     "name": "stdout",
     "output_type": "stream",
     "text": [
      "[0]\n",
      "453 Parrott\n"
     ]
    },
    {
     "name": "stderr",
     "output_type": "stream",
     "text": [
      "/Users/maahirmawla/opt/anaconda3/lib/python3.9/site-packages/sklearn/naive_bayes.py:452: RuntimeWarning: divide by zero encountered in log\n",
      "  n_ij = - 0.5 * np.sum(np.log(2. * np.pi * self.sigma_[i, :]))\n",
      "/Users/maahirmawla/opt/anaconda3/lib/python3.9/site-packages/sklearn/naive_bayes.py:453: RuntimeWarning: invalid value encountered in true_divide\n",
      "  n_ij -= 0.5 * np.sum(((X - self.theta_[i, :]) ** 2) /\n",
      "/Users/maahirmawla/opt/anaconda3/lib/python3.9/site-packages/sklearn/naive_bayes.py:452: RuntimeWarning: divide by zero encountered in log\n",
      "  n_ij = - 0.5 * np.sum(np.log(2. * np.pi * self.sigma_[i, :]))\n",
      "/Users/maahirmawla/opt/anaconda3/lib/python3.9/site-packages/sklearn/naive_bayes.py:453: RuntimeWarning: invalid value encountered in true_divide\n",
      "  n_ij -= 0.5 * np.sum(((X - self.theta_[i, :]) ** 2) /\n"
     ]
    },
    {
     "name": "stdout",
     "output_type": "stream",
     "text": [
      "[0]\n",
      "454 Richarlison\n"
     ]
    },
    {
     "name": "stderr",
     "output_type": "stream",
     "text": [
      "/Users/maahirmawla/opt/anaconda3/lib/python3.9/site-packages/sklearn/naive_bayes.py:452: RuntimeWarning: divide by zero encountered in log\n",
      "  n_ij = - 0.5 * np.sum(np.log(2. * np.pi * self.sigma_[i, :]))\n",
      "/Users/maahirmawla/opt/anaconda3/lib/python3.9/site-packages/sklearn/naive_bayes.py:453: RuntimeWarning: invalid value encountered in true_divide\n",
      "  n_ij -= 0.5 * np.sum(((X - self.theta_[i, :]) ** 2) /\n",
      "/Users/maahirmawla/opt/anaconda3/lib/python3.9/site-packages/sklearn/naive_bayes.py:452: RuntimeWarning: divide by zero encountered in log\n",
      "  n_ij = - 0.5 * np.sum(np.log(2. * np.pi * self.sigma_[i, :]))\n",
      "/Users/maahirmawla/opt/anaconda3/lib/python3.9/site-packages/sklearn/naive_bayes.py:453: RuntimeWarning: invalid value encountered in true_divide\n",
      "  n_ij -= 0.5 * np.sum(((X - self.theta_[i, :]) ** 2) /\n"
     ]
    },
    {
     "name": "stdout",
     "output_type": "stream",
     "text": [
      "[0]\n",
      "513 Lenglet\n"
     ]
    },
    {
     "name": "stderr",
     "output_type": "stream",
     "text": [
      "/Users/maahirmawla/opt/anaconda3/lib/python3.9/site-packages/sklearn/naive_bayes.py:452: RuntimeWarning: divide by zero encountered in log\n",
      "  n_ij = - 0.5 * np.sum(np.log(2. * np.pi * self.sigma_[i, :]))\n",
      "/Users/maahirmawla/opt/anaconda3/lib/python3.9/site-packages/sklearn/naive_bayes.py:453: RuntimeWarning: invalid value encountered in true_divide\n",
      "  n_ij -= 0.5 * np.sum(((X - self.theta_[i, :]) ** 2) /\n",
      "/Users/maahirmawla/opt/anaconda3/lib/python3.9/site-packages/sklearn/naive_bayes.py:452: RuntimeWarning: divide by zero encountered in log\n",
      "  n_ij = - 0.5 * np.sum(np.log(2. * np.pi * self.sigma_[i, :]))\n",
      "/Users/maahirmawla/opt/anaconda3/lib/python3.9/site-packages/sklearn/naive_bayes.py:453: RuntimeWarning: invalid value encountered in true_divide\n",
      "  n_ij -= 0.5 * np.sum(((X - self.theta_[i, :]) ** 2) /\n"
     ]
    },
    {
     "name": "stdout",
     "output_type": "stream",
     "text": [
      "[0]\n",
      "522 Spence\n"
     ]
    },
    {
     "name": "stderr",
     "output_type": "stream",
     "text": [
      "/Users/maahirmawla/opt/anaconda3/lib/python3.9/site-packages/sklearn/naive_bayes.py:452: RuntimeWarning: divide by zero encountered in log\n",
      "  n_ij = - 0.5 * np.sum(np.log(2. * np.pi * self.sigma_[i, :]))\n",
      "/Users/maahirmawla/opt/anaconda3/lib/python3.9/site-packages/sklearn/naive_bayes.py:453: RuntimeWarning: invalid value encountered in true_divide\n",
      "  n_ij -= 0.5 * np.sum(((X - self.theta_[i, :]) ** 2) /\n",
      "/Users/maahirmawla/opt/anaconda3/lib/python3.9/site-packages/sklearn/naive_bayes.py:452: RuntimeWarning: divide by zero encountered in log\n",
      "  n_ij = - 0.5 * np.sum(np.log(2. * np.pi * self.sigma_[i, :]))\n",
      "/Users/maahirmawla/opt/anaconda3/lib/python3.9/site-packages/sklearn/naive_bayes.py:453: RuntimeWarning: invalid value encountered in true_divide\n",
      "  n_ij -= 0.5 * np.sum(((X - self.theta_[i, :]) ** 2) /\n",
      "/Users/maahirmawla/opt/anaconda3/lib/python3.9/site-packages/sklearn/naive_bayes.py:452: RuntimeWarning: divide by zero encountered in log\n",
      "  n_ij = - 0.5 * np.sum(np.log(2. * np.pi * self.sigma_[i, :]))\n",
      "/Users/maahirmawla/opt/anaconda3/lib/python3.9/site-packages/sklearn/naive_bayes.py:453: RuntimeWarning: invalid value encountered in true_divide\n",
      "  n_ij -= 0.5 * np.sum(((X - self.theta_[i, :]) ** 2) /\n",
      "/Users/maahirmawla/opt/anaconda3/lib/python3.9/site-packages/sklearn/naive_bayes.py:452: RuntimeWarning: divide by zero encountered in log\n",
      "  n_ij = - 0.5 * np.sum(np.log(2. * np.pi * self.sigma_[i, :]))\n",
      "/Users/maahirmawla/opt/anaconda3/lib/python3.9/site-packages/sklearn/naive_bayes.py:453: RuntimeWarning: invalid value encountered in true_divide\n",
      "  n_ij -= 0.5 * np.sum(((X - self.theta_[i, :]) ** 2) /\n"
     ]
    },
    {
     "name": "stdout",
     "output_type": "stream",
     "text": [
      "[0]\n",
      "554 Bryan\n",
      "[0]\n",
      "455 Fabianski\n",
      "[1]\n",
      "456 Ogbonna\n"
     ]
    },
    {
     "name": "stderr",
     "output_type": "stream",
     "text": [
      "/Users/maahirmawla/opt/anaconda3/lib/python3.9/site-packages/sklearn/naive_bayes.py:452: RuntimeWarning: divide by zero encountered in log\n",
      "  n_ij = - 0.5 * np.sum(np.log(2. * np.pi * self.sigma_[i, :]))\n",
      "/Users/maahirmawla/opt/anaconda3/lib/python3.9/site-packages/sklearn/naive_bayes.py:453: RuntimeWarning: invalid value encountered in true_divide\n",
      "  n_ij -= 0.5 * np.sum(((X - self.theta_[i, :]) ** 2) /\n",
      "/Users/maahirmawla/opt/anaconda3/lib/python3.9/site-packages/sklearn/naive_bayes.py:452: RuntimeWarning: divide by zero encountered in log\n",
      "  n_ij = - 0.5 * np.sum(np.log(2. * np.pi * self.sigma_[i, :]))\n",
      "/Users/maahirmawla/opt/anaconda3/lib/python3.9/site-packages/sklearn/naive_bayes.py:453: RuntimeWarning: invalid value encountered in true_divide\n",
      "  n_ij -= 0.5 * np.sum(((X - self.theta_[i, :]) ** 2) /\n"
     ]
    },
    {
     "name": "stdout",
     "output_type": "stream",
     "text": [
      "[0]\n",
      "457 Cresswell\n",
      "[0]\n",
      "458 Antonio\n",
      "[5]\n",
      "459 Dawson\n",
      "[0]\n",
      "460 Lanzini\n"
     ]
    },
    {
     "name": "stderr",
     "output_type": "stream",
     "text": [
      "/Users/maahirmawla/opt/anaconda3/lib/python3.9/site-packages/sklearn/naive_bayes.py:452: RuntimeWarning: divide by zero encountered in log\n",
      "  n_ij = - 0.5 * np.sum(np.log(2. * np.pi * self.sigma_[i, :]))\n",
      "/Users/maahirmawla/opt/anaconda3/lib/python3.9/site-packages/sklearn/naive_bayes.py:453: RuntimeWarning: invalid value encountered in true_divide\n",
      "  n_ij -= 0.5 * np.sum(((X - self.theta_[i, :]) ** 2) /\n",
      "/Users/maahirmawla/opt/anaconda3/lib/python3.9/site-packages/sklearn/naive_bayes.py:452: RuntimeWarning: divide by zero encountered in log\n",
      "  n_ij = - 0.5 * np.sum(np.log(2. * np.pi * self.sigma_[i, :]))\n",
      "/Users/maahirmawla/opt/anaconda3/lib/python3.9/site-packages/sklearn/naive_bayes.py:453: RuntimeWarning: invalid value encountered in true_divide\n",
      "  n_ij -= 0.5 * np.sum(((X - self.theta_[i, :]) ** 2) /\n",
      "/Users/maahirmawla/opt/anaconda3/lib/python3.9/site-packages/sklearn/naive_bayes.py:452: RuntimeWarning: divide by zero encountered in log\n",
      "  n_ij = - 0.5 * np.sum(np.log(2. * np.pi * self.sigma_[i, :]))\n",
      "/Users/maahirmawla/opt/anaconda3/lib/python3.9/site-packages/sklearn/naive_bayes.py:453: RuntimeWarning: invalid value encountered in true_divide\n",
      "  n_ij -= 0.5 * np.sum(((X - self.theta_[i, :]) ** 2) /\n",
      "/Users/maahirmawla/opt/anaconda3/lib/python3.9/site-packages/sklearn/naive_bayes.py:452: RuntimeWarning: divide by zero encountered in log\n",
      "  n_ij = - 0.5 * np.sum(np.log(2. * np.pi * self.sigma_[i, :]))\n",
      "/Users/maahirmawla/opt/anaconda3/lib/python3.9/site-packages/sklearn/naive_bayes.py:453: RuntimeWarning: invalid value encountered in true_divide\n",
      "  n_ij -= 0.5 * np.sum(((X - self.theta_[i, :]) ** 2) /\n"
     ]
    },
    {
     "name": "stdout",
     "output_type": "stream",
     "text": [
      "[0]\n",
      "461 Zouma\n",
      "[1]\n",
      "462 Masuaku\n"
     ]
    },
    {
     "name": "stderr",
     "output_type": "stream",
     "text": [
      "/Users/maahirmawla/opt/anaconda3/lib/python3.9/site-packages/sklearn/naive_bayes.py:452: RuntimeWarning: divide by zero encountered in log\n",
      "  n_ij = - 0.5 * np.sum(np.log(2. * np.pi * self.sigma_[i, :]))\n",
      "/Users/maahirmawla/opt/anaconda3/lib/python3.9/site-packages/sklearn/naive_bayes.py:453: RuntimeWarning: invalid value encountered in true_divide\n",
      "  n_ij -= 0.5 * np.sum(((X - self.theta_[i, :]) ** 2) /\n",
      "/Users/maahirmawla/opt/anaconda3/lib/python3.9/site-packages/sklearn/naive_bayes.py:452: RuntimeWarning: divide by zero encountered in log\n",
      "  n_ij = - 0.5 * np.sum(np.log(2. * np.pi * self.sigma_[i, :]))\n",
      "/Users/maahirmawla/opt/anaconda3/lib/python3.9/site-packages/sklearn/naive_bayes.py:453: RuntimeWarning: invalid value encountered in true_divide\n",
      "  n_ij -= 0.5 * np.sum(((X - self.theta_[i, :]) ** 2) /\n"
     ]
    },
    {
     "name": "stdout",
     "output_type": "stream",
     "text": [
      "[0]\n",
      "463 Coufal\n",
      "[1]\n",
      "464 Benrahma\n",
      "[1]\n",
      "465 Bowen\n"
     ]
    },
    {
     "name": "stderr",
     "output_type": "stream",
     "text": [
      "/Users/maahirmawla/opt/anaconda3/lib/python3.9/site-packages/sklearn/naive_bayes.py:452: RuntimeWarning: divide by zero encountered in log\n",
      "  n_ij = - 0.5 * np.sum(np.log(2. * np.pi * self.sigma_[i, :]))\n",
      "/Users/maahirmawla/opt/anaconda3/lib/python3.9/site-packages/sklearn/naive_bayes.py:453: RuntimeWarning: invalid value encountered in true_divide\n",
      "  n_ij -= 0.5 * np.sum(((X - self.theta_[i, :]) ** 2) /\n",
      "/Users/maahirmawla/opt/anaconda3/lib/python3.9/site-packages/sklearn/naive_bayes.py:452: RuntimeWarning: divide by zero encountered in log\n",
      "  n_ij = - 0.5 * np.sum(np.log(2. * np.pi * self.sigma_[i, :]))\n",
      "/Users/maahirmawla/opt/anaconda3/lib/python3.9/site-packages/sklearn/naive_bayes.py:453: RuntimeWarning: invalid value encountered in true_divide\n",
      "  n_ij -= 0.5 * np.sum(((X - self.theta_[i, :]) ** 2) /\n"
     ]
    },
    {
     "name": "stdout",
     "output_type": "stream",
     "text": [
      "[2]\n",
      "466 Vlasic\n"
     ]
    },
    {
     "name": "stderr",
     "output_type": "stream",
     "text": [
      "/Users/maahirmawla/opt/anaconda3/lib/python3.9/site-packages/sklearn/naive_bayes.py:452: RuntimeWarning: divide by zero encountered in log\n",
      "  n_ij = - 0.5 * np.sum(np.log(2. * np.pi * self.sigma_[i, :]))\n",
      "/Users/maahirmawla/opt/anaconda3/lib/python3.9/site-packages/sklearn/naive_bayes.py:453: RuntimeWarning: invalid value encountered in true_divide\n",
      "  n_ij -= 0.5 * np.sum(((X - self.theta_[i, :]) ** 2) /\n",
      "/Users/maahirmawla/opt/anaconda3/lib/python3.9/site-packages/sklearn/naive_bayes.py:452: RuntimeWarning: divide by zero encountered in log\n",
      "  n_ij = - 0.5 * np.sum(np.log(2. * np.pi * self.sigma_[i, :]))\n",
      "/Users/maahirmawla/opt/anaconda3/lib/python3.9/site-packages/sklearn/naive_bayes.py:453: RuntimeWarning: invalid value encountered in true_divide\n",
      "  n_ij -= 0.5 * np.sum(((X - self.theta_[i, :]) ** 2) /\n"
     ]
    },
    {
     "name": "stdout",
     "output_type": "stream",
     "text": [
      "[0]\n",
      "467 Rice\n",
      "[6]\n",
      "468 Soucek\n",
      "[2]\n",
      "469 Fornals\n",
      "[2]\n",
      "471 Johnson\n"
     ]
    },
    {
     "name": "stderr",
     "output_type": "stream",
     "text": [
      "/Users/maahirmawla/opt/anaconda3/lib/python3.9/site-packages/sklearn/naive_bayes.py:452: RuntimeWarning: divide by zero encountered in log\n",
      "  n_ij = - 0.5 * np.sum(np.log(2. * np.pi * self.sigma_[i, :]))\n",
      "/Users/maahirmawla/opt/anaconda3/lib/python3.9/site-packages/sklearn/naive_bayes.py:453: RuntimeWarning: invalid value encountered in true_divide\n",
      "  n_ij -= 0.5 * np.sum(((X - self.theta_[i, :]) ** 2) /\n",
      "/Users/maahirmawla/opt/anaconda3/lib/python3.9/site-packages/sklearn/naive_bayes.py:452: RuntimeWarning: divide by zero encountered in log\n",
      "  n_ij = - 0.5 * np.sum(np.log(2. * np.pi * self.sigma_[i, :]))\n",
      "/Users/maahirmawla/opt/anaconda3/lib/python3.9/site-packages/sklearn/naive_bayes.py:453: RuntimeWarning: invalid value encountered in true_divide\n",
      "  n_ij -= 0.5 * np.sum(((X - self.theta_[i, :]) ** 2) /\n"
     ]
    },
    {
     "name": "stdout",
     "output_type": "stream",
     "text": [
      "[0]\n",
      "472 Aguerd\n"
     ]
    },
    {
     "name": "stderr",
     "output_type": "stream",
     "text": [
      "/Users/maahirmawla/opt/anaconda3/lib/python3.9/site-packages/sklearn/naive_bayes.py:452: RuntimeWarning: divide by zero encountered in log\n",
      "  n_ij = - 0.5 * np.sum(np.log(2. * np.pi * self.sigma_[i, :]))\n",
      "/Users/maahirmawla/opt/anaconda3/lib/python3.9/site-packages/sklearn/naive_bayes.py:453: RuntimeWarning: invalid value encountered in true_divide\n",
      "  n_ij -= 0.5 * np.sum(((X - self.theta_[i, :]) ** 2) /\n",
      "/Users/maahirmawla/opt/anaconda3/lib/python3.9/site-packages/sklearn/naive_bayes.py:452: RuntimeWarning: divide by zero encountered in log\n",
      "  n_ij = - 0.5 * np.sum(np.log(2. * np.pi * self.sigma_[i, :]))\n",
      "/Users/maahirmawla/opt/anaconda3/lib/python3.9/site-packages/sklearn/naive_bayes.py:453: RuntimeWarning: invalid value encountered in true_divide\n",
      "  n_ij -= 0.5 * np.sum(((X - self.theta_[i, :]) ** 2) /\n"
     ]
    },
    {
     "name": "stdout",
     "output_type": "stream",
     "text": [
      "[0]\n",
      "473 Areola\n"
     ]
    },
    {
     "name": "stderr",
     "output_type": "stream",
     "text": [
      "/Users/maahirmawla/opt/anaconda3/lib/python3.9/site-packages/sklearn/naive_bayes.py:452: RuntimeWarning: divide by zero encountered in log\n",
      "  n_ij = - 0.5 * np.sum(np.log(2. * np.pi * self.sigma_[i, :]))\n",
      "/Users/maahirmawla/opt/anaconda3/lib/python3.9/site-packages/sklearn/naive_bayes.py:453: RuntimeWarning: invalid value encountered in true_divide\n",
      "  n_ij -= 0.5 * np.sum(((X - self.theta_[i, :]) ** 2) /\n",
      "/Users/maahirmawla/opt/anaconda3/lib/python3.9/site-packages/sklearn/naive_bayes.py:452: RuntimeWarning: divide by zero encountered in log\n",
      "  n_ij = - 0.5 * np.sum(np.log(2. * np.pi * self.sigma_[i, :]))\n",
      "/Users/maahirmawla/opt/anaconda3/lib/python3.9/site-packages/sklearn/naive_bayes.py:453: RuntimeWarning: invalid value encountered in true_divide\n",
      "  n_ij -= 0.5 * np.sum(((X - self.theta_[i, :]) ** 2) /\n"
     ]
    },
    {
     "name": "stdout",
     "output_type": "stream",
     "text": [
      "[0]\n",
      "509 Downes\n"
     ]
    },
    {
     "name": "stderr",
     "output_type": "stream",
     "text": [
      "/Users/maahirmawla/opt/anaconda3/lib/python3.9/site-packages/sklearn/naive_bayes.py:452: RuntimeWarning: divide by zero encountered in log\n",
      "  n_ij = - 0.5 * np.sum(np.log(2. * np.pi * self.sigma_[i, :]))\n",
      "/Users/maahirmawla/opt/anaconda3/lib/python3.9/site-packages/sklearn/naive_bayes.py:453: RuntimeWarning: invalid value encountered in true_divide\n",
      "  n_ij -= 0.5 * np.sum(((X - self.theta_[i, :]) ** 2) /\n",
      "/Users/maahirmawla/opt/anaconda3/lib/python3.9/site-packages/sklearn/naive_bayes.py:452: RuntimeWarning: divide by zero encountered in log\n",
      "  n_ij = - 0.5 * np.sum(np.log(2. * np.pi * self.sigma_[i, :]))\n",
      "/Users/maahirmawla/opt/anaconda3/lib/python3.9/site-packages/sklearn/naive_bayes.py:453: RuntimeWarning: invalid value encountered in true_divide\n",
      "  n_ij -= 0.5 * np.sum(((X - self.theta_[i, :]) ** 2) /\n"
     ]
    },
    {
     "name": "stdout",
     "output_type": "stream",
     "text": [
      "[0]\n",
      "529 Scamacca\n",
      "[1]\n",
      "545 Emerson\n"
     ]
    },
    {
     "name": "stderr",
     "output_type": "stream",
     "text": [
      "/Users/maahirmawla/opt/anaconda3/lib/python3.9/site-packages/sklearn/naive_bayes.py:452: RuntimeWarning: divide by zero encountered in log\n",
      "  n_ij = - 0.5 * np.sum(np.log(2. * np.pi * self.sigma_[i, :]))\n",
      "/Users/maahirmawla/opt/anaconda3/lib/python3.9/site-packages/sklearn/naive_bayes.py:453: RuntimeWarning: invalid value encountered in true_divide\n",
      "  n_ij -= 0.5 * np.sum(((X - self.theta_[i, :]) ** 2) /\n",
      "/Users/maahirmawla/opt/anaconda3/lib/python3.9/site-packages/sklearn/naive_bayes.py:452: RuntimeWarning: divide by zero encountered in log\n",
      "  n_ij = - 0.5 * np.sum(np.log(2. * np.pi * self.sigma_[i, :]))\n",
      "/Users/maahirmawla/opt/anaconda3/lib/python3.9/site-packages/sklearn/naive_bayes.py:453: RuntimeWarning: invalid value encountered in true_divide\n",
      "  n_ij -= 0.5 * np.sum(((X - self.theta_[i, :]) ** 2) /\n"
     ]
    },
    {
     "name": "stdout",
     "output_type": "stream",
     "text": [
      "[0]\n",
      "555 Ashby\n"
     ]
    },
    {
     "name": "stderr",
     "output_type": "stream",
     "text": [
      "/Users/maahirmawla/opt/anaconda3/lib/python3.9/site-packages/sklearn/naive_bayes.py:452: RuntimeWarning: divide by zero encountered in log\n",
      "  n_ij = - 0.5 * np.sum(np.log(2. * np.pi * self.sigma_[i, :]))\n",
      "/Users/maahirmawla/opt/anaconda3/lib/python3.9/site-packages/sklearn/naive_bayes.py:453: RuntimeWarning: invalid value encountered in true_divide\n",
      "  n_ij -= 0.5 * np.sum(((X - self.theta_[i, :]) ** 2) /\n",
      "/Users/maahirmawla/opt/anaconda3/lib/python3.9/site-packages/sklearn/naive_bayes.py:452: RuntimeWarning: divide by zero encountered in log\n",
      "  n_ij = - 0.5 * np.sum(np.log(2. * np.pi * self.sigma_[i, :]))\n",
      "/Users/maahirmawla/opt/anaconda3/lib/python3.9/site-packages/sklearn/naive_bayes.py:453: RuntimeWarning: invalid value encountered in true_divide\n",
      "  n_ij -= 0.5 * np.sum(((X - self.theta_[i, :]) ** 2) /\n"
     ]
    },
    {
     "name": "stdout",
     "output_type": "stream",
     "text": [
      "[0]\n",
      "556 Coventry\n"
     ]
    },
    {
     "name": "stderr",
     "output_type": "stream",
     "text": [
      "/Users/maahirmawla/opt/anaconda3/lib/python3.9/site-packages/sklearn/naive_bayes.py:452: RuntimeWarning: divide by zero encountered in log\n",
      "  n_ij = - 0.5 * np.sum(np.log(2. * np.pi * self.sigma_[i, :]))\n",
      "/Users/maahirmawla/opt/anaconda3/lib/python3.9/site-packages/sklearn/naive_bayes.py:453: RuntimeWarning: invalid value encountered in true_divide\n",
      "  n_ij -= 0.5 * np.sum(((X - self.theta_[i, :]) ** 2) /\n",
      "/Users/maahirmawla/opt/anaconda3/lib/python3.9/site-packages/sklearn/naive_bayes.py:452: RuntimeWarning: divide by zero encountered in log\n",
      "  n_ij = - 0.5 * np.sum(np.log(2. * np.pi * self.sigma_[i, :]))\n",
      "/Users/maahirmawla/opt/anaconda3/lib/python3.9/site-packages/sklearn/naive_bayes.py:453: RuntimeWarning: invalid value encountered in true_divide\n",
      "  n_ij -= 0.5 * np.sum(((X - self.theta_[i, :]) ** 2) /\n"
     ]
    },
    {
     "name": "stdout",
     "output_type": "stream",
     "text": [
      "[0]\n",
      "571 Randolph\n"
     ]
    },
    {
     "name": "stderr",
     "output_type": "stream",
     "text": [
      "/Users/maahirmawla/opt/anaconda3/lib/python3.9/site-packages/sklearn/naive_bayes.py:452: RuntimeWarning: divide by zero encountered in log\n",
      "  n_ij = - 0.5 * np.sum(np.log(2. * np.pi * self.sigma_[i, :]))\n",
      "/Users/maahirmawla/opt/anaconda3/lib/python3.9/site-packages/sklearn/naive_bayes.py:453: RuntimeWarning: invalid value encountered in true_divide\n",
      "  n_ij -= 0.5 * np.sum(((X - self.theta_[i, :]) ** 2) /\n",
      "/Users/maahirmawla/opt/anaconda3/lib/python3.9/site-packages/sklearn/naive_bayes.py:452: RuntimeWarning: divide by zero encountered in log\n",
      "  n_ij = - 0.5 * np.sum(np.log(2. * np.pi * self.sigma_[i, :]))\n",
      "/Users/maahirmawla/opt/anaconda3/lib/python3.9/site-packages/sklearn/naive_bayes.py:453: RuntimeWarning: invalid value encountered in true_divide\n",
      "  n_ij -= 0.5 * np.sum(((X - self.theta_[i, :]) ** 2) /\n"
     ]
    },
    {
     "name": "stdout",
     "output_type": "stream",
     "text": [
      "[0]\n",
      "572 Oko-Flex\n"
     ]
    },
    {
     "name": "stderr",
     "output_type": "stream",
     "text": [
      "/Users/maahirmawla/opt/anaconda3/lib/python3.9/site-packages/sklearn/naive_bayes.py:452: RuntimeWarning: divide by zero encountered in log\n",
      "  n_ij = - 0.5 * np.sum(np.log(2. * np.pi * self.sigma_[i, :]))\n",
      "/Users/maahirmawla/opt/anaconda3/lib/python3.9/site-packages/sklearn/naive_bayes.py:453: RuntimeWarning: invalid value encountered in true_divide\n",
      "  n_ij -= 0.5 * np.sum(((X - self.theta_[i, :]) ** 2) /\n",
      "/Users/maahirmawla/opt/anaconda3/lib/python3.9/site-packages/sklearn/naive_bayes.py:452: RuntimeWarning: divide by zero encountered in log\n",
      "  n_ij = - 0.5 * np.sum(np.log(2. * np.pi * self.sigma_[i, :]))\n",
      "/Users/maahirmawla/opt/anaconda3/lib/python3.9/site-packages/sklearn/naive_bayes.py:453: RuntimeWarning: invalid value encountered in true_divide\n",
      "  n_ij -= 0.5 * np.sum(((X - self.theta_[i, :]) ** 2) /\n"
     ]
    },
    {
     "name": "stdout",
     "output_type": "stream",
     "text": [
      "[0]\n",
      "575 Cornet\n"
     ]
    },
    {
     "name": "stderr",
     "output_type": "stream",
     "text": [
      "/Users/maahirmawla/opt/anaconda3/lib/python3.9/site-packages/sklearn/naive_bayes.py:452: RuntimeWarning: divide by zero encountered in log\n",
      "  n_ij = - 0.5 * np.sum(np.log(2. * np.pi * self.sigma_[i, :]))\n",
      "/Users/maahirmawla/opt/anaconda3/lib/python3.9/site-packages/sklearn/naive_bayes.py:453: RuntimeWarning: invalid value encountered in true_divide\n",
      "  n_ij -= 0.5 * np.sum(((X - self.theta_[i, :]) ** 2) /\n",
      "/Users/maahirmawla/opt/anaconda3/lib/python3.9/site-packages/sklearn/naive_bayes.py:452: RuntimeWarning: divide by zero encountered in log\n",
      "  n_ij = - 0.5 * np.sum(np.log(2. * np.pi * self.sigma_[i, :]))\n",
      "/Users/maahirmawla/opt/anaconda3/lib/python3.9/site-packages/sklearn/naive_bayes.py:453: RuntimeWarning: invalid value encountered in true_divide\n",
      "  n_ij -= 0.5 * np.sum(((X - self.theta_[i, :]) ** 2) /\n"
     ]
    },
    {
     "name": "stdout",
     "output_type": "stream",
     "text": [
      "[0]\n",
      "588 Kehrer\n",
      "[0]\n",
      "603 Paquetá\n",
      "[0]\n",
      "476 Jiménez\n"
     ]
    },
    {
     "name": "stderr",
     "output_type": "stream",
     "text": [
      "/Users/maahirmawla/opt/anaconda3/lib/python3.9/site-packages/sklearn/naive_bayes.py:452: RuntimeWarning: divide by zero encountered in log\n",
      "  n_ij = - 0.5 * np.sum(np.log(2. * np.pi * self.sigma_[i, :]))\n",
      "/Users/maahirmawla/opt/anaconda3/lib/python3.9/site-packages/sklearn/naive_bayes.py:453: RuntimeWarning: invalid value encountered in true_divide\n",
      "  n_ij -= 0.5 * np.sum(((X - self.theta_[i, :]) ** 2) /\n",
      "/Users/maahirmawla/opt/anaconda3/lib/python3.9/site-packages/sklearn/naive_bayes.py:452: RuntimeWarning: divide by zero encountered in log\n",
      "  n_ij = - 0.5 * np.sum(np.log(2. * np.pi * self.sigma_[i, :]))\n",
      "/Users/maahirmawla/opt/anaconda3/lib/python3.9/site-packages/sklearn/naive_bayes.py:453: RuntimeWarning: invalid value encountered in true_divide\n",
      "  n_ij -= 0.5 * np.sum(((X - self.theta_[i, :]) ** 2) /\n"
     ]
    },
    {
     "name": "stdout",
     "output_type": "stream",
     "text": [
      "[2]\n",
      "477 Jonny\n",
      "[2]\n",
      "478 Sá\n",
      "[3]\n",
      "480 Neves\n",
      "[2]\n",
      "481 Hwang\n"
     ]
    },
    {
     "name": "stderr",
     "output_type": "stream",
     "text": [
      "/Users/maahirmawla/opt/anaconda3/lib/python3.9/site-packages/sklearn/naive_bayes.py:452: RuntimeWarning: divide by zero encountered in log\n",
      "  n_ij = - 0.5 * np.sum(np.log(2. * np.pi * self.sigma_[i, :]))\n",
      "/Users/maahirmawla/opt/anaconda3/lib/python3.9/site-packages/sklearn/naive_bayes.py:453: RuntimeWarning: invalid value encountered in true_divide\n",
      "  n_ij -= 0.5 * np.sum(((X - self.theta_[i, :]) ** 2) /\n",
      "/Users/maahirmawla/opt/anaconda3/lib/python3.9/site-packages/sklearn/naive_bayes.py:452: RuntimeWarning: divide by zero encountered in log\n",
      "  n_ij = - 0.5 * np.sum(np.log(2. * np.pi * self.sigma_[i, :]))\n",
      "/Users/maahirmawla/opt/anaconda3/lib/python3.9/site-packages/sklearn/naive_bayes.py:453: RuntimeWarning: invalid value encountered in true_divide\n",
      "  n_ij -= 0.5 * np.sum(((X - self.theta_[i, :]) ** 2) /\n"
     ]
    },
    {
     "name": "stdout",
     "output_type": "stream",
     "text": [
      "[0]\n",
      "482 Semedo\n"
     ]
    },
    {
     "name": "stderr",
     "output_type": "stream",
     "text": [
      "/Users/maahirmawla/opt/anaconda3/lib/python3.9/site-packages/sklearn/naive_bayes.py:452: RuntimeWarning: divide by zero encountered in log\n",
      "  n_ij = - 0.5 * np.sum(np.log(2. * np.pi * self.sigma_[i, :]))\n",
      "/Users/maahirmawla/opt/anaconda3/lib/python3.9/site-packages/sklearn/naive_bayes.py:453: RuntimeWarning: invalid value encountered in true_divide\n",
      "  n_ij -= 0.5 * np.sum(((X - self.theta_[i, :]) ** 2) /\n",
      "/Users/maahirmawla/opt/anaconda3/lib/python3.9/site-packages/sklearn/naive_bayes.py:452: RuntimeWarning: divide by zero encountered in log\n",
      "  n_ij = - 0.5 * np.sum(np.log(2. * np.pi * self.sigma_[i, :]))\n",
      "/Users/maahirmawla/opt/anaconda3/lib/python3.9/site-packages/sklearn/naive_bayes.py:453: RuntimeWarning: invalid value encountered in true_divide\n",
      "  n_ij -= 0.5 * np.sum(((X - self.theta_[i, :]) ** 2) /\n"
     ]
    },
    {
     "name": "stdout",
     "output_type": "stream",
     "text": [
      "[0]\n",
      "483 Podence\n",
      "[1]\n",
      "484 Kilman\n",
      "[2]\n",
      "485 Cundle\n"
     ]
    },
    {
     "name": "stderr",
     "output_type": "stream",
     "text": [
      "/Users/maahirmawla/opt/anaconda3/lib/python3.9/site-packages/sklearn/naive_bayes.py:452: RuntimeWarning: divide by zero encountered in log\n",
      "  n_ij = - 0.5 * np.sum(np.log(2. * np.pi * self.sigma_[i, :]))\n",
      "/Users/maahirmawla/opt/anaconda3/lib/python3.9/site-packages/sklearn/naive_bayes.py:453: RuntimeWarning: invalid value encountered in true_divide\n",
      "  n_ij -= 0.5 * np.sum(((X - self.theta_[i, :]) ** 2) /\n",
      "/Users/maahirmawla/opt/anaconda3/lib/python3.9/site-packages/sklearn/naive_bayes.py:452: RuntimeWarning: divide by zero encountered in log\n",
      "  n_ij = - 0.5 * np.sum(np.log(2. * np.pi * self.sigma_[i, :]))\n",
      "/Users/maahirmawla/opt/anaconda3/lib/python3.9/site-packages/sklearn/naive_bayes.py:453: RuntimeWarning: invalid value encountered in true_divide\n",
      "  n_ij -= 0.5 * np.sum(((X - self.theta_[i, :]) ** 2) /\n"
     ]
    },
    {
     "name": "stdout",
     "output_type": "stream",
     "text": [
      "[0]\n",
      "486 Neto\n",
      "[2]\n",
      "487 Aït-Nouri\n",
      "[1]\n",
      "488 Fabio Silva\n"
     ]
    },
    {
     "name": "stderr",
     "output_type": "stream",
     "text": [
      "/Users/maahirmawla/opt/anaconda3/lib/python3.9/site-packages/sklearn/naive_bayes.py:452: RuntimeWarning: divide by zero encountered in log\n",
      "  n_ij = - 0.5 * np.sum(np.log(2. * np.pi * self.sigma_[i, :]))\n",
      "/Users/maahirmawla/opt/anaconda3/lib/python3.9/site-packages/sklearn/naive_bayes.py:453: RuntimeWarning: invalid value encountered in true_divide\n",
      "  n_ij -= 0.5 * np.sum(((X - self.theta_[i, :]) ** 2) /\n",
      "/Users/maahirmawla/opt/anaconda3/lib/python3.9/site-packages/sklearn/naive_bayes.py:452: RuntimeWarning: divide by zero encountered in log\n",
      "  n_ij = - 0.5 * np.sum(np.log(2. * np.pi * self.sigma_[i, :]))\n",
      "/Users/maahirmawla/opt/anaconda3/lib/python3.9/site-packages/sklearn/naive_bayes.py:453: RuntimeWarning: invalid value encountered in true_divide\n",
      "  n_ij -= 0.5 * np.sum(((X - self.theta_[i, :]) ** 2) /\n",
      "/Users/maahirmawla/opt/anaconda3/lib/python3.9/site-packages/sklearn/naive_bayes.py:452: RuntimeWarning: divide by zero encountered in log\n",
      "  n_ij = - 0.5 * np.sum(np.log(2. * np.pi * self.sigma_[i, :]))\n",
      "/Users/maahirmawla/opt/anaconda3/lib/python3.9/site-packages/sklearn/naive_bayes.py:453: RuntimeWarning: invalid value encountered in true_divide\n",
      "  n_ij -= 0.5 * np.sum(((X - self.theta_[i, :]) ** 2) /\n",
      "/Users/maahirmawla/opt/anaconda3/lib/python3.9/site-packages/sklearn/naive_bayes.py:452: RuntimeWarning: divide by zero encountered in log\n",
      "  n_ij = - 0.5 * np.sum(np.log(2. * np.pi * self.sigma_[i, :]))\n",
      "/Users/maahirmawla/opt/anaconda3/lib/python3.9/site-packages/sklearn/naive_bayes.py:453: RuntimeWarning: invalid value encountered in true_divide\n",
      "  n_ij -= 0.5 * np.sum(((X - self.theta_[i, :]) ** 2) /\n"
     ]
    },
    {
     "name": "stdout",
     "output_type": "stream",
     "text": [
      "[0]\n",
      "489 Toti\n",
      "[0]\n",
      "490 Chiquinho\n"
     ]
    },
    {
     "name": "stderr",
     "output_type": "stream",
     "text": [
      "/Users/maahirmawla/opt/anaconda3/lib/python3.9/site-packages/sklearn/naive_bayes.py:452: RuntimeWarning: divide by zero encountered in log\n",
      "  n_ij = - 0.5 * np.sum(np.log(2. * np.pi * self.sigma_[i, :]))\n",
      "/Users/maahirmawla/opt/anaconda3/lib/python3.9/site-packages/sklearn/naive_bayes.py:453: RuntimeWarning: invalid value encountered in true_divide\n",
      "  n_ij -= 0.5 * np.sum(((X - self.theta_[i, :]) ** 2) /\n",
      "/Users/maahirmawla/opt/anaconda3/lib/python3.9/site-packages/sklearn/naive_bayes.py:452: RuntimeWarning: divide by zero encountered in log\n",
      "  n_ij = - 0.5 * np.sum(np.log(2. * np.pi * self.sigma_[i, :]))\n",
      "/Users/maahirmawla/opt/anaconda3/lib/python3.9/site-packages/sklearn/naive_bayes.py:453: RuntimeWarning: invalid value encountered in true_divide\n",
      "  n_ij -= 0.5 * np.sum(((X - self.theta_[i, :]) ** 2) /\n"
     ]
    },
    {
     "name": "stdout",
     "output_type": "stream",
     "text": [
      "[0]\n",
      "491 Adama\n"
     ]
    },
    {
     "name": "stderr",
     "output_type": "stream",
     "text": [
      "/Users/maahirmawla/opt/anaconda3/lib/python3.9/site-packages/sklearn/naive_bayes.py:452: RuntimeWarning: divide by zero encountered in log\n",
      "  n_ij = - 0.5 * np.sum(np.log(2. * np.pi * self.sigma_[i, :]))\n",
      "/Users/maahirmawla/opt/anaconda3/lib/python3.9/site-packages/sklearn/naive_bayes.py:453: RuntimeWarning: invalid value encountered in true_divide\n",
      "  n_ij -= 0.5 * np.sum(((X - self.theta_[i, :]) ** 2) /\n",
      "/Users/maahirmawla/opt/anaconda3/lib/python3.9/site-packages/sklearn/naive_bayes.py:452: RuntimeWarning: divide by zero encountered in log\n",
      "  n_ij = - 0.5 * np.sum(np.log(2. * np.pi * self.sigma_[i, :]))\n",
      "/Users/maahirmawla/opt/anaconda3/lib/python3.9/site-packages/sklearn/naive_bayes.py:453: RuntimeWarning: invalid value encountered in true_divide\n",
      "  n_ij -= 0.5 * np.sum(((X - self.theta_[i, :]) ** 2) /\n"
     ]
    },
    {
     "name": "stdout",
     "output_type": "stream",
     "text": [
      "[0]\n",
      "492 Šarkić\n"
     ]
    },
    {
     "name": "stderr",
     "output_type": "stream",
     "text": [
      "/Users/maahirmawla/opt/anaconda3/lib/python3.9/site-packages/sklearn/naive_bayes.py:452: RuntimeWarning: divide by zero encountered in log\n",
      "  n_ij = - 0.5 * np.sum(np.log(2. * np.pi * self.sigma_[i, :]))\n",
      "/Users/maahirmawla/opt/anaconda3/lib/python3.9/site-packages/sklearn/naive_bayes.py:453: RuntimeWarning: invalid value encountered in true_divide\n",
      "  n_ij -= 0.5 * np.sum(((X - self.theta_[i, :]) ** 2) /\n",
      "/Users/maahirmawla/opt/anaconda3/lib/python3.9/site-packages/sklearn/naive_bayes.py:452: RuntimeWarning: divide by zero encountered in log\n",
      "  n_ij = - 0.5 * np.sum(np.log(2. * np.pi * self.sigma_[i, :]))\n",
      "/Users/maahirmawla/opt/anaconda3/lib/python3.9/site-packages/sklearn/naive_bayes.py:453: RuntimeWarning: invalid value encountered in true_divide\n",
      "  n_ij -= 0.5 * np.sum(((X - self.theta_[i, :]) ** 2) /\n"
     ]
    },
    {
     "name": "stdout",
     "output_type": "stream",
     "text": [
      "[0]\n",
      "494 Mosquera\n"
     ]
    },
    {
     "name": "stderr",
     "output_type": "stream",
     "text": [
      "/Users/maahirmawla/opt/anaconda3/lib/python3.9/site-packages/sklearn/naive_bayes.py:452: RuntimeWarning: divide by zero encountered in log\n",
      "  n_ij = - 0.5 * np.sum(np.log(2. * np.pi * self.sigma_[i, :]))\n",
      "/Users/maahirmawla/opt/anaconda3/lib/python3.9/site-packages/sklearn/naive_bayes.py:453: RuntimeWarning: invalid value encountered in true_divide\n",
      "  n_ij -= 0.5 * np.sum(((X - self.theta_[i, :]) ** 2) /\n",
      "/Users/maahirmawla/opt/anaconda3/lib/python3.9/site-packages/sklearn/naive_bayes.py:452: RuntimeWarning: divide by zero encountered in log\n",
      "  n_ij = - 0.5 * np.sum(np.log(2. * np.pi * self.sigma_[i, :]))\n",
      "/Users/maahirmawla/opt/anaconda3/lib/python3.9/site-packages/sklearn/naive_bayes.py:453: RuntimeWarning: invalid value encountered in true_divide\n",
      "  n_ij -= 0.5 * np.sum(((X - self.theta_[i, :]) ** 2) /\n"
     ]
    },
    {
     "name": "stdout",
     "output_type": "stream",
     "text": [
      "[0]\n",
      "503 Moutinho\n",
      "[2]\n",
      "516 Collins\n",
      "[1]\n",
      "557 Smith\n"
     ]
    },
    {
     "name": "stderr",
     "output_type": "stream",
     "text": [
      "/Users/maahirmawla/opt/anaconda3/lib/python3.9/site-packages/sklearn/naive_bayes.py:452: RuntimeWarning: divide by zero encountered in log\n",
      "  n_ij = - 0.5 * np.sum(np.log(2. * np.pi * self.sigma_[i, :]))\n",
      "/Users/maahirmawla/opt/anaconda3/lib/python3.9/site-packages/sklearn/naive_bayes.py:453: RuntimeWarning: invalid value encountered in true_divide\n",
      "  n_ij -= 0.5 * np.sum(((X - self.theta_[i, :]) ** 2) /\n",
      "/Users/maahirmawla/opt/anaconda3/lib/python3.9/site-packages/sklearn/naive_bayes.py:452: RuntimeWarning: divide by zero encountered in log\n",
      "  n_ij = - 0.5 * np.sum(np.log(2. * np.pi * self.sigma_[i, :]))\n",
      "/Users/maahirmawla/opt/anaconda3/lib/python3.9/site-packages/sklearn/naive_bayes.py:453: RuntimeWarning: invalid value encountered in true_divide\n",
      "  n_ij -= 0.5 * np.sum(((X - self.theta_[i, :]) ** 2) /\n",
      "/Users/maahirmawla/opt/anaconda3/lib/python3.9/site-packages/sklearn/naive_bayes.py:452: RuntimeWarning: divide by zero encountered in log\n",
      "  n_ij = - 0.5 * np.sum(np.log(2. * np.pi * self.sigma_[i, :]))\n",
      "/Users/maahirmawla/opt/anaconda3/lib/python3.9/site-packages/sklearn/naive_bayes.py:453: RuntimeWarning: invalid value encountered in true_divide\n",
      "  n_ij -= 0.5 * np.sum(((X - self.theta_[i, :]) ** 2) /\n",
      "/Users/maahirmawla/opt/anaconda3/lib/python3.9/site-packages/sklearn/naive_bayes.py:452: RuntimeWarning: divide by zero encountered in log\n",
      "  n_ij = - 0.5 * np.sum(np.log(2. * np.pi * self.sigma_[i, :]))\n",
      "/Users/maahirmawla/opt/anaconda3/lib/python3.9/site-packages/sklearn/naive_bayes.py:453: RuntimeWarning: invalid value encountered in true_divide\n",
      "  n_ij -= 0.5 * np.sum(((X - self.theta_[i, :]) ** 2) /\n"
     ]
    },
    {
     "name": "stdout",
     "output_type": "stream",
     "text": [
      "[0]\n",
      "558 Bueno\n",
      "[0]\n",
      "566 Hodge\n"
     ]
    },
    {
     "name": "stderr",
     "output_type": "stream",
     "text": [
      "/Users/maahirmawla/opt/anaconda3/lib/python3.9/site-packages/sklearn/naive_bayes.py:452: RuntimeWarning: divide by zero encountered in log\n",
      "  n_ij = - 0.5 * np.sum(np.log(2. * np.pi * self.sigma_[i, :]))\n",
      "/Users/maahirmawla/opt/anaconda3/lib/python3.9/site-packages/sklearn/naive_bayes.py:453: RuntimeWarning: invalid value encountered in true_divide\n",
      "  n_ij -= 0.5 * np.sum(((X - self.theta_[i, :]) ** 2) /\n",
      "/Users/maahirmawla/opt/anaconda3/lib/python3.9/site-packages/sklearn/naive_bayes.py:452: RuntimeWarning: divide by zero encountered in log\n",
      "  n_ij = - 0.5 * np.sum(np.log(2. * np.pi * self.sigma_[i, :]))\n",
      "/Users/maahirmawla/opt/anaconda3/lib/python3.9/site-packages/sklearn/naive_bayes.py:453: RuntimeWarning: invalid value encountered in true_divide\n",
      "  n_ij -= 0.5 * np.sum(((X - self.theta_[i, :]) ** 2) /\n"
     ]
    },
    {
     "name": "stdout",
     "output_type": "stream",
     "text": [
      "[0]\n",
      "567 Ronan\n"
     ]
    },
    {
     "name": "stderr",
     "output_type": "stream",
     "text": [
      "/Users/maahirmawla/opt/anaconda3/lib/python3.9/site-packages/sklearn/naive_bayes.py:452: RuntimeWarning: divide by zero encountered in log\n",
      "  n_ij = - 0.5 * np.sum(np.log(2. * np.pi * self.sigma_[i, :]))\n",
      "/Users/maahirmawla/opt/anaconda3/lib/python3.9/site-packages/sklearn/naive_bayes.py:453: RuntimeWarning: invalid value encountered in true_divide\n",
      "  n_ij -= 0.5 * np.sum(((X - self.theta_[i, :]) ** 2) /\n",
      "/Users/maahirmawla/opt/anaconda3/lib/python3.9/site-packages/sklearn/naive_bayes.py:452: RuntimeWarning: divide by zero encountered in log\n",
      "  n_ij = - 0.5 * np.sum(np.log(2. * np.pi * self.sigma_[i, :]))\n",
      "/Users/maahirmawla/opt/anaconda3/lib/python3.9/site-packages/sklearn/naive_bayes.py:453: RuntimeWarning: invalid value encountered in true_divide\n",
      "  n_ij -= 0.5 * np.sum(((X - self.theta_[i, :]) ** 2) /\n"
     ]
    },
    {
     "name": "stdout",
     "output_type": "stream",
     "text": [
      "[0]\n",
      "568 Campbell\n"
     ]
    },
    {
     "name": "stderr",
     "output_type": "stream",
     "text": [
      "/Users/maahirmawla/opt/anaconda3/lib/python3.9/site-packages/sklearn/naive_bayes.py:452: RuntimeWarning: divide by zero encountered in log\n",
      "  n_ij = - 0.5 * np.sum(np.log(2. * np.pi * self.sigma_[i, :]))\n",
      "/Users/maahirmawla/opt/anaconda3/lib/python3.9/site-packages/sklearn/naive_bayes.py:453: RuntimeWarning: invalid value encountered in true_divide\n",
      "  n_ij -= 0.5 * np.sum(((X - self.theta_[i, :]) ** 2) /\n",
      "/Users/maahirmawla/opt/anaconda3/lib/python3.9/site-packages/sklearn/naive_bayes.py:452: RuntimeWarning: divide by zero encountered in log\n",
      "  n_ij = - 0.5 * np.sum(np.log(2. * np.pi * self.sigma_[i, :]))\n",
      "/Users/maahirmawla/opt/anaconda3/lib/python3.9/site-packages/sklearn/naive_bayes.py:453: RuntimeWarning: invalid value encountered in true_divide\n",
      "  n_ij -= 0.5 * np.sum(((X - self.theta_[i, :]) ** 2) /\n"
     ]
    },
    {
     "name": "stdout",
     "output_type": "stream",
     "text": [
      "[0]\n",
      "579 Guedes\n",
      "[0]\n",
      "589 Matheus\n",
      "[2]\n",
      "608 Kalajdžić\n",
      "[1]\n"
     ]
    },
    {
     "name": "stderr",
     "output_type": "stream",
     "text": [
      "/Users/maahirmawla/opt/anaconda3/lib/python3.9/site-packages/sklearn/naive_bayes.py:452: RuntimeWarning: divide by zero encountered in log\n",
      "  n_ij = - 0.5 * np.sum(np.log(2. * np.pi * self.sigma_[i, :]))\n",
      "/Users/maahirmawla/opt/anaconda3/lib/python3.9/site-packages/sklearn/naive_bayes.py:453: RuntimeWarning: invalid value encountered in true_divide\n",
      "  n_ij -= 0.5 * np.sum(((X - self.theta_[i, :]) ** 2) /\n",
      "/Users/maahirmawla/opt/anaconda3/lib/python3.9/site-packages/sklearn/naive_bayes.py:452: RuntimeWarning: divide by zero encountered in log\n",
      "  n_ij = - 0.5 * np.sum(np.log(2. * np.pi * self.sigma_[i, :]))\n",
      "/Users/maahirmawla/opt/anaconda3/lib/python3.9/site-packages/sklearn/naive_bayes.py:453: RuntimeWarning: invalid value encountered in true_divide\n",
      "  n_ij -= 0.5 * np.sum(((X - self.theta_[i, :]) ** 2) /\n"
     ]
    }
   ],
   "source": [
    "import requests\n",
    "import json\n",
    "from sklearn.naive_bayes import GaussianNB\n",
    "# get information on each player \n",
    "\n",
    "# api url that gets us the information of each player \n",
    "# can make a dictionary that corresponds to each player \n",
    "# we can make a model similar to the titanic crash (ie we dont need the name of the players)\n",
    "# x variables: goals_scored, clean_sheets, difficulty\n",
    "# y variables: total_points\n",
    "\n",
    "# I will create a gaussian naive bayes model for each player as we go through the players \n",
    "# 1. get the info of the specific player (goals_scored, clean_sheets, difficulty, and total_points) and put it into a dictionary (two)\n",
    "# 2. turn this dictionary into a pandas dataframe using pd.DataFrame_from_dict\n",
    "# 3. then I create an instance of a gaussian naive bayes model (playermodel = GaussianNB())\n",
    "# 4. I split up the x and y variables (inputs=df.drop(\"total_points\", axis='columns'))\n",
    "# 5. train the model instance for this specific player (playermodel.fit(x =goals_scored, clean_sheets, difficulty, y = total_points))\n",
    "# 6. ouput the model score (playermodel.score(x, y))\n",
    "# 7. create input for immediate next game week \n",
    "# 8. predict the model for the next game week  (playermodel.predict())\n",
    "# 9. if playermodel.predict is 1, add to global_player_good, else do not\n",
    "# 10. repeat for all players \n",
    "# 11. ouput global_player_good\n",
    "\n",
    "predicted_performers = []\n",
    "count = 1\n",
    "\n",
    "for i in player_dict:\n",
    "    print(i, player_dict[i])\n",
    "    # 1. get the info of the specific player (goals_scored, clean_sheets, difficulty, and total_points) and put it into a dictionary (two)\n",
    "    url = \"https://fantasy.premierleague.com/api/element-summary/\" + str(i) + \"/\"\n",
    "    response = requests.get(url)\n",
    "    \n",
    "    data = json.loads(response.text)\n",
    "    # print(data)\n",
    "    value = data['history']\n",
    "    # print(\"check after value\")\n",
    "    # this dictionary will be created each time we loop \n",
    "    specific_player_values = []\n",
    "    all_values = []\n",
    "    for j in value:\n",
    "        specific_player_values = [int(j['goals_scored']), int(j['total_points']),int(j['clean_sheets'])]\n",
    "        all_values.append(specific_player_values)\n",
    "    # 2. turn this dictionary into a pandas dataframe using pd.DataFrame_from_dict                    \n",
    "    df = pd.DataFrame(all_values, columns = ['goals_scored', 'total_points', 'clean_sheets'])                                                                                      \n",
    "    # print(df.head())\n",
    "    # 3. then I create an instance of a gaussian naive bayes model (playermodel = GaussianNB())\n",
    "    playermodel = GaussianNB()\n",
    "    # 4. I split up the x and y variables (inputs=df.drop(\"total_points\", axis='columns'))\n",
    "    target=df.total_points\n",
    "    inputs=df.drop(\"total_points\", axis='columns')\n",
    "    # 5. train the model instance for this specific player (playermodel.fit(x =goals_scored, clean_sheets, difficulty, y = total_points))\n",
    "    playermodel.fit(inputs, target)\n",
    "    # 6. ouput the model score (playermodel.score(x, y))\n",
    "    # print(playermodel.score(inputs, target))\n",
    "    # 7. create input for immediate next game week\n",
    "    average_stat = []\n",
    "    test_list = []\n",
    "    #print(inputs.goals_scored.mean())\n",
    "    average_stat = [inputs.goals_scored.mean(), inputs.clean_sheets.mean()]\n",
    "    test_list.append(average_stat)\n",
    "    test = pd.DataFrame(test_list, columns = ['goals_scored', 'clean_sheets'])\n",
    "    # print(test)\n",
    "    # 8. predict the model for the next game week  (playermodel.predict())\n",
    "    print(playermodel.predict(test))\n",
    "    # 9. if playermodel.predict is 1, add to global_player_good, else do not\n",
    "    if playermodel.predict(test) >= 8:\n",
    "        predicted_performers.append(player_dict[i])\n",
    "    \n",
    "    "
   ]
  },
  {
   "cell_type": "code",
   "execution_count": 3,
   "id": "a9068579",
   "metadata": {},
   "outputs": [
    {
     "name": "stdout",
     "output_type": "stream",
     "text": [
      "['Martinelli', 'Toney', 'Mac Allister', 'Haaland']\n"
     ]
    }
   ],
   "source": [
    "print(predicted_performers)"
   ]
  },
  {
   "cell_type": "code",
   "execution_count": null,
   "id": "6c824903",
   "metadata": {},
   "outputs": [],
   "source": []
  }
 ],
 "metadata": {
  "kernelspec": {
   "display_name": "Python 3 (ipykernel)",
   "language": "python",
   "name": "python3"
  },
  "language_info": {
   "codemirror_mode": {
    "name": "ipython",
    "version": 3
   },
   "file_extension": ".py",
   "mimetype": "text/x-python",
   "name": "python",
   "nbconvert_exporter": "python",
   "pygments_lexer": "ipython3",
   "version": "3.9.7"
  }
 },
 "nbformat": 4,
 "nbformat_minor": 5
}
